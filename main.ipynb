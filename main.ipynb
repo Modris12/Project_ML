{
 "cells": [
  {
   "cell_type": "markdown",
   "id": "87777abc",
   "metadata": {},
   "source": [
    "# Machine Learning Project - Big5 career path"
   ]
  },
  {
   "cell_type": "code",
   "execution_count": 50,
   "id": "d528f5e7",
   "metadata": {},
   "outputs": [],
   "source": [
    "### Create a career path guide based on the psychological type\n"
   ]
  },
  {
   "cell_type": "markdown",
   "id": "fd1633fb",
   "metadata": {},
   "source": [
    "## Import"
   ]
  },
  {
   "cell_type": "code",
   "execution_count": 211,
   "id": "27fe38a2",
   "metadata": {},
   "outputs": [],
   "source": [
    "import pandas as pd\n",
    "import numpy as np\n",
    "import matplotlib.pyplot as plt\n",
    "from sklearn.model_selection import train_test_split\n",
    "from sklearn.preprocessing import LabelEncoder, StandardScaler  \n",
    "from sklearn.ensemble import RandomForestClassifier\n",
    "from sklearn.metrics import classification_report, confusion_matrix\n",
    "from scipy.stats import percentileofscore\n",
    "from sklearn.neighbors import KNeighborsClassifier\n",
    "from sklearn.metrics import accuracy_score, make_scorer\n",
    "from sklearn.model_selection import GridSearchCV, StratifiedKFold\n",
    "from sklearn.linear_model import LogisticRegression\n",
    "from imblearn.over_sampling import ADASYN\n",
    "from imblearn.over_sampling import RandomOverSampler\n",
    "from imblearn.over_sampling import SMOTE\n",
    "from sklearn.cluster import KMeans\n",
    "from collections import Counter\n",
    "from sklearn.decomposition import PCA\n",
    "from sklearn.svm import SVC\n",
    "from sklearn.ensemble import StackingClassifier\n",
    "from sklearn.svm import SVC\n",
    "from xgboost import XGBClassifier\n",
    "from sklearn.pipeline import Pipeline\n",
    "from sklearn.compose import ColumnTransformer\n",
    "\n",
    "import matplotlib.pyplot as plt\n",
    "import seaborn as sns\n",
    "import joblib\n",
    "import streamlit as st\n",
    "\n"
   ]
  },
  {
   "cell_type": "markdown",
   "id": "0d8e850b",
   "metadata": {},
   "source": [
    "## DataFrames"
   ]
  },
  {
   "cell_type": "code",
   "execution_count": 52,
   "id": "85df2d13",
   "metadata": {},
   "outputs": [
    {
     "data": {
      "application/vnd.microsoft.datawrangler.viewer.v0+json": {
       "columns": [
        {
         "name": "index",
         "rawType": "int64",
         "type": "integer"
        },
        {
         "name": "O_score",
         "rawType": "float64",
         "type": "float"
        },
        {
         "name": "C_score",
         "rawType": "float64",
         "type": "float"
        },
        {
         "name": "E_score",
         "rawType": "float64",
         "type": "float"
        },
        {
         "name": "A_score",
         "rawType": "float64",
         "type": "float"
        },
        {
         "name": "N_score",
         "rawType": "float64",
         "type": "float"
        },
        {
         "name": "Numerical Aptitude",
         "rawType": "float64",
         "type": "float"
        },
        {
         "name": "Spatial Aptitude",
         "rawType": "float64",
         "type": "float"
        },
        {
         "name": "Perceptual Aptitude",
         "rawType": "float64",
         "type": "float"
        },
        {
         "name": "Abstract Reasoning",
         "rawType": "float64",
         "type": "float"
        },
        {
         "name": "Verbal Reasoning",
         "rawType": "float64",
         "type": "float"
        },
        {
         "name": "Career",
         "rawType": "object",
         "type": "string"
        }
       ],
       "ref": "d7e82af9-ef7b-4fca-9efc-b4f352f4a989",
       "rows": [
        [
         "0",
         "5.45",
         "8.67",
         "3.45",
         "5.34",
         "4.23",
         "9.23",
         "4.56",
         "6.78",
         "7.89",
         "6.12",
         "Accountant"
        ],
        [
         "1",
         "8.78",
         "5.67",
         "4.56",
         "6.45",
         "4.23",
         "5.12",
         "8.45",
         "7.89",
         "6.34",
         "6.01",
         "Graphic Designer"
        ],
        [
         "2",
         "6.12",
         "6.78",
         "9.34",
         "7.56",
         "5.01",
         "6.23",
         "4.23",
         "6.45",
         "6.67",
         "8.45",
         "Salesperson"
        ],
        [
         "3",
         "9.12",
         "8.78",
         "4.23",
         "5.67",
         "4.56",
         "7.89",
         "5.34",
         "6.45",
         "9.34",
         "7.67",
         "Research Scientist"
        ],
        [
         "4",
         "6.45",
         "7.56",
         "5.67",
         "9.12",
         "4.23",
         "5.34",
         "4.01",
         "6.23",
         "5.78",
         "8.67",
         "Teacher"
        ]
       ],
       "shape": {
        "columns": 11,
        "rows": 5
       }
      },
      "text/html": [
       "<div>\n",
       "<style scoped>\n",
       "    .dataframe tbody tr th:only-of-type {\n",
       "        vertical-align: middle;\n",
       "    }\n",
       "\n",
       "    .dataframe tbody tr th {\n",
       "        vertical-align: top;\n",
       "    }\n",
       "\n",
       "    .dataframe thead th {\n",
       "        text-align: right;\n",
       "    }\n",
       "</style>\n",
       "<table border=\"1\" class=\"dataframe\">\n",
       "  <thead>\n",
       "    <tr style=\"text-align: right;\">\n",
       "      <th></th>\n",
       "      <th>O_score</th>\n",
       "      <th>C_score</th>\n",
       "      <th>E_score</th>\n",
       "      <th>A_score</th>\n",
       "      <th>N_score</th>\n",
       "      <th>Numerical Aptitude</th>\n",
       "      <th>Spatial Aptitude</th>\n",
       "      <th>Perceptual Aptitude</th>\n",
       "      <th>Abstract Reasoning</th>\n",
       "      <th>Verbal Reasoning</th>\n",
       "      <th>Career</th>\n",
       "    </tr>\n",
       "  </thead>\n",
       "  <tbody>\n",
       "    <tr>\n",
       "      <th>0</th>\n",
       "      <td>5.45</td>\n",
       "      <td>8.67</td>\n",
       "      <td>3.45</td>\n",
       "      <td>5.34</td>\n",
       "      <td>4.23</td>\n",
       "      <td>9.23</td>\n",
       "      <td>4.56</td>\n",
       "      <td>6.78</td>\n",
       "      <td>7.89</td>\n",
       "      <td>6.12</td>\n",
       "      <td>Accountant</td>\n",
       "    </tr>\n",
       "    <tr>\n",
       "      <th>1</th>\n",
       "      <td>8.78</td>\n",
       "      <td>5.67</td>\n",
       "      <td>4.56</td>\n",
       "      <td>6.45</td>\n",
       "      <td>4.23</td>\n",
       "      <td>5.12</td>\n",
       "      <td>8.45</td>\n",
       "      <td>7.89</td>\n",
       "      <td>6.34</td>\n",
       "      <td>6.01</td>\n",
       "      <td>Graphic Designer</td>\n",
       "    </tr>\n",
       "    <tr>\n",
       "      <th>2</th>\n",
       "      <td>6.12</td>\n",
       "      <td>6.78</td>\n",
       "      <td>9.34</td>\n",
       "      <td>7.56</td>\n",
       "      <td>5.01</td>\n",
       "      <td>6.23</td>\n",
       "      <td>4.23</td>\n",
       "      <td>6.45</td>\n",
       "      <td>6.67</td>\n",
       "      <td>8.45</td>\n",
       "      <td>Salesperson</td>\n",
       "    </tr>\n",
       "    <tr>\n",
       "      <th>3</th>\n",
       "      <td>9.12</td>\n",
       "      <td>8.78</td>\n",
       "      <td>4.23</td>\n",
       "      <td>5.67</td>\n",
       "      <td>4.56</td>\n",
       "      <td>7.89</td>\n",
       "      <td>5.34</td>\n",
       "      <td>6.45</td>\n",
       "      <td>9.34</td>\n",
       "      <td>7.67</td>\n",
       "      <td>Research Scientist</td>\n",
       "    </tr>\n",
       "    <tr>\n",
       "      <th>4</th>\n",
       "      <td>6.45</td>\n",
       "      <td>7.56</td>\n",
       "      <td>5.67</td>\n",
       "      <td>9.12</td>\n",
       "      <td>4.23</td>\n",
       "      <td>5.34</td>\n",
       "      <td>4.01</td>\n",
       "      <td>6.23</td>\n",
       "      <td>5.78</td>\n",
       "      <td>8.67</td>\n",
       "      <td>Teacher</td>\n",
       "    </tr>\n",
       "  </tbody>\n",
       "</table>\n",
       "</div>"
      ],
      "text/plain": [
       "   O_score  C_score  E_score  A_score  N_score  Numerical Aptitude  \\\n",
       "0     5.45     8.67     3.45     5.34     4.23                9.23   \n",
       "1     8.78     5.67     4.56     6.45     4.23                5.12   \n",
       "2     6.12     6.78     9.34     7.56     5.01                6.23   \n",
       "3     9.12     8.78     4.23     5.67     4.56                7.89   \n",
       "4     6.45     7.56     5.67     9.12     4.23                5.34   \n",
       "\n",
       "   Spatial Aptitude  Perceptual Aptitude  Abstract Reasoning  \\\n",
       "0              4.56                 6.78                7.89   \n",
       "1              8.45                 7.89                6.34   \n",
       "2              4.23                 6.45                6.67   \n",
       "3              5.34                 6.45                9.34   \n",
       "4              4.01                 6.23                5.78   \n",
       "\n",
       "   Verbal Reasoning              Career  \n",
       "0              6.12          Accountant  \n",
       "1              6.01    Graphic Designer  \n",
       "2              8.45         Salesperson  \n",
       "3              7.67  Research Scientist  \n",
       "4              8.67             Teacher  "
      ]
     },
     "execution_count": 52,
     "metadata": {},
     "output_type": "execute_result"
    }
   ],
   "source": [
    "# df_career - DataFrame containing career paths\n",
    "df_career = pd.read_csv('data/data_career.csv')\n",
    "df_career.head()"
   ]
  },
  {
   "cell_type": "code",
   "execution_count": 53,
   "id": "d894c47c",
   "metadata": {},
   "outputs": [
    {
     "data": {
      "application/vnd.microsoft.datawrangler.viewer.v0+json": {
       "columns": [
        {
         "name": "index",
         "rawType": "int64",
         "type": "integer"
        },
        {
         "name": "O_score",
         "rawType": "float64",
         "type": "float"
        },
        {
         "name": "C_score",
         "rawType": "float64",
         "type": "float"
        },
        {
         "name": "E_score",
         "rawType": "float64",
         "type": "float"
        },
        {
         "name": "A_score",
         "rawType": "float64",
         "type": "float"
        },
        {
         "name": "N_score",
         "rawType": "float64",
         "type": "float"
        },
        {
         "name": "Numerical Aptitude",
         "rawType": "float64",
         "type": "float"
        },
        {
         "name": "Spatial Aptitude",
         "rawType": "float64",
         "type": "float"
        },
        {
         "name": "Perceptual Aptitude",
         "rawType": "float64",
         "type": "float"
        },
        {
         "name": "Abstract Reasoning",
         "rawType": "float64",
         "type": "float"
        },
        {
         "name": "Verbal Reasoning",
         "rawType": "float64",
         "type": "float"
        },
        {
         "name": "Career",
         "rawType": "object",
         "type": "string"
        }
       ],
       "ref": "e6feb053-eac4-4f22-bed6-e256925a1607",
       "rows": [
        [
         "0",
         "5.45",
         "8.67",
         "3.45",
         "5.34",
         "4.23",
         "9.23",
         "4.56",
         "6.78",
         "7.89",
         "6.12",
         "Accountant"
        ],
        [
         "1",
         "8.78",
         "5.67",
         "4.56",
         "6.45",
         "4.23",
         "5.12",
         "8.45",
         "7.89",
         "6.34",
         "6.01",
         "Graphic Designer"
        ],
        [
         "2",
         "6.12",
         "6.78",
         "9.34",
         "7.56",
         "5.01",
         "6.23",
         "4.23",
         "6.45",
         "6.67",
         "8.45",
         "Salesperson"
        ],
        [
         "3",
         "9.12",
         "8.78",
         "4.23",
         "5.67",
         "4.56",
         "7.89",
         "5.34",
         "6.45",
         "9.34",
         "7.67",
         "Research Scientist"
        ],
        [
         "4",
         "6.45",
         "7.56",
         "5.67",
         "9.12",
         "4.23",
         "5.34",
         "4.01",
         "6.23",
         "5.78",
         "8.67",
         "Teacher"
        ],
        [
         "5",
         "8.45",
         "7.01",
         "5.34",
         "5.45",
         "4.56",
         "6.45",
         "9.12",
         "7.67",
         "8.89",
         "4.23",
         "Architect"
        ],
        [
         "6",
         "4.01",
         "8.23",
         "6.67",
         "9.34",
         "5.12",
         "4.56",
         "4.45",
         "7.45",
         "5.78",
         "7.78",
         "Nurse"
        ],
        [
         "7",
         "8.78",
         "7.89",
         "5.67",
         "6.01",
         "4.67",
         "8.45",
         "4.23",
         "5.34",
         "9.23",
         "6.45",
         "Software Developer"
        ],
        [
         "8",
         "8.78",
         "7.45",
         "5.34",
         "8.45",
         "6.01",
         "4.56",
         "4.01",
         "4.23",
         "6.67",
         "9.23",
         "Psychologist"
        ],
        [
         "9",
         "6.78",
         "6.45",
         "8.45",
         "7.67",
         "4.56",
         "3.45",
         "3.12",
         "9.34",
         "3.67",
         "4.23",
         "Chef"
        ],
        [
         "10",
         "6.23",
         "7.34",
         "8.78",
         "7.45",
         "5.67",
         "5.12",
         "4.34",
         "4.67",
         "6.01",
         "7.89",
         "Marketing Manager"
        ],
        [
         "11",
         "7.89",
         "9.23",
         "5.01",
         "7.45",
         "6.34",
         "4.78",
         "4.01",
         "4.56",
         "5.67",
         "8.67",
         "Physician"
        ],
        [
         "12",
         "9.34",
         "3.56",
         "7.23",
         "6.78",
         "5.45",
         "2.89",
         "2.34",
         "9.12",
         "5.23",
         "4.01",
         "Artist"
        ],
        [
         "13",
         "5.23",
         "7.12",
         "7.34",
         "8.45",
         "6.45",
         "4.67",
         "3.12",
         "3.67",
         "4.34",
         "7.56",
         "Human Resources Manager"
        ],
        [
         "14",
         "4.56",
         "6.78",
         "5.67",
         "3.23",
         "2.89",
         "8.12",
         "8.67",
         "4.01",
         "7.45",
         "3.45",
         "Construction Engineer"
        ],
        [
         "15",
         "8.78",
         "7.34",
         "5.23",
         "6.45",
         "6.01",
         "4.67",
         "3.56",
         "4.01",
         "4.45",
         "9.12",
         "Journalist"
        ],
        [
         "16",
         "9.45",
         "8.01",
         "4.67",
         "5.56",
         "4.01",
         "7.78",
         "7.45",
         "6.67",
         "9.12",
         "6.34",
         "Astronomer"
        ],
        [
         "17",
         "6.78",
         "8.67",
         "5.23",
         "6.45",
         "4.01",
         "9.12",
         "2.89",
         "3.56",
         "3.23",
         "4.45",
         "Financial Analyst"
        ],
        [
         "18",
         "8.78",
         "7.67",
         "3.67",
         "6.45",
         "5.34",
         "5.67",
         "4.56",
         "6.23",
         "8.45",
         "7.12",
         "Biologist"
        ],
        [
         "19",
         "6.67",
         "6.01",
         "8.45",
         "8.23",
         "4.34",
         "3.78",
         "3.45",
         "6.78",
         "4.56",
         "7.45",
         "Event Planner"
        ],
        [
         "20",
         "6.12",
         "7.01",
         "8.67",
         "7.89",
         "5.34",
         "4.23",
         "3.67",
         "4.01",
         "4.45",
         "7.45",
         "Real Estate Agent"
        ],
        [
         "21",
         "9.12",
         "7.45",
         "4.23",
         "5.67",
         "3.78",
         "7.01",
         "6.45",
         "6.78",
         "8.78",
         "6.01",
         "Environmental Scientist"
        ],
        [
         "22",
         "8.45",
         "7.89",
         "5.67",
         "7.12",
         "6.45",
         "5.12",
         "3.45",
         "4.23",
         "4.56",
         "9.34",
         "Lawyer"
        ],
        [
         "23",
         "6.34",
         "8.12",
         "2.89",
         "6.78",
         "4.78",
         "7.45",
         "3.23",
         "3.56",
         "4.23",
         "7.01",
         "IT Support Specialist"
        ],
        [
         "24",
         "8.78",
         "3.78",
         "7.67",
         "7.01",
         "6.01",
         "3.45",
         "2.78",
         "8.45",
         "5.67",
         "4.23",
         "Fashion Designer"
        ],
        [
         "25",
         "6.45",
         "7.23",
         "8.12",
         "7.45",
         "5.78",
         "4.67",
         "3.01",
         "3.67",
         "4.45",
         "7.67",
         "Marketing Coordinator"
        ],
        [
         "26",
         "7.89",
         "7.67",
         "4.01",
         "5.23",
         "4.56",
         "9.45",
         "3.45",
         "6.78",
         "8.78",
         "5.34",
         "Biomedical Engineer"
        ],
        [
         "27",
         "7.01",
         "3.78",
         "8.45",
         "6.78",
         "5.45",
         "3.56",
         "5.12",
         "9.23",
         "3.01",
         "4.23",
         "Event Photographer"
        ],
        [
         "28",
         "6.67",
         "8.23",
         "5.12",
         "6.01",
         "4.45",
         "9.12",
         "3.34",
         "3.78",
         "4.23",
         "7.45",
         "Data Analyst"
        ],
        [
         "29",
         "7.12",
         "9.45",
         "4.23",
         "6.78",
         "4.56",
         "8.67",
         "3.23",
         "3.67",
         "4.01",
         "6.45",
         "Pharmacist"
        ],
        [
         "30",
         "7.56",
         "7.01",
         "4.67",
         "9.23",
         "6.34",
         "3.45",
         "2.89",
         "4.45",
         "3.12",
         "6.67",
         "Social Worker"
        ],
        [
         "31",
         "5.67",
         "8.78",
         "6.67",
         "6.34",
         "4.34",
         "9.23",
         "3.01",
         "3.78",
         "3.45",
         "4.01",
         "Financial Planner"
        ],
        [
         "32",
         "8.78",
         "7.67",
         "4.01",
         "5.23",
         "4.56",
         "7.12",
         "3.45",
         "6.78",
         "8.45",
         "5.34",
         "Biotechnologist"
        ],
        [
         "33",
         "6.45",
         "6.67",
         "7.01",
         "8.12",
         "5.56",
         "4.01",
         "3.23",
         "3.78",
         "4.23",
         "7.45",
         "HR Recruiter"
        ],
        [
         "34",
         "6.78",
         "8.45",
         "5.12",
         "6.01",
         "4.56",
         "7.89",
         "3.45",
         "3.67",
         "4.23",
         "7.34",
         "Software Quality Assurance Tester"
        ],
        [
         "35",
         "6.45",
         "7.67",
         "5.34",
         "9.23",
         "4.45",
         "3.78",
         "2.89",
         "3.01",
         "3.56",
         "8.12",
         "Elementary School Teacher"
        ],
        [
         "36",
         "6.01",
         "7.34",
         "4.01",
         "5.23",
         "4.67",
         "8.78",
         "8.23",
         "6.78",
         "7.45",
         "5.45",
         "Industrial Engineer"
        ],
        [
         "37",
         "8.45",
         "7.78",
         "5.67",
         "7.34",
         "6.45",
         "5.12",
         "3.23",
         "3.78",
         "4.45",
         "8.12",
         "Market Research Analyst"
        ],
        [
         "38",
         "6.78",
         "8.67",
         "4.45",
         "6.01",
         "4.78",
         "8.34",
         "3.23",
         "3.67",
         "4.12",
         "7.23",
         "Financial Auditor"
        ],
        [
         "39",
         "9.34",
         "4.45",
         "8.45",
         "6.45",
         "7.12",
         "3.23",
         "3.01",
         "6.67",
         "6.01",
         "5.23",
         "Musician"
        ],
        [
         "40",
         "5.67",
         "8.78",
         "7.12",
         "6.45",
         "6.01",
         "4.56",
         "3.67",
         "4.23",
         "5.34",
         "8.45",
         "Police Detective"
        ],
        [
         "41",
         "8.45",
         "6.45",
         "7.01",
         "7.56",
         "5.67",
         "3.78",
         "2.89",
         "3.12",
         "3.45",
         "8.12",
         "Marketing Copywriter"
        ],
        [
         "42",
         "8.78",
         "7.67",
         "4.45",
         "5.12",
         "6.01",
         "5.34",
         "4.01",
         "6.78",
         "8.34",
         "7.45",
         "Zoologist"
        ],
        [
         "43",
         "7.78",
         "7.34",
         "5.23",
         "9.12",
         "6.01",
         "4.67",
         "3.23",
         "3.67",
         "4.34",
         "8.45",
         "Speech Therapist"
        ],
        [
         "44",
         "6.78",
         "7.23",
         "3.89",
         "5.12",
         "4.67",
         "8.89",
         "8.45",
         "6.12",
         "7.78",
         "5.45",
         "Mechanical Engineer"
        ],
        [
         "45",
         "8.78",
         "7.67",
         "4.01",
         "5.12",
         "4.67",
         "7.23",
         "6.78",
         "6.12",
         "8.45",
         "5.45",
         "Forensic Scientist"
        ],
        [
         "46",
         "6.67",
         "7.34",
         "8.45",
         "7.89",
         "5.45",
         "3.78",
         "2.89",
         "3.12",
         "3.45",
         "8.12",
         "Social Media Manager"
        ],
        [
         "47",
         "9.12",
         "7.45",
         "4.01",
         "5.23",
         "4.67",
         "7.01",
         "6.45",
         "6.78",
         "8.78",
         "5.45",
         "Geologist"
        ],
        [
         "48",
         "8.67",
         "7.78",
         "5.67",
         "4.23",
         "6.45",
         "4.45",
         "3.34",
         "3.78",
         "8.23",
         "7.45",
         "Web Developer"
        ],
        [
         "49",
         "8.78",
         "7.67",
         "4.45",
         "5.12",
         "6.01",
         "5.34",
         "4.01",
         "6.78",
         "8.34",
         "7.45",
         "Wildlife Biologist"
        ]
       ],
       "shape": {
        "columns": 11,
        "rows": 105
       }
      },
      "text/html": [
       "<div>\n",
       "<style scoped>\n",
       "    .dataframe tbody tr th:only-of-type {\n",
       "        vertical-align: middle;\n",
       "    }\n",
       "\n",
       "    .dataframe tbody tr th {\n",
       "        vertical-align: top;\n",
       "    }\n",
       "\n",
       "    .dataframe thead th {\n",
       "        text-align: right;\n",
       "    }\n",
       "</style>\n",
       "<table border=\"1\" class=\"dataframe\">\n",
       "  <thead>\n",
       "    <tr style=\"text-align: right;\">\n",
       "      <th></th>\n",
       "      <th>O_score</th>\n",
       "      <th>C_score</th>\n",
       "      <th>E_score</th>\n",
       "      <th>A_score</th>\n",
       "      <th>N_score</th>\n",
       "      <th>Numerical Aptitude</th>\n",
       "      <th>Spatial Aptitude</th>\n",
       "      <th>Perceptual Aptitude</th>\n",
       "      <th>Abstract Reasoning</th>\n",
       "      <th>Verbal Reasoning</th>\n",
       "      <th>Career</th>\n",
       "    </tr>\n",
       "  </thead>\n",
       "  <tbody>\n",
       "    <tr>\n",
       "      <th>0</th>\n",
       "      <td>5.45</td>\n",
       "      <td>8.67</td>\n",
       "      <td>3.45</td>\n",
       "      <td>5.34</td>\n",
       "      <td>4.23</td>\n",
       "      <td>9.23</td>\n",
       "      <td>4.56</td>\n",
       "      <td>6.78</td>\n",
       "      <td>7.89</td>\n",
       "      <td>6.12</td>\n",
       "      <td>Accountant</td>\n",
       "    </tr>\n",
       "    <tr>\n",
       "      <th>1</th>\n",
       "      <td>8.78</td>\n",
       "      <td>5.67</td>\n",
       "      <td>4.56</td>\n",
       "      <td>6.45</td>\n",
       "      <td>4.23</td>\n",
       "      <td>5.12</td>\n",
       "      <td>8.45</td>\n",
       "      <td>7.89</td>\n",
       "      <td>6.34</td>\n",
       "      <td>6.01</td>\n",
       "      <td>Graphic Designer</td>\n",
       "    </tr>\n",
       "    <tr>\n",
       "      <th>2</th>\n",
       "      <td>6.12</td>\n",
       "      <td>6.78</td>\n",
       "      <td>9.34</td>\n",
       "      <td>7.56</td>\n",
       "      <td>5.01</td>\n",
       "      <td>6.23</td>\n",
       "      <td>4.23</td>\n",
       "      <td>6.45</td>\n",
       "      <td>6.67</td>\n",
       "      <td>8.45</td>\n",
       "      <td>Salesperson</td>\n",
       "    </tr>\n",
       "    <tr>\n",
       "      <th>3</th>\n",
       "      <td>9.12</td>\n",
       "      <td>8.78</td>\n",
       "      <td>4.23</td>\n",
       "      <td>5.67</td>\n",
       "      <td>4.56</td>\n",
       "      <td>7.89</td>\n",
       "      <td>5.34</td>\n",
       "      <td>6.45</td>\n",
       "      <td>9.34</td>\n",
       "      <td>7.67</td>\n",
       "      <td>Research Scientist</td>\n",
       "    </tr>\n",
       "    <tr>\n",
       "      <th>4</th>\n",
       "      <td>6.45</td>\n",
       "      <td>7.56</td>\n",
       "      <td>5.67</td>\n",
       "      <td>9.12</td>\n",
       "      <td>4.23</td>\n",
       "      <td>5.34</td>\n",
       "      <td>4.01</td>\n",
       "      <td>6.23</td>\n",
       "      <td>5.78</td>\n",
       "      <td>8.67</td>\n",
       "      <td>Teacher</td>\n",
       "    </tr>\n",
       "    <tr>\n",
       "      <th>...</th>\n",
       "      <td>...</td>\n",
       "      <td>...</td>\n",
       "      <td>...</td>\n",
       "      <td>...</td>\n",
       "      <td>...</td>\n",
       "      <td>...</td>\n",
       "      <td>...</td>\n",
       "      <td>...</td>\n",
       "      <td>...</td>\n",
       "      <td>...</td>\n",
       "      <td>...</td>\n",
       "    </tr>\n",
       "    <tr>\n",
       "      <th>100</th>\n",
       "      <td>7.67</td>\n",
       "      <td>8.23</td>\n",
       "      <td>6.01</td>\n",
       "      <td>9.12</td>\n",
       "      <td>5.45</td>\n",
       "      <td>4.45</td>\n",
       "      <td>2.89</td>\n",
       "      <td>3.12</td>\n",
       "      <td>4.67</td>\n",
       "      <td>8.34</td>\n",
       "      <td>Foreign Service Officer</td>\n",
       "    </tr>\n",
       "    <tr>\n",
       "      <th>101</th>\n",
       "      <td>2.67</td>\n",
       "      <td>8.78</td>\n",
       "      <td>7.67</td>\n",
       "      <td>8.45</td>\n",
       "      <td>6.45</td>\n",
       "      <td>4.45</td>\n",
       "      <td>2.89</td>\n",
       "      <td>3.12</td>\n",
       "      <td>4.67</td>\n",
       "      <td>5.45</td>\n",
       "      <td>Customs and Border Protection Officer</td>\n",
       "    </tr>\n",
       "    <tr>\n",
       "      <th>102</th>\n",
       "      <td>6.78</td>\n",
       "      <td>8.67</td>\n",
       "      <td>4.23</td>\n",
       "      <td>5.23</td>\n",
       "      <td>4.67</td>\n",
       "      <td>8.23</td>\n",
       "      <td>7.67</td>\n",
       "      <td>6.01</td>\n",
       "      <td>7.45</td>\n",
       "      <td>5.45</td>\n",
       "      <td>Civil Engineer</td>\n",
       "    </tr>\n",
       "    <tr>\n",
       "      <th>103</th>\n",
       "      <td>7.34</td>\n",
       "      <td>7.67</td>\n",
       "      <td>4.23</td>\n",
       "      <td>5.23</td>\n",
       "      <td>4.67</td>\n",
       "      <td>9.34</td>\n",
       "      <td>8.45</td>\n",
       "      <td>6.78</td>\n",
       "      <td>8.12</td>\n",
       "      <td>5.67</td>\n",
       "      <td>Robotics Engineer</td>\n",
       "    </tr>\n",
       "    <tr>\n",
       "      <th>104</th>\n",
       "      <td>7.34</td>\n",
       "      <td>7.67</td>\n",
       "      <td>4.23</td>\n",
       "      <td>5.45</td>\n",
       "      <td>4.89</td>\n",
       "      <td>9.12</td>\n",
       "      <td>8.67</td>\n",
       "      <td>6.45</td>\n",
       "      <td>8.23</td>\n",
       "      <td>5.67</td>\n",
       "      <td>Electronics Design Engineer</td>\n",
       "    </tr>\n",
       "  </tbody>\n",
       "</table>\n",
       "<p>105 rows × 11 columns</p>\n",
       "</div>"
      ],
      "text/plain": [
       "     O_score  C_score  E_score  A_score  N_score  Numerical Aptitude  \\\n",
       "0       5.45     8.67     3.45     5.34     4.23                9.23   \n",
       "1       8.78     5.67     4.56     6.45     4.23                5.12   \n",
       "2       6.12     6.78     9.34     7.56     5.01                6.23   \n",
       "3       9.12     8.78     4.23     5.67     4.56                7.89   \n",
       "4       6.45     7.56     5.67     9.12     4.23                5.34   \n",
       "..       ...      ...      ...      ...      ...                 ...   \n",
       "100     7.67     8.23     6.01     9.12     5.45                4.45   \n",
       "101     2.67     8.78     7.67     8.45     6.45                4.45   \n",
       "102     6.78     8.67     4.23     5.23     4.67                8.23   \n",
       "103     7.34     7.67     4.23     5.23     4.67                9.34   \n",
       "104     7.34     7.67     4.23     5.45     4.89                9.12   \n",
       "\n",
       "     Spatial Aptitude  Perceptual Aptitude  Abstract Reasoning  \\\n",
       "0                4.56                 6.78                7.89   \n",
       "1                8.45                 7.89                6.34   \n",
       "2                4.23                 6.45                6.67   \n",
       "3                5.34                 6.45                9.34   \n",
       "4                4.01                 6.23                5.78   \n",
       "..                ...                  ...                 ...   \n",
       "100              2.89                 3.12                4.67   \n",
       "101              2.89                 3.12                4.67   \n",
       "102              7.67                 6.01                7.45   \n",
       "103              8.45                 6.78                8.12   \n",
       "104              8.67                 6.45                8.23   \n",
       "\n",
       "     Verbal Reasoning                                 Career  \n",
       "0                6.12                             Accountant  \n",
       "1                6.01                       Graphic Designer  \n",
       "2                8.45                            Salesperson  \n",
       "3                7.67                     Research Scientist  \n",
       "4                8.67                                Teacher  \n",
       "..                ...                                    ...  \n",
       "100              8.34                Foreign Service Officer  \n",
       "101              5.45  Customs and Border Protection Officer  \n",
       "102              5.45                         Civil Engineer  \n",
       "103              5.67                      Robotics Engineer  \n",
       "104              5.67            Electronics Design Engineer  \n",
       "\n",
       "[105 rows x 11 columns]"
      ]
     },
     "execution_count": 53,
     "metadata": {},
     "output_type": "execute_result"
    }
   ],
   "source": [
    "df_career"
   ]
  },
  {
   "cell_type": "code",
   "execution_count": 54,
   "id": "ea50bfb8",
   "metadata": {},
   "outputs": [
    {
     "data": {
      "application/vnd.microsoft.datawrangler.viewer.v0+json": {
       "columns": [
        {
         "name": "index",
         "rawType": "int64",
         "type": "integer"
        },
        {
         "name": "race",
         "rawType": "int64",
         "type": "integer"
        },
        {
         "name": "age",
         "rawType": "int64",
         "type": "integer"
        },
        {
         "name": "engnat",
         "rawType": "int64",
         "type": "integer"
        },
        {
         "name": "gender",
         "rawType": "int64",
         "type": "integer"
        },
        {
         "name": "hand",
         "rawType": "int64",
         "type": "integer"
        },
        {
         "name": "source",
         "rawType": "int64",
         "type": "integer"
        },
        {
         "name": "country",
         "rawType": "object",
         "type": "string"
        },
        {
         "name": "E1",
         "rawType": "int64",
         "type": "integer"
        },
        {
         "name": "E2",
         "rawType": "int64",
         "type": "integer"
        },
        {
         "name": "E3",
         "rawType": "int64",
         "type": "integer"
        },
        {
         "name": "E4",
         "rawType": "int64",
         "type": "integer"
        },
        {
         "name": "E5",
         "rawType": "int64",
         "type": "integer"
        },
        {
         "name": "E6",
         "rawType": "int64",
         "type": "integer"
        },
        {
         "name": "E7",
         "rawType": "int64",
         "type": "integer"
        },
        {
         "name": "E8",
         "rawType": "int64",
         "type": "integer"
        },
        {
         "name": "E9",
         "rawType": "int64",
         "type": "integer"
        },
        {
         "name": "E10",
         "rawType": "int64",
         "type": "integer"
        },
        {
         "name": "N1",
         "rawType": "int64",
         "type": "integer"
        },
        {
         "name": "N2",
         "rawType": "int64",
         "type": "integer"
        },
        {
         "name": "N3",
         "rawType": "int64",
         "type": "integer"
        },
        {
         "name": "N4",
         "rawType": "int64",
         "type": "integer"
        },
        {
         "name": "N5",
         "rawType": "int64",
         "type": "integer"
        },
        {
         "name": "N6",
         "rawType": "int64",
         "type": "integer"
        },
        {
         "name": "N7",
         "rawType": "int64",
         "type": "integer"
        },
        {
         "name": "N8",
         "rawType": "int64",
         "type": "integer"
        },
        {
         "name": "N9",
         "rawType": "int64",
         "type": "integer"
        },
        {
         "name": "N10",
         "rawType": "int64",
         "type": "integer"
        },
        {
         "name": "A1",
         "rawType": "int64",
         "type": "integer"
        },
        {
         "name": "A2",
         "rawType": "int64",
         "type": "integer"
        },
        {
         "name": "A3",
         "rawType": "int64",
         "type": "integer"
        },
        {
         "name": "A4",
         "rawType": "int64",
         "type": "integer"
        },
        {
         "name": "A5",
         "rawType": "int64",
         "type": "integer"
        },
        {
         "name": "A6",
         "rawType": "int64",
         "type": "integer"
        },
        {
         "name": "A7",
         "rawType": "int64",
         "type": "integer"
        },
        {
         "name": "A8",
         "rawType": "int64",
         "type": "integer"
        },
        {
         "name": "A9",
         "rawType": "int64",
         "type": "integer"
        },
        {
         "name": "A10",
         "rawType": "int64",
         "type": "integer"
        },
        {
         "name": "C1",
         "rawType": "int64",
         "type": "integer"
        },
        {
         "name": "C2",
         "rawType": "int64",
         "type": "integer"
        },
        {
         "name": "C3",
         "rawType": "int64",
         "type": "integer"
        },
        {
         "name": "C4",
         "rawType": "int64",
         "type": "integer"
        },
        {
         "name": "C5",
         "rawType": "int64",
         "type": "integer"
        },
        {
         "name": "C6",
         "rawType": "int64",
         "type": "integer"
        },
        {
         "name": "C7",
         "rawType": "int64",
         "type": "integer"
        },
        {
         "name": "C8",
         "rawType": "int64",
         "type": "integer"
        },
        {
         "name": "C9",
         "rawType": "int64",
         "type": "integer"
        },
        {
         "name": "C10",
         "rawType": "int64",
         "type": "integer"
        },
        {
         "name": "O1",
         "rawType": "int64",
         "type": "integer"
        },
        {
         "name": "O2",
         "rawType": "int64",
         "type": "integer"
        },
        {
         "name": "O3",
         "rawType": "int64",
         "type": "integer"
        },
        {
         "name": "O4",
         "rawType": "int64",
         "type": "integer"
        },
        {
         "name": "O5",
         "rawType": "int64",
         "type": "integer"
        },
        {
         "name": "O6",
         "rawType": "int64",
         "type": "integer"
        },
        {
         "name": "O7",
         "rawType": "int64",
         "type": "integer"
        },
        {
         "name": "O8",
         "rawType": "int64",
         "type": "integer"
        },
        {
         "name": "O9",
         "rawType": "int64",
         "type": "integer"
        },
        {
         "name": "O10",
         "rawType": "int64",
         "type": "integer"
        }
       ],
       "ref": "269ae5ae-2533-47ef-85d2-2c7c850a92cc",
       "rows": [
        [
         "0",
         "3",
         "53",
         "1",
         "1",
         "1",
         "1",
         "US",
         "4",
         "2",
         "5",
         "2",
         "5",
         "1",
         "4",
         "3",
         "5",
         "1",
         "1",
         "5",
         "2",
         "5",
         "1",
         "1",
         "1",
         "1",
         "1",
         "1",
         "1",
         "5",
         "1",
         "5",
         "2",
         "3",
         "1",
         "5",
         "4",
         "5",
         "4",
         "1",
         "5",
         "1",
         "5",
         "1",
         "4",
         "1",
         "4",
         "5",
         "4",
         "1",
         "3",
         "1",
         "5",
         "1",
         "4",
         "2",
         "5",
         "5"
        ],
        [
         "1",
         "13",
         "46",
         "1",
         "2",
         "1",
         "1",
         "US",
         "2",
         "2",
         "3",
         "3",
         "3",
         "3",
         "1",
         "5",
         "1",
         "5",
         "2",
         "3",
         "4",
         "2",
         "3",
         "4",
         "3",
         "2",
         "2",
         "4",
         "1",
         "3",
         "3",
         "4",
         "4",
         "4",
         "2",
         "3",
         "4",
         "3",
         "4",
         "1",
         "3",
         "2",
         "3",
         "1",
         "5",
         "1",
         "4",
         "4",
         "3",
         "3",
         "3",
         "3",
         "2",
         "3",
         "3",
         "1",
         "3",
         "2"
        ],
        [
         "2",
         "1",
         "14",
         "2",
         "2",
         "1",
         "1",
         "PK",
         "5",
         "1",
         "1",
         "4",
         "5",
         "1",
         "1",
         "5",
         "5",
         "1",
         "5",
         "1",
         "5",
         "5",
         "5",
         "5",
         "5",
         "5",
         "5",
         "5",
         "5",
         "1",
         "5",
         "5",
         "1",
         "5",
         "1",
         "5",
         "5",
         "5",
         "4",
         "1",
         "5",
         "1",
         "5",
         "1",
         "5",
         "1",
         "5",
         "5",
         "4",
         "5",
         "5",
         "1",
         "5",
         "1",
         "5",
         "5",
         "5",
         "5"
        ],
        [
         "3",
         "3",
         "19",
         "2",
         "2",
         "1",
         "1",
         "RO",
         "2",
         "5",
         "2",
         "4",
         "3",
         "4",
         "3",
         "4",
         "4",
         "5",
         "5",
         "4",
         "4",
         "2",
         "4",
         "5",
         "5",
         "5",
         "4",
         "5",
         "2",
         "5",
         "4",
         "4",
         "3",
         "5",
         "3",
         "4",
         "4",
         "3",
         "3",
         "3",
         "4",
         "5",
         "1",
         "4",
         "5",
         "4",
         "2",
         "3",
         "4",
         "3",
         "5",
         "2",
         "4",
         "2",
         "5",
         "2",
         "5",
         "5"
        ],
        [
         "4",
         "11",
         "25",
         "2",
         "2",
         "1",
         "2",
         "US",
         "3",
         "1",
         "3",
         "3",
         "3",
         "1",
         "3",
         "1",
         "3",
         "5",
         "3",
         "3",
         "3",
         "4",
         "3",
         "3",
         "3",
         "3",
         "3",
         "4",
         "5",
         "5",
         "3",
         "5",
         "1",
         "5",
         "1",
         "5",
         "5",
         "5",
         "3",
         "1",
         "5",
         "3",
         "3",
         "1",
         "1",
         "3",
         "3",
         "3",
         "3",
         "1",
         "1",
         "1",
         "3",
         "1",
         "3",
         "1",
         "5",
         "3"
        ]
       ],
       "shape": {
        "columns": 57,
        "rows": 5
       }
      },
      "text/html": [
       "<div>\n",
       "<style scoped>\n",
       "    .dataframe tbody tr th:only-of-type {\n",
       "        vertical-align: middle;\n",
       "    }\n",
       "\n",
       "    .dataframe tbody tr th {\n",
       "        vertical-align: top;\n",
       "    }\n",
       "\n",
       "    .dataframe thead th {\n",
       "        text-align: right;\n",
       "    }\n",
       "</style>\n",
       "<table border=\"1\" class=\"dataframe\">\n",
       "  <thead>\n",
       "    <tr style=\"text-align: right;\">\n",
       "      <th></th>\n",
       "      <th>race</th>\n",
       "      <th>age</th>\n",
       "      <th>engnat</th>\n",
       "      <th>gender</th>\n",
       "      <th>hand</th>\n",
       "      <th>source</th>\n",
       "      <th>country</th>\n",
       "      <th>E1</th>\n",
       "      <th>E2</th>\n",
       "      <th>E3</th>\n",
       "      <th>...</th>\n",
       "      <th>O1</th>\n",
       "      <th>O2</th>\n",
       "      <th>O3</th>\n",
       "      <th>O4</th>\n",
       "      <th>O5</th>\n",
       "      <th>O6</th>\n",
       "      <th>O7</th>\n",
       "      <th>O8</th>\n",
       "      <th>O9</th>\n",
       "      <th>O10</th>\n",
       "    </tr>\n",
       "  </thead>\n",
       "  <tbody>\n",
       "    <tr>\n",
       "      <th>0</th>\n",
       "      <td>3</td>\n",
       "      <td>53</td>\n",
       "      <td>1</td>\n",
       "      <td>1</td>\n",
       "      <td>1</td>\n",
       "      <td>1</td>\n",
       "      <td>US</td>\n",
       "      <td>4</td>\n",
       "      <td>2</td>\n",
       "      <td>5</td>\n",
       "      <td>...</td>\n",
       "      <td>4</td>\n",
       "      <td>1</td>\n",
       "      <td>3</td>\n",
       "      <td>1</td>\n",
       "      <td>5</td>\n",
       "      <td>1</td>\n",
       "      <td>4</td>\n",
       "      <td>2</td>\n",
       "      <td>5</td>\n",
       "      <td>5</td>\n",
       "    </tr>\n",
       "    <tr>\n",
       "      <th>1</th>\n",
       "      <td>13</td>\n",
       "      <td>46</td>\n",
       "      <td>1</td>\n",
       "      <td>2</td>\n",
       "      <td>1</td>\n",
       "      <td>1</td>\n",
       "      <td>US</td>\n",
       "      <td>2</td>\n",
       "      <td>2</td>\n",
       "      <td>3</td>\n",
       "      <td>...</td>\n",
       "      <td>3</td>\n",
       "      <td>3</td>\n",
       "      <td>3</td>\n",
       "      <td>3</td>\n",
       "      <td>2</td>\n",
       "      <td>3</td>\n",
       "      <td>3</td>\n",
       "      <td>1</td>\n",
       "      <td>3</td>\n",
       "      <td>2</td>\n",
       "    </tr>\n",
       "    <tr>\n",
       "      <th>2</th>\n",
       "      <td>1</td>\n",
       "      <td>14</td>\n",
       "      <td>2</td>\n",
       "      <td>2</td>\n",
       "      <td>1</td>\n",
       "      <td>1</td>\n",
       "      <td>PK</td>\n",
       "      <td>5</td>\n",
       "      <td>1</td>\n",
       "      <td>1</td>\n",
       "      <td>...</td>\n",
       "      <td>4</td>\n",
       "      <td>5</td>\n",
       "      <td>5</td>\n",
       "      <td>1</td>\n",
       "      <td>5</td>\n",
       "      <td>1</td>\n",
       "      <td>5</td>\n",
       "      <td>5</td>\n",
       "      <td>5</td>\n",
       "      <td>5</td>\n",
       "    </tr>\n",
       "    <tr>\n",
       "      <th>3</th>\n",
       "      <td>3</td>\n",
       "      <td>19</td>\n",
       "      <td>2</td>\n",
       "      <td>2</td>\n",
       "      <td>1</td>\n",
       "      <td>1</td>\n",
       "      <td>RO</td>\n",
       "      <td>2</td>\n",
       "      <td>5</td>\n",
       "      <td>2</td>\n",
       "      <td>...</td>\n",
       "      <td>4</td>\n",
       "      <td>3</td>\n",
       "      <td>5</td>\n",
       "      <td>2</td>\n",
       "      <td>4</td>\n",
       "      <td>2</td>\n",
       "      <td>5</td>\n",
       "      <td>2</td>\n",
       "      <td>5</td>\n",
       "      <td>5</td>\n",
       "    </tr>\n",
       "    <tr>\n",
       "      <th>4</th>\n",
       "      <td>11</td>\n",
       "      <td>25</td>\n",
       "      <td>2</td>\n",
       "      <td>2</td>\n",
       "      <td>1</td>\n",
       "      <td>2</td>\n",
       "      <td>US</td>\n",
       "      <td>3</td>\n",
       "      <td>1</td>\n",
       "      <td>3</td>\n",
       "      <td>...</td>\n",
       "      <td>3</td>\n",
       "      <td>1</td>\n",
       "      <td>1</td>\n",
       "      <td>1</td>\n",
       "      <td>3</td>\n",
       "      <td>1</td>\n",
       "      <td>3</td>\n",
       "      <td>1</td>\n",
       "      <td>5</td>\n",
       "      <td>3</td>\n",
       "    </tr>\n",
       "  </tbody>\n",
       "</table>\n",
       "<p>5 rows × 57 columns</p>\n",
       "</div>"
      ],
      "text/plain": [
       "   race  age  engnat  gender  hand  source country  E1  E2  E3  ...  O1  O2  \\\n",
       "0     3   53       1       1     1       1      US   4   2   5  ...   4   1   \n",
       "1    13   46       1       2     1       1      US   2   2   3  ...   3   3   \n",
       "2     1   14       2       2     1       1      PK   5   1   1  ...   4   5   \n",
       "3     3   19       2       2     1       1      RO   2   5   2  ...   4   3   \n",
       "4    11   25       2       2     1       2      US   3   1   3  ...   3   1   \n",
       "\n",
       "   O3  O4  O5  O6  O7  O8  O9  O10  \n",
       "0   3   1   5   1   4   2   5    5  \n",
       "1   3   3   2   3   3   1   3    2  \n",
       "2   5   1   5   1   5   5   5    5  \n",
       "3   5   2   4   2   5   2   5    5  \n",
       "4   1   1   3   1   3   1   5    3  \n",
       "\n",
       "[5 rows x 57 columns]"
      ]
     },
     "execution_count": 54,
     "metadata": {},
     "output_type": "execute_result"
    }
   ],
   "source": [
    "# Read using tab delimiter\n",
    "df = pd.read_csv('data/data.csv', delimiter='\\t') \n",
    "df.head()"
   ]
  },
  {
   "cell_type": "code",
   "execution_count": 55,
   "id": "32c0b125",
   "metadata": {},
   "outputs": [
    {
     "data": {
      "text/plain": [
       "\"\\t\\nQuestions in the dataset:\\nE1\\tI am the life of the party.\\nE2\\tI don't talk a lot.\\nE3\\tI feel comfortable around people.\\nE4\\tI keep in the background.\\nE5\\tI start conversations.\\nE6\\tI have little to say.\\nE7\\tI talk to a lot of different people at parties.\\nE8\\tI don't like to draw attention to myself.\\nE9\\tI don't mind being the center of attention.\\nE10\\tI am quiet around strangers.\\nN1\\tI get stressed out easily.\\nN2\\tI am relaxed most of the time.\\nN3\\tI worry about things.\\nN4\\tI seldom feel blue.\\nN5\\tI am easily disturbed.\\nN6\\tI get upset easily.\\nN7\\tI change my mood a lot.\\nN8\\tI have frequent mood swings.\\nN9\\tI get irritated easily.\\nN10\\tI often feel blue.\\nA1\\tI feel little concern for others.\\nA2\\tI am interested in people.\\nA3\\tI insult people.\\nA4\\tI sympathize with others' feelings.\\nA5\\tI am not interested in other people's problems.\\nA6\\tI have a soft heart.\\nA7\\tI am not really interested in others.\\nA8\\tI take time out for others.\\nA9\\tI feel others' emotions.\\nA10\\tI make people feel at ease.\\nC1\\tI am always prepared.\\nC2\\tI leave my belongings around.\\nC3\\tI pay attention to details.\\nC4\\tI make a mess of things.\\nC5\\tI get chores done right away.\\nC6\\tI often forget to put things back in their proper place.\\nC7\\tI like order.\\nC8\\tI shirk my duties.\\nC9\\tI follow a schedule.\\nC10\\tI am exacting in my work.\\nO1\\tI have a rich vocabulary.\\nO2\\tI have difficulty understanding abstract ideas.\\nO3\\tI have a vivid imagination.\\nO4\\tI am not interested in abstract ideas.\\nO5\\tI have excellent ideas.\\nO6\\tI do not have a good imagination.\\nO7\\tI am quick to understand things.\\nO8\\tI use difficult words.\\nO9\\tI spend time reflecting on things.\\nO10\\tI am full of ideas.\\n\\n\""
      ]
     },
     "execution_count": 55,
     "metadata": {},
     "output_type": "execute_result"
    }
   ],
   "source": [
    "\"\"\"\t\n",
    "Questions in the dataset:\n",
    "E1\tI am the life of the party.\n",
    "E2\tI don't talk a lot.\n",
    "E3\tI feel comfortable around people.\n",
    "E4\tI keep in the background.\n",
    "E5\tI start conversations.\n",
    "E6\tI have little to say.\n",
    "E7\tI talk to a lot of different people at parties.\n",
    "E8\tI don't like to draw attention to myself.\n",
    "E9\tI don't mind being the center of attention.\n",
    "E10\tI am quiet around strangers.\n",
    "N1\tI get stressed out easily.\n",
    "N2\tI am relaxed most of the time.\n",
    "N3\tI worry about things.\n",
    "N4\tI seldom feel blue.\n",
    "N5\tI am easily disturbed.\n",
    "N6\tI get upset easily.\n",
    "N7\tI change my mood a lot.\n",
    "N8\tI have frequent mood swings.\n",
    "N9\tI get irritated easily.\n",
    "N10\tI often feel blue.\n",
    "A1\tI feel little concern for others.\n",
    "A2\tI am interested in people.\n",
    "A3\tI insult people.\n",
    "A4\tI sympathize with others' feelings.\n",
    "A5\tI am not interested in other people's problems.\n",
    "A6\tI have a soft heart.\n",
    "A7\tI am not really interested in others.\n",
    "A8\tI take time out for others.\n",
    "A9\tI feel others' emotions.\n",
    "A10\tI make people feel at ease.\n",
    "C1\tI am always prepared.\n",
    "C2\tI leave my belongings around.\n",
    "C3\tI pay attention to details.\n",
    "C4\tI make a mess of things.\n",
    "C5\tI get chores done right away.\n",
    "C6\tI often forget to put things back in their proper place.\n",
    "C7\tI like order.\n",
    "C8\tI shirk my duties.\n",
    "C9\tI follow a schedule.\n",
    "C10\tI am exacting in my work.\n",
    "O1\tI have a rich vocabulary.\n",
    "O2\tI have difficulty understanding abstract ideas.\n",
    "O3\tI have a vivid imagination.\n",
    "O4\tI am not interested in abstract ideas.\n",
    "O5\tI have excellent ideas.\n",
    "O6\tI do not have a good imagination.\n",
    "O7\tI am quick to understand things.\n",
    "O8\tI use difficult words.\n",
    "O9\tI spend time reflecting on things.\n",
    "O10\tI am full of ideas.\n",
    "\n",
    "\"\"\""
   ]
  },
  {
   "cell_type": "code",
   "execution_count": 56,
   "id": "832406f6",
   "metadata": {},
   "outputs": [
    {
     "data": {
      "text/plain": [
       "'\\t\\nrace - 1=Mixed Race, 2=Arctic (Siberian, Eskimo), 3=Caucasian (European), 4=Caucasian (Indian), 5=Caucasian (Middle East), 6=Caucasian (North African, Other), 7=Indigenous Australian, 8=Native American, 9=North East Asian (Mongol, Tibetan, Korean Japanese, etc), 10=Pacific (Polynesian, Micronesian, etc), 11=South East Asian (Chinese, Thai, Malay, Filipino, etc), 12=West African, Bushmen, Ethiopian, 13=Other (0=missed)\\nage\\t- entered as text (individuals reporting age < 13 were not recorded)\\nengnat\\t- Response to \"is English your native language?\". 1=yes, 2=no (0=missed)\\ngender\\t- Chosen from a drop down menu. 1=Male, 2=Female, 3=Other (0=missed)\\nhand\\t- \"What hand do you use to write with?\". 1=Right, 2=Left, 3=Both (0=missed)\\n\\n'"
      ]
     },
     "execution_count": 56,
     "metadata": {},
     "output_type": "execute_result"
    }
   ],
   "source": [
    "\"\"\"\t\n",
    "race - 1=Mixed Race, 2=Arctic (Siberian, Eskimo), 3=Caucasian (European), 4=Caucasian (Indian), 5=Caucasian (Middle East), 6=Caucasian (North African, Other), 7=Indigenous Australian, 8=Native American, 9=North East Asian (Mongol, Tibetan, Korean Japanese, etc), 10=Pacific (Polynesian, Micronesian, etc), 11=South East Asian (Chinese, Thai, Malay, Filipino, etc), 12=West African, Bushmen, Ethiopian, 13=Other (0=missed)\n",
    "age\t- entered as text (individuals reporting age < 13 were not recorded)\n",
    "engnat\t- Response to \"is English your native language?\". 1=yes, 2=no (0=missed)\n",
    "gender\t- Chosen from a drop down menu. 1=Male, 2=Female, 3=Other (0=missed)\n",
    "hand\t- \"What hand do you use to write with?\". 1=Right, 2=Left, 3=Both (0=missed)\n",
    "\n",
    "\"\"\"\t"
   ]
  },
  {
   "cell_type": "code",
   "execution_count": 57,
   "id": "792098a8",
   "metadata": {},
   "outputs": [],
   "source": [
    "o_columns = ['O' + str(i) for i in range(1, 11)]\n",
    "df_o = df[['race', 'age', 'engnat', 'gender', 'hand', 'source', 'country'] + o_columns]"
   ]
  },
  {
   "cell_type": "code",
   "execution_count": 58,
   "id": "ab5cb233",
   "metadata": {},
   "outputs": [],
   "source": [
    "e_columns = ['E' + str(i) for i in range(1, 11)]\n",
    "df_e = df[['race', 'age', 'engnat', 'gender', 'hand', 'source', 'country'] + e_columns]"
   ]
  },
  {
   "cell_type": "code",
   "execution_count": 59,
   "id": "28fd5a00",
   "metadata": {},
   "outputs": [],
   "source": [
    "n_columns = ['N' + str(i) for i in range(1, 11)]\n",
    "df_n = df[['race', 'age', 'engnat', 'gender', 'hand', 'source', 'country'] + n_columns]"
   ]
  },
  {
   "cell_type": "code",
   "execution_count": 60,
   "id": "689e9db0",
   "metadata": {},
   "outputs": [],
   "source": [
    "a_columns = ['A' + str(i) for i in range(1, 11)]\n",
    "df_a = df[['race', 'age', 'engnat', 'gender', 'hand', 'source', 'country'] + a_columns]"
   ]
  },
  {
   "cell_type": "code",
   "execution_count": 61,
   "id": "8dabe441",
   "metadata": {},
   "outputs": [],
   "source": [
    "c_columns = ['C' + str(i) for i in range(1, 11)]\n",
    "df_c = df[['race', 'age', 'engnat', 'gender', 'hand', 'source', 'country'] + c_columns]"
   ]
  },
  {
   "cell_type": "markdown",
   "id": "5a5f5d25",
   "metadata": {},
   "source": [
    "## EDA"
   ]
  },
  {
   "cell_type": "markdown",
   "id": "ec109e43",
   "metadata": {},
   "source": [
    "### DataFrame - df"
   ]
  },
  {
   "cell_type": "code",
   "execution_count": 62,
   "id": "ce2564a1",
   "metadata": {},
   "outputs": [
    {
     "data": {
      "text/plain": [
       "(19719, 57)"
      ]
     },
     "execution_count": 62,
     "metadata": {},
     "output_type": "execute_result"
    }
   ],
   "source": [
    "df.shape"
   ]
  },
  {
   "cell_type": "code",
   "execution_count": 63,
   "id": "9caeae6f",
   "metadata": {},
   "outputs": [
    {
     "data": {
      "text/plain": [
       "<bound method DataFrame.info of        race  age  engnat  gender  hand  source country  E1  E2  E3  ...  O1  \\\n",
       "0         3   53       1       1     1       1      US   4   2   5  ...   4   \n",
       "1        13   46       1       2     1       1      US   2   2   3  ...   3   \n",
       "2         1   14       2       2     1       1      PK   5   1   1  ...   4   \n",
       "3         3   19       2       2     1       1      RO   2   5   2  ...   4   \n",
       "4        11   25       2       2     1       2      US   3   1   3  ...   3   \n",
       "...     ...  ...     ...     ...   ...     ...     ...  ..  ..  ..  ...  ..   \n",
       "19714    11   15       1       2     1       2      SG   1   4   3  ...   1   \n",
       "19715     3   37       1       2     1       2      US   2   3   2  ...   1   \n",
       "19716     5   16       2       1     1       2      US   2   5   4  ...   5   \n",
       "19717    12   16       1       1     1       5      NG   1   4   2  ...   3   \n",
       "19718     3   35       1       1     1       1      US   2   3   1  ...   5   \n",
       "\n",
       "       O2  O3  O4  O5  O6  O7  O8  O9  O10  \n",
       "0       1   3   1   5   1   4   2   5    5  \n",
       "1       3   3   3   2   3   3   1   3    2  \n",
       "2       5   5   1   5   1   5   5   5    5  \n",
       "3       3   5   2   4   2   5   2   5    5  \n",
       "4       1   1   1   3   1   3   1   5    3  \n",
       "...    ..  ..  ..  ..  ..  ..  ..  ..  ...  \n",
       "19714   3   5   3   4   1   4   2   5    3  \n",
       "19715   2   3   2   3   3   4   2   3    3  \n",
       "19716   3   1   3   4   1   1   5   5    5  \n",
       "19717   2   5   3   4   1   5   3   5    5  \n",
       "19718   1   5   1   4   1   5   5   5    5  \n",
       "\n",
       "[19719 rows x 57 columns]>"
      ]
     },
     "execution_count": 63,
     "metadata": {},
     "output_type": "execute_result"
    }
   ],
   "source": [
    "df.info"
   ]
  },
  {
   "cell_type": "code",
   "execution_count": 64,
   "id": "ae109436",
   "metadata": {},
   "outputs": [
    {
     "data": {
      "application/vnd.microsoft.datawrangler.viewer.v0+json": {
       "columns": [
        {
         "name": "index",
         "rawType": "object",
         "type": "string"
        },
        {
         "name": "0",
         "rawType": "int64",
         "type": "integer"
        }
       ],
       "ref": "c29f6b54-4a0f-496f-98bd-cfffa5825f8d",
       "rows": [
        [
         "race",
         "0"
        ],
        [
         "age",
         "0"
        ],
        [
         "engnat",
         "0"
        ],
        [
         "gender",
         "0"
        ],
        [
         "hand",
         "0"
        ],
        [
         "source",
         "0"
        ],
        [
         "country",
         "9"
        ],
        [
         "E1",
         "0"
        ],
        [
         "E2",
         "0"
        ],
        [
         "E3",
         "0"
        ],
        [
         "E4",
         "0"
        ],
        [
         "E5",
         "0"
        ],
        [
         "E6",
         "0"
        ],
        [
         "E7",
         "0"
        ],
        [
         "E8",
         "0"
        ],
        [
         "E9",
         "0"
        ],
        [
         "E10",
         "0"
        ],
        [
         "N1",
         "0"
        ],
        [
         "N2",
         "0"
        ],
        [
         "N3",
         "0"
        ],
        [
         "N4",
         "0"
        ],
        [
         "N5",
         "0"
        ],
        [
         "N6",
         "0"
        ],
        [
         "N7",
         "0"
        ],
        [
         "N8",
         "0"
        ],
        [
         "N9",
         "0"
        ],
        [
         "N10",
         "0"
        ],
        [
         "A1",
         "0"
        ],
        [
         "A2",
         "0"
        ],
        [
         "A3",
         "0"
        ],
        [
         "A4",
         "0"
        ],
        [
         "A5",
         "0"
        ],
        [
         "A6",
         "0"
        ],
        [
         "A7",
         "0"
        ],
        [
         "A8",
         "0"
        ],
        [
         "A9",
         "0"
        ],
        [
         "A10",
         "0"
        ],
        [
         "C1",
         "0"
        ],
        [
         "C2",
         "0"
        ],
        [
         "C3",
         "0"
        ],
        [
         "C4",
         "0"
        ],
        [
         "C5",
         "0"
        ],
        [
         "C6",
         "0"
        ],
        [
         "C7",
         "0"
        ],
        [
         "C8",
         "0"
        ],
        [
         "C9",
         "0"
        ],
        [
         "C10",
         "0"
        ],
        [
         "O1",
         "0"
        ],
        [
         "O2",
         "0"
        ],
        [
         "O3",
         "0"
        ]
       ],
       "shape": {
        "columns": 1,
        "rows": 57
       }
      },
      "text/plain": [
       "race       0\n",
       "age        0\n",
       "engnat     0\n",
       "gender     0\n",
       "hand       0\n",
       "source     0\n",
       "country    9\n",
       "E1         0\n",
       "E2         0\n",
       "E3         0\n",
       "E4         0\n",
       "E5         0\n",
       "E6         0\n",
       "E7         0\n",
       "E8         0\n",
       "E9         0\n",
       "E10        0\n",
       "N1         0\n",
       "N2         0\n",
       "N3         0\n",
       "N4         0\n",
       "N5         0\n",
       "N6         0\n",
       "N7         0\n",
       "N8         0\n",
       "N9         0\n",
       "N10        0\n",
       "A1         0\n",
       "A2         0\n",
       "A3         0\n",
       "A4         0\n",
       "A5         0\n",
       "A6         0\n",
       "A7         0\n",
       "A8         0\n",
       "A9         0\n",
       "A10        0\n",
       "C1         0\n",
       "C2         0\n",
       "C3         0\n",
       "C4         0\n",
       "C5         0\n",
       "C6         0\n",
       "C7         0\n",
       "C8         0\n",
       "C9         0\n",
       "C10        0\n",
       "O1         0\n",
       "O2         0\n",
       "O3         0\n",
       "O4         0\n",
       "O5         0\n",
       "O6         0\n",
       "O7         0\n",
       "O8         0\n",
       "O9         0\n",
       "O10        0\n",
       "dtype: int64"
      ]
     },
     "execution_count": 64,
     "metadata": {},
     "output_type": "execute_result"
    }
   ],
   "source": [
    "df.isnull().sum()"
   ]
  },
  {
   "cell_type": "code",
   "execution_count": 65,
   "id": "df005e78",
   "metadata": {},
   "outputs": [
    {
     "data": {
      "application/vnd.microsoft.datawrangler.viewer.v0+json": {
       "columns": [
        {
         "name": "index",
         "rawType": "object",
         "type": "string"
        },
        {
         "name": "race",
         "rawType": "float64",
         "type": "float"
        },
        {
         "name": "age",
         "rawType": "float64",
         "type": "float"
        },
        {
         "name": "engnat",
         "rawType": "float64",
         "type": "float"
        },
        {
         "name": "gender",
         "rawType": "float64",
         "type": "float"
        },
        {
         "name": "hand",
         "rawType": "float64",
         "type": "float"
        },
        {
         "name": "source",
         "rawType": "float64",
         "type": "float"
        },
        {
         "name": "E1",
         "rawType": "float64",
         "type": "float"
        },
        {
         "name": "E2",
         "rawType": "float64",
         "type": "float"
        },
        {
         "name": "E3",
         "rawType": "float64",
         "type": "float"
        },
        {
         "name": "E4",
         "rawType": "float64",
         "type": "float"
        },
        {
         "name": "E5",
         "rawType": "float64",
         "type": "float"
        },
        {
         "name": "E6",
         "rawType": "float64",
         "type": "float"
        },
        {
         "name": "E7",
         "rawType": "float64",
         "type": "float"
        },
        {
         "name": "E8",
         "rawType": "float64",
         "type": "float"
        },
        {
         "name": "E9",
         "rawType": "float64",
         "type": "float"
        },
        {
         "name": "E10",
         "rawType": "float64",
         "type": "float"
        },
        {
         "name": "N1",
         "rawType": "float64",
         "type": "float"
        },
        {
         "name": "N2",
         "rawType": "float64",
         "type": "float"
        },
        {
         "name": "N3",
         "rawType": "float64",
         "type": "float"
        },
        {
         "name": "N4",
         "rawType": "float64",
         "type": "float"
        },
        {
         "name": "N5",
         "rawType": "float64",
         "type": "float"
        },
        {
         "name": "N6",
         "rawType": "float64",
         "type": "float"
        },
        {
         "name": "N7",
         "rawType": "float64",
         "type": "float"
        },
        {
         "name": "N8",
         "rawType": "float64",
         "type": "float"
        },
        {
         "name": "N9",
         "rawType": "float64",
         "type": "float"
        },
        {
         "name": "N10",
         "rawType": "float64",
         "type": "float"
        },
        {
         "name": "A1",
         "rawType": "float64",
         "type": "float"
        },
        {
         "name": "A2",
         "rawType": "float64",
         "type": "float"
        },
        {
         "name": "A3",
         "rawType": "float64",
         "type": "float"
        },
        {
         "name": "A4",
         "rawType": "float64",
         "type": "float"
        },
        {
         "name": "A5",
         "rawType": "float64",
         "type": "float"
        },
        {
         "name": "A6",
         "rawType": "float64",
         "type": "float"
        },
        {
         "name": "A7",
         "rawType": "float64",
         "type": "float"
        },
        {
         "name": "A8",
         "rawType": "float64",
         "type": "float"
        },
        {
         "name": "A9",
         "rawType": "float64",
         "type": "float"
        },
        {
         "name": "A10",
         "rawType": "float64",
         "type": "float"
        },
        {
         "name": "C1",
         "rawType": "float64",
         "type": "float"
        },
        {
         "name": "C2",
         "rawType": "float64",
         "type": "float"
        },
        {
         "name": "C3",
         "rawType": "float64",
         "type": "float"
        },
        {
         "name": "C4",
         "rawType": "float64",
         "type": "float"
        },
        {
         "name": "C5",
         "rawType": "float64",
         "type": "float"
        },
        {
         "name": "C6",
         "rawType": "float64",
         "type": "float"
        },
        {
         "name": "C7",
         "rawType": "float64",
         "type": "float"
        },
        {
         "name": "C8",
         "rawType": "float64",
         "type": "float"
        },
        {
         "name": "C9",
         "rawType": "float64",
         "type": "float"
        },
        {
         "name": "C10",
         "rawType": "float64",
         "type": "float"
        },
        {
         "name": "O1",
         "rawType": "float64",
         "type": "float"
        },
        {
         "name": "O2",
         "rawType": "float64",
         "type": "float"
        },
        {
         "name": "O3",
         "rawType": "float64",
         "type": "float"
        },
        {
         "name": "O4",
         "rawType": "float64",
         "type": "float"
        },
        {
         "name": "O5",
         "rawType": "float64",
         "type": "float"
        },
        {
         "name": "O6",
         "rawType": "float64",
         "type": "float"
        },
        {
         "name": "O7",
         "rawType": "float64",
         "type": "float"
        },
        {
         "name": "O8",
         "rawType": "float64",
         "type": "float"
        },
        {
         "name": "O9",
         "rawType": "float64",
         "type": "float"
        },
        {
         "name": "O10",
         "rawType": "float64",
         "type": "float"
        }
       ],
       "ref": "be979e52-942d-404a-80b6-ed4f856452e3",
       "rows": [
        [
         "count",
         "19719.0",
         "19719.0",
         "19719.0",
         "19719.0",
         "19719.0",
         "19719.0",
         "19719.0",
         "19719.0",
         "19719.0",
         "19719.0",
         "19719.0",
         "19719.0",
         "19719.0",
         "19719.0",
         "19719.0",
         "19719.0",
         "19719.0",
         "19719.0",
         "19719.0",
         "19719.0",
         "19719.0",
         "19719.0",
         "19719.0",
         "19719.0",
         "19719.0",
         "19719.0",
         "19719.0",
         "19719.0",
         "19719.0",
         "19719.0",
         "19719.0",
         "19719.0",
         "19719.0",
         "19719.0",
         "19719.0",
         "19719.0",
         "19719.0",
         "19719.0",
         "19719.0",
         "19719.0",
         "19719.0",
         "19719.0",
         "19719.0",
         "19719.0",
         "19719.0",
         "19719.0",
         "19719.0",
         "19719.0",
         "19719.0",
         "19719.0",
         "19719.0",
         "19719.0",
         "19719.0",
         "19719.0",
         "19719.0",
         "19719.0"
        ],
        [
         "mean",
         "5.32420508139358",
         "50767.02789188093",
         "1.3651300775901414",
         "1.6169176935950098",
         "1.1301283026522644",
         "1.9522795273593996",
         "2.6289365586490185",
         "2.759724123941376",
         "3.4167554135605256",
         "3.152036107307673",
         "3.43222272934733",
         "2.4526091586794463",
         "2.8672853592981387",
         "3.376489680004057",
         "3.0942745575333435",
         "3.585323799381307",
         "3.262082255692479",
         "3.234596074851666",
         "3.8426897915715807",
         "2.7562756732085805",
         "2.951721689740859",
         "2.98037425832953",
         "3.15193468228612",
         "2.803235458187535",
         "3.1352502662406816",
         "2.8337643896749327",
         "2.3120847913180183",
         "3.9265682843957603",
         "2.162736447081495",
         "4.03007251889041",
         "2.1659820477711853",
         "3.896090065419139",
         "2.1606572341396624",
         "3.766468887874639",
         "3.944723363253715",
         "3.682336832496577",
         "3.3184745676758456",
         "2.9788021704954613",
         "3.9830113088899033",
         "2.654242101526447",
         "2.7003904863329784",
         "2.9228662711090827",
         "3.6466859374207616",
         "2.4813631522896697",
         "3.224453572696384",
         "3.637202697905573",
         "3.6924793346518587",
         "2.1496526193011816",
         "4.126122014300928",
         "2.0794157918758556",
         "3.873015873015873",
         "1.7947664688878746",
         "4.072975303007252",
         "3.208022719204828",
         "4.13357675338506",
         "4.0047669760129825"
        ],
        [
         "std",
         "4.019063741732656",
         "7121271.9218236245",
         "0.4887964523919227",
         "0.4991216677970054",
         "0.41366325990509273",
         "1.5047696935323174",
         "1.2325653757094805",
         "1.3138176788105724",
         "1.236820242956402",
         "1.2228219105022289",
         "1.2820031537814343",
         "1.2416158270549726",
         "1.4318137330841125",
         "1.2663964811430743",
         "1.3964901665785983",
         "1.3045713921708395",
         "1.3081694764729213",
         "1.1770181257786179",
         "1.138854129260547",
         "1.2209638228596056",
         "1.2728894065686802",
         "1.3204371845534462",
         "1.2999099520934583",
         "1.350647843896895",
         "1.2985727092628745",
         "1.3130359003677126",
         "1.369346767159636",
         "1.078510289453512",
         "1.2160133404399716",
         "1.0454031689218006",
         "1.1417831525749769",
         "1.1304526277230313",
         "1.132132591796799",
         "1.0359593365894133",
         "1.0854959576534047",
         "1.0526787568417637",
         "1.0995665245867892",
         "1.367265785103864",
         "1.003020814873948",
         "1.2431906558554624",
         "1.2496861761095333",
         "1.3992463086218057",
         "1.152739891225123",
         "1.1329355693435188",
         "1.2462453700730578",
         "1.0126632058470082",
         "1.1163020064743367",
         "1.135226845119252",
         "1.0068064977888938",
         "1.1097506701277504",
         "0.9396548298234063",
         "1.0685126280068116",
         "0.923594667150142",
         "1.2589207153645068",
         "0.9828677173307495",
         "0.9837288662085337"
        ],
        [
         "min",
         "0.0",
         "13.0",
         "0.0",
         "0.0",
         "0.0",
         "1.0",
         "0.0",
         "0.0",
         "0.0",
         "0.0",
         "0.0",
         "0.0",
         "0.0",
         "0.0",
         "0.0",
         "0.0",
         "0.0",
         "0.0",
         "0.0",
         "0.0",
         "0.0",
         "0.0",
         "0.0",
         "0.0",
         "0.0",
         "0.0",
         "0.0",
         "0.0",
         "0.0",
         "0.0",
         "0.0",
         "0.0",
         "0.0",
         "0.0",
         "0.0",
         "0.0",
         "0.0",
         "0.0",
         "0.0",
         "0.0",
         "0.0",
         "0.0",
         "0.0",
         "0.0",
         "0.0",
         "0.0",
         "0.0",
         "0.0",
         "0.0",
         "0.0",
         "0.0",
         "0.0",
         "0.0",
         "0.0",
         "0.0",
         "0.0"
        ],
        [
         "25%",
         "3.0",
         "18.0",
         "1.0",
         "1.0",
         "1.0",
         "1.0",
         "2.0",
         "2.0",
         "3.0",
         "2.0",
         "2.0",
         "1.0",
         "2.0",
         "2.0",
         "2.0",
         "3.0",
         "2.0",
         "2.0",
         "3.0",
         "2.0",
         "2.0",
         "2.0",
         "2.0",
         "2.0",
         "2.0",
         "2.0",
         "1.0",
         "3.0",
         "1.0",
         "4.0",
         "1.0",
         "3.0",
         "1.0",
         "3.0",
         "3.0",
         "3.0",
         "3.0",
         "2.0",
         "3.0",
         "2.0",
         "2.0",
         "2.0",
         "3.0",
         "2.0",
         "2.0",
         "3.0",
         "3.0",
         "1.0",
         "4.0",
         "1.0",
         "3.0",
         "1.0",
         "4.0",
         "2.0",
         "4.0",
         "3.0"
        ],
        [
         "50%",
         "3.0",
         "22.0",
         "1.0",
         "2.0",
         "1.0",
         "1.0",
         "3.0",
         "3.0",
         "4.0",
         "3.0",
         "4.0",
         "2.0",
         "3.0",
         "3.0",
         "3.0",
         "4.0",
         "3.0",
         "3.0",
         "4.0",
         "3.0",
         "3.0",
         "3.0",
         "3.0",
         "3.0",
         "3.0",
         "3.0",
         "2.0",
         "4.0",
         "2.0",
         "4.0",
         "2.0",
         "4.0",
         "2.0",
         "4.0",
         "4.0",
         "4.0",
         "3.0",
         "3.0",
         "4.0",
         "3.0",
         "3.0",
         "3.0",
         "4.0",
         "2.0",
         "3.0",
         "4.0",
         "4.0",
         "2.0",
         "4.0",
         "2.0",
         "4.0",
         "1.0",
         "4.0",
         "3.0",
         "4.0",
         "4.0"
        ],
        [
         "75%",
         "8.0",
         "31.0",
         "2.0",
         "2.0",
         "1.0",
         "2.0",
         "4.0",
         "4.0",
         "4.0",
         "4.0",
         "5.0",
         "3.0",
         "4.0",
         "4.0",
         "4.0",
         "5.0",
         "4.0",
         "4.0",
         "5.0",
         "4.0",
         "4.0",
         "4.0",
         "4.0",
         "4.0",
         "4.0",
         "4.0",
         "3.0",
         "5.0",
         "3.0",
         "5.0",
         "3.0",
         "5.0",
         "3.0",
         "5.0",
         "5.0",
         "5.0",
         "4.0",
         "4.0",
         "5.0",
         "4.0",
         "4.0",
         "4.0",
         "5.0",
         "3.0",
         "4.0",
         "4.0",
         "5.0",
         "3.0",
         "5.0",
         "3.0",
         "5.0",
         "2.0",
         "5.0",
         "4.0",
         "5.0",
         "5.0"
        ],
        [
         "max",
         "13.0",
         "999999999.0",
         "2.0",
         "3.0",
         "3.0",
         "5.0",
         "5.0",
         "5.0",
         "5.0",
         "5.0",
         "5.0",
         "5.0",
         "5.0",
         "5.0",
         "5.0",
         "5.0",
         "5.0",
         "5.0",
         "5.0",
         "5.0",
         "5.0",
         "5.0",
         "5.0",
         "5.0",
         "5.0",
         "5.0",
         "5.0",
         "5.0",
         "5.0",
         "5.0",
         "5.0",
         "5.0",
         "5.0",
         "5.0",
         "5.0",
         "5.0",
         "5.0",
         "5.0",
         "5.0",
         "5.0",
         "5.0",
         "5.0",
         "5.0",
         "5.0",
         "5.0",
         "5.0",
         "5.0",
         "5.0",
         "5.0",
         "5.0",
         "5.0",
         "5.0",
         "5.0",
         "5.0",
         "5.0",
         "5.0"
        ]
       ],
       "shape": {
        "columns": 56,
        "rows": 8
       }
      },
      "text/html": [
       "<div>\n",
       "<style scoped>\n",
       "    .dataframe tbody tr th:only-of-type {\n",
       "        vertical-align: middle;\n",
       "    }\n",
       "\n",
       "    .dataframe tbody tr th {\n",
       "        vertical-align: top;\n",
       "    }\n",
       "\n",
       "    .dataframe thead th {\n",
       "        text-align: right;\n",
       "    }\n",
       "</style>\n",
       "<table border=\"1\" class=\"dataframe\">\n",
       "  <thead>\n",
       "    <tr style=\"text-align: right;\">\n",
       "      <th></th>\n",
       "      <th>race</th>\n",
       "      <th>age</th>\n",
       "      <th>engnat</th>\n",
       "      <th>gender</th>\n",
       "      <th>hand</th>\n",
       "      <th>source</th>\n",
       "      <th>E1</th>\n",
       "      <th>E2</th>\n",
       "      <th>E3</th>\n",
       "      <th>E4</th>\n",
       "      <th>...</th>\n",
       "      <th>O1</th>\n",
       "      <th>O2</th>\n",
       "      <th>O3</th>\n",
       "      <th>O4</th>\n",
       "      <th>O5</th>\n",
       "      <th>O6</th>\n",
       "      <th>O7</th>\n",
       "      <th>O8</th>\n",
       "      <th>O9</th>\n",
       "      <th>O10</th>\n",
       "    </tr>\n",
       "  </thead>\n",
       "  <tbody>\n",
       "    <tr>\n",
       "      <th>count</th>\n",
       "      <td>19719.000000</td>\n",
       "      <td>1.971900e+04</td>\n",
       "      <td>19719.000000</td>\n",
       "      <td>19719.000000</td>\n",
       "      <td>19719.000000</td>\n",
       "      <td>19719.00000</td>\n",
       "      <td>19719.000000</td>\n",
       "      <td>19719.000000</td>\n",
       "      <td>19719.000000</td>\n",
       "      <td>19719.000000</td>\n",
       "      <td>...</td>\n",
       "      <td>19719.000000</td>\n",
       "      <td>19719.000000</td>\n",
       "      <td>19719.000000</td>\n",
       "      <td>19719.000000</td>\n",
       "      <td>19719.000000</td>\n",
       "      <td>19719.000000</td>\n",
       "      <td>19719.000000</td>\n",
       "      <td>19719.000000</td>\n",
       "      <td>19719.000000</td>\n",
       "      <td>19719.000000</td>\n",
       "    </tr>\n",
       "    <tr>\n",
       "      <th>mean</th>\n",
       "      <td>5.324205</td>\n",
       "      <td>5.076703e+04</td>\n",
       "      <td>1.365130</td>\n",
       "      <td>1.616918</td>\n",
       "      <td>1.130128</td>\n",
       "      <td>1.95228</td>\n",
       "      <td>2.628937</td>\n",
       "      <td>2.759724</td>\n",
       "      <td>3.416755</td>\n",
       "      <td>3.152036</td>\n",
       "      <td>...</td>\n",
       "      <td>3.692479</td>\n",
       "      <td>2.149653</td>\n",
       "      <td>4.126122</td>\n",
       "      <td>2.079416</td>\n",
       "      <td>3.873016</td>\n",
       "      <td>1.794766</td>\n",
       "      <td>4.072975</td>\n",
       "      <td>3.208023</td>\n",
       "      <td>4.133577</td>\n",
       "      <td>4.004767</td>\n",
       "    </tr>\n",
       "    <tr>\n",
       "      <th>std</th>\n",
       "      <td>4.019064</td>\n",
       "      <td>7.121272e+06</td>\n",
       "      <td>0.488796</td>\n",
       "      <td>0.499122</td>\n",
       "      <td>0.413663</td>\n",
       "      <td>1.50477</td>\n",
       "      <td>1.232565</td>\n",
       "      <td>1.313818</td>\n",
       "      <td>1.236820</td>\n",
       "      <td>1.222822</td>\n",
       "      <td>...</td>\n",
       "      <td>1.116302</td>\n",
       "      <td>1.135227</td>\n",
       "      <td>1.006806</td>\n",
       "      <td>1.109751</td>\n",
       "      <td>0.939655</td>\n",
       "      <td>1.068513</td>\n",
       "      <td>0.923595</td>\n",
       "      <td>1.258921</td>\n",
       "      <td>0.982868</td>\n",
       "      <td>0.983729</td>\n",
       "    </tr>\n",
       "    <tr>\n",
       "      <th>min</th>\n",
       "      <td>0.000000</td>\n",
       "      <td>1.300000e+01</td>\n",
       "      <td>0.000000</td>\n",
       "      <td>0.000000</td>\n",
       "      <td>0.000000</td>\n",
       "      <td>1.00000</td>\n",
       "      <td>0.000000</td>\n",
       "      <td>0.000000</td>\n",
       "      <td>0.000000</td>\n",
       "      <td>0.000000</td>\n",
       "      <td>...</td>\n",
       "      <td>0.000000</td>\n",
       "      <td>0.000000</td>\n",
       "      <td>0.000000</td>\n",
       "      <td>0.000000</td>\n",
       "      <td>0.000000</td>\n",
       "      <td>0.000000</td>\n",
       "      <td>0.000000</td>\n",
       "      <td>0.000000</td>\n",
       "      <td>0.000000</td>\n",
       "      <td>0.000000</td>\n",
       "    </tr>\n",
       "    <tr>\n",
       "      <th>25%</th>\n",
       "      <td>3.000000</td>\n",
       "      <td>1.800000e+01</td>\n",
       "      <td>1.000000</td>\n",
       "      <td>1.000000</td>\n",
       "      <td>1.000000</td>\n",
       "      <td>1.00000</td>\n",
       "      <td>2.000000</td>\n",
       "      <td>2.000000</td>\n",
       "      <td>3.000000</td>\n",
       "      <td>2.000000</td>\n",
       "      <td>...</td>\n",
       "      <td>3.000000</td>\n",
       "      <td>1.000000</td>\n",
       "      <td>4.000000</td>\n",
       "      <td>1.000000</td>\n",
       "      <td>3.000000</td>\n",
       "      <td>1.000000</td>\n",
       "      <td>4.000000</td>\n",
       "      <td>2.000000</td>\n",
       "      <td>4.000000</td>\n",
       "      <td>3.000000</td>\n",
       "    </tr>\n",
       "    <tr>\n",
       "      <th>50%</th>\n",
       "      <td>3.000000</td>\n",
       "      <td>2.200000e+01</td>\n",
       "      <td>1.000000</td>\n",
       "      <td>2.000000</td>\n",
       "      <td>1.000000</td>\n",
       "      <td>1.00000</td>\n",
       "      <td>3.000000</td>\n",
       "      <td>3.000000</td>\n",
       "      <td>4.000000</td>\n",
       "      <td>3.000000</td>\n",
       "      <td>...</td>\n",
       "      <td>4.000000</td>\n",
       "      <td>2.000000</td>\n",
       "      <td>4.000000</td>\n",
       "      <td>2.000000</td>\n",
       "      <td>4.000000</td>\n",
       "      <td>1.000000</td>\n",
       "      <td>4.000000</td>\n",
       "      <td>3.000000</td>\n",
       "      <td>4.000000</td>\n",
       "      <td>4.000000</td>\n",
       "    </tr>\n",
       "    <tr>\n",
       "      <th>75%</th>\n",
       "      <td>8.000000</td>\n",
       "      <td>3.100000e+01</td>\n",
       "      <td>2.000000</td>\n",
       "      <td>2.000000</td>\n",
       "      <td>1.000000</td>\n",
       "      <td>2.00000</td>\n",
       "      <td>4.000000</td>\n",
       "      <td>4.000000</td>\n",
       "      <td>4.000000</td>\n",
       "      <td>4.000000</td>\n",
       "      <td>...</td>\n",
       "      <td>5.000000</td>\n",
       "      <td>3.000000</td>\n",
       "      <td>5.000000</td>\n",
       "      <td>3.000000</td>\n",
       "      <td>5.000000</td>\n",
       "      <td>2.000000</td>\n",
       "      <td>5.000000</td>\n",
       "      <td>4.000000</td>\n",
       "      <td>5.000000</td>\n",
       "      <td>5.000000</td>\n",
       "    </tr>\n",
       "    <tr>\n",
       "      <th>max</th>\n",
       "      <td>13.000000</td>\n",
       "      <td>1.000000e+09</td>\n",
       "      <td>2.000000</td>\n",
       "      <td>3.000000</td>\n",
       "      <td>3.000000</td>\n",
       "      <td>5.00000</td>\n",
       "      <td>5.000000</td>\n",
       "      <td>5.000000</td>\n",
       "      <td>5.000000</td>\n",
       "      <td>5.000000</td>\n",
       "      <td>...</td>\n",
       "      <td>5.000000</td>\n",
       "      <td>5.000000</td>\n",
       "      <td>5.000000</td>\n",
       "      <td>5.000000</td>\n",
       "      <td>5.000000</td>\n",
       "      <td>5.000000</td>\n",
       "      <td>5.000000</td>\n",
       "      <td>5.000000</td>\n",
       "      <td>5.000000</td>\n",
       "      <td>5.000000</td>\n",
       "    </tr>\n",
       "  </tbody>\n",
       "</table>\n",
       "<p>8 rows × 56 columns</p>\n",
       "</div>"
      ],
      "text/plain": [
       "               race           age        engnat        gender          hand  \\\n",
       "count  19719.000000  1.971900e+04  19719.000000  19719.000000  19719.000000   \n",
       "mean       5.324205  5.076703e+04      1.365130      1.616918      1.130128   \n",
       "std        4.019064  7.121272e+06      0.488796      0.499122      0.413663   \n",
       "min        0.000000  1.300000e+01      0.000000      0.000000      0.000000   \n",
       "25%        3.000000  1.800000e+01      1.000000      1.000000      1.000000   \n",
       "50%        3.000000  2.200000e+01      1.000000      2.000000      1.000000   \n",
       "75%        8.000000  3.100000e+01      2.000000      2.000000      1.000000   \n",
       "max       13.000000  1.000000e+09      2.000000      3.000000      3.000000   \n",
       "\n",
       "            source            E1            E2            E3            E4  \\\n",
       "count  19719.00000  19719.000000  19719.000000  19719.000000  19719.000000   \n",
       "mean       1.95228      2.628937      2.759724      3.416755      3.152036   \n",
       "std        1.50477      1.232565      1.313818      1.236820      1.222822   \n",
       "min        1.00000      0.000000      0.000000      0.000000      0.000000   \n",
       "25%        1.00000      2.000000      2.000000      3.000000      2.000000   \n",
       "50%        1.00000      3.000000      3.000000      4.000000      3.000000   \n",
       "75%        2.00000      4.000000      4.000000      4.000000      4.000000   \n",
       "max        5.00000      5.000000      5.000000      5.000000      5.000000   \n",
       "\n",
       "       ...            O1            O2            O3            O4  \\\n",
       "count  ...  19719.000000  19719.000000  19719.000000  19719.000000   \n",
       "mean   ...      3.692479      2.149653      4.126122      2.079416   \n",
       "std    ...      1.116302      1.135227      1.006806      1.109751   \n",
       "min    ...      0.000000      0.000000      0.000000      0.000000   \n",
       "25%    ...      3.000000      1.000000      4.000000      1.000000   \n",
       "50%    ...      4.000000      2.000000      4.000000      2.000000   \n",
       "75%    ...      5.000000      3.000000      5.000000      3.000000   \n",
       "max    ...      5.000000      5.000000      5.000000      5.000000   \n",
       "\n",
       "                 O5            O6            O7            O8            O9  \\\n",
       "count  19719.000000  19719.000000  19719.000000  19719.000000  19719.000000   \n",
       "mean       3.873016      1.794766      4.072975      3.208023      4.133577   \n",
       "std        0.939655      1.068513      0.923595      1.258921      0.982868   \n",
       "min        0.000000      0.000000      0.000000      0.000000      0.000000   \n",
       "25%        3.000000      1.000000      4.000000      2.000000      4.000000   \n",
       "50%        4.000000      1.000000      4.000000      3.000000      4.000000   \n",
       "75%        5.000000      2.000000      5.000000      4.000000      5.000000   \n",
       "max        5.000000      5.000000      5.000000      5.000000      5.000000   \n",
       "\n",
       "                O10  \n",
       "count  19719.000000  \n",
       "mean       4.004767  \n",
       "std        0.983729  \n",
       "min        0.000000  \n",
       "25%        3.000000  \n",
       "50%        4.000000  \n",
       "75%        5.000000  \n",
       "max        5.000000  \n",
       "\n",
       "[8 rows x 56 columns]"
      ]
     },
     "execution_count": 65,
     "metadata": {},
     "output_type": "execute_result"
    }
   ],
   "source": [
    "df.describe()"
   ]
  },
  {
   "cell_type": "code",
   "execution_count": 66,
   "id": "6ddab1a8",
   "metadata": {},
   "outputs": [
    {
     "data": {
      "application/vnd.microsoft.datawrangler.viewer.v0+json": {
       "columns": [
        {
         "name": "country",
         "rawType": "object",
         "type": "string"
        },
        {
         "name": "count",
         "rawType": "int64",
         "type": "integer"
        }
       ],
       "ref": "87733a39-ce5a-4904-a543-6b02e6f2575a",
       "rows": [
        [
         "US",
         "8753"
        ],
        [
         "GB",
         "1531"
        ],
        [
         "IN",
         "1464"
        ],
        [
         "AU",
         "974"
        ],
        [
         "CA",
         "924"
        ],
        [
         "PH",
         "649"
        ],
        [
         "(nu",
         "369"
        ],
        [
         "IT",
         "277"
        ],
        [
         "MY",
         "247"
        ],
        [
         "PK",
         "222"
        ],
        [
         "DE",
         "191"
        ],
        [
         "ZA",
         "179"
        ],
        [
         "BR",
         "175"
        ],
        [
         "ID",
         "172"
        ],
        [
         "SE",
         "169"
        ],
        [
         "NZ",
         "157"
        ],
        [
         "NO",
         "147"
        ],
        [
         "RO",
         "135"
        ],
        [
         "SG",
         "133"
        ],
        [
         "NL",
         "133"
        ],
        [
         "FR",
         "129"
        ],
        [
         "DK",
         "122"
        ],
        [
         "IE",
         "107"
        ],
        [
         "AE",
         "100"
        ],
        [
         "FI",
         "90"
        ],
        [
         "PT",
         "88"
        ],
        [
         "BE",
         "86"
        ],
        [
         "RS",
         "85"
        ],
        [
         "GR",
         "85"
        ],
        [
         "MX",
         "82"
        ],
        [
         "ES",
         "82"
        ],
        [
         "PL",
         "79"
        ],
        [
         "TR",
         "70"
        ],
        [
         "EG",
         "49"
        ],
        [
         "SA",
         "45"
        ],
        [
         "BD",
         "44"
        ],
        [
         "KE",
         "43"
        ],
        [
         "TH",
         "42"
        ],
        [
         "LB",
         "41"
        ],
        [
         "BG",
         "41"
        ],
        [
         "AR",
         "41"
        ],
        [
         "HK",
         "41"
        ],
        [
         "HR",
         "40"
        ],
        [
         "CN",
         "40"
        ],
        [
         "CH",
         "40"
        ],
        [
         "JP",
         "37"
        ],
        [
         "NG",
         "35"
        ],
        [
         "SI",
         "34"
        ],
        [
         "HU",
         "34"
        ],
        [
         "LK",
         "31"
        ]
       ],
       "shape": {
        "columns": 1,
        "rows": 158
       }
      },
      "text/plain": [
       "country\n",
       "US    8753\n",
       "GB    1531\n",
       "IN    1464\n",
       "AU     974\n",
       "CA     924\n",
       "      ... \n",
       "CV       1\n",
       "MR       1\n",
       "UZ       1\n",
       "TC       1\n",
       "KG       1\n",
       "Name: count, Length: 158, dtype: int64"
      ]
     },
     "execution_count": 66,
     "metadata": {},
     "output_type": "execute_result"
    }
   ],
   "source": [
    "df['country'].value_counts()"
   ]
  },
  {
   "cell_type": "code",
   "execution_count": 67,
   "id": "02dd3724",
   "metadata": {},
   "outputs": [
    {
     "data": {
      "application/vnd.microsoft.datawrangler.viewer.v0+json": {
       "columns": [
        {
         "name": "country",
         "rawType": "object",
         "type": "string"
        },
        {
         "name": "proportion",
         "rawType": "float64",
         "type": "float"
        }
       ],
       "ref": "6d573af8-7abb-455a-a0dc-cdb231890ecb",
       "rows": [
        [
         "US",
         "44.408929477422625"
        ],
        [
         "GB",
         "7.767630644342974"
        ],
        [
         "IN",
         "7.427701674277016"
        ],
        [
         "AU",
         "4.941653982749873"
        ],
        [
         "CA",
         "4.687975646879757"
        ],
        [
         "PH",
         "3.292744799594115"
        ],
        [
         "(nu",
         "1.872146118721461"
        ],
        [
         "IT",
         "1.4053779807204465"
        ],
        [
         "MY",
         "1.2531709791983765"
        ],
        [
         "PK",
         "1.1263318112633183"
        ],
        [
         "DE",
         "0.9690512430238458"
        ],
        [
         "ZA",
         "0.9081684424150178"
        ],
        [
         "BR",
         "0.8878741755454084"
        ],
        [
         "ID",
         "0.8726534753932014"
        ],
        [
         "SE",
         "0.8574327752409945"
        ],
        [
         "NZ",
         "0.7965499746321664"
        ],
        [
         "NO",
         "0.745814307458143"
        ],
        [
         "RO",
         "0.684931506849315"
        ],
        [
         "SG",
         "0.6747843734145104"
        ],
        [
         "NL",
         "0.6747843734145104"
        ],
        [
         "FR",
         "0.654490106544901"
        ],
        [
         "DK",
         "0.6189751395230847"
        ],
        [
         "IE",
         "0.5428716387620497"
        ],
        [
         "AE",
         "0.5073566717402334"
        ],
        [
         "FI",
         "0.45662100456621"
        ],
        [
         "PT",
         "0.4464738711314054"
        ],
        [
         "BE",
         "0.4363267376966007"
        ],
        [
         "RS",
         "0.43125317097919835"
        ],
        [
         "GR",
         "0.43125317097919835"
        ],
        [
         "MX",
         "0.4160324708269914"
        ],
        [
         "ES",
         "0.4160324708269914"
        ],
        [
         "PL",
         "0.40081177067478435"
        ],
        [
         "TR",
         "0.35514967021816335"
        ],
        [
         "EG",
         "0.24860476915271437"
        ],
        [
         "SA",
         "0.228310502283105"
        ],
        [
         "BD",
         "0.2232369355657027"
        ],
        [
         "KE",
         "0.21816336884830034"
        ],
        [
         "TH",
         "0.213089802130898"
        ],
        [
         "LB",
         "0.2080162354134957"
        ],
        [
         "BG",
         "0.2080162354134957"
        ],
        [
         "AR",
         "0.2080162354134957"
        ],
        [
         "HK",
         "0.2080162354134957"
        ],
        [
         "HR",
         "0.20294266869609334"
        ],
        [
         "CN",
         "0.20294266869609334"
        ],
        [
         "CH",
         "0.20294266869609334"
        ],
        [
         "JP",
         "0.18772196854388634"
        ],
        [
         "NG",
         "0.17757483510908167"
        ],
        [
         "SI",
         "0.17250126839167937"
        ],
        [
         "HU",
         "0.17250126839167937"
        ],
        [
         "LK",
         "0.15728056823947234"
        ]
       ],
       "shape": {
        "columns": 1,
        "rows": 158
       }
      },
      "text/plain": [
       "country\n",
       "US    44.408929\n",
       "GB     7.767631\n",
       "IN     7.427702\n",
       "AU     4.941654\n",
       "CA     4.687976\n",
       "        ...    \n",
       "CV     0.005074\n",
       "MR     0.005074\n",
       "UZ     0.005074\n",
       "TC     0.005074\n",
       "KG     0.005074\n",
       "Name: proportion, Length: 158, dtype: float64"
      ]
     },
     "execution_count": 67,
     "metadata": {},
     "output_type": "execute_result"
    }
   ],
   "source": [
    "df['country'].value_counts(normalize=True) * 100"
   ]
  },
  {
   "cell_type": "code",
   "execution_count": 68,
   "id": "9ce2cb25",
   "metadata": {},
   "outputs": [
    {
     "name": "stderr",
     "output_type": "stream",
     "text": [
      "C:\\Users\\modri\\AppData\\Local\\Temp\\ipykernel_13856\\2142170078.py:5: UserWarning: FigureCanvasAgg is non-interactive, and thus cannot be shown\n",
      "  plt.show()\n"
     ]
    }
   ],
   "source": [
    "country_percent = df['country'].value_counts(normalize=True).mul(100).sort_values(ascending=False).head(10)\n",
    "country_percent.plot(kind='bar')\n",
    "plt.xlabel('Country')\n",
    "plt.ylabel('Count')\n",
    "plt.show()"
   ]
  },
  {
   "cell_type": "code",
   "execution_count": 69,
   "id": "a1c0e458",
   "metadata": {},
   "outputs": [
    {
     "data": {
      "application/vnd.microsoft.datawrangler.viewer.v0+json": {
       "columns": [
        {
         "name": "age",
         "rawType": "int64",
         "type": "integer"
        },
        {
         "name": "count",
         "rawType": "int64",
         "type": "integer"
        }
       ],
       "ref": "95bf70d4-c48a-4bbf-9423-f4913e113453",
       "rows": [
        [
         "18",
         "1523"
        ],
        [
         "17",
         "1370"
        ],
        [
         "19",
         "1259"
        ],
        [
         "20",
         "1231"
        ],
        [
         "21",
         "1216"
        ],
        [
         "16",
         "1148"
        ],
        [
         "22",
         "970"
        ],
        [
         "23",
         "895"
        ],
        [
         "15",
         "743"
        ],
        [
         "24",
         "703"
        ],
        [
         "25",
         "691"
        ],
        [
         "26",
         "520"
        ],
        [
         "27",
         "492"
        ],
        [
         "14",
         "475"
        ],
        [
         "28",
         "449"
        ],
        [
         "30",
         "372"
        ],
        [
         "29",
         "361"
        ],
        [
         "32",
         "329"
        ],
        [
         "31",
         "315"
        ],
        [
         "33",
         "262"
        ],
        [
         "35",
         "245"
        ],
        [
         "34",
         "243"
        ],
        [
         "13",
         "238"
        ],
        [
         "36",
         "223"
        ],
        [
         "38",
         "206"
        ],
        [
         "37",
         "198"
        ],
        [
         "45",
         "182"
        ],
        [
         "43",
         "180"
        ],
        [
         "40",
         "180"
        ],
        [
         "41",
         "174"
        ],
        [
         "42",
         "169"
        ],
        [
         "39",
         "167"
        ],
        [
         "46",
         "143"
        ],
        [
         "48",
         "141"
        ],
        [
         "44",
         "136"
        ],
        [
         "49",
         "131"
        ],
        [
         "50",
         "131"
        ],
        [
         "47",
         "118"
        ],
        [
         "52",
         "116"
        ],
        [
         "51",
         "106"
        ],
        [
         "55",
         "96"
        ],
        [
         "54",
         "94"
        ],
        [
         "53",
         "93"
        ],
        [
         "57",
         "80"
        ],
        [
         "56",
         "72"
        ],
        [
         "60",
         "71"
        ],
        [
         "58",
         "60"
        ],
        [
         "59",
         "43"
        ],
        [
         "62",
         "36"
        ],
        [
         "64",
         "29"
        ]
       ],
       "shape": {
        "columns": 1,
        "rows": 104
       }
      },
      "text/plain": [
       "age\n",
       "18      1523\n",
       "17      1370\n",
       "19      1259\n",
       "20      1231\n",
       "21      1216\n",
       "        ... \n",
       "266        1\n",
       "191        1\n",
       "78         1\n",
       "1964       1\n",
       "118        1\n",
       "Name: count, Length: 104, dtype: int64"
      ]
     },
     "execution_count": 69,
     "metadata": {},
     "output_type": "execute_result"
    }
   ],
   "source": [
    "df['age'].value_counts()"
   ]
  },
  {
   "cell_type": "code",
   "execution_count": 70,
   "id": "dc9d406b",
   "metadata": {},
   "outputs": [
    {
     "data": {
      "application/vnd.microsoft.datawrangler.viewer.v0+json": {
       "columns": [
        {
         "name": "age",
         "rawType": "int64",
         "type": "integer"
        },
        {
         "name": "proportion",
         "rawType": "float64",
         "type": "float"
        }
       ],
       "ref": "33e256ff-2e62-4378-975c-b76fd35ee25b",
       "rows": [
        [
         "18",
         "7.723515391247021"
        ],
        [
         "17",
         "6.947613976367969"
        ],
        [
         "19",
         "6.384705106749836"
        ],
        [
         "20",
         "6.242710076575891"
        ],
        [
         "21",
         "6.166641310411278"
        ],
        [
         "16",
         "5.8217962371317"
        ],
        [
         "22",
         "4.919113545311628"
        ],
        [
         "23",
         "4.538769714488565"
        ],
        [
         "15",
         "3.7679395506871542"
        ],
        [
         "24",
         "3.5650895075815203"
        ],
        [
         "25",
         "3.50423449464983"
        ],
        [
         "26",
         "2.637050560373244"
        ],
        [
         "27",
         "2.4950555301993003"
        ],
        [
         "14",
         "2.4088442618794055"
        ],
        [
         "28",
         "2.2769917338607435"
        ],
        [
         "30",
         "1.8865054008823976"
        ],
        [
         "29",
         "1.8307216390283483"
        ],
        [
         "32",
         "1.668441604543841"
        ],
        [
         "31",
         "1.5974440894568689"
        ],
        [
         "33",
         "1.3286677823419037"
        ],
        [
         "35",
         "1.2424565140220092"
        ],
        [
         "34",
         "1.2323140118667275"
        ],
        [
         "13",
         "1.2069577564785232"
        ],
        [
         "36",
         "1.1308889903139103"
        ],
        [
         "38",
         "1.044677721994016"
        ],
        [
         "37",
         "1.004107713372889"
        ],
        [
         "45",
         "0.9229676961306355"
        ],
        [
         "43",
         "0.9128251939753538"
        ],
        [
         "40",
         "0.9128251939753538"
        ],
        [
         "41",
         "0.8823976875095085"
        ],
        [
         "42",
         "0.8570414321213042"
        ],
        [
         "39",
         "0.8468989299660227"
        ],
        [
         "46",
         "0.7251889041026421"
        ],
        [
         "48",
         "0.7150464019473604"
        ],
        [
         "44",
         "0.6896901465591562"
        ],
        [
         "49",
         "0.6643338911709519"
        ],
        [
         "50",
         "0.6643338911709519"
        ],
        [
         "47",
         "0.5984076271616208"
        ],
        [
         "52",
         "0.5882651250063391"
        ],
        [
         "51",
         "0.5375526142299305"
        ],
        [
         "55",
         "0.48684010345352197"
        ],
        [
         "54",
         "0.47669760129824024"
        ],
        [
         "53",
         "0.4716263502205994"
        ],
        [
         "57",
         "0.4057000862112683"
        ],
        [
         "56",
         "0.3651300775901415"
        ],
        [
         "60",
         "0.3600588265125006"
        ],
        [
         "58",
         "0.3042750646584512"
        ],
        [
         "59",
         "0.21806379633855671"
        ],
        [
         "62",
         "0.18256503879507074"
        ],
        [
         "64",
         "0.14706628125158477"
        ]
       ],
       "shape": {
        "columns": 1,
        "rows": 104
       }
      },
      "text/plain": [
       "age\n",
       "18      7.723515\n",
       "17      6.947614\n",
       "19      6.384705\n",
       "20      6.242710\n",
       "21      6.166641\n",
       "          ...   \n",
       "266     0.005071\n",
       "191     0.005071\n",
       "78      0.005071\n",
       "1964    0.005071\n",
       "118     0.005071\n",
       "Name: proportion, Length: 104, dtype: float64"
      ]
     },
     "execution_count": 70,
     "metadata": {},
     "output_type": "execute_result"
    }
   ],
   "source": [
    "df['age'].value_counts(normalize=True) * 100"
   ]
  },
  {
   "cell_type": "code",
   "execution_count": 71,
   "id": "bb44828f",
   "metadata": {},
   "outputs": [
    {
     "name": "stderr",
     "output_type": "stream",
     "text": [
      "C:\\Users\\modri\\AppData\\Local\\Temp\\ipykernel_13856\\687481317.py:5: UserWarning: FigureCanvasAgg is non-interactive, and thus cannot be shown\n",
      "  plt.show()\n"
     ]
    }
   ],
   "source": [
    "age_percent = df['age'].value_counts(normalize=True).mul(100).sort_values(ascending=False).head(10)\n",
    "age_percent.plot(kind='bar')\n",
    "plt.xlabel('Age')\n",
    "plt.ylabel('Count')\n",
    "plt.show()"
   ]
  },
  {
   "cell_type": "code",
   "execution_count": 72,
   "id": "0b49ee4a",
   "metadata": {},
   "outputs": [
    {
     "data": {
      "application/vnd.microsoft.datawrangler.viewer.v0+json": {
       "columns": [
        {
         "name": "engnat",
         "rawType": "int64",
         "type": "integer"
        },
        {
         "name": "count",
         "rawType": "int64",
         "type": "integer"
        }
       ],
       "ref": "fc7c7719-1117-4fd3-9dcf-020a57c37b63",
       "rows": [
        [
         "1",
         "12379"
        ],
        [
         "2",
         "7270"
        ],
        [
         "0",
         "70"
        ]
       ],
       "shape": {
        "columns": 1,
        "rows": 3
       }
      },
      "text/plain": [
       "engnat\n",
       "1    12379\n",
       "2     7270\n",
       "0       70\n",
       "Name: count, dtype: int64"
      ]
     },
     "execution_count": 72,
     "metadata": {},
     "output_type": "execute_result"
    }
   ],
   "source": [
    "df['engnat'].value_counts()"
   ]
  },
  {
   "cell_type": "code",
   "execution_count": 73,
   "id": "206d557f",
   "metadata": {},
   "outputs": [
    {
     "data": {
      "application/vnd.microsoft.datawrangler.viewer.v0+json": {
       "columns": [
        {
         "name": "engnat",
         "rawType": "int64",
         "type": "integer"
        },
        {
         "name": "proportion",
         "rawType": "float64",
         "type": "float"
        }
       ],
       "ref": "806f8e8f-2167-4c52-be04-c695fcfc3b90",
       "rows": [
        [
         "1",
         "62.777017090116125"
        ],
        [
         "2",
         "36.86799533444901"
        ],
        [
         "0",
         "0.3549875754348598"
        ]
       ],
       "shape": {
        "columns": 1,
        "rows": 3
       }
      },
      "text/plain": [
       "engnat\n",
       "1    62.777017\n",
       "2    36.867995\n",
       "0     0.354988\n",
       "Name: proportion, dtype: float64"
      ]
     },
     "execution_count": 73,
     "metadata": {},
     "output_type": "execute_result"
    }
   ],
   "source": [
    "df['engnat'].value_counts(normalize=True) * 100"
   ]
  },
  {
   "cell_type": "code",
   "execution_count": 74,
   "id": "015ce2ea",
   "metadata": {},
   "outputs": [
    {
     "name": "stderr",
     "output_type": "stream",
     "text": [
      "C:\\Users\\modri\\AppData\\Local\\Temp\\ipykernel_13856\\2526447259.py:5: UserWarning: FigureCanvasAgg is non-interactive, and thus cannot be shown\n",
      "  plt.show()\n"
     ]
    }
   ],
   "source": [
    "df['gender'].value_counts().plot(kind='bar')\n",
    "plt.xlabel('Gender')\n",
    "plt.ylabel('Count')\n",
    "plt.title('Gender Distribution')\n",
    "plt.show()"
   ]
  },
  {
   "cell_type": "code",
   "execution_count": 75,
   "id": "4f24f496",
   "metadata": {},
   "outputs": [
    {
     "data": {
      "application/vnd.microsoft.datawrangler.viewer.v0+json": {
       "columns": [
        {
         "name": "gender",
         "rawType": "int64",
         "type": "integer"
        },
        {
         "name": "count",
         "rawType": "int64",
         "type": "integer"
        }
       ],
       "ref": "7f5b8e09-32c6-4c8d-b4d4-d0ea2e896032",
       "rows": [
        [
         "2",
         "11985"
        ],
        [
         "1",
         "7608"
        ],
        [
         "3",
         "102"
        ],
        [
         "0",
         "24"
        ]
       ],
       "shape": {
        "columns": 1,
        "rows": 4
       }
      },
      "text/plain": [
       "gender\n",
       "2    11985\n",
       "1     7608\n",
       "3      102\n",
       "0       24\n",
       "Name: count, dtype: int64"
      ]
     },
     "execution_count": 75,
     "metadata": {},
     "output_type": "execute_result"
    }
   ],
   "source": [
    "df['gender'].value_counts()"
   ]
  },
  {
   "cell_type": "code",
   "execution_count": 76,
   "id": "6de953b4",
   "metadata": {},
   "outputs": [
    {
     "data": {
      "application/vnd.microsoft.datawrangler.viewer.v0+json": {
       "columns": [
        {
         "name": "gender",
         "rawType": "int64",
         "type": "integer"
        },
        {
         "name": "proportion",
         "rawType": "float64",
         "type": "float"
        }
       ],
       "ref": "384a054a-42f4-427d-9a5f-3eaebbffd31c",
       "rows": [
        [
         "2",
         "60.77894416552564"
        ],
        [
         "1",
         "38.58207819869162"
        ],
        [
         "3",
         "0.517267609919367"
        ],
        [
         "0",
         "0.12171002586338049"
        ]
       ],
       "shape": {
        "columns": 1,
        "rows": 4
       }
      },
      "text/plain": [
       "gender\n",
       "2    60.778944\n",
       "1    38.582078\n",
       "3     0.517268\n",
       "0     0.121710\n",
       "Name: proportion, dtype: float64"
      ]
     },
     "execution_count": 76,
     "metadata": {},
     "output_type": "execute_result"
    }
   ],
   "source": [
    "df['gender'].value_counts(normalize=True) * 100"
   ]
  },
  {
   "cell_type": "code",
   "execution_count": 77,
   "id": "57ccb273",
   "metadata": {},
   "outputs": [
    {
     "data": {
      "application/vnd.microsoft.datawrangler.viewer.v0+json": {
       "columns": [
        {
         "name": "hand",
         "rawType": "int64",
         "type": "integer"
        },
        {
         "name": "count",
         "rawType": "int64",
         "type": "integer"
        }
       ],
       "ref": "1ff6226d-33f4-45cc-a193-eaa9dbcb533a",
       "rows": [
        [
         "1",
         "17424"
        ],
        [
         "2",
         "1724"
        ],
        [
         "3",
         "471"
        ],
        [
         "0",
         "100"
        ]
       ],
       "shape": {
        "columns": 1,
        "rows": 4
       }
      },
      "text/plain": [
       "hand\n",
       "1    17424\n",
       "2     1724\n",
       "3      471\n",
       "0      100\n",
       "Name: count, dtype: int64"
      ]
     },
     "execution_count": 77,
     "metadata": {},
     "output_type": "execute_result"
    }
   ],
   "source": [
    "df['hand'].value_counts()"
   ]
  },
  {
   "cell_type": "code",
   "execution_count": 78,
   "id": "00e7d32b",
   "metadata": {},
   "outputs": [
    {
     "data": {
      "application/vnd.microsoft.datawrangler.viewer.v0+json": {
       "columns": [
        {
         "name": "hand",
         "rawType": "int64",
         "type": "integer"
        },
        {
         "name": "proportion",
         "rawType": "float64",
         "type": "float"
        }
       ],
       "ref": "e3f4e6a2-5777-4935-b607-fd8e8c5d1f45",
       "rows": [
        [
         "1",
         "88.36147877681424"
        ],
        [
         "2",
         "8.742836857852833"
        ],
        [
         "3",
         "2.388559257568842"
        ],
        [
         "0",
         "0.5071251077640855"
        ]
       ],
       "shape": {
        "columns": 1,
        "rows": 4
       }
      },
      "text/plain": [
       "hand\n",
       "1    88.361479\n",
       "2     8.742837\n",
       "3     2.388559\n",
       "0     0.507125\n",
       "Name: proportion, dtype: float64"
      ]
     },
     "execution_count": 78,
     "metadata": {},
     "output_type": "execute_result"
    }
   ],
   "source": [
    "df['hand'].value_counts(normalize=True) * 100"
   ]
  },
  {
   "cell_type": "markdown",
   "id": "a008286c",
   "metadata": {},
   "source": [
    "### DataFrame - df_career"
   ]
  },
  {
   "cell_type": "code",
   "execution_count": 79,
   "id": "cc8d80c7",
   "metadata": {},
   "outputs": [
    {
     "data": {
      "text/plain": [
       "(105, 11)"
      ]
     },
     "execution_count": 79,
     "metadata": {},
     "output_type": "execute_result"
    }
   ],
   "source": [
    "df_career.shape"
   ]
  },
  {
   "cell_type": "code",
   "execution_count": 80,
   "id": "a2280510",
   "metadata": {},
   "outputs": [
    {
     "name": "stdout",
     "output_type": "stream",
     "text": [
      "<class 'pandas.core.frame.DataFrame'>\n",
      "RangeIndex: 105 entries, 0 to 104\n",
      "Data columns (total 11 columns):\n",
      " #   Column               Non-Null Count  Dtype  \n",
      "---  ------               --------------  -----  \n",
      " 0   O_score              105 non-null    float64\n",
      " 1   C_score              105 non-null    float64\n",
      " 2   E_score              105 non-null    float64\n",
      " 3   A_score              105 non-null    float64\n",
      " 4   N_score              105 non-null    float64\n",
      " 5   Numerical Aptitude   105 non-null    float64\n",
      " 6   Spatial Aptitude     105 non-null    float64\n",
      " 7   Perceptual Aptitude  105 non-null    float64\n",
      " 8   Abstract Reasoning   105 non-null    float64\n",
      " 9   Verbal Reasoning     105 non-null    float64\n",
      " 10  Career               105 non-null    object \n",
      "dtypes: float64(10), object(1)\n",
      "memory usage: 9.2+ KB\n"
     ]
    }
   ],
   "source": [
    "df_career.info()"
   ]
  },
  {
   "cell_type": "code",
   "execution_count": 81,
   "id": "052f359e",
   "metadata": {},
   "outputs": [
    {
     "data": {
      "application/vnd.microsoft.datawrangler.viewer.v0+json": {
       "columns": [
        {
         "name": "index",
         "rawType": "object",
         "type": "string"
        },
        {
         "name": "0",
         "rawType": "int64",
         "type": "integer"
        }
       ],
       "ref": "dda5d0f5-9fab-4071-92a6-210898f42d71",
       "rows": [
        [
         "O_score",
         "0"
        ],
        [
         "C_score",
         "0"
        ],
        [
         "E_score",
         "0"
        ],
        [
         "A_score",
         "0"
        ],
        [
         "N_score",
         "0"
        ],
        [
         "Numerical Aptitude",
         "0"
        ],
        [
         "Spatial Aptitude",
         "0"
        ],
        [
         "Perceptual Aptitude",
         "0"
        ],
        [
         "Abstract Reasoning",
         "0"
        ],
        [
         "Verbal Reasoning",
         "0"
        ],
        [
         "Career",
         "0"
        ]
       ],
       "shape": {
        "columns": 1,
        "rows": 11
       }
      },
      "text/plain": [
       "O_score                0\n",
       "C_score                0\n",
       "E_score                0\n",
       "A_score                0\n",
       "N_score                0\n",
       "Numerical Aptitude     0\n",
       "Spatial Aptitude       0\n",
       "Perceptual Aptitude    0\n",
       "Abstract Reasoning     0\n",
       "Verbal Reasoning       0\n",
       "Career                 0\n",
       "dtype: int64"
      ]
     },
     "execution_count": 81,
     "metadata": {},
     "output_type": "execute_result"
    }
   ],
   "source": [
    "df_career.isnull().sum()"
   ]
  },
  {
   "cell_type": "code",
   "execution_count": 82,
   "id": "63488aed",
   "metadata": {},
   "outputs": [
    {
     "data": {
      "application/vnd.microsoft.datawrangler.viewer.v0+json": {
       "columns": [
        {
         "name": "index",
         "rawType": "object",
         "type": "string"
        },
        {
         "name": "O_score",
         "rawType": "float64",
         "type": "float"
        },
        {
         "name": "C_score",
         "rawType": "float64",
         "type": "float"
        },
        {
         "name": "E_score",
         "rawType": "float64",
         "type": "float"
        },
        {
         "name": "A_score",
         "rawType": "float64",
         "type": "float"
        },
        {
         "name": "N_score",
         "rawType": "float64",
         "type": "float"
        },
        {
         "name": "Numerical Aptitude",
         "rawType": "float64",
         "type": "float"
        },
        {
         "name": "Spatial Aptitude",
         "rawType": "float64",
         "type": "float"
        },
        {
         "name": "Perceptual Aptitude",
         "rawType": "float64",
         "type": "float"
        },
        {
         "name": "Abstract Reasoning",
         "rawType": "float64",
         "type": "float"
        },
        {
         "name": "Verbal Reasoning",
         "rawType": "float64",
         "type": "float"
        }
       ],
       "ref": "b3a0731f-4b2c-469a-80aa-8c6faeef5b5b",
       "rows": [
        [
         "count",
         "105.0",
         "105.0",
         "105.0",
         "105.0",
         "105.0",
         "105.0",
         "105.0",
         "105.0",
         "105.0",
         "105.0"
        ],
        [
         "mean",
         "7.294857142857144",
         "7.538285714285715",
         "5.5489523809523815",
         "6.863714285714286",
         "5.466380952380953",
         "5.93961904761905",
         "4.376476190476191",
         "5.163809523809525",
         "5.724190476190478",
         "6.794380952380953"
        ],
        [
         "std",
         "1.398484835514792",
         "1.2150051101054749",
         "1.643137198617283",
         "1.5157780796716867",
         "0.8689263089600466",
         "1.9583622100590958",
         "1.9484091049605163",
         "1.7472133752792127",
         "1.872926946782855",
         "1.4952726300227788"
        ],
        [
         "min",
         "2.67",
         "3.56",
         "2.89",
         "3.23",
         "2.89",
         "2.89",
         "2.34",
         "3.01",
         "3.01",
         "3.45"
        ],
        [
         "25%",
         "6.67",
         "7.34",
         "4.23",
         "5.45",
         "4.67",
         "4.45",
         "3.12",
         "3.67",
         "4.34",
         "5.45"
        ],
        [
         "50%",
         "7.23",
         "7.67",
         "5.23",
         "6.45",
         "5.45",
         "5.12",
         "3.45",
         "4.45",
         "4.67",
         "7.45"
        ],
        [
         "75%",
         "8.67",
         "8.34",
         "7.01",
         "8.12",
         "6.01",
         "7.78",
         "4.45",
         "6.78",
         "7.67",
         "8.12"
        ],
        [
         "max",
         "9.45",
         "9.45",
         "9.34",
         "9.34",
         "8.12",
         "9.45",
         "9.23",
         "9.34",
         "9.34",
         "9.34"
        ]
       ],
       "shape": {
        "columns": 10,
        "rows": 8
       }
      },
      "text/html": [
       "<div>\n",
       "<style scoped>\n",
       "    .dataframe tbody tr th:only-of-type {\n",
       "        vertical-align: middle;\n",
       "    }\n",
       "\n",
       "    .dataframe tbody tr th {\n",
       "        vertical-align: top;\n",
       "    }\n",
       "\n",
       "    .dataframe thead th {\n",
       "        text-align: right;\n",
       "    }\n",
       "</style>\n",
       "<table border=\"1\" class=\"dataframe\">\n",
       "  <thead>\n",
       "    <tr style=\"text-align: right;\">\n",
       "      <th></th>\n",
       "      <th>O_score</th>\n",
       "      <th>C_score</th>\n",
       "      <th>E_score</th>\n",
       "      <th>A_score</th>\n",
       "      <th>N_score</th>\n",
       "      <th>Numerical Aptitude</th>\n",
       "      <th>Spatial Aptitude</th>\n",
       "      <th>Perceptual Aptitude</th>\n",
       "      <th>Abstract Reasoning</th>\n",
       "      <th>Verbal Reasoning</th>\n",
       "    </tr>\n",
       "  </thead>\n",
       "  <tbody>\n",
       "    <tr>\n",
       "      <th>count</th>\n",
       "      <td>105.000000</td>\n",
       "      <td>105.000000</td>\n",
       "      <td>105.000000</td>\n",
       "      <td>105.000000</td>\n",
       "      <td>105.000000</td>\n",
       "      <td>105.000000</td>\n",
       "      <td>105.000000</td>\n",
       "      <td>105.000000</td>\n",
       "      <td>105.000000</td>\n",
       "      <td>105.000000</td>\n",
       "    </tr>\n",
       "    <tr>\n",
       "      <th>mean</th>\n",
       "      <td>7.294857</td>\n",
       "      <td>7.538286</td>\n",
       "      <td>5.548952</td>\n",
       "      <td>6.863714</td>\n",
       "      <td>5.466381</td>\n",
       "      <td>5.939619</td>\n",
       "      <td>4.376476</td>\n",
       "      <td>5.163810</td>\n",
       "      <td>5.724190</td>\n",
       "      <td>6.794381</td>\n",
       "    </tr>\n",
       "    <tr>\n",
       "      <th>std</th>\n",
       "      <td>1.398485</td>\n",
       "      <td>1.215005</td>\n",
       "      <td>1.643137</td>\n",
       "      <td>1.515778</td>\n",
       "      <td>0.868926</td>\n",
       "      <td>1.958362</td>\n",
       "      <td>1.948409</td>\n",
       "      <td>1.747213</td>\n",
       "      <td>1.872927</td>\n",
       "      <td>1.495273</td>\n",
       "    </tr>\n",
       "    <tr>\n",
       "      <th>min</th>\n",
       "      <td>2.670000</td>\n",
       "      <td>3.560000</td>\n",
       "      <td>2.890000</td>\n",
       "      <td>3.230000</td>\n",
       "      <td>2.890000</td>\n",
       "      <td>2.890000</td>\n",
       "      <td>2.340000</td>\n",
       "      <td>3.010000</td>\n",
       "      <td>3.010000</td>\n",
       "      <td>3.450000</td>\n",
       "    </tr>\n",
       "    <tr>\n",
       "      <th>25%</th>\n",
       "      <td>6.670000</td>\n",
       "      <td>7.340000</td>\n",
       "      <td>4.230000</td>\n",
       "      <td>5.450000</td>\n",
       "      <td>4.670000</td>\n",
       "      <td>4.450000</td>\n",
       "      <td>3.120000</td>\n",
       "      <td>3.670000</td>\n",
       "      <td>4.340000</td>\n",
       "      <td>5.450000</td>\n",
       "    </tr>\n",
       "    <tr>\n",
       "      <th>50%</th>\n",
       "      <td>7.230000</td>\n",
       "      <td>7.670000</td>\n",
       "      <td>5.230000</td>\n",
       "      <td>6.450000</td>\n",
       "      <td>5.450000</td>\n",
       "      <td>5.120000</td>\n",
       "      <td>3.450000</td>\n",
       "      <td>4.450000</td>\n",
       "      <td>4.670000</td>\n",
       "      <td>7.450000</td>\n",
       "    </tr>\n",
       "    <tr>\n",
       "      <th>75%</th>\n",
       "      <td>8.670000</td>\n",
       "      <td>8.340000</td>\n",
       "      <td>7.010000</td>\n",
       "      <td>8.120000</td>\n",
       "      <td>6.010000</td>\n",
       "      <td>7.780000</td>\n",
       "      <td>4.450000</td>\n",
       "      <td>6.780000</td>\n",
       "      <td>7.670000</td>\n",
       "      <td>8.120000</td>\n",
       "    </tr>\n",
       "    <tr>\n",
       "      <th>max</th>\n",
       "      <td>9.450000</td>\n",
       "      <td>9.450000</td>\n",
       "      <td>9.340000</td>\n",
       "      <td>9.340000</td>\n",
       "      <td>8.120000</td>\n",
       "      <td>9.450000</td>\n",
       "      <td>9.230000</td>\n",
       "      <td>9.340000</td>\n",
       "      <td>9.340000</td>\n",
       "      <td>9.340000</td>\n",
       "    </tr>\n",
       "  </tbody>\n",
       "</table>\n",
       "</div>"
      ],
      "text/plain": [
       "          O_score     C_score     E_score     A_score     N_score  \\\n",
       "count  105.000000  105.000000  105.000000  105.000000  105.000000   \n",
       "mean     7.294857    7.538286    5.548952    6.863714    5.466381   \n",
       "std      1.398485    1.215005    1.643137    1.515778    0.868926   \n",
       "min      2.670000    3.560000    2.890000    3.230000    2.890000   \n",
       "25%      6.670000    7.340000    4.230000    5.450000    4.670000   \n",
       "50%      7.230000    7.670000    5.230000    6.450000    5.450000   \n",
       "75%      8.670000    8.340000    7.010000    8.120000    6.010000   \n",
       "max      9.450000    9.450000    9.340000    9.340000    8.120000   \n",
       "\n",
       "       Numerical Aptitude  Spatial Aptitude  Perceptual Aptitude  \\\n",
       "count          105.000000        105.000000           105.000000   \n",
       "mean             5.939619          4.376476             5.163810   \n",
       "std              1.958362          1.948409             1.747213   \n",
       "min              2.890000          2.340000             3.010000   \n",
       "25%              4.450000          3.120000             3.670000   \n",
       "50%              5.120000          3.450000             4.450000   \n",
       "75%              7.780000          4.450000             6.780000   \n",
       "max              9.450000          9.230000             9.340000   \n",
       "\n",
       "       Abstract Reasoning  Verbal Reasoning  \n",
       "count          105.000000        105.000000  \n",
       "mean             5.724190          6.794381  \n",
       "std              1.872927          1.495273  \n",
       "min              3.010000          3.450000  \n",
       "25%              4.340000          5.450000  \n",
       "50%              4.670000          7.450000  \n",
       "75%              7.670000          8.120000  \n",
       "max              9.340000          9.340000  "
      ]
     },
     "execution_count": 82,
     "metadata": {},
     "output_type": "execute_result"
    }
   ],
   "source": [
    "df_career.describe()"
   ]
  },
  {
   "cell_type": "code",
   "execution_count": 83,
   "id": "e4dfe2c8",
   "metadata": {},
   "outputs": [
    {
     "data": {
      "application/vnd.microsoft.datawrangler.viewer.v0+json": {
       "columns": [
        {
         "name": "Career",
         "rawType": "object",
         "type": "string"
        },
        {
         "name": "count",
         "rawType": "int64",
         "type": "integer"
        }
       ],
       "ref": "fa6d9bdf-dcb1-4567-a6cc-8c3c8678e9e4",
       "rows": [
        [
         "Environmental Scientist",
         "2"
        ],
        [
         "Accountant",
         "1"
        ],
        [
         "Salesperson",
         "1"
        ],
        [
         "Graphic Designer",
         "1"
        ],
        [
         "Teacher",
         "1"
        ],
        [
         "Architect",
         "1"
        ],
        [
         "Nurse",
         "1"
        ],
        [
         "Research Scientist",
         "1"
        ],
        [
         "Software Developer",
         "1"
        ],
        [
         "Psychologist",
         "1"
        ],
        [
         "Marketing Manager",
         "1"
        ],
        [
         "Chef",
         "1"
        ],
        [
         "Artist",
         "1"
        ],
        [
         "Human Resources Manager",
         "1"
        ],
        [
         "Construction Engineer",
         "1"
        ],
        [
         "Physician",
         "1"
        ],
        [
         "Journalist",
         "1"
        ],
        [
         "Astronomer",
         "1"
        ],
        [
         "Biologist",
         "1"
        ],
        [
         "Financial Analyst",
         "1"
        ],
        [
         "Event Planner",
         "1"
        ],
        [
         "Real Estate Agent",
         "1"
        ],
        [
         "Lawyer",
         "1"
        ],
        [
         "IT Support Specialist",
         "1"
        ],
        [
         "Fashion Designer",
         "1"
        ],
        [
         "Marketing Coordinator",
         "1"
        ],
        [
         "Biomedical Engineer",
         "1"
        ],
        [
         "Event Photographer",
         "1"
        ],
        [
         "Data Analyst",
         "1"
        ],
        [
         "Pharmacist",
         "1"
        ],
        [
         "Social Worker",
         "1"
        ],
        [
         "Financial Planner",
         "1"
        ],
        [
         "Biotechnologist",
         "1"
        ],
        [
         "HR Recruiter",
         "1"
        ],
        [
         "Software Quality Assurance Tester",
         "1"
        ],
        [
         "Elementary School Teacher",
         "1"
        ],
        [
         "Industrial Engineer",
         "1"
        ],
        [
         "Market Research Analyst",
         "1"
        ],
        [
         "Financial Auditor",
         "1"
        ],
        [
         "Musician",
         "1"
        ],
        [
         "Police Detective",
         "1"
        ],
        [
         "Marketing Copywriter",
         "1"
        ],
        [
         "Zoologist",
         "1"
        ],
        [
         "Speech Therapist",
         "1"
        ],
        [
         "Mechanical Engineer",
         "1"
        ],
        [
         "Forensic Scientist",
         "1"
        ],
        [
         "Social Media Manager",
         "1"
        ],
        [
         "Geologist",
         "1"
        ],
        [
         "Web Developer",
         "1"
        ],
        [
         "Wildlife Biologist",
         "1"
        ]
       ],
       "shape": {
        "columns": 1,
        "rows": 104
       }
      },
      "text/plain": [
       "Career\n",
       "Environmental Scientist                  2\n",
       "Accountant                               1\n",
       "Salesperson                              1\n",
       "Graphic Designer                         1\n",
       "Teacher                                  1\n",
       "                                        ..\n",
       "Foreign Service Officer                  1\n",
       "Customs and Border Protection Officer    1\n",
       "Civil Engineer                           1\n",
       "Robotics Engineer                        1\n",
       "Electronics Design Engineer              1\n",
       "Name: count, Length: 104, dtype: int64"
      ]
     },
     "execution_count": 83,
     "metadata": {},
     "output_type": "execute_result"
    }
   ],
   "source": [
    "df_career['Career'].value_counts()"
   ]
  },
  {
   "cell_type": "markdown",
   "id": "45e0ea6a",
   "metadata": {},
   "source": [
    "## Data Cleaning"
   ]
  },
  {
   "cell_type": "markdown",
   "id": "1dfce030",
   "metadata": {},
   "source": [
    "### DataFrame - df"
   ]
  },
  {
   "cell_type": "code",
   "execution_count": 84,
   "id": "03b1044e",
   "metadata": {},
   "outputs": [],
   "source": [
    "df = df.drop(index=19064)"
   ]
  },
  {
   "cell_type": "code",
   "execution_count": 85,
   "id": "9dcc7df7",
   "metadata": {},
   "outputs": [],
   "source": [
    "# Replace '(nu' with NaN in the specific column (e.g., 'country')\n",
    "df['country'] = df['country'].replace('(nu', np.nan)"
   ]
  },
  {
   "cell_type": "code",
   "execution_count": 86,
   "id": "56d70377",
   "metadata": {},
   "outputs": [
    {
     "name": "stdout",
     "output_type": "stream",
     "text": [
      "0\n"
     ]
    }
   ],
   "source": [
    "# Step 1: Get country proportions (probabilities)\n",
    "country_probs = df['country'].value_counts(normalize=True)\n",
    "\n",
    "# Step 2: Find indices of missing values\n",
    "missing_indices = df[df['country'].isnull()].index\n",
    "\n",
    "# Step 3: Randomly assign countries to missing values based on probabilities\n",
    "np.random.seed(42)  # For reproducibility\n",
    "imputed_values = np.random.choice(country_probs.index, size=len(missing_indices), p=country_probs.values)\n",
    "\n",
    "# Step 4: Fill the missing values\n",
    "df.loc[missing_indices, 'country'] = imputed_values\n",
    "\n",
    "# Check results\n",
    "print(df['country'].isnull().sum())  # Should be 0"
   ]
  },
  {
   "cell_type": "code",
   "execution_count": 87,
   "id": "14fc0134",
   "metadata": {},
   "outputs": [
    {
     "data": {
      "application/vnd.microsoft.datawrangler.viewer.v0+json": {
       "columns": [
        {
         "name": "country",
         "rawType": "object",
         "type": "string"
        },
        {
         "name": "count",
         "rawType": "int64",
         "type": "integer"
        }
       ],
       "ref": "36ef0ca9-73f0-48c3-a29a-54955c153c62",
       "rows": [
        [
         "US",
         "8926"
        ],
        [
         "GB",
         "1561"
        ],
        [
         "IN",
         "1489"
        ],
        [
         "AU",
         "1001"
        ],
        [
         "CA",
         "942"
        ],
        [
         "PH",
         "662"
        ],
        [
         "IT",
         "279"
        ],
        [
         "MY",
         "251"
        ],
        [
         "PK",
         "227"
        ],
        [
         "DE",
         "193"
        ],
        [
         "ZA",
         "182"
        ],
        [
         "BR",
         "178"
        ],
        [
         "ID",
         "177"
        ],
        [
         "SE",
         "173"
        ],
        [
         "NZ",
         "158"
        ],
        [
         "NO",
         "150"
        ],
        [
         "RO",
         "136"
        ],
        [
         "NL",
         "136"
        ],
        [
         "SG",
         "135"
        ],
        [
         "FR",
         "132"
        ],
        [
         "DK",
         "124"
        ],
        [
         "IE",
         "109"
        ],
        [
         "AE",
         "100"
        ],
        [
         "FI",
         "92"
        ],
        [
         "PT",
         "91"
        ],
        [
         "BE",
         "90"
        ],
        [
         "RS",
         "87"
        ],
        [
         "GR",
         "86"
        ],
        [
         "MX",
         "85"
        ],
        [
         "ES",
         "83"
        ],
        [
         "PL",
         "80"
        ],
        [
         "TR",
         "71"
        ],
        [
         "EG",
         "50"
        ],
        [
         "BD",
         "45"
        ],
        [
         "SA",
         "45"
        ],
        [
         "KE",
         "44"
        ],
        [
         "HK",
         "44"
        ],
        [
         "BG",
         "43"
        ],
        [
         "TH",
         "42"
        ],
        [
         "AR",
         "42"
        ],
        [
         "LB",
         "41"
        ],
        [
         "HR",
         "41"
        ],
        [
         "CN",
         "40"
        ],
        [
         "CH",
         "40"
        ],
        [
         "JP",
         "38"
        ],
        [
         "NG",
         "36"
        ],
        [
         "SI",
         "35"
        ],
        [
         "HU",
         "35"
        ],
        [
         "LK",
         "31"
        ],
        [
         "KR",
         "30"
        ]
       ],
       "shape": {
        "columns": 1,
        "rows": 157
       }
      },
      "text/plain": [
       "country\n",
       "US    8926\n",
       "GB    1561\n",
       "IN    1489\n",
       "AU    1001\n",
       "CA     942\n",
       "      ... \n",
       "CV       1\n",
       "MR       1\n",
       "UZ       1\n",
       "TC       1\n",
       "KG       1\n",
       "Name: count, Length: 157, dtype: int64"
      ]
     },
     "execution_count": 87,
     "metadata": {},
     "output_type": "execute_result"
    }
   ],
   "source": [
    "df['country'].value_counts()"
   ]
  },
  {
   "cell_type": "code",
   "execution_count": 88,
   "id": "a9b845cf",
   "metadata": {},
   "outputs": [],
   "source": [
    "df['e_score'] = df[e_columns].sum(axis=1)\n",
    "df['n_score'] = df[n_columns].sum(axis=1)\n",
    "df['a_score'] = df[a_columns].sum(axis=1)\n",
    "df['c_score'] = df[c_columns].sum(axis=1)\n",
    "df['o_score'] = df[o_columns].sum(axis=1)"
   ]
  },
  {
   "cell_type": "code",
   "execution_count": 89,
   "id": "fa84b09b",
   "metadata": {},
   "outputs": [],
   "source": [
    "df['e_score_percent'] = df['e_score'] * 100 / 50\n",
    "df['n_score_percent'] = df['n_score'] * 100 / 50\n",
    "df['a_score_percent'] = df['a_score'] * 100 / 50\n",
    "df['c_score_percent'] = df['c_score'] * 100 / 50\n",
    "df['o_score_percent'] = df['o_score'] * 100 / 50\n"
   ]
  },
  {
   "cell_type": "code",
   "execution_count": 90,
   "id": "0e35d66a",
   "metadata": {},
   "outputs": [],
   "source": [
    "\n",
    "# List of Big 5 columns\n",
    "big5_columns = ['e_score', 'n_score', 'a_score', 'c_score', 'o_score']\n",
    "\n",
    "# Function to compute percentile rank for a given series\n",
    "def compute_percentiles(series):\n",
    "    return series.apply(lambda x: percentileofscore(series, x))\n",
    "\n",
    "# Apply to each Big 5 column\n",
    "for col in big5_columns:\n",
    "    df[f'{col}_percentile'] = compute_percentiles(df[col])\n"
   ]
  },
  {
   "cell_type": "code",
   "execution_count": 91,
   "id": "5bed8c7c",
   "metadata": {},
   "outputs": [],
   "source": [
    "df['e_score_percentile'] = df['e_score_percentile'].round(1)\n",
    "df['n_score_percentile'] = df['n_score_percentile'].round(1)\n",
    "df['a_score_percentile'] = df['a_score_percentile'].round(1)\n",
    "df['c_score_percentile'] = df['c_score_percentile'].round(1)\n",
    "df['o_score_percentile'] = df['o_score_percentile'].round(1)"
   ]
  },
  {
   "cell_type": "code",
   "execution_count": 92,
   "id": "fe4964bb",
   "metadata": {},
   "outputs": [
    {
     "data": {
      "application/vnd.microsoft.datawrangler.viewer.v0+json": {
       "columns": [
        {
         "name": "index",
         "rawType": "object",
         "type": "string"
        },
        {
         "name": "e_score",
         "rawType": "float64",
         "type": "float"
        }
       ],
       "ref": "e58904ed-1167-411d-be4d-b23f64f9fd16",
       "rows": [
        [
         "count",
         "19718.0"
        ],
        [
         "mean",
         "30.767217770564965"
        ],
        [
         "std",
         "3.515660481233628"
        ],
        [
         "min",
         "10.0"
        ],
        [
         "25%",
         "29.0"
        ],
        [
         "50%",
         "31.0"
        ],
        [
         "75%",
         "33.0"
        ],
        [
         "max",
         "50.0"
        ]
       ],
       "shape": {
        "columns": 1,
        "rows": 8
       }
      },
      "text/plain": [
       "count    19718.000000\n",
       "mean        30.767218\n",
       "std          3.515660\n",
       "min         10.000000\n",
       "25%         29.000000\n",
       "50%         31.000000\n",
       "75%         33.000000\n",
       "max         50.000000\n",
       "Name: e_score, dtype: float64"
      ]
     },
     "execution_count": 92,
     "metadata": {},
     "output_type": "execute_result"
    }
   ],
   "source": [
    "df['e_score'].describe()"
   ]
  },
  {
   "cell_type": "code",
   "execution_count": 93,
   "id": "ff98ef4f",
   "metadata": {},
   "outputs": [],
   "source": [
    "df.rename(columns={'e_score': 'E_score'}, inplace=True)\n",
    "df.rename(columns={'n_score': 'N_score'}, inplace=True)\n",
    "df.rename(columns={'a_score': 'A_score'}, inplace=True)\n",
    "df.rename(columns={'c_score': 'C_score'}, inplace=True)\n",
    "df.rename(columns={'o_score': 'O_score'}, inplace=True)"
   ]
  },
  {
   "cell_type": "code",
   "execution_count": 94,
   "id": "0fedb8c6",
   "metadata": {},
   "outputs": [],
   "source": [
    "# Get min and max from df\n",
    "old_min, old_max = 10, 50  # Given explicitly\n",
    "\n",
    "# Get min and max from df_career\n",
    "new_min = df_career['E_score'].min()\n",
    "new_max = df_career['E_score'].max()\n",
    "\n",
    "# Rescaling function\n",
    "def rescale(x):\n",
    "    return ((x - old_min) / (old_max - old_min)) * (new_max - new_min) + new_min\n",
    "\n",
    "# Apply the function to df['E_score'] and create the new column\n",
    "df['E_score_adjusted'] = df['E_score'].apply(rescale).round(2)\n"
   ]
  },
  {
   "cell_type": "code",
   "execution_count": 95,
   "id": "2e1432fa",
   "metadata": {},
   "outputs": [],
   "source": [
    "# Get min and max from df\n",
    "old_min, old_max = 10, 50  # Given explicitly\n",
    "\n",
    "# Get min and max from df_career\n",
    "new_min = df_career['N_score'].min()\n",
    "new_max = df_career['N_score'].max()\n",
    "\n",
    "# Rescaling function\n",
    "def rescale(x):\n",
    "    return ((x - old_min) / (old_max - old_min)) * (new_max - new_min) + new_min\n",
    "\n",
    "# Apply the function to df['N_score'] and create the new column\n",
    "df['N_score_adjusted'] = df['N_score'].apply(rescale).round(2)"
   ]
  },
  {
   "cell_type": "code",
   "execution_count": 96,
   "id": "a4684530",
   "metadata": {},
   "outputs": [],
   "source": [
    "# Get min and max from df\n",
    "old_min, old_max = 10, 50  # Given explicitly\n",
    "\n",
    "# Get min and max from df_career\n",
    "new_min = df_career['A_score'].min()\n",
    "new_max = df_career['A_score'].max()\n",
    "\n",
    "# Rescaling function\n",
    "def rescale(x):\n",
    "    return ((x - old_min) / (old_max - old_min)) * (new_max - new_min) + new_min\n",
    "\n",
    "# Apply the function to df['A_score'] and create the new column\n",
    "df['A_score_adjusted'] = df['A_score'].apply(rescale).round(2)"
   ]
  },
  {
   "cell_type": "code",
   "execution_count": 97,
   "id": "a626a78f",
   "metadata": {},
   "outputs": [],
   "source": [
    "# Get min and max from df\n",
    "old_min, old_max = 10, 50  # Given explicitly\n",
    "\n",
    "# Get min and max from df_career\n",
    "new_min = df_career['C_score'].min()\n",
    "new_max = df_career['C_score'].max()\n",
    "\n",
    "# Rescaling function\n",
    "def rescale(x):\n",
    "    return ((x - old_min) / (old_max - old_min)) * (new_max - new_min) + new_min\n",
    "\n",
    "# Apply the function to df['C_score'] and create the new column\n",
    "df['C_score_adjusted'] = df['C_score'].apply(rescale).round(2)"
   ]
  },
  {
   "cell_type": "code",
   "execution_count": 98,
   "id": "bf8103d9",
   "metadata": {},
   "outputs": [],
   "source": [
    "# Get min and max from df\n",
    "old_min, old_max = 10, 50  # Given explicitly\n",
    "\n",
    "# Get min and max from df_career\n",
    "new_min = df_career['O_score'].min()\n",
    "new_max = df_career['O_score'].max()\n",
    "\n",
    "# Rescaling function\n",
    "def rescale(x):\n",
    "    return ((x - old_min) / (old_max - old_min)) * (new_max - new_min) + new_min\n",
    "\n",
    "# Apply the function to df['A_score'] and create the new column\n",
    "df['O_score_adjusted'] = df['O_score'].apply(rescale).round(2)"
   ]
  },
  {
   "cell_type": "markdown",
   "id": "b2041323",
   "metadata": {},
   "source": [
    "### DataFrame - df_career"
   ]
  },
  {
   "cell_type": "code",
   "execution_count": 99,
   "id": "6020e3ef",
   "metadata": {},
   "outputs": [],
   "source": [
    "df_career = df_career.drop(columns=['Numerical Aptitude', 'Spatial Aptitude', 'Perceptual Aptitude', 'Abstract Reasoning', 'Verbal Reasoning'])\n"
   ]
  },
  {
   "cell_type": "code",
   "execution_count": 100,
   "id": "bf5c4f72",
   "metadata": {},
   "outputs": [],
   "source": [
    "engineer_jobs = [\n",
    "    'Construction Engineer',\n",
    "    'Biomedical Engineer',\n",
    "    'Industrial Engineer',\n",
    "    'Mechanical Engineer',\n",
    "    'Aerospace Engineer',\n",
    "    'Environmental Engineer',\n",
    "    'Electrical Engineer',\n",
    "    'Civil Engineer',\n",
    "    'Robotics Engineer',\n",
    "    'Electronics Design Engineer',\n",
    "    'Mechanical Designer',\n",
    "    'Technical Writer'\n",
    "]\n",
    "\n",
    "# Replace engineer jobs with 'Engineer'\n",
    "df_career['Career'] = df_career['Career'].apply(lambda x: 'Engineer' if x in engineer_jobs else x)\n"
   ]
  },
  {
   "cell_type": "code",
   "execution_count": 101,
   "id": "ff82eaf1",
   "metadata": {},
   "outputs": [],
   "source": [
    "\n",
    "teacher_jobs = [\n",
    "    'Teacher',\n",
    "    'Elementary School Teacher',\n",
    "    'Sports Coach'\n",
    "]\n",
    "\n",
    "df_career['Career'] = df_career['Career'].apply(lambda x: 'Teacher' if x in teacher_jobs else x)\n"
   ]
  },
  {
   "cell_type": "code",
   "execution_count": 102,
   "id": "b8b37dfc",
   "metadata": {},
   "outputs": [],
   "source": [
    "analyst_jobs = [\n",
    "    'Financial Analyst',\n",
    "    'Data Analyst',\n",
    "    'Market Research Analyst',\n",
    "    'Marketing Analyst',\n",
    "    'Database Analyst',\n",
    "    'Market Researcher'\n",
    "]\n",
    "\n",
    "df_career['Career'] = df_career['Career'].apply(lambda x: 'Data Analyst' if x in analyst_jobs else x)"
   ]
  },
  {
   "cell_type": "code",
   "execution_count": 103,
   "id": "63e018da",
   "metadata": {},
   "outputs": [],
   "source": [
    "manager_jobs = [\n",
    "    'Marketing Manager',\n",
    "    'Human Resources Manager',\n",
    "    'IT Project Manager',\n",
    "    'Product Manager',\n",
    "    'Event Planner',\n",
    "    'Marketing Coordinator',\n",
    "    'HR Recruiter',\n",
    "    'Social Media Manager',\n",
    "    'Air Traffic Controller',\n",
    "    'Administrative Officer',\n",
    "    'Advertising Executive'\n",
    "]\n",
    "\n",
    "df_career['Career'] = df_career['Career'].apply(lambda x: 'Manager' if x in manager_jobs else x)\n"
   ]
  },
  {
   "cell_type": "code",
   "execution_count": 104,
   "id": "16d529eb",
   "metadata": {},
   "outputs": [],
   "source": [
    "scientist_jobs = [\n",
    "    'Research Scientist',\n",
    "    'Biologist',\n",
    "    'Environmental Scientist',\n",
    "    'Biomedical Researcher',\n",
    "    'Biotechnologist',\n",
    "    'Zoologist',\n",
    "    'Wildlife Biologist',\n",
    "    'Genetic Counselor',\n",
    "    'Marine Biologist',\n",
    "    'Geologist',\n",
    "    'Astronomer',\n",
    "    'Forensic Scientist',\n",
    "    'Wildlife Conservationist',\n",
    "    'Forestry Technician'\n",
    "]\n",
    "\n",
    "df_career['Career'] = df_career['Career'].apply(lambda x: 'Scientist' if x in scientist_jobs else x)\n"
   ]
  },
  {
   "cell_type": "code",
   "execution_count": 105,
   "id": "9bbddef7",
   "metadata": {},
   "outputs": [],
   "source": [
    "finance_jobs = [\n",
    "    'Financial Analyst',\n",
    "    'Financial Planner',\n",
    "    'Investment Banker',\n",
    "    'Financial Advisor',\n",
    "    'Insurance Underwriter',\n",
    "    'Financial Auditor',\n",
    "    'Accountant',\n",
    "    'Tax Accountant',\n",
    "    'Tax Collector',\n",
    "    'Quality Control Inspector'\n",
    "]\n",
    "\n",
    "df_career['Career'] = df_career['Career'].apply(lambda x: 'Finance & Accounting' if x in finance_jobs else x)\n"
   ]
  },
  {
   "cell_type": "code",
   "execution_count": 106,
   "id": "de1681ba",
   "metadata": {},
   "outputs": [],
   "source": [
    "healthcare_jobs = [\n",
    "    'Nurse',\n",
    "    'Physician',\n",
    "    'Pharmacist',\n",
    "    'Pediatric Nurse',\n",
    "    'Dental Hygienist',\n",
    "    'Physical Therapist',\n",
    "    'Speech Therapist',\n",
    "    'Occupational Therapist',\n",
    "    'Pediatrician',\n",
    "    'Chiropractor',\n",
    "    'Radiologic Technologist',\n",
    "    'Rehabilitation Counselor',\n",
    "    'Speech Pathologist',\n",
    "    'Public Health Analyst',\n",
    "    'Marriage Counselor',\n",
    "    ]\n",
    "\n",
    "df_career['Career'] = df_career['Career'].apply(lambda x: 'Healthcare' if x in healthcare_jobs else x)"
   ]
  },
  {
   "cell_type": "code",
   "execution_count": 107,
   "id": "63e753c9",
   "metadata": {},
   "outputs": [],
   "source": [
    "\n",
    "social_services_jobs = [\n",
    "    'Psychologist',\n",
    "    'Social Worker',\n",
    "    'Forensic Psychologist'\n",
    "    \n",
    "]\n",
    "\n",
    "df_career['Career'] = df_career['Career'].apply(lambda x: 'Social Services' if x in social_services_jobs else x)\n"
   ]
  },
  {
   "cell_type": "code",
   "execution_count": 108,
   "id": "5b70166d",
   "metadata": {},
   "outputs": [],
   "source": [
    "it_specialist_jobs = [\n",
    "    'Software Developer',\n",
    "    'IT Support Specialist',\n",
    "    'Software Quality Assurance Tester',\n",
    "    'Web Developer',\n",
    "    'Game Developer',\n",
    "    'Database Administrator',\n",
    "    'Video Game Tester',\n",
    "]\n",
    "\n",
    "df_career['Career'] = df_career['Career'].apply(lambda x: 'IT Specialist' if x in it_specialist_jobs else x)\n"
   ]
  },
  {
   "cell_type": "code",
   "execution_count": 109,
   "id": "bb25bcd6",
   "metadata": {},
   "outputs": [],
   "source": [
    "creative_jobs = [\n",
    "    'Graphic Designer',\n",
    "    'Artist',\n",
    "    'Fashion Designer',\n",
    "    'Fashion Stylist',\n",
    "    'Event Photographer',\n",
    "    'Marketing Copywriter',\n",
    "    'Film Director',\n",
    "    'Journalist',\n",
    "    'Musician'\n",
    "]\n",
    "\n",
    "df_career['Career'] = df_career['Career'].apply(lambda x: 'Creative' if x in creative_jobs else x)\n"
   ]
  },
  {
   "cell_type": "code",
   "execution_count": 110,
   "id": "d2a64a20",
   "metadata": {},
   "outputs": [],
   "source": [
    "sales_jobs = [\n",
    "    'Salesperson',\n",
    "    'Real Estate Agent',\n",
    "    'Public Relations Specialist'\n",
    "]\n",
    "\n",
    "df_career['Career'] = df_career['Career'].apply(lambda x: 'Sales & PR' if x in sales_jobs else x)\n"
   ]
  },
  {
   "cell_type": "code",
   "execution_count": 111,
   "id": "251ad53d",
   "metadata": {},
   "outputs": [],
   "source": [
    "law_public_service_jobs = [\n",
    "    'Lawyer',\n",
    "    'Police Detective',\n",
    "    'Police Officer',\n",
    "    'Diplomat',\n",
    "    'Customs and Border Protection Officer',\n",
    "    'Foreign Service Officer',\n",
    "    'Tax Collector',\n",
    "    'Human Rights Lawyer'\n",
    "]\n",
    "\n",
    "df_career['Career'] = df_career['Career'].apply(lambda x: 'Law & Public Service' if x in law_public_service_jobs else x)\n"
   ]
  },
  {
   "cell_type": "code",
   "execution_count": 112,
   "id": "e959f5f9",
   "metadata": {},
   "outputs": [],
   "source": [
    "planner_architect_jobs = [\n",
    "    'Urban Planner',\n",
    "    'Architect',\n",
    "    'Graphic Designer',\n",
    "    'Interior Designer'\n",
    "]\n",
    "\n",
    "df_career['Career'] = df_career['Career'].apply(lambda x: 'Architect & Designer' if x in planner_architect_jobs else x)\n"
   ]
  },
  {
   "cell_type": "code",
   "execution_count": 113,
   "id": "a10feb0f",
   "metadata": {},
   "outputs": [
    {
     "data": {
      "text/plain": [
       "15"
      ]
     },
     "execution_count": 113,
     "metadata": {},
     "output_type": "execute_result"
    }
   ],
   "source": [
    "df_career['Career'].nunique()"
   ]
  },
  {
   "cell_type": "code",
   "execution_count": 114,
   "id": "7bc3f404",
   "metadata": {},
   "outputs": [],
   "source": [
    "df_career = df_career.sort_values(by='Career').reset_index(drop=True)"
   ]
  },
  {
   "cell_type": "code",
   "execution_count": 115,
   "id": "dce72ce4",
   "metadata": {},
   "outputs": [],
   "source": [
    "df_career = df_career.drop(index=0).reset_index(drop=True)\n",
    "df_career = df_career.drop(index=3).reset_index(drop=True)\n"
   ]
  },
  {
   "cell_type": "code",
   "execution_count": 116,
   "id": "c95af319",
   "metadata": {},
   "outputs": [
    {
     "data": {
      "application/vnd.microsoft.datawrangler.viewer.v0+json": {
       "columns": [
        {
         "name": "Career",
         "rawType": "object",
         "type": "string"
        },
        {
         "name": "count",
         "rawType": "int64",
         "type": "integer"
        }
       ],
       "ref": "b5fd66f9-088d-4d37-9124-87dd8e2d2bb6",
       "rows": [
        [
         "Healthcare",
         "15"
        ],
        [
         "Scientist",
         "15"
        ],
        [
         "Engineer",
         "12"
        ],
        [
         "Manager",
         "11"
        ],
        [
         "Finance & Accounting",
         "9"
        ],
        [
         "Creative",
         "9"
        ],
        [
         "IT Specialist",
         "7"
        ],
        [
         "Law & Public Service",
         "7"
        ],
        [
         "Data Analyst",
         "6"
        ],
        [
         "Architect & Designer",
         "3"
        ],
        [
         "Sales & PR",
         "3"
        ],
        [
         "Social Services",
         "3"
        ],
        [
         "Teacher",
         "3"
        ]
       ],
       "shape": {
        "columns": 1,
        "rows": 13
       }
      },
      "text/plain": [
       "Career\n",
       "Healthcare              15\n",
       "Scientist               15\n",
       "Engineer                12\n",
       "Manager                 11\n",
       "Finance & Accounting     9\n",
       "Creative                 9\n",
       "IT Specialist            7\n",
       "Law & Public Service     7\n",
       "Data Analyst             6\n",
       "Architect & Designer     3\n",
       "Sales & PR               3\n",
       "Social Services          3\n",
       "Teacher                  3\n",
       "Name: count, dtype: int64"
      ]
     },
     "execution_count": 116,
     "metadata": {},
     "output_type": "execute_result"
    }
   ],
   "source": [
    "df_career['Career'].value_counts()"
   ]
  },
  {
   "cell_type": "markdown",
   "id": "bb907149",
   "metadata": {},
   "source": [
    "## Machine Learning"
   ]
  },
  {
   "cell_type": "markdown",
   "id": "3dfaf672",
   "metadata": {},
   "source": [
    "### Career"
   ]
  },
  {
   "cell_type": "code",
   "execution_count": 117,
   "id": "e0abd996",
   "metadata": {},
   "outputs": [
    {
     "data": {
      "application/vnd.microsoft.datawrangler.viewer.v0+json": {
       "columns": [
        {
         "name": "index",
         "rawType": "int64",
         "type": "integer"
        },
        {
         "name": "race",
         "rawType": "int64",
         "type": "integer"
        },
        {
         "name": "age",
         "rawType": "int64",
         "type": "integer"
        },
        {
         "name": "engnat",
         "rawType": "int64",
         "type": "integer"
        },
        {
         "name": "gender",
         "rawType": "int64",
         "type": "integer"
        },
        {
         "name": "hand",
         "rawType": "int64",
         "type": "integer"
        },
        {
         "name": "source",
         "rawType": "int64",
         "type": "integer"
        },
        {
         "name": "country",
         "rawType": "object",
         "type": "string"
        },
        {
         "name": "E1",
         "rawType": "int64",
         "type": "integer"
        },
        {
         "name": "E2",
         "rawType": "int64",
         "type": "integer"
        },
        {
         "name": "E3",
         "rawType": "int64",
         "type": "integer"
        },
        {
         "name": "E4",
         "rawType": "int64",
         "type": "integer"
        },
        {
         "name": "E5",
         "rawType": "int64",
         "type": "integer"
        },
        {
         "name": "E6",
         "rawType": "int64",
         "type": "integer"
        },
        {
         "name": "E7",
         "rawType": "int64",
         "type": "integer"
        },
        {
         "name": "E8",
         "rawType": "int64",
         "type": "integer"
        },
        {
         "name": "E9",
         "rawType": "int64",
         "type": "integer"
        },
        {
         "name": "E10",
         "rawType": "int64",
         "type": "integer"
        },
        {
         "name": "N1",
         "rawType": "int64",
         "type": "integer"
        },
        {
         "name": "N2",
         "rawType": "int64",
         "type": "integer"
        },
        {
         "name": "N3",
         "rawType": "int64",
         "type": "integer"
        },
        {
         "name": "N4",
         "rawType": "int64",
         "type": "integer"
        },
        {
         "name": "N5",
         "rawType": "int64",
         "type": "integer"
        },
        {
         "name": "N6",
         "rawType": "int64",
         "type": "integer"
        },
        {
         "name": "N7",
         "rawType": "int64",
         "type": "integer"
        },
        {
         "name": "N8",
         "rawType": "int64",
         "type": "integer"
        },
        {
         "name": "N9",
         "rawType": "int64",
         "type": "integer"
        },
        {
         "name": "N10",
         "rawType": "int64",
         "type": "integer"
        },
        {
         "name": "A1",
         "rawType": "int64",
         "type": "integer"
        },
        {
         "name": "A2",
         "rawType": "int64",
         "type": "integer"
        },
        {
         "name": "A3",
         "rawType": "int64",
         "type": "integer"
        },
        {
         "name": "A4",
         "rawType": "int64",
         "type": "integer"
        },
        {
         "name": "A5",
         "rawType": "int64",
         "type": "integer"
        },
        {
         "name": "A6",
         "rawType": "int64",
         "type": "integer"
        },
        {
         "name": "A7",
         "rawType": "int64",
         "type": "integer"
        },
        {
         "name": "A8",
         "rawType": "int64",
         "type": "integer"
        },
        {
         "name": "A9",
         "rawType": "int64",
         "type": "integer"
        },
        {
         "name": "A10",
         "rawType": "int64",
         "type": "integer"
        },
        {
         "name": "C1",
         "rawType": "int64",
         "type": "integer"
        },
        {
         "name": "C2",
         "rawType": "int64",
         "type": "integer"
        },
        {
         "name": "C3",
         "rawType": "int64",
         "type": "integer"
        },
        {
         "name": "C4",
         "rawType": "int64",
         "type": "integer"
        },
        {
         "name": "C5",
         "rawType": "int64",
         "type": "integer"
        },
        {
         "name": "C6",
         "rawType": "int64",
         "type": "integer"
        },
        {
         "name": "C7",
         "rawType": "int64",
         "type": "integer"
        },
        {
         "name": "C8",
         "rawType": "int64",
         "type": "integer"
        },
        {
         "name": "C9",
         "rawType": "int64",
         "type": "integer"
        },
        {
         "name": "C10",
         "rawType": "int64",
         "type": "integer"
        },
        {
         "name": "O1",
         "rawType": "int64",
         "type": "integer"
        },
        {
         "name": "O2",
         "rawType": "int64",
         "type": "integer"
        },
        {
         "name": "O3",
         "rawType": "int64",
         "type": "integer"
        },
        {
         "name": "O4",
         "rawType": "int64",
         "type": "integer"
        },
        {
         "name": "O5",
         "rawType": "int64",
         "type": "integer"
        },
        {
         "name": "O6",
         "rawType": "int64",
         "type": "integer"
        },
        {
         "name": "O7",
         "rawType": "int64",
         "type": "integer"
        },
        {
         "name": "O8",
         "rawType": "int64",
         "type": "integer"
        },
        {
         "name": "O9",
         "rawType": "int64",
         "type": "integer"
        },
        {
         "name": "O10",
         "rawType": "int64",
         "type": "integer"
        },
        {
         "name": "E_score",
         "rawType": "int64",
         "type": "integer"
        },
        {
         "name": "N_score",
         "rawType": "int64",
         "type": "integer"
        },
        {
         "name": "A_score",
         "rawType": "int64",
         "type": "integer"
        },
        {
         "name": "C_score",
         "rawType": "int64",
         "type": "integer"
        },
        {
         "name": "O_score",
         "rawType": "int64",
         "type": "integer"
        },
        {
         "name": "e_score_percent",
         "rawType": "float64",
         "type": "float"
        },
        {
         "name": "n_score_percent",
         "rawType": "float64",
         "type": "float"
        },
        {
         "name": "a_score_percent",
         "rawType": "float64",
         "type": "float"
        },
        {
         "name": "c_score_percent",
         "rawType": "float64",
         "type": "float"
        },
        {
         "name": "o_score_percent",
         "rawType": "float64",
         "type": "float"
        },
        {
         "name": "e_score_percentile",
         "rawType": "float64",
         "type": "float"
        },
        {
         "name": "n_score_percentile",
         "rawType": "float64",
         "type": "float"
        },
        {
         "name": "a_score_percentile",
         "rawType": "float64",
         "type": "float"
        },
        {
         "name": "c_score_percentile",
         "rawType": "float64",
         "type": "float"
        },
        {
         "name": "o_score_percentile",
         "rawType": "float64",
         "type": "float"
        },
        {
         "name": "E_score_adjusted",
         "rawType": "float64",
         "type": "float"
        },
        {
         "name": "N_score_adjusted",
         "rawType": "float64",
         "type": "float"
        },
        {
         "name": "A_score_adjusted",
         "rawType": "float64",
         "type": "float"
        },
        {
         "name": "C_score_adjusted",
         "rawType": "float64",
         "type": "float"
        },
        {
         "name": "O_score_adjusted",
         "rawType": "float64",
         "type": "float"
        }
       ],
       "ref": "fb7e22cf-2c3f-4875-a312-ee9b1a89a643",
       "rows": [
        [
         "0",
         "3",
         "53",
         "1",
         "1",
         "1",
         "1",
         "US",
         "4",
         "2",
         "5",
         "2",
         "5",
         "1",
         "4",
         "3",
         "5",
         "1",
         "1",
         "5",
         "2",
         "5",
         "1",
         "1",
         "1",
         "1",
         "1",
         "1",
         "1",
         "5",
         "1",
         "5",
         "2",
         "3",
         "1",
         "5",
         "4",
         "5",
         "4",
         "1",
         "5",
         "1",
         "5",
         "1",
         "4",
         "1",
         "4",
         "5",
         "4",
         "1",
         "3",
         "1",
         "5",
         "1",
         "4",
         "2",
         "5",
         "5",
         "32",
         "19",
         "32",
         "31",
         "31",
         "64.0",
         "38.0",
         "64.0",
         "62.0",
         "62.0",
         "66.0",
         "3.6",
         "48.9",
         "44.3",
         "27.7",
         "6.44",
         "4.07",
         "6.59",
         "6.65",
         "6.23"
        ],
        [
         "1",
         "13",
         "46",
         "1",
         "2",
         "1",
         "1",
         "US",
         "2",
         "2",
         "3",
         "3",
         "3",
         "3",
         "1",
         "5",
         "1",
         "5",
         "2",
         "3",
         "4",
         "2",
         "3",
         "4",
         "3",
         "2",
         "2",
         "4",
         "1",
         "3",
         "3",
         "4",
         "4",
         "4",
         "2",
         "3",
         "4",
         "3",
         "4",
         "1",
         "3",
         "2",
         "3",
         "1",
         "5",
         "1",
         "4",
         "4",
         "3",
         "3",
         "3",
         "3",
         "2",
         "3",
         "3",
         "1",
         "3",
         "2",
         "28",
         "29",
         "31",
         "28",
         "26",
         "56.0",
         "58.0",
         "62.0",
         "56.0",
         "52.0",
         "19.8",
         "39.5",
         "37.2",
         "16.8",
         "3.7",
         "5.79",
         "5.37",
         "6.44",
         "6.21",
         "5.38"
        ],
        [
         "2",
         "1",
         "14",
         "2",
         "2",
         "1",
         "1",
         "PK",
         "5",
         "1",
         "1",
         "4",
         "5",
         "1",
         "1",
         "5",
         "5",
         "1",
         "5",
         "1",
         "5",
         "5",
         "5",
         "5",
         "5",
         "5",
         "5",
         "5",
         "5",
         "1",
         "5",
         "5",
         "1",
         "5",
         "1",
         "5",
         "5",
         "5",
         "4",
         "1",
         "5",
         "1",
         "5",
         "1",
         "5",
         "1",
         "5",
         "5",
         "4",
         "5",
         "5",
         "1",
         "5",
         "1",
         "5",
         "5",
         "5",
         "5",
         "29",
         "46",
         "38",
         "33",
         "41",
         "58.0",
         "92.0",
         "76.0",
         "66.0",
         "82.0",
         "29.3",
         "99.3",
         "95.3",
         "65.9",
         "98.3",
         "5.95",
         "7.6",
         "7.51",
         "6.95",
         "7.92"
        ],
        [
         "3",
         "3",
         "19",
         "2",
         "2",
         "1",
         "1",
         "RO",
         "2",
         "5",
         "2",
         "4",
         "3",
         "4",
         "3",
         "4",
         "4",
         "5",
         "5",
         "4",
         "4",
         "2",
         "4",
         "5",
         "5",
         "5",
         "4",
         "5",
         "2",
         "5",
         "4",
         "4",
         "3",
         "5",
         "3",
         "4",
         "4",
         "3",
         "3",
         "3",
         "4",
         "5",
         "1",
         "4",
         "5",
         "4",
         "2",
         "3",
         "4",
         "3",
         "5",
         "2",
         "4",
         "2",
         "5",
         "2",
         "5",
         "5",
         "36",
         "43",
         "37",
         "34",
         "37",
         "72.0",
         "86.0",
         "74.0",
         "68.0",
         "74.0",
         "93.3",
         "97.0",
         "92.2",
         "75.3",
         "84.6",
         "7.08",
         "7.2",
         "7.35",
         "7.09",
         "7.25"
        ],
        [
         "4",
         "11",
         "25",
         "2",
         "2",
         "1",
         "2",
         "US",
         "3",
         "1",
         "3",
         "3",
         "3",
         "1",
         "3",
         "1",
         "3",
         "5",
         "3",
         "3",
         "3",
         "4",
         "3",
         "3",
         "3",
         "3",
         "3",
         "4",
         "5",
         "5",
         "3",
         "5",
         "1",
         "5",
         "1",
         "5",
         "5",
         "5",
         "3",
         "1",
         "5",
         "3",
         "3",
         "1",
         "1",
         "3",
         "3",
         "3",
         "3",
         "1",
         "1",
         "1",
         "3",
         "1",
         "3",
         "1",
         "5",
         "3",
         "26",
         "32",
         "40",
         "26",
         "22",
         "52.0",
         "64.0",
         "80.0",
         "52.0",
         "44.0",
         "7.7",
         "55.4",
         "98.4",
         "6.9",
         "0.5",
         "5.47",
         "5.77",
         "7.81",
         "5.92",
         "4.7"
        ]
       ],
       "shape": {
        "columns": 77,
        "rows": 5
       }
      },
      "text/html": [
       "<div>\n",
       "<style scoped>\n",
       "    .dataframe tbody tr th:only-of-type {\n",
       "        vertical-align: middle;\n",
       "    }\n",
       "\n",
       "    .dataframe tbody tr th {\n",
       "        vertical-align: top;\n",
       "    }\n",
       "\n",
       "    .dataframe thead th {\n",
       "        text-align: right;\n",
       "    }\n",
       "</style>\n",
       "<table border=\"1\" class=\"dataframe\">\n",
       "  <thead>\n",
       "    <tr style=\"text-align: right;\">\n",
       "      <th></th>\n",
       "      <th>race</th>\n",
       "      <th>age</th>\n",
       "      <th>engnat</th>\n",
       "      <th>gender</th>\n",
       "      <th>hand</th>\n",
       "      <th>source</th>\n",
       "      <th>country</th>\n",
       "      <th>E1</th>\n",
       "      <th>E2</th>\n",
       "      <th>E3</th>\n",
       "      <th>...</th>\n",
       "      <th>e_score_percentile</th>\n",
       "      <th>n_score_percentile</th>\n",
       "      <th>a_score_percentile</th>\n",
       "      <th>c_score_percentile</th>\n",
       "      <th>o_score_percentile</th>\n",
       "      <th>E_score_adjusted</th>\n",
       "      <th>N_score_adjusted</th>\n",
       "      <th>A_score_adjusted</th>\n",
       "      <th>C_score_adjusted</th>\n",
       "      <th>O_score_adjusted</th>\n",
       "    </tr>\n",
       "  </thead>\n",
       "  <tbody>\n",
       "    <tr>\n",
       "      <th>0</th>\n",
       "      <td>3</td>\n",
       "      <td>53</td>\n",
       "      <td>1</td>\n",
       "      <td>1</td>\n",
       "      <td>1</td>\n",
       "      <td>1</td>\n",
       "      <td>US</td>\n",
       "      <td>4</td>\n",
       "      <td>2</td>\n",
       "      <td>5</td>\n",
       "      <td>...</td>\n",
       "      <td>66.0</td>\n",
       "      <td>3.6</td>\n",
       "      <td>48.9</td>\n",
       "      <td>44.3</td>\n",
       "      <td>27.7</td>\n",
       "      <td>6.44</td>\n",
       "      <td>4.07</td>\n",
       "      <td>6.59</td>\n",
       "      <td>6.65</td>\n",
       "      <td>6.23</td>\n",
       "    </tr>\n",
       "    <tr>\n",
       "      <th>1</th>\n",
       "      <td>13</td>\n",
       "      <td>46</td>\n",
       "      <td>1</td>\n",
       "      <td>2</td>\n",
       "      <td>1</td>\n",
       "      <td>1</td>\n",
       "      <td>US</td>\n",
       "      <td>2</td>\n",
       "      <td>2</td>\n",
       "      <td>3</td>\n",
       "      <td>...</td>\n",
       "      <td>19.8</td>\n",
       "      <td>39.5</td>\n",
       "      <td>37.2</td>\n",
       "      <td>16.8</td>\n",
       "      <td>3.7</td>\n",
       "      <td>5.79</td>\n",
       "      <td>5.37</td>\n",
       "      <td>6.44</td>\n",
       "      <td>6.21</td>\n",
       "      <td>5.38</td>\n",
       "    </tr>\n",
       "    <tr>\n",
       "      <th>2</th>\n",
       "      <td>1</td>\n",
       "      <td>14</td>\n",
       "      <td>2</td>\n",
       "      <td>2</td>\n",
       "      <td>1</td>\n",
       "      <td>1</td>\n",
       "      <td>PK</td>\n",
       "      <td>5</td>\n",
       "      <td>1</td>\n",
       "      <td>1</td>\n",
       "      <td>...</td>\n",
       "      <td>29.3</td>\n",
       "      <td>99.3</td>\n",
       "      <td>95.3</td>\n",
       "      <td>65.9</td>\n",
       "      <td>98.3</td>\n",
       "      <td>5.95</td>\n",
       "      <td>7.60</td>\n",
       "      <td>7.51</td>\n",
       "      <td>6.95</td>\n",
       "      <td>7.92</td>\n",
       "    </tr>\n",
       "    <tr>\n",
       "      <th>3</th>\n",
       "      <td>3</td>\n",
       "      <td>19</td>\n",
       "      <td>2</td>\n",
       "      <td>2</td>\n",
       "      <td>1</td>\n",
       "      <td>1</td>\n",
       "      <td>RO</td>\n",
       "      <td>2</td>\n",
       "      <td>5</td>\n",
       "      <td>2</td>\n",
       "      <td>...</td>\n",
       "      <td>93.3</td>\n",
       "      <td>97.0</td>\n",
       "      <td>92.2</td>\n",
       "      <td>75.3</td>\n",
       "      <td>84.6</td>\n",
       "      <td>7.08</td>\n",
       "      <td>7.20</td>\n",
       "      <td>7.35</td>\n",
       "      <td>7.09</td>\n",
       "      <td>7.25</td>\n",
       "    </tr>\n",
       "    <tr>\n",
       "      <th>4</th>\n",
       "      <td>11</td>\n",
       "      <td>25</td>\n",
       "      <td>2</td>\n",
       "      <td>2</td>\n",
       "      <td>1</td>\n",
       "      <td>2</td>\n",
       "      <td>US</td>\n",
       "      <td>3</td>\n",
       "      <td>1</td>\n",
       "      <td>3</td>\n",
       "      <td>...</td>\n",
       "      <td>7.7</td>\n",
       "      <td>55.4</td>\n",
       "      <td>98.4</td>\n",
       "      <td>6.9</td>\n",
       "      <td>0.5</td>\n",
       "      <td>5.47</td>\n",
       "      <td>5.77</td>\n",
       "      <td>7.81</td>\n",
       "      <td>5.92</td>\n",
       "      <td>4.70</td>\n",
       "    </tr>\n",
       "  </tbody>\n",
       "</table>\n",
       "<p>5 rows × 77 columns</p>\n",
       "</div>"
      ],
      "text/plain": [
       "   race  age  engnat  gender  hand  source country  E1  E2  E3  ...  \\\n",
       "0     3   53       1       1     1       1      US   4   2   5  ...   \n",
       "1    13   46       1       2     1       1      US   2   2   3  ...   \n",
       "2     1   14       2       2     1       1      PK   5   1   1  ...   \n",
       "3     3   19       2       2     1       1      RO   2   5   2  ...   \n",
       "4    11   25       2       2     1       2      US   3   1   3  ...   \n",
       "\n",
       "   e_score_percentile  n_score_percentile  a_score_percentile  \\\n",
       "0                66.0                 3.6                48.9   \n",
       "1                19.8                39.5                37.2   \n",
       "2                29.3                99.3                95.3   \n",
       "3                93.3                97.0                92.2   \n",
       "4                 7.7                55.4                98.4   \n",
       "\n",
       "   c_score_percentile  o_score_percentile  E_score_adjusted  N_score_adjusted  \\\n",
       "0                44.3                27.7              6.44              4.07   \n",
       "1                16.8                 3.7              5.79              5.37   \n",
       "2                65.9                98.3              5.95              7.60   \n",
       "3                75.3                84.6              7.08              7.20   \n",
       "4                 6.9                 0.5              5.47              5.77   \n",
       "\n",
       "   A_score_adjusted  C_score_adjusted  O_score_adjusted  \n",
       "0              6.59              6.65              6.23  \n",
       "1              6.44              6.21              5.38  \n",
       "2              7.51              6.95              7.92  \n",
       "3              7.35              7.09              7.25  \n",
       "4              7.81              5.92              4.70  \n",
       "\n",
       "[5 rows x 77 columns]"
      ]
     },
     "execution_count": 117,
     "metadata": {},
     "output_type": "execute_result"
    }
   ],
   "source": [
    "df.head()"
   ]
  },
  {
   "cell_type": "code",
   "execution_count": 118,
   "id": "03f35626",
   "metadata": {},
   "outputs": [
    {
     "data": {
      "application/vnd.microsoft.datawrangler.viewer.v0+json": {
       "columns": [
        {
         "name": "index",
         "rawType": "int64",
         "type": "integer"
        },
        {
         "name": "O_score",
         "rawType": "float64",
         "type": "float"
        },
        {
         "name": "C_score",
         "rawType": "float64",
         "type": "float"
        },
        {
         "name": "E_score",
         "rawType": "float64",
         "type": "float"
        },
        {
         "name": "A_score",
         "rawType": "float64",
         "type": "float"
        },
        {
         "name": "N_score",
         "rawType": "float64",
         "type": "float"
        },
        {
         "name": "Career",
         "rawType": "object",
         "type": "string"
        }
       ],
       "ref": "76ca8ecb-644b-4df4-8220-9ad04ad62d4c",
       "rows": [
        [
         "0",
         "6.78",
         "7.34",
         "3.67",
         "5.23",
         "4.67",
         "Architect & Designer"
        ],
        [
         "1",
         "8.45",
         "7.01",
         "5.34",
         "5.45",
         "4.56",
         "Architect & Designer"
        ],
        [
         "2",
         "8.45",
         "4.23",
         "7.67",
         "7.23",
         "6.45",
         "Architect & Designer"
        ],
        [
         "3",
         "8.78",
         "5.67",
         "4.56",
         "6.45",
         "4.23",
         "Creative"
        ],
        [
         "4",
         "8.67",
         "4.23",
         "7.67",
         "7.45",
         "6.45",
         "Creative"
        ]
       ],
       "shape": {
        "columns": 6,
        "rows": 5
       }
      },
      "text/html": [
       "<div>\n",
       "<style scoped>\n",
       "    .dataframe tbody tr th:only-of-type {\n",
       "        vertical-align: middle;\n",
       "    }\n",
       "\n",
       "    .dataframe tbody tr th {\n",
       "        vertical-align: top;\n",
       "    }\n",
       "\n",
       "    .dataframe thead th {\n",
       "        text-align: right;\n",
       "    }\n",
       "</style>\n",
       "<table border=\"1\" class=\"dataframe\">\n",
       "  <thead>\n",
       "    <tr style=\"text-align: right;\">\n",
       "      <th></th>\n",
       "      <th>O_score</th>\n",
       "      <th>C_score</th>\n",
       "      <th>E_score</th>\n",
       "      <th>A_score</th>\n",
       "      <th>N_score</th>\n",
       "      <th>Career</th>\n",
       "    </tr>\n",
       "  </thead>\n",
       "  <tbody>\n",
       "    <tr>\n",
       "      <th>0</th>\n",
       "      <td>6.78</td>\n",
       "      <td>7.34</td>\n",
       "      <td>3.67</td>\n",
       "      <td>5.23</td>\n",
       "      <td>4.67</td>\n",
       "      <td>Architect &amp; Designer</td>\n",
       "    </tr>\n",
       "    <tr>\n",
       "      <th>1</th>\n",
       "      <td>8.45</td>\n",
       "      <td>7.01</td>\n",
       "      <td>5.34</td>\n",
       "      <td>5.45</td>\n",
       "      <td>4.56</td>\n",
       "      <td>Architect &amp; Designer</td>\n",
       "    </tr>\n",
       "    <tr>\n",
       "      <th>2</th>\n",
       "      <td>8.45</td>\n",
       "      <td>4.23</td>\n",
       "      <td>7.67</td>\n",
       "      <td>7.23</td>\n",
       "      <td>6.45</td>\n",
       "      <td>Architect &amp; Designer</td>\n",
       "    </tr>\n",
       "    <tr>\n",
       "      <th>3</th>\n",
       "      <td>8.78</td>\n",
       "      <td>5.67</td>\n",
       "      <td>4.56</td>\n",
       "      <td>6.45</td>\n",
       "      <td>4.23</td>\n",
       "      <td>Creative</td>\n",
       "    </tr>\n",
       "    <tr>\n",
       "      <th>4</th>\n",
       "      <td>8.67</td>\n",
       "      <td>4.23</td>\n",
       "      <td>7.67</td>\n",
       "      <td>7.45</td>\n",
       "      <td>6.45</td>\n",
       "      <td>Creative</td>\n",
       "    </tr>\n",
       "  </tbody>\n",
       "</table>\n",
       "</div>"
      ],
      "text/plain": [
       "   O_score  C_score  E_score  A_score  N_score                Career\n",
       "0     6.78     7.34     3.67     5.23     4.67  Architect & Designer\n",
       "1     8.45     7.01     5.34     5.45     4.56  Architect & Designer\n",
       "2     8.45     4.23     7.67     7.23     6.45  Architect & Designer\n",
       "3     8.78     5.67     4.56     6.45     4.23              Creative\n",
       "4     8.67     4.23     7.67     7.45     6.45              Creative"
      ]
     },
     "execution_count": 118,
     "metadata": {},
     "output_type": "execute_result"
    }
   ],
   "source": [
    "df_career.head()"
   ]
  },
  {
   "cell_type": "code",
   "execution_count": 119,
   "id": "ae86906f",
   "metadata": {},
   "outputs": [],
   "source": [
    "df_untrained_models = df.copy()"
   ]
  },
  {
   "cell_type": "markdown",
   "id": "9b0fc169",
   "metadata": {},
   "source": [
    "#### Random Forest"
   ]
  },
  {
   "cell_type": "code",
   "execution_count": 120,
   "id": "7023efa4",
   "metadata": {},
   "outputs": [
    {
     "name": "stdout",
     "output_type": "stream",
     "text": [
      "Random Forest Accuracy: 0.6666666666666666\n",
      "                      precision    recall  f1-score   support\n",
      "\n",
      "Architect & Designer       0.00      0.00      0.00         1\n",
      "            Creative       0.50      0.50      0.50         2\n",
      "        Data Analyst       0.00      0.00      0.00         1\n",
      "            Engineer       0.67      1.00      0.80         2\n",
      "Finance & Accounting       1.00      0.67      0.80         3\n",
      "          Healthcare       1.00      0.75      0.86         4\n",
      "       IT Specialist       0.00      0.00      0.00         0\n",
      "Law & Public Service       0.50      1.00      0.67         2\n",
      "             Manager       0.33      1.00      0.50         1\n",
      "          Sales & PR       0.00      0.00      0.00         1\n",
      "           Scientist       1.00      1.00      1.00         2\n",
      "     Social Services       0.00      0.00      0.00         1\n",
      "             Teacher       1.00      1.00      1.00         1\n",
      "\n",
      "            accuracy                           0.67        21\n",
      "           macro avg       0.46      0.53      0.47        21\n",
      "        weighted avg       0.65      0.67      0.63        21\n",
      "\n"
     ]
    },
    {
     "name": "stderr",
     "output_type": "stream",
     "text": [
      "c:\\Users\\modri\\AppData\\Local\\Programs\\Python\\Python313\\Lib\\site-packages\\sklearn\\metrics\\_classification.py:1565: UndefinedMetricWarning: Precision is ill-defined and being set to 0.0 in labels with no predicted samples. Use `zero_division` parameter to control this behavior.\n",
      "  _warn_prf(average, modifier, f\"{metric.capitalize()} is\", len(result))\n",
      "c:\\Users\\modri\\AppData\\Local\\Programs\\Python\\Python313\\Lib\\site-packages\\sklearn\\metrics\\_classification.py:1565: UndefinedMetricWarning: Recall is ill-defined and being set to 0.0 in labels with no true samples. Use `zero_division` parameter to control this behavior.\n",
      "  _warn_prf(average, modifier, f\"{metric.capitalize()} is\", len(result))\n",
      "c:\\Users\\modri\\AppData\\Local\\Programs\\Python\\Python313\\Lib\\site-packages\\sklearn\\metrics\\_classification.py:1565: UndefinedMetricWarning: Precision is ill-defined and being set to 0.0 in labels with no predicted samples. Use `zero_division` parameter to control this behavior.\n",
      "  _warn_prf(average, modifier, f\"{metric.capitalize()} is\", len(result))\n",
      "c:\\Users\\modri\\AppData\\Local\\Programs\\Python\\Python313\\Lib\\site-packages\\sklearn\\metrics\\_classification.py:1565: UndefinedMetricWarning: Recall is ill-defined and being set to 0.0 in labels with no true samples. Use `zero_division` parameter to control this behavior.\n",
      "  _warn_prf(average, modifier, f\"{metric.capitalize()} is\", len(result))\n",
      "c:\\Users\\modri\\AppData\\Local\\Programs\\Python\\Python313\\Lib\\site-packages\\sklearn\\metrics\\_classification.py:1565: UndefinedMetricWarning: Precision is ill-defined and being set to 0.0 in labels with no predicted samples. Use `zero_division` parameter to control this behavior.\n",
      "  _warn_prf(average, modifier, f\"{metric.capitalize()} is\", len(result))\n",
      "c:\\Users\\modri\\AppData\\Local\\Programs\\Python\\Python313\\Lib\\site-packages\\sklearn\\metrics\\_classification.py:1565: UndefinedMetricWarning: Recall is ill-defined and being set to 0.0 in labels with no true samples. Use `zero_division` parameter to control this behavior.\n",
      "  _warn_prf(average, modifier, f\"{metric.capitalize()} is\", len(result))\n"
     ]
    }
   ],
   "source": [
    "#Random Forest\n",
    "# Features and target\n",
    "X = df_career[['E_score', 'N_score', 'C_score', 'A_score', 'O_score']]\n",
    "y = df_career['Career']\n",
    "\n",
    "# Encode the Career labels to numbers\n",
    "label_encoder = LabelEncoder()\n",
    "y_encoded = label_encoder.fit_transform(y)\n",
    "\n",
    "# Split data into train and test\n",
    "X_train, X_test, y_train, y_test = train_test_split(X, y_encoded, test_size=0.2, random_state=42)\n",
    "\n",
    "# Initialize the model (Random Forest here)\n",
    "model = RandomForestClassifier(n_estimators=100, random_state=42)\n",
    "\n",
    "# Train the model\n",
    "model.fit(X_train, y_train)\n",
    "\n",
    "# Predict on test set\n",
    "y_pred = model.predict(X_test)\n",
    "\n",
    "# Evaluate\n",
    "print(\"Random Forest Accuracy:\", accuracy_score(y_test, y_pred))\n",
    "print(classification_report(y_test, y_pred, target_names=label_encoder.classes_))\n",
    "\n"
   ]
  },
  {
   "cell_type": "code",
   "execution_count": 121,
   "id": "dc50f61f",
   "metadata": {},
   "outputs": [],
   "source": [
    "# Prepare features and target for prediction\n",
    "feature_cols = ['E_score', 'N_score', 'C_score', 'A_score', 'O_score']\n",
    "X_untrained = df_untrained_models[feature_cols]\n",
    "\n",
    "# Use the RandomForest model and label_encoder already trained on df_career\n",
    "rf_preds = model.predict(X_untrained)\n",
    "df_untrained_models['RandomForest_career'] = label_encoder.inverse_transform(rf_preds)"
   ]
  },
  {
   "cell_type": "code",
   "execution_count": 122,
   "id": "33a6fa4b",
   "metadata": {},
   "outputs": [
    {
     "name": "stdout",
     "output_type": "stream",
     "text": [
      "RandomForest_career\n",
      "Manager    100.0\n",
      "Name: proportion, dtype: float64\n"
     ]
    }
   ],
   "source": [
    "category_percentages = df_untrained_models['RandomForest_career'].value_counts(normalize=True) * 100\n",
    "print(category_percentages)"
   ]
  },
  {
   "cell_type": "markdown",
   "id": "6144b96f",
   "metadata": {},
   "source": [
    "#### KNN"
   ]
  },
  {
   "cell_type": "code",
   "execution_count": 123,
   "id": "5d5b11b9",
   "metadata": {},
   "outputs": [
    {
     "name": "stdout",
     "output_type": "stream",
     "text": [
      "KNN Accuracy: 0.5714285714285714\n",
      "KNN Classification Report:\n",
      "                      precision    recall  f1-score   support\n",
      "\n",
      "Architect & Designer       0.00      0.00      0.00         1\n",
      "            Creative       0.00      0.00      0.00         2\n",
      "        Data Analyst       0.00      0.00      0.00         1\n",
      "            Engineer       0.67      1.00      0.80         2\n",
      "Finance & Accounting       1.00      0.33      0.50         3\n",
      "          Healthcare       0.75      0.75      0.75         4\n",
      "       IT Specialist       0.00      0.00      0.00         0\n",
      "Law & Public Service       0.50      1.00      0.67         2\n",
      "             Manager       0.33      1.00      0.50         1\n",
      "          Sales & PR       0.00      0.00      0.00         1\n",
      "           Scientist       1.00      1.00      1.00         2\n",
      "     Social Services       0.00      0.00      0.00         1\n",
      "             Teacher       1.00      1.00      1.00         1\n",
      "\n",
      "            accuracy                           0.57        21\n",
      "           macro avg       0.40      0.47      0.40        21\n",
      "        weighted avg       0.56      0.57      0.52        21\n",
      "\n"
     ]
    },
    {
     "name": "stderr",
     "output_type": "stream",
     "text": [
      "c:\\Users\\modri\\AppData\\Local\\Programs\\Python\\Python313\\Lib\\site-packages\\sklearn\\metrics\\_classification.py:1565: UndefinedMetricWarning: Precision is ill-defined and being set to 0.0 in labels with no predicted samples. Use `zero_division` parameter to control this behavior.\n",
      "  _warn_prf(average, modifier, f\"{metric.capitalize()} is\", len(result))\n",
      "c:\\Users\\modri\\AppData\\Local\\Programs\\Python\\Python313\\Lib\\site-packages\\sklearn\\metrics\\_classification.py:1565: UndefinedMetricWarning: Recall is ill-defined and being set to 0.0 in labels with no true samples. Use `zero_division` parameter to control this behavior.\n",
      "  _warn_prf(average, modifier, f\"{metric.capitalize()} is\", len(result))\n",
      "c:\\Users\\modri\\AppData\\Local\\Programs\\Python\\Python313\\Lib\\site-packages\\sklearn\\metrics\\_classification.py:1565: UndefinedMetricWarning: Precision is ill-defined and being set to 0.0 in labels with no predicted samples. Use `zero_division` parameter to control this behavior.\n",
      "  _warn_prf(average, modifier, f\"{metric.capitalize()} is\", len(result))\n",
      "c:\\Users\\modri\\AppData\\Local\\Programs\\Python\\Python313\\Lib\\site-packages\\sklearn\\metrics\\_classification.py:1565: UndefinedMetricWarning: Recall is ill-defined and being set to 0.0 in labels with no true samples. Use `zero_division` parameter to control this behavior.\n",
      "  _warn_prf(average, modifier, f\"{metric.capitalize()} is\", len(result))\n",
      "c:\\Users\\modri\\AppData\\Local\\Programs\\Python\\Python313\\Lib\\site-packages\\sklearn\\metrics\\_classification.py:1565: UndefinedMetricWarning: Precision is ill-defined and being set to 0.0 in labels with no predicted samples. Use `zero_division` parameter to control this behavior.\n",
      "  _warn_prf(average, modifier, f\"{metric.capitalize()} is\", len(result))\n",
      "c:\\Users\\modri\\AppData\\Local\\Programs\\Python\\Python313\\Lib\\site-packages\\sklearn\\metrics\\_classification.py:1565: UndefinedMetricWarning: Recall is ill-defined and being set to 0.0 in labels with no true samples. Use `zero_division` parameter to control this behavior.\n",
      "  _warn_prf(average, modifier, f\"{metric.capitalize()} is\", len(result))\n"
     ]
    }
   ],
   "source": [
    "# Initialize the KNN model\n",
    "knn_model = KNeighborsClassifier(n_neighbors=1)\n",
    "\n",
    "# Train the KNN model\n",
    "knn_model.fit(X_train, y_train)\n",
    "\n",
    "# Predict on test set\n",
    "y_pred_knn = knn_model.predict(X_test)\n",
    "\n",
    "# Evaluate\n",
    "print(\"KNN Accuracy:\", accuracy_score(y_test, y_pred_knn))\n",
    "# Classification report for KNN\n",
    "print(\"KNN Classification Report:\")\n",
    "print(classification_report(y_test, y_pred_knn, target_names=label_encoder.classes_))\n",
    "\n"
   ]
  },
  {
   "cell_type": "code",
   "execution_count": 124,
   "id": "a342e477",
   "metadata": {},
   "outputs": [
    {
     "name": "stdout",
     "output_type": "stream",
     "text": [
      "Optimal number of neighbors: 1\n"
     ]
    },
    {
     "name": "stderr",
     "output_type": "stream",
     "text": [
      "C:\\Users\\modri\\AppData\\Local\\Temp\\ipykernel_13856\\644164137.py:17: UserWarning: FigureCanvasAgg is non-interactive, and thus cannot be shown\n",
      "  plt.show()\n"
     ]
    }
   ],
   "source": [
    "k_range = range(1, 21)\n",
    "accuracies = []\n",
    "\n",
    "for k in k_range:\n",
    "    knn = KNeighborsClassifier(n_neighbors=k)\n",
    "    knn.fit(X_train, y_train)\n",
    "    y_pred_k = knn.predict(X_test)\n",
    "    acc = accuracy_score(y_test, y_pred_k)\n",
    "    accuracies.append(acc)\n",
    "\n",
    "optimal_k = k_range[accuracies.index(max(accuracies))]\n",
    "print(\"Optimal number of neighbors:\", optimal_k)\n",
    "plt.plot(k_range, accuracies, marker='o')\n",
    "plt.xlabel('Number of Neighbors (k)')\n",
    "plt.ylabel('Accuracy')\n",
    "plt.title('KNN accuracy for different k')\n",
    "plt.show()"
   ]
  },
  {
   "cell_type": "code",
   "execution_count": 125,
   "id": "97c54f0e",
   "metadata": {},
   "outputs": [],
   "source": [
    "# Prepare features for KNN prediction\n",
    "feature_cols = ['E_score', 'N_score', 'C_score', 'A_score', 'O_score']\n",
    "X_untrained = df_untrained_models[feature_cols]\n",
    "\n",
    "# Use the optimal_k found previously, or default to k=1 if not defined\n",
    "k = optimal_k if 'optimal_k' in locals() else 1\n",
    "\n",
    "# Train KNN on df_career (same as before)\n",
    "knn_model = KNeighborsClassifier(n_neighbors=k)\n",
    "knn_model.fit(X_train, y_train)\n",
    "\n",
    "# Predict careers for df_untrained_models\n",
    "knn_preds = knn_model.predict(X_untrained)\n",
    "df_untrained_models['KNN_careers'] = label_encoder.inverse_transform(knn_preds)"
   ]
  },
  {
   "cell_type": "code",
   "execution_count": 126,
   "id": "4fa6bb34",
   "metadata": {},
   "outputs": [
    {
     "name": "stdout",
     "output_type": "stream",
     "text": [
      "KNN_careers\n",
      "Teacher                 96.713663\n",
      "Manager                  1.719241\n",
      "Law & Public Service     0.694797\n",
      "Data Analyst             0.415864\n",
      "Creative                 0.253575\n",
      "Healthcare               0.172431\n",
      "Finance & Accounting     0.030429\n",
      "Name: proportion, dtype: float64\n"
     ]
    }
   ],
   "source": [
    "category_percentages = df_untrained_models['KNN_careers'].value_counts(normalize=True) * 100\n",
    "print(category_percentages)"
   ]
  },
  {
   "cell_type": "markdown",
   "id": "fcd2181a",
   "metadata": {},
   "source": [
    "#### Single-Feature Models"
   ]
  },
  {
   "cell_type": "code",
   "execution_count": 127,
   "id": "c52a97f3",
   "metadata": {},
   "outputs": [
    {
     "name": "stdout",
     "output_type": "stream",
     "text": [
      "Ensemble of Single-Feature Models Accuracy: 0.5238095238095238\n",
      "\n",
      "Classification Report:\n",
      "                       precision    recall  f1-score   support\n",
      "\n",
      "Architect & Designer       0.00      0.00      0.00         1\n",
      "            Creative       0.67      1.00      0.80         2\n",
      "        Data Analyst       0.00      0.00      0.00         1\n",
      "            Engineer       1.00      0.50      0.67         2\n",
      "Finance & Accounting       0.33      0.33      0.33         3\n",
      "          Healthcare       1.00      0.75      0.86         4\n",
      "       IT Specialist       0.00      0.00      0.00         0\n",
      "Law & Public Service       1.00      1.00      1.00         2\n",
      "             Manager       0.33      1.00      0.50         1\n",
      "          Sales & PR       0.00      0.00      0.00         1\n",
      "           Scientist       0.25      0.50      0.33         2\n",
      "     Social Services       0.00      0.00      0.00         1\n",
      "             Teacher       0.00      0.00      0.00         1\n",
      "\n",
      "            accuracy                           0.52        21\n",
      "           macro avg       0.35      0.39      0.35        21\n",
      "        weighted avg       0.53      0.52      0.50        21\n",
      "\n"
     ]
    },
    {
     "name": "stderr",
     "output_type": "stream",
     "text": [
      "c:\\Users\\modri\\AppData\\Local\\Programs\\Python\\Python313\\Lib\\site-packages\\sklearn\\metrics\\_classification.py:1565: UndefinedMetricWarning: Precision is ill-defined and being set to 0.0 in labels with no predicted samples. Use `zero_division` parameter to control this behavior.\n",
      "  _warn_prf(average, modifier, f\"{metric.capitalize()} is\", len(result))\n",
      "c:\\Users\\modri\\AppData\\Local\\Programs\\Python\\Python313\\Lib\\site-packages\\sklearn\\metrics\\_classification.py:1565: UndefinedMetricWarning: Recall is ill-defined and being set to 0.0 in labels with no true samples. Use `zero_division` parameter to control this behavior.\n",
      "  _warn_prf(average, modifier, f\"{metric.capitalize()} is\", len(result))\n",
      "c:\\Users\\modri\\AppData\\Local\\Programs\\Python\\Python313\\Lib\\site-packages\\sklearn\\metrics\\_classification.py:1565: UndefinedMetricWarning: Precision is ill-defined and being set to 0.0 in labels with no predicted samples. Use `zero_division` parameter to control this behavior.\n",
      "  _warn_prf(average, modifier, f\"{metric.capitalize()} is\", len(result))\n",
      "c:\\Users\\modri\\AppData\\Local\\Programs\\Python\\Python313\\Lib\\site-packages\\sklearn\\metrics\\_classification.py:1565: UndefinedMetricWarning: Recall is ill-defined and being set to 0.0 in labels with no true samples. Use `zero_division` parameter to control this behavior.\n",
      "  _warn_prf(average, modifier, f\"{metric.capitalize()} is\", len(result))\n",
      "c:\\Users\\modri\\AppData\\Local\\Programs\\Python\\Python313\\Lib\\site-packages\\sklearn\\metrics\\_classification.py:1565: UndefinedMetricWarning: Precision is ill-defined and being set to 0.0 in labels with no predicted samples. Use `zero_division` parameter to control this behavior.\n",
      "  _warn_prf(average, modifier, f\"{metric.capitalize()} is\", len(result))\n",
      "c:\\Users\\modri\\AppData\\Local\\Programs\\Python\\Python313\\Lib\\site-packages\\sklearn\\metrics\\_classification.py:1565: UndefinedMetricWarning: Recall is ill-defined and being set to 0.0 in labels with no true samples. Use `zero_division` parameter to control this behavior.\n",
      "  _warn_prf(average, modifier, f\"{metric.capitalize()} is\", len(result))\n"
     ]
    }
   ],
   "source": [
    "# Ensemble of Single-Feature Models\n",
    "# Define feature names\n",
    "feature_list = ['E_score', 'N_score', 'C_score', 'A_score', 'O_score']\n",
    "\n",
    "# Split data\n",
    "X = df_career[feature_list]\n",
    "y = df_career['Career']  \n",
    "X_train, X_test, y_train, y_test = train_test_split(X, y, test_size=0.2, random_state=42)\n",
    "\n",
    "# Store models and their predictions\n",
    "models = {}\n",
    "probas = []\n",
    "\n",
    "for feature in feature_list:\n",
    "    # Train a model on this single feature\n",
    "    clf = RandomForestClassifier(n_estimators=100, random_state=42)\n",
    "    clf.fit(X_train[[feature]], y_train)\n",
    "    models[feature] = clf\n",
    "\n",
    "    # Get predicted probabilities for the test set\n",
    "    proba = clf.predict_proba(X_test[[feature]])\n",
    "    probas.append(proba)\n",
    "\n",
    "# Combine probabilities by averaging (equal weights)\n",
    "combined_proba = np.mean(probas, axis=0)\n",
    "\n",
    "# Get final predictions\n",
    "final_preds = np.argmax(combined_proba, axis=1)\n",
    "\n",
    "# Map back to class names\n",
    "class_names = models[feature_list[0]].classes_\n",
    "final_preds_labels = [class_names[i] for i in final_preds]\n",
    "\n",
    "# Evaluate\n",
    "print(\"Ensemble of Single-Feature Models Accuracy:\", accuracy_score(y_test, final_preds_labels))\n",
    "print(\"\\nClassification Report:\\n\", classification_report(y_test, final_preds_labels))\n"
   ]
  },
  {
   "cell_type": "code",
   "execution_count": 128,
   "id": "0039f099",
   "metadata": {},
   "outputs": [],
   "source": [
    "# Use the same feature_list and models from the previous Single-Feature Model cell\n",
    "feature_list = ['E_score', 'N_score', 'C_score', 'A_score', 'O_score']\n",
    "\n",
    "# Prepare features for prediction\n",
    "X_untrained = df_untrained_models[feature_list]\n",
    "\n",
    "# Get predicted probabilities from each single-feature model\n",
    "probas_untrained = []\n",
    "for feature in feature_list:\n",
    "    proba = models[feature].predict_proba(X_untrained[[feature]])\n",
    "    probas_untrained.append(proba)\n",
    "\n",
    "# Combine probabilities by averaging\n",
    "combined_proba_untrained = np.mean(probas_untrained, axis=0)\n",
    "\n",
    "# Get final predictions\n",
    "final_preds_untrained = np.argmax(combined_proba_untrained, axis=1)\n",
    "\n",
    "# Map back to class names\n",
    "class_names = models[feature_list[0]].classes_\n",
    "df_untrained_models['Single-Feature_career'] = [class_names[i] for i in final_preds_untrained]"
   ]
  },
  {
   "cell_type": "code",
   "execution_count": 129,
   "id": "bcfb3579",
   "metadata": {},
   "outputs": [
    {
     "name": "stdout",
     "output_type": "stream",
     "text": [
      "Single-Feature_career\n",
      "Healthcare    100.0\n",
      "Name: proportion, dtype: float64\n"
     ]
    }
   ],
   "source": [
    "\n",
    "category_percentages = df_untrained_models['Single-Feature_career'].value_counts(normalize=True) * 100\n",
    "print(category_percentages)"
   ]
  },
  {
   "cell_type": "markdown",
   "id": "9fb07a90",
   "metadata": {},
   "source": [
    "#### SVM"
   ]
  },
  {
   "cell_type": "code",
   "execution_count": 130,
   "id": "225d6f0e",
   "metadata": {},
   "outputs": [
    {
     "name": "stdout",
     "output_type": "stream",
     "text": [
      "SVM Accuracy: 0.6666666666666666\n"
     ]
    }
   ],
   "source": [
    "# SVM model for predicting 'Career' on df_career\n",
    "\n",
    "# Features and target\n",
    "X = df_career[['E_score', 'N_score', 'C_score', 'A_score', 'O_score']]\n",
    "y = df_career['Career']\n",
    "\n",
    "# Encode the Career labels to numbers\n",
    "label_encoder = LabelEncoder()\n",
    "y_encoded = label_encoder.fit_transform(y)\n",
    "\n",
    "# Split data into train and test\n",
    "X_train, X_test, y_train, y_test = train_test_split(X, y_encoded, test_size=0.2, random_state=42)\n",
    "\n",
    "# Initialize the SVM model\n",
    "svm_model = SVC(kernel='linear', probability=True, random_state=42)\n",
    "\n",
    "# Train the model\n",
    "svm_model.fit(X_train, y_train)\n",
    "\n",
    "# Predict on test set\n",
    "y_pred_svm = svm_model.predict(X_test)\n",
    "\n",
    "# Evaluate\n",
    "print(\"SVM Accuracy:\", accuracy_score(y_test, y_pred_svm))\n"
   ]
  },
  {
   "cell_type": "code",
   "execution_count": 131,
   "id": "639d1bff",
   "metadata": {},
   "outputs": [],
   "source": [
    "# Prepare features for SVM prediction\n",
    "feature_cols = ['E_score', 'N_score', 'C_score', 'A_score', 'O_score']\n",
    "X_untrained = df_untrained_models[feature_cols]\n",
    "\n",
    "# Predict careers using the trained SVM model and label_encoder\n",
    "svm_preds = svm_model.predict(X_untrained)\n",
    "df_untrained_models['SVM_career'] = label_encoder.inverse_transform(svm_preds)"
   ]
  },
  {
   "cell_type": "code",
   "execution_count": 132,
   "id": "54656570",
   "metadata": {},
   "outputs": [
    {
     "name": "stdout",
     "output_type": "stream",
     "text": [
      "SVM_career\n",
      "Law & Public Service    84.785475\n",
      "Healthcare              15.199310\n",
      "Creative                 0.005072\n",
      "Sales & PR               0.005072\n",
      "Teacher                  0.005072\n",
      "Name: proportion, dtype: float64\n"
     ]
    }
   ],
   "source": [
    "category_percentages = df_untrained_models['SVM_career'].value_counts(normalize=True) * 100\n",
    "print(category_percentages)"
   ]
  },
  {
   "cell_type": "code",
   "execution_count": 133,
   "id": "7d95ba02",
   "metadata": {},
   "outputs": [],
   "source": [
    "# Drop old columns\n",
    "df = df.drop(columns=['E_score', 'N_score', 'C_score', 'A_score', 'O_score'])\n",
    "\n",
    "# Rename adjusted columns to original names\n",
    "df = df.rename(columns={\n",
    "    'E_score_adjusted': 'E_score',\n",
    "    'N_score_adjusted': 'N_score',\n",
    "    'C_score_adjusted': 'C_score',\n",
    "    'A_score_adjusted': 'A_score',\n",
    "    'O_score_adjusted': 'O_score'\n",
    "})\n"
   ]
  },
  {
   "cell_type": "markdown",
   "id": "10ac37b7",
   "metadata": {},
   "source": [
    "### Seperate Each Category \n"
   ]
  },
  {
   "cell_type": "markdown",
   "id": "5e72c668",
   "metadata": {},
   "source": [
    "#### Healthcare Model\n"
   ]
  },
  {
   "cell_type": "code",
   "execution_count": 134,
   "id": "dce0c795",
   "metadata": {},
   "outputs": [
    {
     "name": "stdout",
     "output_type": "stream",
     "text": [
      "\n",
      "Classification report for category 'Healthcare':\n",
      "              precision    recall  f1-score   support\n",
      "\n",
      "  Healthcare       0.90      0.76      0.83        25\n",
      "       Other       0.77      0.91      0.83        22\n",
      "\n",
      "    accuracy                           0.83        47\n",
      "   macro avg       0.84      0.83      0.83        47\n",
      "weighted avg       0.84      0.83      0.83        47\n",
      "\n",
      "Test accuracy: 0.83\n",
      "Original samples: 15\n",
      "Samples after SMOTE: 188\n",
      "Synthetic samples created by SMOTE: 85\n"
     ]
    }
   ],
   "source": [
    "category_name_healthcare = \"Healthcare\"\n",
    "indices_healthcare = (y == category_name_healthcare)\n",
    "X_cat_healthcare = X[indices_healthcare]\n",
    "y_cat_healthcare = y[indices_healthcare]\n",
    "\n",
    "# Sample 'Other' class (everything else)\n",
    "other_indices_healthcare = (y != category_name_healthcare)\n",
    "X_other_healthcare = X[other_indices_healthcare]\n",
    "y_other_healthcare = np.array(['Other'] * len(X_other_healthcare))\n",
    "\n",
    "# Combine\n",
    "X_binary_healthcare = np.vstack((X_cat_healthcare, X_other_healthcare))\n",
    "y_binary_healthcare = np.hstack((y_cat_healthcare, y_other_healthcare))\n",
    "\n",
    "# Encode\n",
    "le_binary_healthcare = LabelEncoder()\n",
    "y_binary_encoded_healthcare = le_binary_healthcare.fit_transform(y_binary_healthcare)\n",
    "\n",
    "# Apply SMOTE directly (target 30 samples for class 0 = Healthcare)\n",
    "sampling_strategy_smote_healthcare = {0: 100}\n",
    "smote_healthcare = SMOTE(sampling_strategy=sampling_strategy_smote_healthcare, random_state=42, k_neighbors=3)\n",
    "X_smote_healthcare, y_smote_healthcare = smote_healthcare.fit_resample(X_binary_healthcare, y_binary_encoded_healthcare)\n",
    "\n",
    "# Identify synthetic samples\n",
    "synthetic_mask_healthcare = np.arange(len(y_smote_healthcare)) >= len(X_binary_healthcare)\n",
    "X_synthetic_healthcare = X_smote_healthcare[synthetic_mask_healthcare]\n",
    "\n",
    "# Optional: Add small noise to synthetic samples\n",
    "X_smote_healthcare[synthetic_mask_healthcare] += np.random.normal(0, 0.1, X_synthetic_healthcare.shape)\n",
    "\n",
    "# Optional: Modify feature 0 within min/max bounds (replace with real bounds)\n",
    "feature_mins_healthcare = np.array([5.12, 6.01, 4.34, 5.45, 4.34])  # Update as needed\n",
    "feature_maxs_healthcare = np.array([8.78, 8.89, 8.78, 8.45, 6.45])  # Update as needed\n",
    "\n",
    "X_smote_healthcare[synthetic_mask_healthcare, 0] = np.random.uniform(\n",
    "    feature_mins_healthcare[0], feature_maxs_healthcare[0], size=X_smote_healthcare[synthetic_mask_healthcare, 0].shape\n",
    ")\n",
    "\n",
    "# Clip all features\n",
    "for i in range(X_smote_healthcare.shape[1]):\n",
    "    X_smote_healthcare[:, i] = np.clip(X_smote_healthcare[:, i], feature_mins_healthcare[i], feature_maxs_healthcare[i])\n",
    "\n",
    "# Train/test split\n",
    "X_train_healthcare, X_test_healthcare, y_train_healthcare, y_test_healthcare = train_test_split(\n",
    "    X_smote_healthcare, y_smote_healthcare, stratify=y_smote_healthcare, random_state=42\n",
    ")\n",
    "\n",
    "clf_healthcare = RandomForestClassifier(random_state=42)\n",
    "clf_healthcare.fit(X_train_healthcare, y_train_healthcare)\n",
    "\n",
    "y_pred_healthcare = clf_healthcare.predict(X_test_healthcare)\n",
    "\n",
    "print(f\"\\nClassification report for category '{category_name_healthcare}':\")\n",
    "print(classification_report(y_test_healthcare, y_pred_healthcare, target_names=le_binary_healthcare.classes_))\n",
    "\n",
    "accuracy_healthcare = clf_healthcare.score(X_test_healthcare, y_test_healthcare)\n",
    "print(f\"Test accuracy: {accuracy_healthcare:.2f}\")\n",
    "print(f\"Original samples: {len(X_cat_healthcare)}\")\n",
    "print(f\"Samples after SMOTE: {len(y_smote_healthcare)}\")\n",
    "print(f\"Synthetic samples created by SMOTE: {len(y_smote_healthcare) - len(X_binary_healthcare)}\")\n"
   ]
  },
  {
   "cell_type": "code",
   "execution_count": 135,
   "id": "bbdf4ffe",
   "metadata": {},
   "outputs": [
    {
     "name": "stdout",
     "output_type": "stream",
     "text": [
      "Number of synthetic 'Healthcare' samples: 85\n",
      "[[6.67628143 7.96961675 7.72120321 8.45       5.42988088]\n",
      " [5.20223767 6.53128621 7.84296288 8.45       5.9539819 ]\n",
      " [6.10335914 6.01       8.78       6.66797867 6.45      ]\n",
      " [7.10238123 6.06470974 7.31978073 8.45       6.45      ]\n",
      " [7.43853028 6.09135096 8.03809081 8.45       6.45      ]\n",
      " [6.06386893 6.04241664 7.41442059 8.45       6.45      ]\n",
      " [5.63004323 8.32001679 7.57000569 8.44288839 5.35011834]\n",
      " [8.17584467 6.07241198 7.40283455 8.45       6.45      ]\n",
      " [8.72291198 6.38228383 8.07391755 8.45       5.92745028]\n",
      " [7.04402607 6.49129315 7.72362754 8.45       6.03436872]\n",
      " [5.74834619 6.39930568 7.73289617 8.45       5.86519157]\n",
      " [6.11664482 6.37815558 8.37904537 8.45       6.15753562]\n",
      " [5.18730988 6.43400615 7.70752961 8.45       6.00814869]\n",
      " [8.46633363 6.48227186 7.69727691 8.45       6.16327389]\n",
      " [5.55096896 6.49017117 7.9407351  8.45       6.03240925]\n",
      " [7.2300503  6.14407923 8.24891674 8.45       6.45      ]\n",
      " [6.12304211 6.54592708 8.44361657 8.45       6.09723206]\n",
      " [7.14829149 6.44584643 8.78       7.32344372 6.45      ]\n",
      " [7.50419862 6.3974245  8.16572858 8.45       6.0441756 ]\n",
      " [8.156855   6.10504238 7.4253903  8.45       6.45      ]\n",
      " [5.87550185 6.63314588 7.81768733 8.45       5.83868655]\n",
      " [5.16024473 7.04382504 7.86391295 8.45       5.66735733]\n",
      " [5.62100141 6.01       8.78       6.91785246 6.45      ]\n",
      " [8.41406823 6.02202956 7.59921845 8.45       6.45      ]\n",
      " [8.31843768 6.13776768 7.6637653  5.52352833 6.45      ]\n",
      " [7.30653195 6.56792972 7.70829492 8.45       6.18553408]\n",
      " [7.31789171 6.5471571  8.00481161 8.45       5.91350765]\n",
      " [7.55403423 6.11584245 7.41108802 8.45       6.45      ]\n",
      " [5.76185888 6.21714057 8.54984848 8.45       5.71479591]\n",
      " [8.46674772 6.01       8.00223721 8.45       4.99432172]\n",
      " [6.65270012 6.441088   7.59205244 8.45       6.04665982]\n",
      " [6.52228701 6.39861331 7.67407865 8.45       6.10551423]\n",
      " [7.0192388  6.06040465 7.72697424 8.45       6.45      ]\n",
      " [5.29189544 6.01       8.78       6.79737274 6.45      ]\n",
      " [5.72859713 6.03139799 7.34259604 8.45       6.45      ]\n",
      " [7.82120304 6.07693445 8.24962308 8.45       6.45      ]\n",
      " [5.42304312 7.73171294 7.83449677 8.45       5.53285336]\n",
      " [7.32753672 6.31788808 8.1671579  8.45       6.45      ]\n",
      " [6.01797774 6.03034636 7.66369417 8.45       6.45      ]\n",
      " [6.54482195 6.17871416 8.17887175 8.45       6.45      ]\n",
      " [6.17661908 7.3485321  7.86745453 8.45       5.44637406]\n",
      " [6.42176214 6.01       7.30927753 8.45       6.45      ]\n",
      " [7.75170801 6.06629692 7.71493574 8.45       6.45      ]\n",
      " [6.20746548 6.01       8.16384057 8.45       4.34      ]\n",
      " [7.19304098 6.01       8.78       7.53355752 6.45      ]\n",
      " [6.86234447 6.01993323 8.25391743 8.45       6.45      ]\n",
      " [7.54903647 6.41355774 7.73531014 8.45       5.70664106]\n",
      " [8.54879685 6.01       8.78       6.97241859 6.45      ]\n",
      " [7.80121388 6.01       7.55351404 8.45       6.45      ]\n",
      " [5.90668179 6.55062928 7.72231081 8.45       5.89702931]\n",
      " [5.23413027 6.15415686 7.64277919 8.45       6.45      ]\n",
      " [6.0798864  6.04711459 7.36169231 8.45       6.45      ]\n",
      " [7.29798523 6.03544208 7.87392723 8.45       6.45      ]\n",
      " [5.30821848 6.48944521 7.6872292  8.45       6.21754008]\n",
      " [6.93670046 6.01       8.67386282 8.45       6.45      ]\n",
      " [7.30444483 6.01       8.24665978 8.45       6.45      ]\n",
      " [6.34333264 6.42808995 7.78792094 8.45       6.03356146]\n",
      " [7.94153867 6.30214138 7.8943754  8.45       5.96847121]\n",
      " [5.51014961 6.23706929 7.79818663 8.45       6.45      ]\n",
      " [5.39500428 6.01       8.78       7.17099441 6.45      ]\n",
      " [7.78517085 6.04336621 7.5238275  8.45       6.45      ]\n",
      " [6.93349822 6.40557067 7.72304969 8.45       5.91778347]\n",
      " [7.63955277 6.14556379 7.82134349 8.45       6.45      ]\n",
      " [6.71146806 6.27212798 7.92960443 8.45       6.00444153]\n",
      " [6.02183144 6.01       7.84091436 8.45       6.45      ]\n",
      " [8.11791448 6.01       8.15243989 8.45       4.50136246]\n",
      " [8.04586212 6.144542   7.55205942 8.45       6.45      ]\n",
      " [7.66258908 6.45557249 7.81655682 8.45       6.16295503]\n",
      " [6.1160512  6.40731189 7.67878956 8.45       6.09231706]\n",
      " [7.28024424 6.32100391 7.57604445 8.45       6.17690215]\n",
      " [6.44116446 6.01       8.78       7.9666977  6.45      ]\n",
      " [5.45519039 6.2189028  8.78       6.94292978 6.45      ]\n",
      " [8.47736769 6.01       8.78       6.1822967  6.45      ]\n",
      " [5.62075619 6.02980848 7.78136599 8.45       6.45      ]\n",
      " [8.59786871 6.01       8.31039892 8.45       6.45      ]\n",
      " [6.75238113 6.18490302 8.39045655 8.45       5.80266098]\n",
      " [5.79758652 6.41285591 7.63924883 8.45       5.89894242]\n",
      " [7.10335747 6.10356784 7.59954197 8.45       6.45      ]\n",
      " [8.31498176 6.05893746 7.65778722 8.45       6.45      ]\n",
      " [7.79994308 6.081096   7.40065659 8.45       6.45      ]\n",
      " [8.0720138  6.07159356 7.57110182 8.45       6.45      ]\n",
      " [7.53114712 6.5424027  8.09471484 8.45       6.11490092]\n",
      " [7.65373223 6.01       8.05117164 8.45       4.34      ]\n",
      " [8.22805608 6.01       8.46094786 8.45       4.55762162]\n",
      " [6.03378491 6.04991361 7.73587352 8.45       6.45      ]]\n"
     ]
    }
   ],
   "source": [
    "# Since we did NOT use ROS, the original dataset length is simply:\n",
    "n_original_healthcare = len(X_binary_healthcare)\n",
    "\n",
    "# Identify which samples are synthetic (newly generated by SMOTE)\n",
    "synthetic_mask_healthcare = np.arange(len(y_smote_healthcare)) >= n_original_healthcare\n",
    "\n",
    "# Get synthetic samples and labels\n",
    "X_synthetic_healthcare = X_smote_healthcare[synthetic_mask_healthcare]\n",
    "y_synthetic_healthcare = y_smote_healthcare[synthetic_mask_healthcare]\n",
    "\n",
    "# Filter synthetic samples for 'Healthcare' only (label 0)\n",
    "healthcare_label = 0  # assuming 0 = Healthcare after encoding\n",
    "healthcare_synthetic = X_synthetic_healthcare[y_synthetic_healthcare == healthcare_label]\n",
    "\n",
    "print(f\"Number of synthetic 'Healthcare' samples: {len(healthcare_synthetic)}\")\n",
    "print(healthcare_synthetic)\n"
   ]
  },
  {
   "cell_type": "markdown",
   "id": "701f4bbb",
   "metadata": {},
   "source": [
    "#### Architect/Designer Model"
   ]
  },
  {
   "cell_type": "code",
   "execution_count": 136,
   "id": "02cbccf9",
   "metadata": {},
   "outputs": [
    {
     "name": "stdout",
     "output_type": "stream",
     "text": [
      "\n",
      "Classification report for category 'Architect & Designer':\n",
      "                      precision    recall  f1-score   support\n",
      "\n",
      "Architect & Designer       0.89      0.92      0.91        26\n",
      "               Other       0.92      0.88      0.90        25\n",
      "\n",
      "            accuracy                           0.90        51\n",
      "           macro avg       0.90      0.90      0.90        51\n",
      "        weighted avg       0.90      0.90      0.90        51\n",
      "\n",
      "Test accuracy: 0.90\n",
      "Original samples after ROS: 106\n",
      "Samples after SMOTE: 203\n",
      "Synthetic samples created by SMOTE: 97\n"
     ]
    }
   ],
   "source": [
    "category_name_arch = \"Architect & Designer\"\n",
    "indices_arch = (y == category_name_arch)\n",
    "X_cat_arch = X[indices_arch]\n",
    "y_cat_arch = y[indices_arch]\n",
    "\n",
    "# Sample 'Other' class (everything else)\n",
    "other_indices_arch = (y != category_name_arch)\n",
    "X_other_arch = X[other_indices_arch]\n",
    "y_other_arch = np.array(['Other'] * len(X_other_arch))\n",
    "\n",
    "# Combine category + Other\n",
    "X_binary_arch = np.vstack((X_cat_arch, X_other_arch))\n",
    "y_binary_arch = np.hstack((y_cat_arch, y_other_arch))\n",
    "\n",
    "# Encode binary labels\n",
    "le_binary_arch = LabelEncoder()\n",
    "y_binary_encoded_arch = le_binary_arch.fit_transform(y_binary_arch)\n",
    "\n",
    "# Oversample to 6 samples using RandomOverSampler\n",
    "sampling_strategy_ros_arch = {0: 6}\n",
    "ros_arch = RandomOverSampler(sampling_strategy=sampling_strategy_ros_arch, random_state=42)\n",
    "X_ros_arch, y_ros_arch = ros_arch.fit_resample(X_binary_arch, y_binary_encoded_arch)\n",
    "\n",
    "# Add small random noise ±0.01 to newly duplicated samples by ROS\n",
    "new_ros_samples_idx = np.arange(len(X_binary_arch), len(X_ros_arch))\n",
    "noise_ros = np.random.uniform(low=-0.01, high=0.01, size=X_ros_arch[new_ros_samples_idx].shape)\n",
    "X_ros_arch[new_ros_samples_idx] += noise_ros\n",
    "\n",
    "# SMOTE to generate 30 samples for Architect/Designer (no scaling)\n",
    "sampling_strategy_smote_arch = {0: 103} \n",
    "smote_arch = SMOTE(sampling_strategy=sampling_strategy_smote_arch, random_state=42, k_neighbors=3)\n",
    "X_smote_arch, y_smote_arch = smote_arch.fit_resample(X_ros_arch, y_ros_arch)\n",
    "\n",
    "# Add small random noise to synthetic samples for Architect/Designer\n",
    "synthetic_mask_arch = np.arange(len(y_smote_arch)) >= len(y_ros_arch)\n",
    "noise_arch = np.random.normal(0, 0.1, X_smote_arch[synthetic_mask_arch].shape)\n",
    "X_smote_arch[synthetic_mask_arch] += noise_arch\n",
    "\n",
    "# For feature 0 of synthetic samples, generate random values within min/max bounds\n",
    "feature_mins_arch = np.array([6.78, 4.23, 3.67, 5.23, 4.56])  # update as needed\n",
    "feature_maxs_arch = np.array([8.45, 7.34, 7.67, 7.23, 6.45])  # update as needed\n",
    "\n",
    "X_smote_arch[synthetic_mask_arch, 0] = np.random.uniform(\n",
    "    feature_mins_arch[0], feature_maxs_arch[0], size=X_smote_arch[synthetic_mask_arch, 0].shape\n",
    ")\n",
    "\n",
    "# Clip all features to Architect/Designer-specific bounds\n",
    "for i in range(X_smote_arch.shape[1]):\n",
    "    X_smote_arch[:, i] = np.clip(X_smote_arch[:, i], feature_mins_arch[i], feature_maxs_arch[i])\n",
    "\n",
    "# Train/test split\n",
    "X_train_arch, X_test_arch, y_train_arch, y_test_arch = train_test_split(\n",
    "    X_smote_arch, y_smote_arch, stratify=y_smote_arch, random_state=42\n",
    ")\n",
    "\n",
    "clf_arch = RandomForestClassifier(random_state=42)\n",
    "clf_arch.fit(X_train_arch, y_train_arch)\n",
    "\n",
    "y_pred_arch = clf_arch.predict(X_test_arch)\n",
    "\n",
    "print(f\"\\nClassification report for category '{category_name_arch}':\")\n",
    "print(classification_report(y_test_arch, y_pred_arch, target_names=le_binary_arch.classes_))\n",
    "\n",
    "accuracy_arch = clf_arch.score(X_test_arch, y_test_arch)\n",
    "print(f\"Test accuracy: {accuracy_arch:.2f}\")\n",
    "print(f\"Original samples after ROS: {len(y_ros_arch)}\")\n",
    "print(f\"Samples after SMOTE: {len(y_smote_arch)}\")\n",
    "print(f\"Synthetic samples created by SMOTE: {len(y_smote_arch) - len(y_ros_arch)}\")\n"
   ]
  },
  {
   "cell_type": "code",
   "execution_count": 137,
   "id": "a958c0b6",
   "metadata": {},
   "outputs": [
    {
     "name": "stdout",
     "output_type": "stream",
     "text": [
      "Newly duplicated samples (from ROS):\n",
      "[[7.67 6.45 4.23 7.23 8.45]\n",
      " [3.67 4.67 7.34 5.23 6.78]\n",
      " [7.67 6.45 4.23 7.23 8.45]]\n"
     ]
    }
   ],
   "source": [
    "# Store original length BEFORE resampling\n",
    "n_original_arch = len(X_binary_arch)\n",
    "\n",
    "# Perform RandomOverSampler once\n",
    "ros_arch = RandomOverSampler(sampling_strategy={0: 6}, random_state=42)\n",
    "X_ros_arch, y_ros_arch = ros_arch.fit_resample(X_binary_arch, y_binary_encoded_arch)\n",
    "\n",
    "# Identify indices of newly duplicated samples (those beyond the original length)\n",
    "new_sample_indices_arch = np.arange(n_original_arch, len(X_ros_arch))\n",
    "\n",
    "# Extract duplicated samples and their labels\n",
    "duplicated_samples_architect = X_ros_arch[new_sample_indices_arch]\n",
    "duplicated_labels_architect = y_ros_arch[new_sample_indices_arch]\n",
    "\n",
    "print(\"Newly duplicated samples (from ROS):\")\n",
    "print(duplicated_samples_architect)\n",
    "\n"
   ]
  },
  {
   "cell_type": "code",
   "execution_count": 138,
   "id": "f3d95656",
   "metadata": {},
   "outputs": [
    {
     "name": "stdout",
     "output_type": "stream",
     "text": [
      "Number of synthetic 'Architect' samples: 97\n",
      "[[6.99328152 6.44790898 4.29623617 7.23       6.45      ]\n",
      " [8.15953294 4.83809427 6.97321595 5.42521949 6.45      ]\n",
      " [8.08598691 6.47343066 4.18203117 7.23       6.45      ]\n",
      " [7.96360365 6.4017849  4.382118   7.23       6.45      ]\n",
      " [6.84038784 6.47892118 4.31668821 7.23       6.45      ]\n",
      " [7.28622435 6.59270179 4.45899891 7.20229414 6.45      ]\n",
      " [7.21939799 6.60708442 4.18064983 7.19666831 6.45      ]\n",
      " [7.3814278  4.53008124 7.07874828 5.25892937 6.45      ]\n",
      " [6.92636339 6.60266616 4.13433456 7.23       6.45      ]\n",
      " [8.34471956 4.78258626 7.14892224 5.31930498 6.45      ]\n",
      " [7.70484974 4.68704881 7.54992584 5.23       6.45      ]\n",
      " [7.2902256  6.32965056 4.26308124 7.23       6.45      ]\n",
      " [7.44295913 5.67603162 5.29412775 6.53324031 6.45      ]\n",
      " [7.52682824 4.48384643 7.39101305 5.47874608 6.45      ]\n",
      " [7.78299254 4.70291192 7.37019668 5.29654553 6.45      ]\n",
      " [7.64118464 4.65435425 6.61600441 5.54225959 6.45      ]\n",
      " [8.3153846  5.92289075 4.95273312 6.79128472 6.45      ]\n",
      " [7.60992902 6.39695295 4.18266894 7.23       6.45      ]\n",
      " [8.43690388 6.50702982 4.19645499 7.23       6.45      ]\n",
      " [8.20187968 6.50377242 4.33354177 7.23       6.45      ]\n",
      " [7.12821256 4.79773346 7.11011795 5.50654869 6.45      ]\n",
      " [8.33409401 5.15084875 6.4400361  5.94088659 6.45      ]\n",
      " [6.97433188 6.00462928 4.76100145 7.01502388 6.45      ]\n",
      " [8.14514101 6.34159304 4.48264635 7.23       6.45      ]\n",
      " [7.4156409  4.70968289 7.29534064 5.23       6.45      ]\n",
      " [8.24621712 6.3498494  4.24072977 7.1653642  6.45      ]\n",
      " [8.22965467 4.7470473  6.69038163 5.83535255 6.45      ]\n",
      " [8.12589542 6.64128893 4.08194131 7.01694091 6.45      ]\n",
      " [8.09935083 5.99847106 4.81620356 6.9291897  6.45      ]\n",
      " [7.28881416 4.75301841 7.36386248 5.24493234 6.45      ]\n",
      " [6.9151352  4.46203772 7.08988334 5.34472268 6.45      ]\n",
      " [7.4529769  4.95990395 6.34874924 5.93876742 6.45      ]\n",
      " [7.06978594 4.79065998 6.76680914 5.69193421 6.45      ]\n",
      " [7.94056832 4.76793487 7.25471097 5.37086114 6.45      ]\n",
      " [7.35798654 4.80520855 7.17322051 5.4482748  6.45      ]\n",
      " [8.40926904 6.38279481 4.31314053 7.1666723  6.45      ]\n",
      " [7.85042337 5.59434131 5.18055934 6.31644582 6.45      ]\n",
      " [8.15354254 6.48798466 4.14128078 7.23       6.45      ]\n",
      " [7.0013162  6.34882548 4.75836941 6.93719831 6.45      ]\n",
      " [8.21956419 4.47816254 7.29372894 5.23       6.45      ]\n",
      " [8.32100451 4.79774753 7.23241209 5.28591136 6.45      ]\n",
      " [7.5933934  6.54243626 4.23767295 7.1739584  6.45      ]\n",
      " [7.79244241 4.6758402  7.14539382 5.50639338 6.45      ]\n",
      " [8.05723237 6.24668954 4.76718461 6.95519138 6.45      ]\n",
      " [7.07198051 6.38297572 4.1849043  7.20096369 6.45      ]\n",
      " [7.61928535 4.61436948 7.31270097 5.45806823 6.45      ]\n",
      " [7.44576726 4.63824803 7.24534617 5.36245644 6.45      ]\n",
      " [7.02444457 5.37076319 5.61274434 6.44277438 6.45      ]\n",
      " [7.39378249 6.32576752 4.08645908 7.23       6.45      ]\n",
      " [6.89384776 4.55720349 7.23554281 5.36664478 6.45      ]\n",
      " [6.82310588 4.67867557 6.77380061 5.64812144 6.45      ]\n",
      " [7.0057277  4.67034558 6.95537276 5.5432447  6.45      ]\n",
      " [8.38840224 4.63974854 7.37418474 5.33975212 6.45      ]\n",
      " [7.69771432 6.16234249 4.34978009 7.06049365 6.45      ]\n",
      " [8.39292301 4.46618743 7.22345036 5.33744552 6.45      ]\n",
      " [7.50227146 4.69245404 7.24911603 5.23       6.45      ]\n",
      " [7.30073294 6.29814457 4.18328497 7.23       6.45      ]\n",
      " [7.62525691 5.72002057 5.41554242 6.66274769 6.45      ]\n",
      " [7.51398452 6.5502255  4.25878173 7.20856017 6.45      ]\n",
      " [6.95646002 4.66868226 7.38971535 5.24780886 6.45      ]\n",
      " [7.85017995 6.45630984 4.03289767 7.23       6.45      ]\n",
      " [7.14078376 6.16073667 4.43846567 7.21681967 6.45      ]\n",
      " [7.81471188 4.73774489 7.22980039 5.23       6.45      ]\n",
      " [7.86583582 6.20126828 4.71634876 7.02891338 6.45      ]\n",
      " [7.0338815  5.78318056 5.81355222 6.23405613 6.45      ]\n",
      " [6.88245388 4.78882507 7.40378135 5.23       6.45      ]\n",
      " [8.08387185 6.02277908 4.82748607 6.79272778 6.45      ]\n",
      " [7.54786671 5.90763413 5.41549059 6.62603942 6.45      ]\n",
      " [6.87713354 4.79097447 7.21571633 5.29006394 6.45      ]\n",
      " [8.44142675 4.80959178 7.3234763  5.24288057 6.45      ]\n",
      " [6.87649354 6.34324778 4.08304344 7.23       6.45      ]\n",
      " [7.94070883 5.53955087 5.18854093 6.44303704 6.45      ]\n",
      " [8.42274381 4.60656271 7.5612041  5.32903579 6.45      ]\n",
      " [7.17943077 5.47967973 5.85582967 5.94103193 6.45      ]\n",
      " [7.01755645 6.5854399  4.29161652 7.23       6.45      ]\n",
      " [6.98271285 6.47340327 4.2489269  7.23       6.45      ]\n",
      " [7.2864695  6.27669712 4.22764552 7.13995731 6.45      ]\n",
      " [6.9487465  6.58741162 4.32496034 7.07579885 6.45      ]\n",
      " [7.93590944 4.90271422 6.7392833  5.65969874 6.45      ]\n",
      " [6.8840273  4.60894985 7.15345024 5.34389061 6.45      ]\n",
      " [7.63073495 4.67306174 7.39147408 5.25319438 6.45      ]\n",
      " [8.44448375 4.59159153 7.24582599 5.35526564 6.45      ]\n",
      " [8.13933035 6.37431751 4.17330148 7.09847334 6.45      ]\n",
      " [7.80741646 6.38273143 4.15608375 7.23       6.45      ]\n",
      " [7.29144355 5.95457392 4.88755767 6.74330281 6.45      ]\n",
      " [7.82190605 6.48352947 4.29076279 7.23       6.45      ]\n",
      " [7.66015924 6.1248286  4.70003847 7.01601567 6.45      ]\n",
      " [7.49155925 6.30916716 4.22791076 7.23       6.45      ]\n",
      " [6.99828633 5.88342083 5.25574683 6.60395591 6.45      ]\n",
      " [8.26062904 4.54660167 6.97271101 5.33460492 6.45      ]\n",
      " [7.53114036 4.67457796 7.26212413 5.25356547 6.45      ]\n",
      " [7.10501959 6.53595463 4.02795576 7.23       6.45      ]\n",
      " [7.39415812 4.73973933 7.08934816 5.35453464 6.45      ]\n",
      " [7.47159669 6.31839926 4.52709732 6.99553225 6.45      ]\n",
      " [8.16198829 4.78002208 6.57980899 5.59587233 6.45      ]\n",
      " [8.00513602 6.50947558 4.12328452 7.20064998 6.45      ]\n",
      " [8.06473917 6.07302461 5.33321846 6.57503445 6.45      ]]\n"
     ]
    }
   ],
   "source": [
    "# Identify which samples are synthetic (newly generated)\n",
    "synthetic_mask_arch = np.arange(len(y_smote_arch)) >= len(y_ros_arch)\n",
    "\n",
    "# Get the synthetic samples and labels\n",
    "X_synthetic_arch = X_smote_arch[synthetic_mask_arch]\n",
    "y_synthetic_arch = y_smote_arch[synthetic_mask_arch]\n",
    "\n",
    "# Since label 1 corresponds to \"Architect\", filter synthetic samples for Architect only\n",
    "arch_label = 0  # assuming 1 = Architect after encoding\n",
    "arch_synthetic = X_synthetic_arch[y_synthetic_arch == arch_label]\n",
    "\n",
    "print(f\"Number of synthetic 'Architect' samples: {len(arch_synthetic)}\")\n",
    "print(arch_synthetic)\n"
   ]
  },
  {
   "cell_type": "markdown",
   "id": "6de58681",
   "metadata": {},
   "source": [
    "#### Creative Model"
   ]
  },
  {
   "cell_type": "code",
   "execution_count": 139,
   "id": "f529c85e",
   "metadata": {},
   "outputs": [
    {
     "name": "stdout",
     "output_type": "stream",
     "text": [
      "\n",
      "Classification report for category 'Creative':\n",
      "              precision    recall  f1-score   support\n",
      "\n",
      "    Creative       0.93      1.00      0.96        25\n",
      "       Other       1.00      0.92      0.96        24\n",
      "\n",
      "    accuracy                           0.96        49\n",
      "   macro avg       0.96      0.96      0.96        49\n",
      "weighted avg       0.96      0.96      0.96        49\n",
      "\n",
      "Test accuracy: 0.96\n",
      "Original samples: 9\n",
      "Samples after SMOTE: 194\n",
      "Synthetic samples created by SMOTE: 91\n"
     ]
    }
   ],
   "source": [
    "category_name_creative = \"Creative\"\n",
    "indices_creative = (y == category_name_creative)\n",
    "X_cat_creative = X[indices_creative]\n",
    "y_cat_creative = y[indices_creative]\n",
    "\n",
    "# Sample 'Other' class (everything else)\n",
    "other_indices_creative = (y != category_name_creative)\n",
    "X_other_creative = X[other_indices_creative]\n",
    "y_other_creative = np.array(['Other'] * len(X_other_creative))\n",
    "\n",
    "# Combine\n",
    "X_binary_creative = np.vstack((X_cat_creative, X_other_creative))\n",
    "y_binary_creative = np.hstack((y_cat_creative, y_other_creative))\n",
    "\n",
    "# Encode\n",
    "le_binary_creative = LabelEncoder()\n",
    "y_binary_encoded_creative = le_binary_creative.fit_transform(y_binary_creative)\n",
    "\n",
    "# Apply SMOTE directly (target 30 samples for class 0 = Creative)\n",
    "sampling_strategy_smote_creative = {0: 100}\n",
    "smote_creative = SMOTE(sampling_strategy=sampling_strategy_smote_creative, random_state=42, k_neighbors=5)\n",
    "X_smote_creative, y_smote_creative = smote_creative.fit_resample(X_binary_creative, y_binary_encoded_creative)\n",
    "\n",
    "# Identify synthetic samples\n",
    "synthetic_mask_creative = np.arange(len(y_smote_creative)) >= len(X_binary_creative)\n",
    "X_synthetic_creative = X_smote_creative[synthetic_mask_creative]\n",
    "\n",
    "# Optional: Add small noise to synthetic samples\n",
    "X_smote_creative[synthetic_mask_creative] += np.random.normal(0, 0.1, X_synthetic_creative.shape)\n",
    "\n",
    "# Optional: Modify feature 0 within min/max bounds (update with real values!)\n",
    "feature_mins_creative = np.array([5.12, 6.01, 4.34, 5.45, 4.34])  # Update as needed\n",
    "feature_maxs_creative = np.array([8.78, 8.89, 8.78, 8.45, 6.45])  # Update as needed\n",
    "\n",
    "X_smote_creative[synthetic_mask_creative, 0] = np.random.uniform(\n",
    "    feature_mins_creative[0], feature_maxs_creative[0], size=X_smote_creative[synthetic_mask_creative, 0].shape\n",
    ")\n",
    "\n",
    "# Clip all features\n",
    "for i in range(X_smote_creative.shape[1]):\n",
    "    X_smote_creative[:, i] = np.clip(X_smote_creative[:, i], feature_mins_creative[i], feature_maxs_creative[i])\n",
    "\n",
    "# Train/test split\n",
    "X_train_creative, X_test_creative, y_train_creative, y_test_creative = train_test_split(\n",
    "    X_smote_creative, y_smote_creative, stratify=y_smote_creative, random_state=42\n",
    ")\n",
    "\n",
    "clf_creative = RandomForestClassifier(random_state=42)\n",
    "clf_creative.fit(X_train_creative, y_train_creative)\n",
    "\n",
    "y_pred_creative = clf_creative.predict(X_test_creative)\n",
    "\n",
    "print(f\"\\nClassification report for category '{category_name_creative}':\")\n",
    "print(classification_report(y_test_creative, y_pred_creative, target_names=le_binary_creative.classes_))\n",
    "\n",
    "accuracy_creative = clf_creative.score(X_test_creative, y_test_creative)\n",
    "print(f\"Test accuracy: {accuracy_creative:.2f}\")\n",
    "print(f\"Original samples: {len(X_cat_creative)}\")\n",
    "print(f\"Samples after SMOTE: {len(y_smote_creative)}\")\n",
    "print(f\"Synthetic samples created by SMOTE: {len(y_smote_creative) - len(X_binary_creative)}\")\n"
   ]
  },
  {
   "cell_type": "code",
   "execution_count": 140,
   "id": "1e3980f4",
   "metadata": {},
   "outputs": [
    {
     "name": "stdout",
     "output_type": "stream",
     "text": [
      "Number of synthetic 'Creative' samples: 91\n",
      "[[7.37846345 6.01       4.34       6.77848069 6.45      ]\n",
      " [5.53664852 6.01       4.34       7.03585475 6.45      ]\n",
      " [6.3835167  6.45734018 4.34       7.31285164 6.45      ]\n",
      " [6.9771277  6.01       7.27833164 6.36804008 6.45      ]\n",
      " [8.31965444 6.01       4.34       6.79155861 6.45      ]\n",
      " [6.92638048 6.63757131 4.38662634 7.29791414 6.45      ]\n",
      " [7.69026708 6.01       4.34       6.79683952 6.45      ]\n",
      " [8.75370963 6.87497475 4.46896399 6.55519032 6.45      ]\n",
      " [5.60125018 6.9923284  4.34       6.62134614 6.45      ]\n",
      " [6.12551738 6.51802654 4.34578148 7.40485903 6.45      ]\n",
      " [6.56414844 6.37921473 4.34       7.53795926 6.45      ]\n",
      " [6.66389113 6.01       4.34       6.76294209 6.45      ]\n",
      " [6.62433714 6.01       4.34       6.92721776 6.45      ]\n",
      " [8.44185627 6.07717983 4.34       6.58543    6.45      ]\n",
      " [7.73335948 6.99282054 4.34       6.34284449 6.45      ]\n",
      " [7.34493308 6.01       5.02859723 6.50424305 6.45      ]\n",
      " [6.25230415 6.88567087 4.34       6.86648334 6.45      ]\n",
      " [8.13507281 6.01       6.15772828 7.381236   6.45      ]\n",
      " [8.61552147 6.12872393 4.34       6.71068401 6.45      ]\n",
      " [8.12558571 6.39093643 4.57217905 7.41848169 6.45      ]\n",
      " [5.12572829 6.01       5.13474321 7.26403372 6.45      ]\n",
      " [7.44922901 6.01       4.34       7.04126565 6.45      ]\n",
      " [5.3071555  6.01       6.16409311 7.28951071 6.45      ]\n",
      " [6.06284243 6.69311947 4.34       7.3395833  6.45      ]\n",
      " [5.3378604  6.01       4.34       7.30070612 6.45      ]\n",
      " [7.32989136 6.13857275 4.34       6.96578878 6.45      ]\n",
      " [7.63291908 6.70712257 4.34       6.73438353 6.45      ]\n",
      " [5.53902476 6.07011752 5.86002048 7.14084206 6.45      ]\n",
      " [6.52485031 6.34870672 4.34       6.50751232 6.45      ]\n",
      " [6.78982562 6.01       6.3247758  7.74333546 6.45      ]\n",
      " [6.47073406 6.01       7.09734236 6.53278501 6.45      ]\n",
      " [5.5629515  6.01       6.31530065 7.65132537 6.45      ]\n",
      " [6.65334891 6.37011424 4.34       7.20141634 6.45      ]\n",
      " [7.86931165 6.18364998 4.34       7.25836628 6.45      ]\n",
      " [5.37988805 6.12610209 5.72338393 6.98473699 6.45      ]\n",
      " [5.41345885 6.01       4.34       6.62416212 6.45      ]\n",
      " [6.41846293 6.01       4.34       7.02416969 6.45      ]\n",
      " [8.5667161  6.37272791 4.34       7.23254849 6.45      ]\n",
      " [7.56697589 6.75283072 4.34       7.20038672 6.45      ]\n",
      " [7.60393204 6.3161665  4.34       7.31121953 6.45      ]\n",
      " [6.44462717 6.01       4.34       6.72265622 6.45      ]\n",
      " [7.2927985  6.01       4.34       6.97885941 6.45      ]\n",
      " [5.15708013 6.01       5.33490868 6.6970944  6.45      ]\n",
      " [7.44811153 6.01       4.34       6.58051698 6.45      ]\n",
      " [8.46263023 7.00017376 4.47802714 6.65155461 6.45      ]\n",
      " [7.36201889 6.9628412  4.34       6.70555629 6.45      ]\n",
      " [8.31773685 6.2077757  7.23359926 6.62746936 6.45      ]\n",
      " [7.76974138 6.01       6.24268072 7.40537218 6.45      ]\n",
      " [5.5612438  6.171839   4.34       6.98232044 6.45      ]\n",
      " [8.4229791  6.35793124 4.38561733 7.33518446 6.45      ]\n",
      " [5.36318447 6.41369034 4.34       7.10925213 6.45      ]\n",
      " [7.07432095 6.50499631 4.83456243 7.19271609 6.45      ]\n",
      " [5.64022187 6.01       4.34       6.79857522 6.45      ]\n",
      " [5.1628462  6.01       4.34       6.74395266 6.45      ]\n",
      " [6.66464539 6.52054294 4.34       7.26636223 6.45      ]\n",
      " [6.19984899 6.0129468  4.34       7.21413035 6.45      ]\n",
      " [6.89876181 6.01       4.34       6.89829997 6.45      ]\n",
      " [7.23255159 6.93489923 4.38174426 6.58659415 6.45      ]\n",
      " [5.280085   6.01       4.34       6.99764521 6.45      ]\n",
      " [5.57019206 6.01       5.72376521 6.40306613 6.45      ]\n",
      " [7.16463117 6.52609047 4.34       7.33368105 6.45      ]\n",
      " [6.37599251 6.01       6.66704744 6.50212953 6.45      ]\n",
      " [7.78877496 6.01       5.36508959 6.71761458 6.45      ]\n",
      " [7.50738743 6.01       6.103268   7.67336631 6.45      ]\n",
      " [8.21491197 6.01       4.34       6.9627678  6.45      ]\n",
      " [7.65452375 6.01       7.09366199 6.49683033 6.45      ]\n",
      " [6.69354774 6.01       6.28500264 6.87247179 6.45      ]\n",
      " [7.58305784 6.25985186 4.34       6.54252772 6.45      ]\n",
      " [6.1278951  6.01       4.34       7.10336259 6.45      ]\n",
      " [6.24110741 6.01       4.34       6.90087827 6.45      ]\n",
      " [8.00768569 6.98895593 4.40358538 6.53064439 6.45      ]\n",
      " [6.75389543 6.1265571  4.34       6.80775135 6.45      ]\n",
      " [8.04207205 6.06654282 4.34       7.34805194 6.45      ]\n",
      " [8.13006589 6.01       4.34       7.02021226 6.45      ]\n",
      " [8.25867816 6.42388935 4.34       7.25918145 6.45      ]\n",
      " [8.47488496 6.78507364 4.34       6.58732459 6.45      ]\n",
      " [6.69740591 6.01       4.34       6.79952525 6.45      ]\n",
      " [6.28705256 6.77752995 4.34       7.09351578 6.45      ]\n",
      " [7.25084741 6.24036524 4.34       7.20155203 6.45      ]\n",
      " [6.47849107 6.11501106 7.07034052 6.5216594  6.45      ]\n",
      " [7.31993145 6.01       4.34       6.88097818 6.45      ]\n",
      " [7.70244426 6.01       4.34       6.78448078 6.45      ]\n",
      " [7.63956237 6.01       6.7285384  7.56283974 6.45      ]\n",
      " [6.49086357 7.02543117 4.34       6.58639562 6.45      ]\n",
      " [5.73070834 6.01       5.71972823 6.89905168 6.45      ]\n",
      " [6.69573738 6.01       6.46578725 7.51841321 6.45      ]\n",
      " [5.64189457 6.01       5.95162032 7.48798397 6.45      ]\n",
      " [8.37775515 6.01       4.34       6.95571031 6.45      ]\n",
      " [6.38591151 6.01       4.6738375  6.75250096 6.45      ]\n",
      " [5.68532267 6.01       6.06754152 6.55844796 6.45      ]\n",
      " [5.2131388  6.17696542 4.34       6.67226242 6.45      ]]\n"
     ]
    }
   ],
   "source": [
    "# Since we did NOT use ROS, the original dataset length is simply:\n",
    "n_original_creative = len(X_binary_creative)\n",
    "\n",
    "# Identify which samples are synthetic (newly generated by SMOTE)\n",
    "synthetic_mask_creative = np.arange(len(y_smote_creative)) >= n_original_creative\n",
    "\n",
    "# Get synthetic samples and labels\n",
    "X_synthetic_creative = X_smote_creative[synthetic_mask_creative]\n",
    "y_synthetic_creative = y_smote_creative[synthetic_mask_creative]\n",
    "\n",
    "# Filter synthetic samples for 'Creative' only (label 0)\n",
    "creative_label = 0  # assuming 0 = Creative after encoding\n",
    "creative_synthetic = X_synthetic_creative[y_synthetic_creative == creative_label]\n",
    "\n",
    "print(f\"Number of synthetic 'Creative' samples: {len(creative_synthetic)}\")\n",
    "print(creative_synthetic)\n"
   ]
  },
  {
   "cell_type": "markdown",
   "id": "22a148aa",
   "metadata": {},
   "source": [
    "#### Data Analyst Model"
   ]
  },
  {
   "cell_type": "code",
   "execution_count": 141,
   "id": "918a8ebb",
   "metadata": {},
   "outputs": [
    {
     "name": "stdout",
     "output_type": "stream",
     "text": [
      "\n",
      "Classification report for category 'Data Analyst':\n",
      "              precision    recall  f1-score   support\n",
      "\n",
      "Data Analyst       0.91      0.84      0.88        25\n",
      "       Other       0.85      0.92      0.88        25\n",
      "\n",
      "    accuracy                           0.88        50\n",
      "   macro avg       0.88      0.88      0.88        50\n",
      "weighted avg       0.88      0.88      0.88        50\n",
      "\n",
      "Test accuracy: 0.88\n",
      "Original samples: 6\n",
      "Samples after SMOTE: 197\n",
      "Synthetic samples created by SMOTE: 94\n"
     ]
    }
   ],
   "source": [
    "category_name_analyst = \"Data Analyst\"\n",
    "indices_analyst = (y == category_name_analyst)\n",
    "X_cat_analyst = X[indices_analyst]\n",
    "y_cat_analyst = y[indices_analyst]\n",
    "\n",
    "# Sample 'Other' class (everything else)\n",
    "other_indices_analyst = (y != category_name_analyst)\n",
    "X_other_analyst = X[other_indices_analyst]\n",
    "y_other_analyst = np.array(['Other'] * len(X_other_analyst))\n",
    "\n",
    "# Combine\n",
    "X_binary_analyst = np.vstack((X_cat_analyst, X_other_analyst))\n",
    "y_binary_analyst = np.hstack((y_cat_analyst, y_other_analyst))\n",
    "\n",
    "# Encode\n",
    "le_binary_analyst = LabelEncoder()\n",
    "y_binary_encoded_analyst = le_binary_analyst.fit_transform(y_binary_analyst)\n",
    "\n",
    "# Apply SMOTE directly (target 30 samples for class 0 = Data Analyst)\n",
    "sampling_strategy_smote_analyst = {0: 100}\n",
    "smote_analyst = SMOTE(sampling_strategy=sampling_strategy_smote_analyst, random_state=42, k_neighbors=3)\n",
    "X_smote_analyst, y_smote_analyst = smote_analyst.fit_resample(X_binary_analyst, y_binary_encoded_analyst)\n",
    "\n",
    "# Identify synthetic samples\n",
    "synthetic_mask_analyst = np.arange(len(y_smote_analyst)) >= len(X_binary_analyst)\n",
    "X_synthetic_analyst = X_smote_analyst[synthetic_mask_analyst]\n",
    "\n",
    "# Optional: Add small noise to synthetic samples\n",
    "X_smote_analyst[synthetic_mask_analyst] += np.random.normal(0, 0.1, X_synthetic_analyst.shape)\n",
    "\n",
    "# Optional: Modify feature 0 within min/max bounds (update with real values!)\n",
    "feature_mins_analyst = np.array([5.12, 6.01, 4.34, 5.45, 4.34])  # Update as needed\n",
    "feature_maxs_analyst = np.array([8.78, 8.89, 8.78, 8.45, 6.45])  # Update as needed\n",
    "\n",
    "X_smote_analyst[synthetic_mask_analyst, 0] = np.random.uniform(\n",
    "    feature_mins_analyst[0], feature_maxs_analyst[0], size=X_smote_analyst[synthetic_mask_analyst, 0].shape\n",
    ")\n",
    "\n",
    "# Clip all features\n",
    "for i in range(X_smote_analyst.shape[1]):\n",
    "    X_smote_analyst[:, i] = np.clip(X_smote_analyst[:, i], feature_mins_analyst[i], feature_maxs_analyst[i])\n",
    "\n",
    "# Train/test split\n",
    "X_train_analyst, X_test_analyst, y_train_analyst, y_test_analyst = train_test_split(\n",
    "    X_smote_analyst, y_smote_analyst, stratify=y_smote_analyst, random_state=42\n",
    ")\n",
    "\n",
    "clf_analyst = RandomForestClassifier(random_state=42)\n",
    "clf_analyst.fit(X_train_analyst, y_train_analyst)\n",
    "\n",
    "y_pred_analyst = clf_analyst.predict(X_test_analyst)\n",
    "\n",
    "print(f\"\\nClassification report for category '{category_name_analyst}':\")\n",
    "print(classification_report(y_test_analyst, y_pred_analyst, target_names=le_binary_analyst.classes_))\n",
    "\n",
    "accuracy_analyst = clf_analyst.score(X_test_analyst, y_test_analyst)\n",
    "print(f\"Test accuracy: {accuracy_analyst:.2f}\")\n",
    "print(f\"Original samples: {len(X_cat_analyst)}\")\n",
    "print(f\"Samples after SMOTE: {len(y_smote_analyst)}\")\n",
    "print(f\"Synthetic samples created by SMOTE: {len(y_smote_analyst) - len(X_binary_analyst)}\")\n"
   ]
  },
  {
   "cell_type": "code",
   "execution_count": 142,
   "id": "a1173ca2",
   "metadata": {},
   "outputs": [
    {
     "name": "stdout",
     "output_type": "stream",
     "text": [
      "Number of synthetic 'Data Analyst' samples: 94\n",
      "[[7.1429079  6.01       8.62973941 6.21395422 6.45      ]\n",
      " [6.57138648 6.01       8.60692396 6.61155828 6.45      ]\n",
      " [5.602077   6.01       8.01231243 6.56084911 6.45      ]\n",
      " [8.28698248 6.01       8.36887234 6.05276418 6.45      ]\n",
      " [5.69561994 6.01       8.62055222 6.41167372 6.45      ]\n",
      " [6.25382356 6.01       8.21508718 6.19418214 6.45      ]\n",
      " [6.18156665 6.01       8.11894022 6.25362187 6.45      ]\n",
      " [8.30937537 6.01       8.73941814 6.56929665 6.45      ]\n",
      " [7.58209296 6.01       8.23206765 5.95938914 6.45      ]\n",
      " [8.03585391 6.36235735 7.60916052 7.37880513 6.45      ]\n",
      " [6.03671251 6.01       8.00785984 6.1417896  6.45      ]\n",
      " [7.4070392  6.37526114 7.65793586 7.3887791  6.45      ]\n",
      " [7.2125903  6.01       8.42304894 6.47537397 6.45      ]\n",
      " [8.16815918 6.05635991 7.9015787  7.0325486  6.45      ]\n",
      " [8.43627864 6.51215719 7.64450497 7.47624403 6.45      ]\n",
      " [5.16449378 6.01       7.96806698 7.10082193 6.45      ]\n",
      " [7.5869129  6.01       8.37071938 6.67315701 6.45      ]\n",
      " [5.30971902 6.01       8.29149706 6.07204864 6.45      ]\n",
      " [7.12882271 6.50556045 7.69428453 7.4149397  6.45      ]\n",
      " [6.17273579 6.01       8.50935567 6.02541887 6.45      ]\n",
      " [6.24280235 6.01       8.52991319 6.56241127 6.45      ]\n",
      " [6.41182812 6.01       8.3975078  6.31203818 6.45      ]\n",
      " [7.39393036 6.01       8.66416211 6.57965601 6.45      ]\n",
      " [6.34262287 6.01       8.26128082 6.88243887 6.45      ]\n",
      " [7.80167853 6.01       8.62416234 6.21806885 6.45      ]\n",
      " [6.60057023 6.01       8.54988802 6.38295398 6.45      ]\n",
      " [5.37017271 6.01       8.38868726 6.28483633 6.45      ]\n",
      " [7.98856102 6.01       8.19932284 6.06380634 6.45      ]\n",
      " [6.16587547 6.01       8.45382612 6.12836162 6.45      ]\n",
      " [6.70392678 6.01       8.47511805 6.27686248 6.45      ]\n",
      " [7.62872461 6.01       8.42032806 6.53393733 6.45      ]\n",
      " [6.33678954 6.01       8.62234445 6.16009366 6.45      ]\n",
      " [5.3271035  6.01       8.70028766 6.43788491 6.45      ]\n",
      " [6.48855103 6.01       7.85648395 6.86769288 6.45      ]\n",
      " [8.57668181 6.01       8.58896242 6.45002071 6.45      ]\n",
      " [7.46874789 6.01       8.46928088 6.08005803 6.45      ]\n",
      " [7.57761368 6.01       8.49490266 6.49554947 6.45      ]\n",
      " [7.43415268 6.01       8.37495889 6.02619737 6.45      ]\n",
      " [5.84831123 6.01       8.53421596 6.20611828 6.45      ]\n",
      " [6.65110194 6.54210116 7.8768884  7.46314994 6.45      ]\n",
      " [7.86843966 6.01       8.34082757 6.35644682 6.45      ]\n",
      " [5.49102481 6.01       8.38300092 6.14659474 6.45      ]\n",
      " [6.13694116 6.01       8.47548018 6.3267374  6.45      ]\n",
      " [6.13132794 6.01       8.60017415 6.32629694 6.45      ]\n",
      " [6.70118927 6.01       8.32908617 6.13037936 6.45      ]\n",
      " [8.70814959 6.01       8.4029691  6.05512299 6.45      ]\n",
      " [5.36705932 6.01       8.06550285 6.89161952 6.45      ]\n",
      " [7.01844564 6.01       8.56188098 6.43372071 6.45      ]\n",
      " [5.77647474 6.52408243 7.63719066 7.40862799 6.45      ]\n",
      " [8.67267616 6.01       8.78       6.43220417 6.45      ]\n",
      " [5.53469083 6.01       8.62749435 6.18609238 6.45      ]\n",
      " [6.59717967 6.01       8.11768374 7.04812549 6.45      ]\n",
      " [7.82065904 6.28481143 7.75184133 7.26387894 6.45      ]\n",
      " [7.69866921 6.30324747 7.71440678 7.42715807 6.45      ]\n",
      " [6.66718681 6.01       8.71036088 6.18128413 6.45      ]\n",
      " [6.38827845 6.01       8.27922762 6.30977314 6.45      ]\n",
      " [6.57526131 6.01       8.38836386 6.31752966 6.45      ]\n",
      " [6.08725112 6.01       8.37143333 6.47465048 6.45      ]\n",
      " [5.87151856 6.01       8.34799349 6.0386657  6.45      ]\n",
      " [6.88792529 6.01       8.49004163 6.32502125 6.45      ]\n",
      " [6.10283355 6.01       8.65380916 5.95666154 6.45      ]\n",
      " [6.17210969 6.01       8.4309961  6.21989767 6.45      ]\n",
      " [7.52372719 6.01       8.60334337 6.29669754 6.45      ]\n",
      " [8.66484663 6.01       8.36610324 6.28009078 6.45      ]\n",
      " [7.32931215 6.01       8.52335908 6.49258872 6.45      ]\n",
      " [5.40174485 6.01       8.63043481 6.20627682 6.45      ]\n",
      " [5.39663603 6.01       8.39404624 6.39202282 6.45      ]\n",
      " [8.60220899 6.01       8.42347152 6.51045153 6.45      ]\n",
      " [6.20808429 6.01       8.47658782 6.22387331 6.45      ]\n",
      " [5.45696517 6.42529743 7.67896935 7.34044246 6.45      ]\n",
      " [7.31250319 6.01       8.39770587 6.18753576 6.45      ]\n",
      " [7.40255453 6.01       8.242861   6.25171052 6.45      ]\n",
      " [7.49352764 6.32888281 7.82643882 7.3680649  6.45      ]\n",
      " [6.09869142 6.01       8.4837292  6.70530154 6.45      ]\n",
      " [5.1753051  6.01       8.34390173 5.97185466 6.45      ]\n",
      " [8.65195625 6.01       8.20796205 6.18498617 6.45      ]\n",
      " [6.03826855 6.01       8.39862181 6.16481805 6.45      ]\n",
      " [7.59425621 6.01       8.45328887 6.14023698 6.45      ]\n",
      " [7.70626532 6.01       8.43414198 6.45161408 6.45      ]\n",
      " [7.35262715 6.29113019 7.9157484  7.15713853 6.45      ]\n",
      " [6.26524106 6.34127541 7.61551562 7.46383919 6.45      ]\n",
      " [6.11221229 6.01       8.34434051 6.15262531 6.45      ]\n",
      " [7.30746591 6.40355957 7.81062556 7.43391958 6.45      ]\n",
      " [8.28991002 6.01       8.54731188 6.25130772 6.45      ]\n",
      " [8.58504545 6.01       8.33070444 6.14874588 6.45      ]\n",
      " [5.50761524 6.01       8.64810056 6.22309973 6.45      ]\n",
      " [5.68667272 6.01       8.71908209 6.42685277 6.45      ]\n",
      " [8.57773471 6.01       8.27463975 6.22787439 6.45      ]\n",
      " [7.81571894 6.28192164 7.80833521 7.4377175  6.45      ]\n",
      " [8.3517574  6.01       8.24718559 6.16699771 6.45      ]\n",
      " [5.86163544 6.4494404  7.80314124 7.27456283 6.45      ]\n",
      " [7.27056429 6.01       8.42060331 6.28369802 6.45      ]\n",
      " [7.68617092 6.01       8.54322428 6.22362224 6.45      ]\n",
      " [7.6092095  6.01       8.30259522 6.78073309 6.45      ]]\n"
     ]
    }
   ],
   "source": [
    "# Since we did NOT use ROS, the original dataset length is simply:\n",
    "n_original_analyst = len(X_binary_analyst)\n",
    "\n",
    "# Identify which samples are synthetic (newly generated by SMOTE)\n",
    "synthetic_mask_analyst = np.arange(len(y_smote_analyst)) >= n_original_analyst\n",
    "\n",
    "# Get synthetic samples and labels\n",
    "X_synthetic_analyst = X_smote_analyst[synthetic_mask_analyst]\n",
    "y_synthetic_analyst = y_smote_analyst[synthetic_mask_analyst]\n",
    "\n",
    "# Filter synthetic samples for 'Data Analyst' only (label 0)\n",
    "analyst_label = 0  # assuming 0 = Data Analyst after encoding\n",
    "analyst_synthetic = X_synthetic_analyst[y_synthetic_analyst == analyst_label]\n",
    "\n",
    "print(f\"Number of synthetic 'Data Analyst' samples: {len(analyst_synthetic)}\")\n",
    "print(analyst_synthetic)\n"
   ]
  },
  {
   "cell_type": "markdown",
   "id": "a9e863e7",
   "metadata": {},
   "source": [
    "#### Engineer Model"
   ]
  },
  {
   "cell_type": "code",
   "execution_count": 143,
   "id": "a8c374db",
   "metadata": {},
   "outputs": [
    {
     "name": "stdout",
     "output_type": "stream",
     "text": [
      "\n",
      "Classification report for category 'Engineer':\n",
      "              precision    recall  f1-score   support\n",
      "\n",
      "    Engineer       0.92      0.88      0.90        25\n",
      "       Other       0.88      0.91      0.89        23\n",
      "\n",
      "    accuracy                           0.90        48\n",
      "   macro avg       0.90      0.90      0.90        48\n",
      "weighted avg       0.90      0.90      0.90        48\n",
      "\n",
      "Test accuracy: 0.90\n",
      "Original samples: 12\n",
      "Samples after SMOTE: 191\n",
      "Synthetic samples created by SMOTE: 88\n"
     ]
    }
   ],
   "source": [
    "category_name_engineer = \"Engineer\"\n",
    "indices_engineer = (y == category_name_engineer)\n",
    "X_cat_engineer = X[indices_engineer]\n",
    "y_cat_engineer = y[indices_engineer]\n",
    "\n",
    "# Sample 'Other' class (everything else)\n",
    "other_indices_engineer = (y != category_name_engineer)\n",
    "X_other_engineer = X[other_indices_engineer]\n",
    "y_other_engineer = np.array(['Other'] * len(X_other_engineer))\n",
    "\n",
    "# Combine\n",
    "X_binary_engineer = np.vstack((X_cat_engineer, X_other_engineer))\n",
    "y_binary_engineer = np.hstack((y_cat_engineer, y_other_engineer))\n",
    "\n",
    "# Encode\n",
    "le_binary_engineer = LabelEncoder()\n",
    "y_binary_encoded_engineer = le_binary_engineer.fit_transform(y_binary_engineer)\n",
    "\n",
    "# Apply SMOTE directly (target 30 samples for class 0 = Engineer)\n",
    "sampling_strategy_smote_engineer = {0: 100}\n",
    "smote_engineer = SMOTE(sampling_strategy=sampling_strategy_smote_engineer, random_state=42, k_neighbors=3)\n",
    "X_smote_engineer, y_smote_engineer = smote_engineer.fit_resample(X_binary_engineer, y_binary_encoded_engineer)\n",
    "\n",
    "# Identify synthetic samples\n",
    "synthetic_mask_engineer = np.arange(len(y_smote_engineer)) >= len(X_binary_engineer)\n",
    "X_synthetic_engineer = X_smote_engineer[synthetic_mask_engineer]\n",
    "\n",
    "# Optional: Add small noise to synthetic samples\n",
    "X_smote_engineer[synthetic_mask_engineer] += np.random.normal(0, 0.1, X_synthetic_engineer.shape)\n",
    "\n",
    "# Optional: Modify feature 0 within min/max bounds (update with real values!)\n",
    "feature_mins_engineer = np.array([4.56, 6.78, 3.78, 3.23, 2.89])  # Update as needed\n",
    "feature_maxs_engineer = np.array([8.67, 8.78, 5.67, 7.45, 6.01])  # Update as needed\n",
    "\n",
    "X_smote_engineer[synthetic_mask_engineer, 0] = np.random.uniform(\n",
    "    feature_mins_engineer[0], feature_maxs_engineer[0], size=X_smote_engineer[synthetic_mask_engineer, 0].shape\n",
    ")\n",
    "\n",
    "# Clip all features\n",
    "for i in range(X_smote_engineer.shape[1]):\n",
    "    X_smote_engineer[:, i] = np.clip(X_smote_engineer[:, i], feature_mins_engineer[i], feature_maxs_engineer[i])\n",
    "\n",
    "# Train/test split\n",
    "X_train_engineer, X_test_engineer, y_train_engineer, y_test_engineer = train_test_split(\n",
    "    X_smote_engineer, y_smote_engineer, stratify=y_smote_engineer, random_state=42\n",
    ")\n",
    "\n",
    "clf_engineer = RandomForestClassifier(random_state=42)\n",
    "clf_engineer.fit(X_train_engineer, y_train_engineer)\n",
    "\n",
    "y_pred_engineer = clf_engineer.predict(X_test_engineer)\n",
    "\n",
    "print(f\"\\nClassification report for category '{category_name_engineer}':\")\n",
    "print(classification_report(y_test_engineer, y_pred_engineer, target_names=le_binary_engineer.classes_))\n",
    "\n",
    "accuracy_engineer = clf_engineer.score(X_test_engineer, y_test_engineer)\n",
    "print(f\"Test accuracy: {accuracy_engineer:.2f}\")\n",
    "print(f\"Original samples: {len(X_cat_engineer)}\")\n",
    "print(f\"Samples after SMOTE: {len(y_smote_engineer)}\")\n",
    "print(f\"Synthetic samples created by SMOTE: {len(y_smote_engineer) - len(X_binary_engineer)}\")\n"
   ]
  },
  {
   "cell_type": "code",
   "execution_count": 144,
   "id": "97befc33",
   "metadata": {},
   "outputs": [
    {
     "name": "stdout",
     "output_type": "stream",
     "text": [
      "Number of synthetic 'Engineer' samples: 88\n",
      "[[7.32506257 6.78       5.67       5.29688925 6.01      ]\n",
      " [5.46627252 6.78       5.67       5.39560205 6.01      ]\n",
      " [5.45683297 6.78       5.67       5.33411081 6.01      ]\n",
      " [8.15243499 6.78       5.67       5.06934229 6.01      ]\n",
      " [5.5861394  6.78       5.67       5.32620544 6.01      ]\n",
      " [5.64194659 6.78       5.67       4.95990465 6.01      ]\n",
      " [4.56268544 6.78       5.67       5.2184246  6.01      ]\n",
      " [8.13844973 6.78       5.67       5.228937   6.01      ]\n",
      " [7.81756468 6.78       5.67       5.40115952 6.01      ]\n",
      " [7.13832192 6.78       5.67       5.42284528 6.01      ]\n",
      " [7.64359229 6.78       5.67       5.4471429  6.01      ]\n",
      " [5.18491961 6.78       5.67       5.36051137 6.01      ]\n",
      " [6.44370997 6.78       5.67       5.14908595 6.01      ]\n",
      " [6.00351168 6.78       5.67       5.25803268 6.01      ]\n",
      " [4.94542152 6.78       5.67       5.1132447  6.01      ]\n",
      " [6.55799629 6.78       5.67       5.32765929 6.01      ]\n",
      " [8.34423996 6.78       5.67       5.34148495 6.01      ]\n",
      " [4.72464298 6.78       5.67       5.0977542  6.01      ]\n",
      " [5.75790435 6.78       5.67       3.59870387 5.04060458]\n",
      " [5.41299325 6.78       5.67       5.13339335 6.01      ]\n",
      " [5.53878275 6.78       5.67       5.26988943 6.01      ]\n",
      " [8.29366601 6.78       5.67       4.90646454 6.01      ]\n",
      " [6.48376381 6.78       5.67       5.08473879 6.01      ]\n",
      " [6.47649059 6.78       5.67       5.45549341 6.01      ]\n",
      " [7.68596589 6.78       5.67       6.48383689 6.01      ]\n",
      " [5.19496296 6.78       5.67       5.54007924 6.01      ]\n",
      " [6.56266061 6.78       5.67       5.31849726 6.01      ]\n",
      " [6.32723923 6.78       5.67       5.5298548  6.01      ]\n",
      " [7.01330294 6.78       5.67       5.14046537 6.01      ]\n",
      " [8.66818216 6.78       5.67       5.35939063 6.01      ]\n",
      " [7.72243495 6.78       5.67       5.95114363 6.01      ]\n",
      " [6.19522804 6.78       5.67       5.40586205 6.01      ]\n",
      " [7.96124304 6.78       5.67       5.06764267 6.01      ]\n",
      " [5.26161137 6.78       5.67       5.44364754 6.01      ]\n",
      " [4.68520575 6.78       5.67       5.41528069 6.01      ]\n",
      " [5.40028281 6.78       5.67       4.9150795  6.01      ]\n",
      " [5.9590915  6.78       5.67       5.38756546 6.01      ]\n",
      " [6.65848691 6.78       5.67       5.55180916 6.01      ]\n",
      " [7.08818077 6.78       5.67       5.50987944 6.01      ]\n",
      " [8.3025895  6.78       5.67       5.40244158 6.01      ]\n",
      " [6.65549998 6.78       5.67       5.3493618  6.01      ]\n",
      " [6.6202429  6.78       5.67       5.38155296 6.01      ]\n",
      " [4.76649877 6.78       5.67       5.61999574 6.01      ]\n",
      " [4.70348648 6.78       5.67       6.19441246 6.01      ]\n",
      " [6.82526744 6.78       5.67       5.12115118 6.01      ]\n",
      " [6.3609141  6.78       5.67       5.32022772 6.01      ]\n",
      " [8.00903142 6.78       5.67       5.38421654 6.01      ]\n",
      " [5.22039309 6.78       5.67       5.32154941 6.01      ]\n",
      " [4.66263353 6.78       5.67       5.27632063 6.01      ]\n",
      " [6.40554934 6.78       5.67       5.51256309 6.01      ]\n",
      " [5.53603687 6.78       5.67       5.96427247 6.01      ]\n",
      " [4.76391507 6.78       5.67       4.95525537 6.01      ]\n",
      " [7.53809896 6.78       5.67       5.2635058  6.01      ]\n",
      " [5.01864723 6.78       5.67       5.14253994 6.01      ]\n",
      " [7.06019315 6.78       5.67       5.31151412 6.01      ]\n",
      " [5.71511447 6.78       5.67       5.58289333 6.01      ]\n",
      " [5.27306877 6.78       5.67       4.0626032  5.2500713 ]\n",
      " [6.12077876 6.78       5.67       5.59206504 6.01      ]\n",
      " [7.85394214 6.78       5.67       5.32262632 6.01      ]\n",
      " [6.1715046  6.78       5.67       5.46235477 6.01      ]\n",
      " [7.64566326 6.78       5.67       5.18951527 6.01      ]\n",
      " [5.07574868 6.78       5.67       5.18146942 6.01      ]\n",
      " [7.73609053 6.78       5.67       7.35253225 6.01      ]\n",
      " [5.53379597 6.78       5.67       5.53991663 6.01      ]\n",
      " [7.34408576 6.78       5.67       5.03573582 6.01      ]\n",
      " [6.88536219 6.78       5.67       5.20160196 6.01      ]\n",
      " [8.37878479 6.78       5.67       4.97714376 6.01      ]\n",
      " [6.15189555 6.78       5.67       5.51227112 6.01      ]\n",
      " [4.83193893 6.78       5.67       5.39940085 6.01      ]\n",
      " [4.63872905 6.78       5.67       5.43035334 6.01      ]\n",
      " [7.95838869 6.78       5.67       4.99744688 6.01      ]\n",
      " [6.71666347 6.78       5.67       5.39474976 6.01      ]\n",
      " [7.74625305 6.78       5.67       5.279792   6.01      ]\n",
      " [5.52348922 6.78       5.67       5.36977914 6.01      ]\n",
      " [5.97829419 6.78       5.67       5.44685608 6.01      ]\n",
      " [4.68372691 6.78       5.67       5.27789847 6.01      ]\n",
      " [8.51173345 6.78       5.67       5.30177756 6.01      ]\n",
      " [7.3049371  6.78       5.67       5.09168357 6.01      ]\n",
      " [8.39547291 6.78       5.67       6.02697619 6.01      ]\n",
      " [5.65119023 6.78       5.67       5.14069888 6.01      ]\n",
      " [7.07311544 6.78       5.67       5.44111265 6.01      ]\n",
      " [7.34863487 6.78       5.67       5.28109068 6.01      ]\n",
      " [5.86512927 6.78       5.67       4.74871784 6.01      ]\n",
      " [8.04572896 6.78       5.67       5.21409548 6.01      ]\n",
      " [8.45283361 6.78       5.67       5.47167756 6.01      ]\n",
      " [8.19675453 6.78       5.67       5.28789146 6.01      ]\n",
      " [7.59756527 6.78       5.67       5.50487473 6.01      ]\n",
      " [5.70037983 6.78       5.67       5.4382497  6.01      ]]\n"
     ]
    }
   ],
   "source": [
    "# Since we did NOT use ROS, the original dataset length is simply:\n",
    "n_original_engineer = len(X_binary_engineer)\n",
    "\n",
    "# Identify which samples are synthetic (newly generated by SMOTE)\n",
    "synthetic_mask_engineer = np.arange(len(y_smote_engineer)) >= n_original_engineer\n",
    "\n",
    "# Get synthetic samples and labels\n",
    "X_synthetic_engineer = X_smote_engineer[synthetic_mask_engineer]\n",
    "y_synthetic_engineer = y_smote_engineer[synthetic_mask_engineer]\n",
    "\n",
    "# Filter synthetic samples for 'Engineer' only (label 0)\n",
    "engineer_label = 0  # assuming 0 = Engineer after encoding\n",
    "engineer_synthetic = X_synthetic_engineer[y_synthetic_engineer == engineer_label]\n",
    "\n",
    "print(f\"Number of synthetic 'Engineer' samples: {len(engineer_synthetic)}\")\n",
    "print(engineer_synthetic)\n"
   ]
  },
  {
   "cell_type": "markdown",
   "id": "c25b936e",
   "metadata": {},
   "source": [
    "#### Finance & Accountant Model"
   ]
  },
  {
   "cell_type": "code",
   "execution_count": 145,
   "id": "ca09b2bf",
   "metadata": {},
   "outputs": [
    {
     "name": "stdout",
     "output_type": "stream",
     "text": [
      "\n",
      "Classification report for category 'Finance & Accounting':\n",
      "                      precision    recall  f1-score   support\n",
      "\n",
      "Finance & Accounting       0.88      0.92      0.90        25\n",
      "               Other       0.91      0.88      0.89        24\n",
      "\n",
      "            accuracy                           0.90        49\n",
      "           macro avg       0.90      0.90      0.90        49\n",
      "        weighted avg       0.90      0.90      0.90        49\n",
      "\n",
      "Test accuracy: 0.90\n",
      "Original samples: 9\n",
      "Samples after SMOTE: 194\n",
      "Synthetic samples created by SMOTE: 91\n"
     ]
    }
   ],
   "source": [
    "category_name_finance = \"Finance & Accounting\"\n",
    "indices_finance = (y == category_name_finance)\n",
    "X_cat_finance = X[indices_finance]\n",
    "y_cat_finance = y[indices_finance]\n",
    "\n",
    "# Sample 'Other' class (everything else)\n",
    "other_indices_finance = (y != category_name_finance)\n",
    "X_other_finance = X[other_indices_finance]\n",
    "y_other_finance = np.array(['Other'] * len(X_other_finance))\n",
    "\n",
    "# Combine\n",
    "X_binary_finance = np.vstack((X_cat_finance, X_other_finance))\n",
    "y_binary_finance = np.hstack((y_cat_finance, y_other_finance))\n",
    "\n",
    "# Encode\n",
    "le_binary_finance = LabelEncoder()\n",
    "y_binary_encoded_finance = le_binary_finance.fit_transform(y_binary_finance)\n",
    "\n",
    "# Apply SMOTE directly (target 30 samples for class 0 = Finance & Accountant)\n",
    "sampling_strategy_smote_finance = {0: 100}\n",
    "smote_finance = SMOTE(sampling_strategy=sampling_strategy_smote_finance, random_state=42, k_neighbors=3)\n",
    "X_smote_finance, y_smote_finance = smote_finance.fit_resample(X_binary_finance, y_binary_encoded_finance)\n",
    "\n",
    "# Identify synthetic samples\n",
    "synthetic_mask_finance = np.arange(len(y_smote_finance)) >= len(X_binary_finance)\n",
    "X_synthetic_finance = X_smote_finance[synthetic_mask_finance]\n",
    "\n",
    "# Optional: Add small noise to synthetic samples\n",
    "X_smote_finance[synthetic_mask_finance] += np.random.normal(0, 0.1, X_synthetic_finance.shape)\n",
    "\n",
    "# Optional: Modify feature 0 within min/max bounds (update with real values!)\n",
    "feature_mins_finance = np.array([5.12, 6.01, 4.34, 5.45, 4.34])  # Update as needed\n",
    "feature_maxs_finance = np.array([8.78, 8.89, 8.78, 8.45, 6.45])  # Update as needed\n",
    "\n",
    "X_smote_finance[synthetic_mask_finance, 0] = np.random.uniform(\n",
    "    feature_mins_finance[0], feature_maxs_finance[0], size=X_smote_finance[synthetic_mask_finance, 0].shape\n",
    ")\n",
    "\n",
    "# Clip all features\n",
    "for i in range(X_smote_finance.shape[1]):\n",
    "    X_smote_finance[:, i] = np.clip(X_smote_finance[:, i], feature_mins_finance[i], feature_maxs_finance[i])\n",
    "\n",
    "# Train/test split\n",
    "X_train_finance, X_test_finance, y_train_finance, y_test_finance = train_test_split(\n",
    "    X_smote_finance, y_smote_finance, stratify=y_smote_finance, random_state=42\n",
    ")\n",
    "\n",
    "clf_finance = RandomForestClassifier(random_state=42)\n",
    "clf_finance.fit(X_train_finance, y_train_finance)\n",
    "\n",
    "y_pred_finance = clf_finance.predict(X_test_finance)\n",
    "\n",
    "print(f\"\\nClassification report for category '{category_name_finance}':\")\n",
    "print(classification_report(y_test_finance, y_pred_finance, target_names=le_binary_finance.classes_))\n",
    "\n",
    "accuracy_finance = clf_finance.score(X_test_finance, y_test_finance)\n",
    "print(f\"Test accuracy: {accuracy_finance:.2f}\")\n",
    "print(f\"Original samples: {len(X_cat_finance)}\")\n",
    "print(f\"Samples after SMOTE: {len(y_smote_finance)}\")\n",
    "print(f\"Synthetic samples created by SMOTE: {len(y_smote_finance) - len(X_binary_finance)}\")\n"
   ]
  },
  {
   "cell_type": "code",
   "execution_count": 146,
   "id": "2c8210f3",
   "metadata": {},
   "outputs": [
    {
     "name": "stdout",
     "output_type": "stream",
     "text": [
      "Number of synthetic 'Finance & Accounting' samples: 91\n",
      "[[7.19101305 6.01       8.05857559 6.0358344  6.45      ]\n",
      " [8.44334788 6.01       8.78       6.29832546 5.80460255]\n",
      " [6.57050421 6.01       8.11725954 5.45       5.92560442]\n",
      " [6.20455243 6.01       8.70509045 6.25875874 6.45      ]\n",
      " [5.64509821 6.01       8.13654017 6.22261273 6.45      ]\n",
      " [5.67429061 6.01       8.60638746 5.45040352 5.43477998]\n",
      " [6.70394363 6.01       7.99313929 6.20222196 6.45      ]\n",
      " [7.30018816 6.01       8.16238569 6.31952541 6.45      ]\n",
      " [5.41505238 6.01       8.73087881 6.28728096 6.18776105]\n",
      " [8.55882104 6.32905682 8.78       7.34181279 6.45      ]\n",
      " [7.88378904 6.01       8.39751203 6.35069578 6.45      ]\n",
      " [7.26704354 6.01       8.78       6.10301412 6.45      ]\n",
      " [8.15208554 6.01       8.68509137 6.05321563 6.45      ]\n",
      " [5.41348353 6.01       8.50427232 5.48171673 5.4587456 ]\n",
      " [6.86523029 6.01       8.31645184 6.49860363 6.45      ]\n",
      " [7.42614084 6.01       7.7743362  6.1450094  6.45      ]\n",
      " [8.15286964 6.01       8.78       6.10350169 6.45      ]\n",
      " [7.98749859 6.01       8.16092314 5.76727828 6.2712233 ]\n",
      " [6.13407345 6.01       8.62252233 6.71022601 6.45      ]\n",
      " [8.56362142 6.01       8.44632753 5.50290481 5.54567139]\n",
      " [5.57510578 6.01       8.71468725 5.45       5.56552576]\n",
      " [8.32298904 6.01       8.78       6.87893788 6.45      ]\n",
      " [8.67364131 6.01       8.36188241 6.12590741 6.45      ]\n",
      " [5.76838189 6.01       8.50271538 5.99929039 6.45      ]\n",
      " [7.76276179 6.01       8.58432279 5.70205507 6.29942541]\n",
      " [5.267445   6.01       8.77534654 5.97581593 5.58786375]\n",
      " [6.60384754 6.01       8.68817648 5.45       5.48743284]\n",
      " [7.00959688 6.01       8.26629268 6.18025147 6.45      ]\n",
      " [7.24516153 6.01       8.55488685 6.38443489 6.45      ]\n",
      " [8.54553033 6.01       8.78       6.70468649 6.45      ]\n",
      " [7.58043752 6.01       8.13357375 6.00434115 6.45      ]\n",
      " [6.8814773  6.01       8.53616909 6.42837783 5.83650225]\n",
      " [8.08341063 6.01       8.26156249 6.3463979  6.45      ]\n",
      " [8.59895012 6.1206072  8.27890499 6.64199444 6.45      ]\n",
      " [5.2007621  6.25086746 8.78       6.95547371 6.45      ]\n",
      " [8.71602786 6.01       8.3864489  6.31643153 6.45      ]\n",
      " [5.43524363 6.01       8.47514736 6.43057309 6.45      ]\n",
      " [8.10065561 6.01       7.88509584 5.49071767 6.45      ]\n",
      " [6.14602519 6.01       8.19312227 5.45       6.45      ]\n",
      " [5.60377755 6.01       8.71357597 6.1637411  6.07711331]\n",
      " [6.72987164 6.01       8.33378871 6.10515498 6.45      ]\n",
      " [7.47688108 6.39781676 8.78       7.10465424 6.45      ]\n",
      " [6.51428375 6.01       8.76766413 6.28110547 5.76709324]\n",
      " [5.31970939 6.01       8.33148442 6.40962207 6.45      ]\n",
      " [7.31402777 6.01       7.94046715 5.64265231 6.23736155]\n",
      " [8.42279599 6.01       8.17873115 6.35727379 6.45      ]\n",
      " [6.52256824 6.01       8.54887434 6.1331793  6.25031882]\n",
      " [5.91177797 6.01       8.29349493 6.47015387 6.45      ]\n",
      " [6.73983309 6.01       8.67733433 5.94402925 5.56501549]\n",
      " [5.29700752 6.01       8.24308301 6.06221425 6.45      ]\n",
      " [8.12298456 6.01       8.41927675 6.22276364 6.45      ]\n",
      " [8.14440737 6.01       8.45936694 6.42056102 6.45      ]\n",
      " [7.2720817  6.01       8.261999   6.5212712  6.45      ]\n",
      " [6.41235657 6.01       8.40788085 6.46067183 6.45      ]\n",
      " [8.04720711 6.01       8.41776917 5.45       6.21715957]\n",
      " [7.15015451 6.01       8.77288285 5.92312895 6.45      ]\n",
      " [8.14291225 6.01       8.76375286 5.92876471 6.45      ]\n",
      " [7.43113918 6.01       8.23871527 6.08574951 6.45      ]\n",
      " [7.99092403 6.01       8.51465533 5.98187224 6.45      ]\n",
      " [7.31074056 6.01       8.64980512 5.45       5.3861069 ]\n",
      " [6.63575631 6.01       8.68894798 5.56574634 5.57264591]\n",
      " [8.62608185 6.01       8.29034248 6.7250218  6.45      ]\n",
      " [7.1004766  6.01       8.16583271 5.45       6.29265026]\n",
      " [7.33462764 6.01       8.38130965 6.39508951 6.45      ]\n",
      " [5.92698476 6.01       7.88728769 5.92189317 6.45      ]\n",
      " [7.40988189 6.01       7.96925128 6.1545218  6.45      ]\n",
      " [7.212084   6.01       8.57038695 5.45       6.04483348]\n",
      " [5.79650854 6.01       8.44557094 5.45       5.81622165]\n",
      " [5.33808878 6.01       8.67950799 5.45       6.35230265]\n",
      " [7.33195511 6.01       7.8157598  6.09307665 6.45      ]\n",
      " [7.91511371 6.01       8.60034198 6.41698799 6.45      ]\n",
      " [7.03564902 6.01       8.5933826  6.1981602  6.45      ]\n",
      " [5.94998781 6.01       8.01466945 6.40236812 6.45      ]\n",
      " [7.55947043 6.01       8.48385529 6.35620744 6.45      ]\n",
      " [5.41318696 6.01       8.7761371  5.54201285 5.78156949]\n",
      " [6.73711136 6.01       8.35818297 6.44220663 6.45      ]\n",
      " [5.71792234 6.07623855 8.78       7.03413201 6.45      ]\n",
      " [5.79512013 6.01       8.48217301 6.33447344 6.45      ]\n",
      " [5.86039585 6.01       8.49751677 6.44975962 6.45      ]\n",
      " [6.53534783 6.01468451 8.78       6.72370337 6.45      ]\n",
      " [5.30720975 6.01       8.4704514  6.00408924 6.45      ]\n",
      " [6.57592399 6.01       8.46060492 6.26573485 6.45      ]\n",
      " [6.99284926 6.01       7.9679608  5.98156154 6.45      ]\n",
      " [6.88885708 6.01       8.61806036 5.9507489  6.45      ]\n",
      " [6.52098981 6.01       8.59804475 6.12864191 6.45      ]\n",
      " [8.19127659 6.01       8.33466676 6.28126557 6.45      ]\n",
      " [5.65189569 6.01       8.71151914 5.45       6.25945131]\n",
      " [6.97085008 6.01       8.44225565 6.33047062 6.45      ]\n",
      " [5.34707159 6.01       8.32288289 5.45       5.93789161]\n",
      " [5.38042978 6.01       8.40491371 6.39726317 6.45      ]\n",
      " [7.22034901 6.01       8.50419464 5.45       6.40487715]]\n"
     ]
    }
   ],
   "source": [
    "# Since we did NOT use ROS, the original dataset length is simply:\n",
    "n_original_finance = len(X_binary_finance)\n",
    "\n",
    "# Identify which samples are synthetic (newly generated by SMOTE)\n",
    "synthetic_mask_finance = np.arange(len(y_smote_finance)) >= n_original_finance\n",
    "\n",
    "# Get synthetic samples and labels\n",
    "X_synthetic_finance = X_smote_finance[synthetic_mask_finance]\n",
    "y_synthetic_finance = y_smote_finance[synthetic_mask_finance]\n",
    "\n",
    "# Filter synthetic samples for 'Finance & Accountant' only (label 0)\n",
    "finance_label = 0  # assuming 0 = Finance & Accountant after encoding\n",
    "finance_synthetic = X_synthetic_finance[y_synthetic_finance == finance_label]\n",
    "\n",
    "print(f\"Number of synthetic 'Finance & Accounting' samples: {len(finance_synthetic)}\")\n",
    "print(finance_synthetic)\n"
   ]
  },
  {
   "cell_type": "markdown",
   "id": "0a73e1f4",
   "metadata": {},
   "source": [
    "#### IT Specialist Model"
   ]
  },
  {
   "cell_type": "code",
   "execution_count": 147,
   "id": "be479a6e",
   "metadata": {},
   "outputs": [
    {
     "name": "stdout",
     "output_type": "stream",
     "text": [
      "\n",
      "Classification report for category 'IT Specialist':\n",
      "               precision    recall  f1-score   support\n",
      "\n",
      "IT Specialist       0.96      0.92      0.94        25\n",
      "        Other       0.92      0.96      0.94        24\n",
      "\n",
      "     accuracy                           0.94        49\n",
      "    macro avg       0.94      0.94      0.94        49\n",
      " weighted avg       0.94      0.94      0.94        49\n",
      "\n",
      "Test accuracy: 0.94\n",
      "Original samples: 7\n",
      "Samples after SMOTE: 196\n",
      "Synthetic samples created by SMOTE: 93\n"
     ]
    }
   ],
   "source": [
    "category_name_law = \"IT Specialist\"\n",
    "indices_law = (y == category_name_law)\n",
    "X_cat_law = X[indices_law]\n",
    "y_cat_law = y[indices_law]\n",
    "\n",
    "# Sample 'Other' class (everything else)\n",
    "other_indices_law = (y != category_name_law)\n",
    "X_other_law = X[other_indices_law]\n",
    "y_other_law = np.array(['Other'] * len(X_other_law))\n",
    "\n",
    "# Combine\n",
    "X_binary_law = np.vstack((X_cat_law, X_other_law))\n",
    "y_binary_law = np.hstack((y_cat_law, y_other_law))\n",
    "\n",
    "# Encode\n",
    "le_binary_law = LabelEncoder()\n",
    "y_binary_encoded_law = le_binary_law.fit_transform(y_binary_law)\n",
    "\n",
    "# Apply SMOTE directly (target 30 samples for class 0 = IT Specialist)\n",
    "sampling_strategy_smote_law = {0: 100}\n",
    "smote_law = SMOTE(sampling_strategy=sampling_strategy_smote_law, random_state=42, k_neighbors=3)\n",
    "X_smote_law, y_smote_law = smote_law.fit_resample(X_binary_law, y_binary_encoded_law)\n",
    "\n",
    "# Identify synthetic samples\n",
    "synthetic_mask_law = np.arange(len(y_smote_law)) >= len(X_binary_law)\n",
    "X_synthetic_law = X_smote_law[synthetic_mask_law]\n",
    "\n",
    "# Optional: Add small noise to synthetic samples\n",
    "X_smote_law[synthetic_mask_law] += np.random.normal(0, 0.1, X_synthetic_law.shape)\n",
    "\n",
    "# Optional: Modify feature 0 within min/max bounds (update with real values!)\n",
    "feature_mins_law = np.array([5.12, 6.01, 4.34, 5.45, 4.34])  # Update as needed\n",
    "feature_maxs_law = np.array([8.78, 8.89, 8.78, 8.45, 6.45])  # Update as needed\n",
    "\n",
    "X_smote_law[synthetic_mask_law, 0] = np.random.uniform(\n",
    "    feature_mins_law[0], feature_maxs_law[0], size=X_smote_law[synthetic_mask_law, 0].shape\n",
    ")\n",
    "\n",
    "# Clip all features\n",
    "for i in range(X_smote_law.shape[1]):\n",
    "    X_smote_law[:, i] = np.clip(X_smote_law[:, i], feature_mins_law[i], feature_maxs_law[i])\n",
    "\n",
    "# Train/test split\n",
    "X_train_law, X_test_law, y_train_law, y_test_law = train_test_split(\n",
    "    X_smote_law, y_smote_law, stratify=y_smote_law, random_state=42\n",
    ")\n",
    "\n",
    "clf_law = RandomForestClassifier(random_state=42)\n",
    "clf_law.fit(X_train_law, y_train_law)\n",
    "\n",
    "y_pred_law = clf_law.predict(X_test_law)\n",
    "\n",
    "print(f\"\\nClassification report for category '{category_name_law}':\")\n",
    "print(classification_report(y_test_law, y_pred_law, target_names=le_binary_law.classes_))\n",
    "\n",
    "accuracy_law = clf_law.score(X_test_law, y_test_law)\n",
    "print(f\"Test accuracy: {accuracy_law:.2f}\")\n",
    "print(f\"Original samples: {len(X_cat_law)}\")\n",
    "print(f\"Samples after SMOTE: {len(y_smote_law)}\")\n",
    "print(f\"Synthetic samples created by SMOTE: {len(y_smote_law) - len(X_binary_law)}\")\n"
   ]
  },
  {
   "cell_type": "code",
   "execution_count": 148,
   "id": "4687544d",
   "metadata": {},
   "outputs": [
    {
     "name": "stdout",
     "output_type": "stream",
     "text": [
      "Number of synthetic 'IT Specialist' samples: 93\n",
      "[[5.68050887 6.01       6.95286234 6.40711425 6.45      ]\n",
      " [7.78490616 6.01       7.7866159  5.45       6.45      ]\n",
      " [7.31692016 6.32315768 7.79623203 5.45       6.45      ]\n",
      " [7.79637716 6.01       8.42627595 5.74591023 6.45      ]\n",
      " [7.93727264 6.29449517 4.5115059  7.30620017 6.45      ]\n",
      " [8.69000195 6.01       8.41712228 5.76282054 6.45      ]\n",
      " [7.2192416  6.01       6.56154263 6.51762135 6.45      ]\n",
      " [6.37040647 6.01       7.42538169 5.45       6.45      ]\n",
      " [7.49338028 6.01       8.5345088  6.03829462 6.45      ]\n",
      " [5.370493   6.01       8.23922573 5.98498122 6.45      ]\n",
      " [8.40447419 6.01       7.79090917 5.48426413 6.45      ]\n",
      " [5.5569345  6.01       7.54060481 5.57771703 6.45      ]\n",
      " [6.31990479 6.01       6.39720505 5.86136801 6.45      ]\n",
      " [8.10562809 6.01       7.8173397  5.88271319 6.45      ]\n",
      " [7.3061633  6.01       7.76007551 5.64170256 6.45      ]\n",
      " [6.560706   6.01       8.53280661 6.08063012 6.45      ]\n",
      " [6.85277451 6.01       8.39558071 6.41177476 6.28143146]\n",
      " [8.24764346 6.02402373 7.78352485 5.45       6.45      ]\n",
      " [6.36441605 6.01       8.36087815 6.0520755  6.45      ]\n",
      " [8.30291785 6.01       7.96988368 5.82754039 6.45      ]\n",
      " [5.44257202 6.01       8.41235634 6.48507216 6.45      ]\n",
      " [7.96308228 6.01       8.36016232 6.35528487 6.45      ]\n",
      " [8.22202434 6.01       8.36116766 6.15572578 6.43628495]\n",
      " [5.78545261 6.01       8.1483898  6.61151263 6.36059684]\n",
      " [6.69506831 6.01       8.58369204 6.14012463 6.45      ]\n",
      " [5.72572918 6.01       8.20577922 6.80722471 6.3702666 ]\n",
      " [7.70617111 6.01       8.17873139 5.45       6.45      ]\n",
      " [7.07937283 6.01       8.10567926 5.45       6.45      ]\n",
      " [7.44528345 6.01       7.59309647 5.45741698 6.45      ]\n",
      " [5.8391423  6.01       8.08044938 6.78483802 6.45      ]\n",
      " [5.89498986 6.01       7.57046308 5.45       6.45      ]\n",
      " [5.27188021 6.01       8.07409307 6.00613523 6.45      ]\n",
      " [6.29876718 6.01       8.26297171 5.86819401 6.45      ]\n",
      " [7.16866546 6.01       7.55824713 5.54260577 6.45      ]\n",
      " [8.26004179 6.19727791 4.50944398 7.26628112 6.45      ]\n",
      " [7.56095446 6.01       7.68105488 5.45       6.45      ]\n",
      " [6.71355054 6.49232124 4.8354841  6.94504404 6.45      ]\n",
      " [8.60841962 6.01       7.63357622 6.00659989 6.45      ]\n",
      " [7.75243743 6.01       7.92124239 6.19181272 6.45      ]\n",
      " [8.52440464 6.01       7.56867549 5.55613697 6.45      ]\n",
      " [7.05097198 6.01       7.93119702 5.74445879 6.45      ]\n",
      " [6.06758965 6.01       8.04015484 6.19506166 6.45      ]\n",
      " [5.31334567 6.47116004 4.9014338  7.02989788 6.45      ]\n",
      " [7.77747056 6.01       8.38034192 5.86688881 6.45      ]\n",
      " [5.56396897 6.01       8.35216778 6.20135044 6.45      ]\n",
      " [6.22815697 6.08514925 7.62364099 5.45       6.45      ]\n",
      " [7.06884352 6.01       8.48003363 5.75207605 6.45      ]\n",
      " [7.18576471 6.01       5.36747562 6.98598321 6.45      ]\n",
      " [7.3181345  6.01       8.14145509 6.1889945  6.45      ]\n",
      " [5.72849451 6.01       4.96639196 6.96546659 6.45      ]\n",
      " [6.5098389  6.01       8.20609055 5.45       6.45      ]\n",
      " [7.37893087 6.01       8.17463788 5.86448149 6.45      ]\n",
      " [8.66953704 6.01       7.96433923 5.59487546 6.45      ]\n",
      " [7.78312996 6.01       8.18427511 6.63373617 6.30219535]\n",
      " [8.49672975 6.01       7.68021313 5.58277788 6.45      ]\n",
      " [7.90969613 6.01       7.91981071 6.33524377 6.45      ]\n",
      " [7.28568411 6.13539428 4.93453836 6.91154141 6.45      ]\n",
      " [5.82280553 6.01       7.77671995 6.03034657 6.45      ]\n",
      " [7.56006949 6.01       8.44898343 6.11249878 6.45      ]\n",
      " [7.40156921 6.37722039 7.73001073 5.45       6.45      ]\n",
      " [7.32503716 6.01       8.34362104 5.96656758 6.45      ]\n",
      " [6.91261628 6.01       7.49528445 5.69734446 6.45      ]\n",
      " [7.05488317 6.01       7.88607875 6.2074767  6.45      ]\n",
      " [6.34405965 6.01       8.28075319 6.25151524 6.45      ]\n",
      " [7.02068446 6.01       8.49850013 5.96632175 6.45      ]\n",
      " [5.84305461 6.01       8.47203518 6.27285585 6.45      ]\n",
      " [8.06693829 6.01       7.69399563 5.66733318 6.45      ]\n",
      " [5.79994365 6.01       7.74789094 5.45       6.45      ]\n",
      " [5.43097662 6.01       8.29832769 6.711473   6.45      ]\n",
      " [6.71666046 6.01       7.89661833 5.45       6.45      ]\n",
      " [7.52940523 6.42555215 4.4045064  7.35469646 6.45      ]\n",
      " [6.72204358 6.01       7.79050095 5.45       6.45      ]\n",
      " [6.13292012 6.01       5.87652563 6.42023425 6.45      ]\n",
      " [7.16290653 6.01       7.63349717 5.45       6.45      ]\n",
      " [6.39002855 6.01       8.18414141 6.56237452 6.35382366]\n",
      " [8.53429575 6.01       7.64766242 5.45       6.45      ]\n",
      " [8.49688121 6.01       8.20592215 6.58102968 6.45      ]\n",
      " [6.95868086 6.06515341 7.9917857  5.45       6.45      ]\n",
      " [6.32005542 6.01       7.88583554 5.58536938 6.45      ]\n",
      " [7.81790464 6.01       7.43338814 5.45       6.45      ]\n",
      " [5.25436937 6.46218147 5.24382193 6.91200376 6.45      ]\n",
      " [6.85765456 6.01       8.28990104 5.55899827 6.45      ]\n",
      " [6.35094362 6.01       7.59047644 5.45       6.45      ]\n",
      " [8.48916134 6.01       8.28830909 6.26252921 6.45      ]\n",
      " [5.16393108 6.01       6.83768366 6.11137908 6.45      ]\n",
      " [7.14330245 6.60133363 5.57543292 6.21162578 6.45      ]\n",
      " [7.83082871 6.01       8.36070356 6.48179104 6.45      ]\n",
      " [6.89516583 6.01       8.30308738 6.46455216 6.45      ]\n",
      " [5.43257509 6.01       5.89976069 6.45457904 6.45      ]\n",
      " [8.67920869 6.01       8.44822827 6.03970835 6.45      ]\n",
      " [7.01591818 6.01       7.80588206 6.04801613 6.45      ]\n",
      " [7.36792165 6.01       8.32080971 6.43161876 6.45      ]\n",
      " [5.9859918  6.1033412  4.90585784 6.91718237 6.45      ]]\n"
     ]
    }
   ],
   "source": [
    "# Since we did NOT use ROS, the original dataset length is simply:\n",
    "n_original_law = len(X_binary_law)\n",
    "\n",
    "# Identify which samples are synthetic (newly generated by SMOTE)\n",
    "synthetic_mask_law = np.arange(len(y_smote_law)) >= n_original_law\n",
    "\n",
    "# Get synthetic samples and labels\n",
    "X_synthetic_law = X_smote_law[synthetic_mask_law]\n",
    "y_synthetic_law = y_smote_law[synthetic_mask_law]\n",
    "\n",
    "# Filter synthetic samples for 'IT Specialist' only (label 0)\n",
    "law_label = 0  # assuming 0 = IT Specialist after encoding\n",
    "law_synthetic = X_synthetic_law[y_synthetic_law == law_label]\n",
    "\n",
    "print(f\"Number of synthetic 'IT Specialist' samples: {len(law_synthetic)}\")\n",
    "print(law_synthetic)\n"
   ]
  },
  {
   "cell_type": "markdown",
   "id": "a4365a70",
   "metadata": {},
   "source": [
    "#### Law & Public Service Model"
   ]
  },
  {
   "cell_type": "code",
   "execution_count": 149,
   "id": "ff4f92e9",
   "metadata": {},
   "outputs": [
    {
     "name": "stdout",
     "output_type": "stream",
     "text": [
      "\n",
      "Classification report for category 'Law & Public Service':\n",
      "                      precision    recall  f1-score   support\n",
      "\n",
      "Law & Public Service       0.89      0.96      0.92        25\n",
      "               Other       0.95      0.88      0.91        24\n",
      "\n",
      "            accuracy                           0.92        49\n",
      "           macro avg       0.92      0.92      0.92        49\n",
      "        weighted avg       0.92      0.92      0.92        49\n",
      "\n",
      "Test accuracy: 0.92\n",
      "Original samples: 7\n",
      "Samples after SMOTE: 196\n",
      "Synthetic samples created by SMOTE: 93\n"
     ]
    }
   ],
   "source": [
    "category_name_law = \"Law & Public Service\"\n",
    "indices_law = (y == category_name_law)\n",
    "X_cat_law = X[indices_law]\n",
    "y_cat_law = y[indices_law]\n",
    "\n",
    "# Sample 'Other' class (everything else)\n",
    "other_indices_law = (y != category_name_law)\n",
    "X_other_law = X[other_indices_law]\n",
    "y_other_law = np.array(['Other'] * len(X_other_law))\n",
    "\n",
    "# Combine\n",
    "X_binary_law = np.vstack((X_cat_law, X_other_law))\n",
    "y_binary_law = np.hstack((y_cat_law, y_other_law))\n",
    "\n",
    "# Encode\n",
    "le_binary_law = LabelEncoder()\n",
    "y_binary_encoded_law = le_binary_law.fit_transform(y_binary_law)\n",
    "\n",
    "# Apply SMOTE directly (target 30 samples for class 0 = Law & Public Service)\n",
    "sampling_strategy_smote_law = {0: 100}\n",
    "smote_law = SMOTE(sampling_strategy=sampling_strategy_smote_law, random_state=42, k_neighbors=3)\n",
    "X_smote_law, y_smote_law = smote_law.fit_resample(X_binary_law, y_binary_encoded_law)\n",
    "\n",
    "# Identify synthetic samples\n",
    "synthetic_mask_law = np.arange(len(y_smote_law)) >= len(X_binary_law)\n",
    "X_synthetic_law = X_smote_law[synthetic_mask_law]\n",
    "\n",
    "# Optional: Add small noise to synthetic samples\n",
    "X_smote_law[synthetic_mask_law] += np.random.normal(0, 0.1, X_synthetic_law.shape)\n",
    "\n",
    "# Optional: Modify feature 0 within min/max bounds (update with real values)\n",
    "feature_mins_law = np.array([2.67, 7.78, 5.67, 6.45, 5.45])  # Update with actual min values for Law & Public Service\n",
    "feature_maxs_law = np.array([8.45, 8.78, 7.67, 9.12, 6.45])  # Update with actual max values for Law & Public Service\n",
    "\n",
    "X_smote_law[synthetic_mask_law, 0] = np.random.uniform(\n",
    "    feature_mins_law[0], feature_maxs_law[0], size=X_smote_law[synthetic_mask_law, 0].shape\n",
    ")\n",
    "\n",
    "# Clip all features to bounds\n",
    "for i in range(X_smote_law.shape[1]):\n",
    "    X_smote_law[:, i] = np.clip(X_smote_law[:, i], feature_mins_law[i], feature_maxs_law[i])\n",
    "\n",
    "# Train/test split\n",
    "X_train_law, X_test_law, y_train_law, y_test_law = train_test_split(\n",
    "    X_smote_law, y_smote_law, stratify=y_smote_law, random_state=42\n",
    ")\n",
    "\n",
    "clf_law = RandomForestClassifier(random_state=42)\n",
    "clf_law.fit(X_train_law, y_train_law)\n",
    "\n",
    "y_pred_law = clf_law.predict(X_test_law)\n",
    "\n",
    "print(f\"\\nClassification report for category '{category_name_law}':\")\n",
    "print(classification_report(y_test_law, y_pred_law, target_names=le_binary_law.classes_))\n",
    "\n",
    "accuracy_law = clf_law.score(X_test_law, y_test_law)\n",
    "print(f\"Test accuracy: {accuracy_law:.2f}\")\n",
    "print(f\"Original samples: {len(X_cat_law)}\")\n",
    "print(f\"Samples after SMOTE: {len(y_smote_law)}\")\n",
    "print(f\"Synthetic samples created by SMOTE: {len(y_smote_law) - len(X_binary_law)}\")\n"
   ]
  },
  {
   "cell_type": "code",
   "execution_count": 150,
   "id": "2aae3cc4",
   "metadata": {},
   "outputs": [
    {
     "name": "stdout",
     "output_type": "stream",
     "text": [
      "Number of synthetic 'Law & Public Service' samples: 93\n",
      "[[3.73410565 7.78       7.67       8.40117262 5.45      ]\n",
      " [3.280659   7.78       7.67       6.92732731 5.45      ]\n",
      " [7.36827862 7.78       7.67       8.50346153 6.45      ]\n",
      " [6.01521243 7.78       7.67       6.768531   6.45      ]\n",
      " [6.24368742 7.78       7.67       8.37811569 5.45      ]\n",
      " [7.18685087 7.78       7.67       8.35597489 6.45      ]\n",
      " [6.73494238 7.78       7.67       8.44776997 5.45      ]\n",
      " [7.4931687  7.78       7.67       8.47996477 5.45      ]\n",
      " [2.99491637 7.78       7.67       6.48214982 5.88602292]\n",
      " [6.99066928 7.78       7.67       6.67784239 6.43256132]\n",
      " [7.58792894 7.78       7.67       8.61773905 5.45      ]\n",
      " [4.32386055 7.78       7.67       9.12       6.45      ]\n",
      " [6.37178524 7.78       7.67       7.05596181 5.45      ]\n",
      " [4.48585673 7.78       7.67       8.87993503 6.45      ]\n",
      " [8.20707276 7.78       7.67       8.51505259 5.45      ]\n",
      " [2.86318825 7.78       7.67       7.16802444 6.45      ]\n",
      " [6.02120264 7.78       7.67       8.46831914 6.45      ]\n",
      " [3.6323905  7.78       7.67       7.62058575 6.45      ]\n",
      " [6.78663279 7.78       7.67       8.22933746 6.45      ]\n",
      " [3.68664584 7.78       7.67       8.7082319  6.34895916]\n",
      " [4.03051525 7.78       7.67       7.86534792 6.45      ]\n",
      " [5.52746329 7.78       7.67       7.69265051 6.45      ]\n",
      " [7.95774601 7.78       7.67       7.54605505 6.42110138]\n",
      " [3.89370907 7.78       7.67       9.12       6.45      ]\n",
      " [3.50370732 7.78       7.67       6.61599886 6.02766757]\n",
      " [7.05688609 7.78       7.67       9.12       6.45      ]\n",
      " [5.5635809  7.78       7.67       7.77269423 6.45      ]\n",
      " [7.94011795 7.78       7.67       8.21391351 6.45      ]\n",
      " [3.51743214 7.78       7.67       8.39852173 5.45      ]\n",
      " [6.40346322 7.78       7.67       8.79851016 6.45      ]\n",
      " [4.01604146 7.78       7.67       7.88643285 5.45      ]\n",
      " [3.57607528 7.78       7.67       7.75712987 6.45      ]\n",
      " [6.62022202 7.78       7.67       8.87863964 6.45      ]\n",
      " [6.1014971  7.78       7.67       8.35337537 5.45      ]\n",
      " [7.03290271 7.78       7.67       8.63134077 5.45      ]\n",
      " [4.45869369 7.78       7.67       8.45525455 5.45      ]\n",
      " [5.25927617 7.78       7.67       8.44380615 5.45      ]\n",
      " [5.01362629 7.78       7.67       8.20736079 5.45      ]\n",
      " [8.3580371  7.78       7.67       7.20299601 6.45      ]\n",
      " [4.35919897 7.78       7.67       9.02302563 6.45      ]\n",
      " [4.37404364 7.78       7.67       8.97647208 6.45      ]\n",
      " [4.71928865 7.78       7.67       7.32672217 6.45      ]\n",
      " [5.93335379 7.78       7.67       8.52349127 5.45      ]\n",
      " [4.12842546 7.78       7.67       8.76421425 6.45      ]\n",
      " [7.96037586 7.78       7.67       8.22634263 6.45      ]\n",
      " [4.20566256 7.78       7.67       6.88556802 5.45      ]\n",
      " [7.84781493 7.78       7.67       7.42638603 6.45      ]\n",
      " [3.26808587 7.78       7.67       8.51986888 5.45      ]\n",
      " [6.46493242 7.78       7.67       6.79313728 5.88435207]\n",
      " [7.9123763  7.78       7.67       7.88496716 5.45      ]\n",
      " [3.64537175 7.78       7.67       7.99881233 6.45      ]\n",
      " [8.26692983 7.78       7.67       8.72685367 6.45      ]\n",
      " [5.28766582 7.78       7.67       8.94520439 6.45      ]\n",
      " [8.13623333 7.78       7.67       9.00889791 6.45      ]\n",
      " [6.58201985 7.78       7.67       9.11318766 6.45      ]\n",
      " [4.41317211 7.78       7.67       8.38248815 6.45      ]\n",
      " [3.75838859 7.78       7.67       8.15669748 5.45      ]\n",
      " [4.42558857 7.78       7.67       9.09915318 6.45      ]\n",
      " [3.20764063 7.78       7.67       7.69676486 6.45      ]\n",
      " [3.50155685 7.78       7.67       7.30452338 6.45      ]\n",
      " [3.27493735 7.78       7.67       7.14781833 6.19884311]\n",
      " [5.11461368 7.78       7.67       9.12       6.45      ]\n",
      " [7.26844301 7.78       7.67       7.72941145 6.45      ]\n",
      " [3.48719694 7.78       7.67       7.31322313 6.32100728]\n",
      " [3.4232521  7.78       7.67       9.12       6.45      ]\n",
      " [6.38901933 7.78       7.67       8.60657539 6.45      ]\n",
      " [3.80971764 7.78       7.67       8.91365968 6.45      ]\n",
      " [3.23418602 7.78       7.67       8.99627274 6.45      ]\n",
      " [3.63438478 7.78       7.67       9.02596011 6.45      ]\n",
      " [8.00916747 7.78       7.67       8.06120784 6.45      ]\n",
      " [7.41810384 7.78       7.67       8.43537032 5.45      ]\n",
      " [4.71649317 7.78       7.67       9.06385202 6.45      ]\n",
      " [6.46064404 7.78       7.67       7.37739339 5.45      ]\n",
      " [5.77545339 7.78       7.67       8.47485916 5.45      ]\n",
      " [6.58377824 7.78       7.67       9.12       6.45      ]\n",
      " [6.61583926 7.78       7.67       9.09851132 6.45      ]\n",
      " [6.30408261 7.78       7.67       8.65545987 6.45      ]\n",
      " [4.20806591 7.78       7.67       8.3921404  6.45      ]\n",
      " [2.89545711 7.78       7.67       8.66568521 5.45      ]\n",
      " [5.303176   7.78       7.67       9.12       6.45      ]\n",
      " [7.81982905 7.78       7.67       8.55734301 5.45      ]\n",
      " [5.96169415 7.78       7.67       7.3783838  6.45      ]\n",
      " [7.48122022 7.78       7.67       8.97764388 6.45      ]\n",
      " [8.4015887  7.78       7.67       7.58292516 6.45      ]\n",
      " [3.61570166 7.78       7.67       8.46024846 5.45      ]\n",
      " [6.66847475 7.78       7.67       8.47475651 5.45      ]\n",
      " [6.56741686 7.78       7.67       8.06601417 6.45      ]\n",
      " [8.33414249 7.78       7.67       8.20954735 6.45      ]\n",
      " [8.36677224 7.78       7.67       7.42652509 5.45      ]\n",
      " [6.63900238 7.78       7.67       6.54015184 6.04777071]\n",
      " [4.0780935  7.78       7.67       8.29484878 5.45      ]\n",
      " [7.28565274 7.78       7.67       9.09193283 6.45      ]\n",
      " [3.2886284  7.78       7.67       8.08770742 5.45      ]]\n"
     ]
    }
   ],
   "source": [
    "# Since we did NOT use ROS, the original dataset length is simply:\n",
    "n_original_law = len(X_binary_law)\n",
    "\n",
    "# Identify which samples are synthetic (newly generated by SMOTE)\n",
    "synthetic_mask_law = np.arange(len(y_smote_law)) >= n_original_law\n",
    "\n",
    "# Get synthetic samples and labels\n",
    "X_synthetic_law = X_smote_law[synthetic_mask_law]\n",
    "y_synthetic_law = y_smote_law[synthetic_mask_law]\n",
    "\n",
    "# Filter synthetic samples for 'Law & Public Service' only (label 0)\n",
    "law_label = 0  # assuming 0 = Law & Public Service after encoding\n",
    "law_synthetic = X_synthetic_law[y_synthetic_law == law_label]\n",
    "\n",
    "print(f\"Number of synthetic 'Law & Public Service' samples: {len(law_synthetic)}\")\n",
    "print(law_synthetic)\n"
   ]
  },
  {
   "cell_type": "markdown",
   "id": "121fed6e",
   "metadata": {},
   "source": [
    "#### Manager Model"
   ]
  },
  {
   "cell_type": "code",
   "execution_count": 151,
   "id": "050c1644",
   "metadata": {},
   "outputs": [
    {
     "name": "stdout",
     "output_type": "stream",
     "text": [
      "\n",
      "Classification report for category 'Manager':\n",
      "              precision    recall  f1-score   support\n",
      "\n",
      "     Manager       0.92      0.88      0.90        25\n",
      "       Other       0.88      0.91      0.89        23\n",
      "\n",
      "    accuracy                           0.90        48\n",
      "   macro avg       0.90      0.90      0.90        48\n",
      "weighted avg       0.90      0.90      0.90        48\n",
      "\n",
      "Test accuracy: 0.90\n",
      "Original samples: 11\n",
      "Samples after SMOTE: 192\n",
      "Synthetic samples created by SMOTE: 89\n"
     ]
    }
   ],
   "source": [
    "category_name_manager = \"Manager\"\n",
    "indices_manager = (y == category_name_manager)\n",
    "X_cat_manager = X[indices_manager]\n",
    "y_cat_manager = y[indices_manager]\n",
    "\n",
    "# Sample 'Other' class (everything else)\n",
    "other_indices_manager = (y != category_name_manager)\n",
    "X_other_manager = X[other_indices_manager]\n",
    "y_other_manager = np.array(['Other'] * len(X_other_manager))\n",
    "\n",
    "# Combine\n",
    "X_binary_manager = np.vstack((X_cat_manager, X_other_manager))\n",
    "y_binary_manager = np.hstack((y_cat_manager, y_other_manager))\n",
    "\n",
    "# Encode\n",
    "le_binary_manager = LabelEncoder()\n",
    "y_binary_encoded_manager = le_binary_manager.fit_transform(y_binary_manager)\n",
    "\n",
    "# Apply SMOTE directly (target 30 samples for class 0 = Manager)\n",
    "sampling_strategy_smote_manager = {0: 100}\n",
    "smote_manager = SMOTE(sampling_strategy=sampling_strategy_smote_manager, random_state=42, k_neighbors=3)\n",
    "X_smote_manager, y_smote_manager = smote_manager.fit_resample(X_binary_manager, y_binary_encoded_manager)\n",
    "\n",
    "# Identify synthetic samples\n",
    "synthetic_mask_manager = np.arange(len(y_smote_manager)) >= len(X_binary_manager)\n",
    "X_synthetic_manager = X_smote_manager[synthetic_mask_manager]\n",
    "\n",
    "# Optional: Add small noise to synthetic samples\n",
    "X_smote_manager[synthetic_mask_manager] += np.random.normal(0, 0.1, X_synthetic_manager.shape)\n",
    "\n",
    "# Optional: Modify feature 0 within min/max bounds (update with real values!)\n",
    "feature_mins_manager = np.array([5.12, 6.01, 4.34, 5.45, 4.34])  # Update as needed\n",
    "feature_maxs_manager = np.array([8.78, 8.89, 8.78, 8.45, 6.45])  # Update as needed\n",
    "\n",
    "X_smote_manager[synthetic_mask_manager, 0] = np.random.uniform(\n",
    "    feature_mins_manager[0], feature_maxs_manager[0], size=X_smote_manager[synthetic_mask_manager, 0].shape\n",
    ")\n",
    "\n",
    "# Clip all features\n",
    "for i in range(X_smote_manager.shape[1]):\n",
    "    X_smote_manager[:, i] = np.clip(X_smote_manager[:, i], feature_mins_manager[i], feature_maxs_manager[i])\n",
    "\n",
    "# Train/test split\n",
    "X_train_manager, X_test_manager, y_train_manager, y_test_manager = train_test_split(\n",
    "    X_smote_manager, y_smote_manager, stratify=y_smote_manager, random_state=42\n",
    ")\n",
    "\n",
    "clf_manager = RandomForestClassifier(random_state=42)\n",
    "clf_manager.fit(X_train_manager, y_train_manager)\n",
    "\n",
    "y_pred_manager = clf_manager.predict(X_test_manager)\n",
    "\n",
    "print(f\"\\nClassification report for category '{category_name_manager}':\")\n",
    "print(classification_report(y_test_manager, y_pred_manager, target_names=le_binary_manager.classes_))\n",
    "\n",
    "accuracy_manager = clf_manager.score(X_test_manager, y_test_manager)\n",
    "print(f\"Test accuracy: {accuracy_manager:.2f}\")\n",
    "print(f\"Original samples: {len(X_cat_manager)}\")\n",
    "print(f\"Samples after SMOTE: {len(y_smote_manager)}\")\n",
    "print(f\"Synthetic samples created by SMOTE: {len(y_smote_manager) - len(X_binary_manager)}\")\n"
   ]
  },
  {
   "cell_type": "code",
   "execution_count": 152,
   "id": "be9efc69",
   "metadata": {},
   "outputs": [
    {
     "name": "stdout",
     "output_type": "stream",
     "text": [
      "Number of synthetic 'Manager' samples: 89\n",
      "[[8.34537749 6.01       8.66883045 5.45       6.35696261]\n",
      " [6.40168268 6.01       6.77909747 7.94677743 6.37730878]\n",
      " [5.42472303 6.04087119 8.1493521  5.89819633 6.45      ]\n",
      " [7.77188195 6.01       6.40969519 8.17525206 6.45      ]\n",
      " [6.26013501 6.01       6.13369973 8.09458666 6.45      ]\n",
      " [7.98550043 6.01       7.24160253 7.67070343 6.01266857]\n",
      " [6.74011674 6.34688517 6.25588062 7.58466081 6.45      ]\n",
      " [6.89607628 6.01       6.57105758 7.6148322  6.45      ]\n",
      " [7.96714843 6.36481354 7.13896788 8.27074658 5.52328353]\n",
      " [6.51944979 6.01       7.28722736 7.91450395 6.45      ]\n",
      " [6.74184608 6.01       7.08658641 7.76733201 6.45      ]\n",
      " [6.49685712 6.01       6.92125626 8.40052725 5.77931587]\n",
      " [6.46446629 6.01       7.32079187 7.45100179 6.43152459]\n",
      " [7.04496447 6.44814696 7.11914289 8.45       5.4535036 ]\n",
      " [8.08020597 6.01       7.43180765 7.24695663 5.85054861]\n",
      " [6.44407202 6.01       7.40422712 7.32465424 6.33348   ]\n",
      " [7.03877228 6.01       6.20136643 8.1131395  6.45      ]\n",
      " [7.57486201 6.01       6.70916446 8.27233176 6.40390494]\n",
      " [6.10614837 6.01       6.91778569 7.39273184 6.45      ]\n",
      " [6.13573347 6.01       6.67575821 8.19001514 6.19771351]\n",
      " [8.53629204 6.01       7.10330942 7.72491098 6.30530679]\n",
      " [7.76813654 6.01       7.08244079 8.32532447 5.70610547]\n",
      " [7.23250323 6.01       8.78       6.06723359 5.78547524]\n",
      " [7.4906554  6.01       8.21416723 6.37269762 6.45      ]\n",
      " [5.22723596 6.01       7.2556763  7.81155175 6.22294114]\n",
      " [7.38225685 6.01       7.08290197 7.50531102 6.45      ]\n",
      " [6.98480248 6.01       8.37183596 5.75066863 6.45      ]\n",
      " [7.11744383 6.01       6.82538    7.41755683 6.45      ]\n",
      " [6.43549121 6.01       7.96417456 6.17185015 6.45      ]\n",
      " [5.41819447 6.01       8.37430206 6.50839924 6.45      ]\n",
      " [5.8276216  6.01       7.88997003 7.75594542 6.45      ]\n",
      " [8.59972565 6.01       7.05309466 7.4830151  6.45      ]\n",
      " [6.6158404  6.01       7.29160129 7.58210434 6.20013673]\n",
      " [6.82806035 6.01       7.6685059  6.70553663 6.45      ]\n",
      " [5.31291783 6.01       6.66111811 8.27551105 6.45      ]\n",
      " [5.2574924  6.01       7.2132712  7.40367609 6.44935942]\n",
      " [7.7448841  6.01       6.39846607 8.29428125 6.45      ]\n",
      " [7.08942647 6.01       8.78       5.61223592 5.71488311]\n",
      " [6.9818639  6.01       8.39473685 6.18377444 6.45      ]\n",
      " [6.00983578 6.01       7.76231895 6.43313069 6.45      ]\n",
      " [7.84578768 6.01       7.34221027 7.81031403 6.45      ]\n",
      " [5.73574588 6.01       7.97851248 6.40944528 6.45      ]\n",
      " [5.81516116 6.01       8.38163613 7.98263045 6.45      ]\n",
      " [6.80620655 6.01       7.21148946 7.48917765 6.34688989]\n",
      " [6.1677843  6.01       8.74029721 7.12534566 6.45      ]\n",
      " [6.02571451 6.01       7.45715759 7.94726358 6.45      ]\n",
      " [7.48156978 6.01       8.76199334 5.45       5.74994348]\n",
      " [7.50255659 6.01       8.27776309 6.54573059 6.45      ]\n",
      " [8.13773248 6.01       6.94797668 8.02882574 6.17836033]\n",
      " [6.64881336 6.40546124 6.39065595 7.41608697 6.45      ]\n",
      " [5.38749143 6.01       7.18946979 7.79823868 6.45      ]\n",
      " [6.12161897 6.01       7.23070016 7.48815063 6.45      ]\n",
      " [8.70682    6.01       7.23559487 7.53558516 6.45      ]\n",
      " [7.30230639 6.01       7.02836294 7.43556093 6.45      ]\n",
      " [7.71763773 6.01       7.4982555  7.54162849 6.41360866]\n",
      " [5.14692966 6.01       7.19379381 7.40584772 6.45      ]\n",
      " [7.01663298 6.01       6.47595299 7.95087358 6.45      ]\n",
      " [5.25735489 6.01       8.4593909  6.414069   6.45      ]\n",
      " [7.20338258 6.01       7.82414496 6.98014941 6.45      ]\n",
      " [8.49002131 6.01       7.2740891  8.09981688 6.2924462 ]\n",
      " [8.66441402 6.01       7.04260062 7.81852269 6.45      ]\n",
      " [7.09842279 6.01       6.8791337  7.7829598  6.45      ]\n",
      " [6.79702959 6.01       8.61173922 5.45       5.89291884]\n",
      " [8.57876256 6.01       6.84171964 8.05423951 6.32803949]\n",
      " [7.58541199 6.01       7.2315461  7.7164792  6.45      ]\n",
      " [5.35753136 6.01       6.74214972 7.96117454 6.36710836]\n",
      " [6.82455561 6.01       8.15198559 5.78894444 6.45      ]\n",
      " [5.99929677 6.01       8.30691045 6.1937509  6.45      ]\n",
      " [6.83948382 6.01       7.38355705 7.83190727 6.35500096]\n",
      " [6.78700399 6.01       7.3431197  7.58247623 6.45      ]\n",
      " [7.25064998 6.01       7.37083561 7.47776381 6.45      ]\n",
      " [6.42577999 6.01       7.14511224 8.18418609 5.85430387]\n",
      " [5.72122985 6.01       7.19100506 7.79183538 6.45      ]\n",
      " [6.96361313 6.01       7.28511454 7.24783467 6.45      ]\n",
      " [8.15854256 6.01       8.38701781 5.68528581 6.45      ]\n",
      " [7.55028475 6.01       6.85445184 8.044981   6.45      ]\n",
      " [6.35842639 6.01       8.35918961 6.79365715 6.45      ]\n",
      " [8.54401426 6.01       8.51505707 7.36682232 6.45      ]\n",
      " [8.45867971 6.01       8.45624087 5.87612426 6.45      ]\n",
      " [5.88621514 6.01       8.11563118 5.97700659 6.45      ]\n",
      " [5.26426836 6.01       7.64767996 6.96051044 6.45      ]\n",
      " [7.83318987 6.01       7.00686629 7.44489393 6.45      ]\n",
      " [8.14905356 6.01       7.2033486  8.01732843 6.45      ]\n",
      " [8.66238431 6.36717478 7.14940275 8.39274043 5.34740626]\n",
      " [8.3768012  6.01       7.18765024 8.05164489 6.45      ]\n",
      " [7.31795725 6.01       7.01979425 8.42117886 5.6746941 ]\n",
      " [7.05999156 6.01       7.05588101 8.32739504 5.7266278 ]\n",
      " [5.22189825 6.01       7.34196128 7.86653662 6.45      ]\n",
      " [6.0227626  6.01       7.39230396 7.73450096 6.45      ]]\n"
     ]
    }
   ],
   "source": [
    "# Since we did NOT use ROS, the original dataset length is simply:\n",
    "n_original_manager = len(X_binary_manager)\n",
    "\n",
    "# Identify which samples are synthetic (newly generated by SMOTE)\n",
    "synthetic_mask_manager = np.arange(len(y_smote_manager)) >= n_original_manager\n",
    "\n",
    "# Get synthetic samples and labels\n",
    "X_synthetic_manager = X_smote_manager[synthetic_mask_manager]\n",
    "y_synthetic_manager = y_smote_manager[synthetic_mask_manager]\n",
    "\n",
    "# Filter synthetic samples for 'Manager' only (label 0)\n",
    "manager_label = 0  # assuming 0 = Manager after encoding\n",
    "manager_synthetic = X_synthetic_manager[y_synthetic_manager == manager_label]\n",
    "\n",
    "print(f\"Number of synthetic 'Manager' samples: {len(manager_synthetic)}\")\n",
    "print(manager_synthetic)\n"
   ]
  },
  {
   "cell_type": "markdown",
   "id": "2b7341fd",
   "metadata": {},
   "source": [
    "#### Sales & PR Model"
   ]
  },
  {
   "cell_type": "code",
   "execution_count": 153,
   "id": "ced20bc2",
   "metadata": {},
   "outputs": [
    {
     "name": "stdout",
     "output_type": "stream",
     "text": [
      "\n",
      "Classification report for category 'Sales & PR':\n",
      "              precision    recall  f1-score   support\n",
      "\n",
      "       Other       0.89      0.96      0.92        25\n",
      "  Sales & PR       0.96      0.88      0.92        26\n",
      "\n",
      "    accuracy                           0.92        51\n",
      "   macro avg       0.92      0.92      0.92        51\n",
      "weighted avg       0.92      0.92      0.92        51\n",
      "\n",
      "Test accuracy: 0.92\n",
      "Original samples after ROS: 106\n",
      "Samples after SMOTE: 203\n",
      "Synthetic samples created by SMOTE: 97\n"
     ]
    }
   ],
   "source": [
    "category_name_sales = \"Sales & PR\"\n",
    "indices_sales = (y == category_name_sales)\n",
    "X_cat_sales = X[indices_sales]\n",
    "y_cat_sales = y[indices_sales]\n",
    "\n",
    "# Sample 'Other' class (3 examples)\n",
    "other_indices_sales = (y != category_name_sales)\n",
    "X_other_sales = X[other_indices_sales]\n",
    "y_other_sales = np.array(['Other'] * len(X_other_sales))\n",
    "\n",
    "# Combine category + Other\n",
    "X_binary_sales = np.vstack((X_cat_sales, X_other_sales))\n",
    "y_binary_sales = np.hstack((y_cat_sales, y_other_sales))\n",
    "\n",
    "# Encode binary labels\n",
    "le_binary_sales = LabelEncoder()\n",
    "y_binary_encoded_sales = le_binary_sales.fit_transform(y_binary_sales)\n",
    "\n",
    "# Oversample to 6 samples using RandomOverSampler\n",
    "sampling_strategy_ros_sales = {1: 6}\n",
    "ros_sales = RandomOverSampler(sampling_strategy=sampling_strategy_ros_sales, random_state=42)\n",
    "X_ros_sales, y_ros_sales = ros_sales.fit_resample(X_binary_sales, y_binary_encoded_sales)\n",
    "\n",
    "# Add small random noise ±0.01 to newly duplicated samples by ROS\n",
    "new_ros_samples_idx_sales = np.arange(len(X_binary_sales), len(X_ros_sales))\n",
    "noise_ros_sales = np.random.uniform(low=-0.01, high=0.01, size=X_ros_sales[new_ros_samples_idx_sales].shape)\n",
    "X_ros_sales[new_ros_samples_idx_sales] += noise_ros_sales\n",
    "\n",
    "# SMOTE to generate 30 samples for Sales & PR (no scaling)\n",
    "sampling_strategy_smote_sales = {1: 103}\n",
    "smote_sales = SMOTE(sampling_strategy=sampling_strategy_smote_sales, random_state=42, k_neighbors=3)\n",
    "X_smote_sales, y_smote_sales = smote_sales.fit_resample(X_ros_sales, y_ros_sales)\n",
    "\n",
    "# Add small random noise to synthetic samples for Sales & PR\n",
    "synthetic_mask_sales = np.arange(len(y_smote_sales)) >= len(y_ros_sales)\n",
    "noise_sales = np.random.normal(0, 0.1, X_smote_sales[synthetic_mask_sales].shape)\n",
    "X_smote_sales[synthetic_mask_sales] += noise_sales\n",
    "\n",
    "# For feature 0 of synthetic samples, generate random values within min/max bounds\n",
    "feature_mins_sales = np.array([6.12, 6.78, 8.67, 7.56, 2.89])\n",
    "feature_maxs_sales = np.array([6.67, 7.34, 9.34, 7.89, 8.12])\n",
    "feature_0_min_sales = feature_mins_sales[0]\n",
    "feature_0_max_sales = feature_maxs_sales[0]\n",
    "X_smote_sales[synthetic_mask_sales, 0] = np.random.uniform(\n",
    "    feature_0_min_sales, feature_0_max_sales, size=X_smote_sales[synthetic_mask_sales, 0].shape\n",
    ")\n",
    "\n",
    "# Clip all features to Sales-specific bounds\n",
    "for i in range(X_smote_sales.shape[1]):\n",
    "    X_smote_sales[:, i] = np.clip(X_smote_sales[:, i], feature_mins_sales[i], feature_maxs_sales[i])\n",
    "\n",
    "# Train/test split\n",
    "X_train_sales, X_test_sales, y_train_sales, y_test_sales = train_test_split(\n",
    "    X_smote_sales, y_smote_sales, stratify=y_smote_sales, random_state=42\n",
    ")\n",
    "\n",
    "clf_sales = RandomForestClassifier(random_state=42)\n",
    "clf_sales.fit(X_train_sales, y_train_sales)\n",
    "\n",
    "y_pred_sales = clf_sales.predict(X_test_sales)\n",
    "\n",
    "print(f\"\\nClassification report for category '{category_name_sales}':\")\n",
    "print(classification_report(y_test_sales, y_pred_sales, target_names=le_binary_sales.classes_))\n",
    "\n",
    "accuracy_sales = clf_sales.score(X_test_sales, y_test_sales)\n",
    "print(f\"Test accuracy: {accuracy_sales:.2f}\")\n",
    "print(f\"Original samples after ROS: {len(y_ros_sales)}\")\n",
    "print(f\"Samples after SMOTE: {len(y_smote_sales)}\")\n",
    "print(f\"Synthetic samples created by SMOTE: {len(y_smote_sales) - len(y_ros_sales)}\")\n"
   ]
  },
  {
   "cell_type": "code",
   "execution_count": 154,
   "id": "826901f2",
   "metadata": {},
   "outputs": [
    {
     "name": "stdout",
     "output_type": "stream",
     "text": [
      "Newly duplicated samples (from ROS) for 'Sales & PR':\n",
      "[[8.67 5.34 7.01 7.89 6.12]\n",
      " [8.67 5.45 7.34 7.89 6.67]\n",
      " [8.67 5.34 7.01 7.89 6.12]]\n"
     ]
    }
   ],
   "source": [
    "# Store original length\n",
    "n_original_sales = len(X_binary_sales)\n",
    "\n",
    "# After resampling\n",
    "X_ros_sales, y_ros_sales = ros_sales.fit_resample(X_binary_sales, y_binary_encoded_sales)\n",
    "\n",
    "# Get indices of new samples (those beyond the original dataset length)\n",
    "new_sample_indices_sales = np.arange(n_original_sales, len(X_ros_sales))\n",
    "\n",
    "# Inspect the new (duplicated) samples\n",
    "duplicated_samples_sales = X_ros_sales[new_sample_indices_sales]\n",
    "duplicated_labels_sales = y_ros_sales[new_sample_indices_sales]\n",
    "\n",
    "print(\"Newly duplicated samples (from ROS) for 'Sales & PR':\")\n",
    "print(duplicated_samples_sales)\n"
   ]
  },
  {
   "cell_type": "code",
   "execution_count": 155,
   "id": "63f91227",
   "metadata": {},
   "outputs": [
    {
     "name": "stdout",
     "output_type": "stream",
     "text": [
      "Number of synthetic 'Sales & PR' samples: 97\n",
      "[[6.44272235 6.78       8.67       7.87012804 6.14650875]\n",
      " [6.3651514  6.78       8.67       7.69543078 6.7014846 ]\n",
      " [6.57986524 6.78       8.67       7.69875285 5.99290072]\n",
      " [6.26573188 6.78       8.67       7.88772717 6.04980972]\n",
      " [6.36674793 6.78       8.67       7.81548222 6.20648189]\n",
      " [6.41573067 6.78       8.67       7.89       6.29231294]\n",
      " [6.4849936  6.78       8.67       7.89       6.07477336]\n",
      " [6.55118452 6.78       8.67       7.72805912 6.23983848]\n",
      " [6.33714401 6.78       8.67       7.89       5.99857065]\n",
      " [6.47532582 6.78       8.67       7.80689166 6.68730046]\n",
      " [6.20283602 6.78       8.67       7.89       6.54347297]\n",
      " [6.63295646 6.78       8.67       7.89       6.13626981]\n",
      " [6.33068234 6.78       8.67       7.7977759  6.01766716]\n",
      " [6.52123678 6.78       8.67       7.88875868 6.37374287]\n",
      " [6.1311876  6.78       8.67       7.81906412 6.50629791]\n",
      " [6.23285293 6.78       8.67       7.89       6.61370812]\n",
      " [6.3878954  6.78       8.67       7.85993723 6.26759576]\n",
      " [6.60303886 6.78       8.67       7.89       6.17576006]\n",
      " [6.40999033 6.78       8.67       7.89       6.05664853]\n",
      " [6.63142877 6.78       8.67       7.89       6.19888985]\n",
      " [6.38608829 6.78       8.67       7.77213801 6.67311094]\n",
      " [6.389747   6.78       8.67       7.80881885 6.39627457]\n",
      " [6.18586073 6.78       8.67       7.89       6.26999941]\n",
      " [6.56146093 6.78       8.67       7.83146078 6.04267673]\n",
      " [6.25583098 6.78       8.67       7.62063542 6.22909667]\n",
      " [6.61478687 6.78       8.67       7.89       6.03846254]\n",
      " [6.62095332 6.78       8.67       7.89       6.53712639]\n",
      " [6.63882056 6.78       8.67       7.89       6.02743465]\n",
      " [6.40612677 6.78       8.67       7.8286361  6.18677078]\n",
      " [6.49240158 6.78       8.67       7.89       5.94802334]\n",
      " [6.54818373 6.78       8.67       7.89       6.38125925]\n",
      " [6.19205804 6.78       8.67       7.89       6.47943049]\n",
      " [6.45052646 6.78       8.67       7.83256175 6.64633403]\n",
      " [6.13886385 6.78       8.67       7.89       6.53947202]\n",
      " [6.39366135 6.78       8.67       7.82057009 6.77948431]\n",
      " [6.20516347 6.78       8.67       7.89       6.18664389]\n",
      " [6.22060761 6.78       8.67       7.89       6.32141991]\n",
      " [6.32077616 6.78       8.67       7.89       6.2067633 ]\n",
      " [6.35784044 6.78       8.67       7.84767071 6.2776909 ]\n",
      " [6.46274483 6.78       8.67       7.83963006 6.5846178 ]\n",
      " [6.16093563 6.78       8.67       7.69498075 6.3160735 ]\n",
      " [6.39703047 6.78       8.67       7.89       6.05162837]\n",
      " [6.22044382 6.78       8.67       7.57203165 6.19313619]\n",
      " [6.43568635 6.78       8.67       7.72588233 6.39632189]\n",
      " [6.47057254 6.78       8.67       7.89       6.01028818]\n",
      " [6.42619009 6.78       8.67       7.75999041 6.14657933]\n",
      " [6.52606253 6.78       8.67       7.89       6.43981011]\n",
      " [6.30458508 6.78       8.67       7.87298394 6.07921122]\n",
      " [6.54080863 6.78       8.67       7.89       6.02064495]\n",
      " [6.35802189 6.78       8.67       7.66177604 5.96952126]\n",
      " [6.38630147 6.78       8.67       7.89       6.51083747]\n",
      " [6.47645617 6.78       8.67       7.89       6.55073506]\n",
      " [6.13009711 6.78       8.67       7.89       6.4349921 ]\n",
      " [6.47969682 6.78       8.67       7.8227088  5.93623139]\n",
      " [6.46022183 6.78       8.67       7.56       6.02201793]\n",
      " [6.29041591 6.78       8.67       7.82669049 6.55961181]\n",
      " [6.16718686 6.78       8.67       7.89       6.21034922]\n",
      " [6.1700145  6.78       8.67       7.80005825 6.36160802]\n",
      " [6.62777306 6.78       8.67       7.89       5.76119659]\n",
      " [6.49910363 6.78       8.67       7.89       6.77285332]\n",
      " [6.18990644 6.78       8.67       7.85416967 5.92385144]\n",
      " [6.31619774 6.78       8.67       7.89       6.09628062]\n",
      " [6.44586565 6.78       8.67       7.89       6.75336701]\n",
      " [6.57956444 6.78       8.67       7.81528073 6.18752729]\n",
      " [6.14401351 6.78       8.67       7.87518197 6.58753543]\n",
      " [6.25014822 6.78       8.67       7.89       6.73602548]\n",
      " [6.60936194 6.78       8.67       7.89       6.1647015 ]\n",
      " [6.12504105 6.78       8.67       7.89       6.26528352]\n",
      " [6.23076951 6.78       8.67       7.89       6.5232757 ]\n",
      " [6.6474633  6.78       8.67       7.89       6.67714517]\n",
      " [6.45737102 6.78       8.67       7.89       5.99141197]\n",
      " [6.26391925 6.78       8.67       7.81768687 6.41316196]\n",
      " [6.1568451  6.78       8.67       7.89       6.60500434]\n",
      " [6.13550524 6.78       8.67       7.78717048 6.53519812]\n",
      " [6.25460979 6.78       8.67       7.58105824 6.19716077]\n",
      " [6.6048172  6.78       8.67       7.85194733 5.9844687 ]\n",
      " [6.34875251 6.78       8.67       7.63305728 6.06357928]\n",
      " [6.51618335 6.78       8.67       7.77628251 6.14114101]\n",
      " [6.62505677 6.78       8.67       7.89       6.68119076]\n",
      " [6.34442225 6.78       8.67       7.89       6.50648251]\n",
      " [6.22520255 6.78       8.67       7.69503578 6.64539396]\n",
      " [6.40441486 6.78       8.67       7.72530757 6.15893424]\n",
      " [6.61944603 6.78       8.67       7.84155498 6.15421571]\n",
      " [6.56240593 6.78       8.67       7.76343277 6.1797133 ]\n",
      " [6.15620641 6.78       8.67       7.89       6.30436578]\n",
      " [6.50091504 6.78       8.67       7.89       6.25788123]\n",
      " [6.43454364 6.78       8.67       7.82737754 6.23039646]\n",
      " [6.61910475 6.78       8.67       7.84697748 6.17035711]\n",
      " [6.18736478 6.78       8.67       7.89       6.35890542]\n",
      " [6.41371986 6.78       8.67       7.8795762  6.07611784]\n",
      " [6.60370448 6.78       8.67       7.86548045 6.73773543]\n",
      " [6.34551308 6.78       8.67       7.84599284 6.05069217]\n",
      " [6.3850972  6.78       8.67       7.56       6.04187275]\n",
      " [6.15875337 6.78       8.67       7.74788439 6.12199855]\n",
      " [6.272979   6.78       8.67       7.89       6.76381561]\n",
      " [6.29847866 6.78       8.67       7.88828436 6.11683838]\n",
      " [6.63981735 6.78       8.67       7.89       6.14343616]]\n"
     ]
    }
   ],
   "source": [
    "# Identify which samples are synthetic (newly generated)\n",
    "synthetic_mask_sales = np.arange(len(y_smote_sales)) >= len(y_ros_sales)\n",
    "\n",
    "# Get the synthetic samples and labels\n",
    "X_synthetic_sales = X_smote_sales[synthetic_mask_sales]\n",
    "y_synthetic_sales = y_smote_sales[synthetic_mask_sales]\n",
    "\n",
    "# Since label 1 corresponds to \"Sales & PR\", filter synthetic samples for Sales & PR only\n",
    "sales_label = 1  # assuming 1 = \"Sales & PR\" after encoding\n",
    "sales_synthetic = X_synthetic_sales[y_synthetic_sales == sales_label]\n",
    "\n",
    "print(f\"Number of synthetic 'Sales & PR' samples: {len(sales_synthetic)}\")\n",
    "print(sales_synthetic)\n"
   ]
  },
  {
   "cell_type": "markdown",
   "id": "dd9ba085",
   "metadata": {},
   "source": [
    "#### Scientist Model"
   ]
  },
  {
   "cell_type": "code",
   "execution_count": 156,
   "id": "6fb86e4e",
   "metadata": {},
   "outputs": [
    {
     "name": "stdout",
     "output_type": "stream",
     "text": [
      "\n",
      "Classification report for category 'Scientist':\n",
      "              precision    recall  f1-score   support\n",
      "\n",
      "       Other       0.78      0.95      0.86        22\n",
      "   Scientist       0.95      0.76      0.84        25\n",
      "\n",
      "    accuracy                           0.85        47\n",
      "   macro avg       0.86      0.86      0.85        47\n",
      "weighted avg       0.87      0.85      0.85        47\n",
      "\n",
      "Test accuracy: 0.85\n",
      "Original samples: 15\n",
      "Samples after SMOTE: 188\n",
      "Synthetic samples created by SMOTE: 85\n"
     ]
    }
   ],
   "source": [
    "category_name_scientist = \"Scientist\"\n",
    "indices_scientist = (y == category_name_scientist)\n",
    "X_cat_scientist = X[indices_scientist]\n",
    "y_cat_scientist = y[indices_scientist]\n",
    "\n",
    "# Sample 'Other' class (everything else)\n",
    "other_indices_scientist = (y != category_name_scientist)\n",
    "X_other_scientist = X[other_indices_scientist]\n",
    "y_other_scientist = np.array(['Other'] * len(X_other_scientist))\n",
    "\n",
    "# Combine\n",
    "X_binary_scientist = np.vstack((X_cat_scientist, X_other_scientist))\n",
    "y_binary_scientist = np.hstack((y_cat_scientist, y_other_scientist))\n",
    "\n",
    "# Encode\n",
    "le_binary_scientist = LabelEncoder()\n",
    "y_binary_encoded_scientist = le_binary_scientist.fit_transform(y_binary_scientist)\n",
    "\n",
    "# Apply SMOTE directly (target 30 samples for class 1 = Scientist)\n",
    "sampling_strategy_smote_scientist = {1: 100}\n",
    "smote_scientist = SMOTE(sampling_strategy=sampling_strategy_smote_scientist, random_state=42, k_neighbors=3)\n",
    "X_smote_scientist, y_smote_scientist = smote_scientist.fit_resample(X_binary_scientist, y_binary_encoded_scientist)\n",
    "\n",
    "# Identify synthetic samples\n",
    "synthetic_mask_scientist = np.arange(len(y_smote_scientist)) >= len(X_binary_scientist)\n",
    "X_synthetic_scientist = X_smote_scientist[synthetic_mask_scientist]\n",
    "\n",
    "# Optional: Add small noise to synthetic samples\n",
    "X_smote_scientist[synthetic_mask_scientist] += np.random.normal(0, 0.1, X_synthetic_scientist.shape)\n",
    "\n",
    "# Optional: Modify feature 0 within min/max bounds (update with real values!)\n",
    "feature_mins_scientist = np.array([7.45, 7.12, 3.67, 5.12, 3.78])\n",
    "feature_maxs_scientist = np.array([9.45, 8.78, 5.23, 9.12, 6.34])\n",
    "\n",
    "X_smote_scientist[synthetic_mask_scientist, 0] = np.random.uniform(\n",
    "    feature_mins_scientist[0], feature_maxs_scientist[0], size=X_smote_scientist[synthetic_mask_scientist, 0].shape\n",
    ")\n",
    "\n",
    "# Clip all features\n",
    "for i in range(X_smote_scientist.shape[1]):\n",
    "    X_smote_scientist[:, i] = np.clip(X_smote_scientist[:, i], feature_mins_scientist[i], feature_maxs_scientist[i])\n",
    "\n",
    "# Train/test split\n",
    "X_train_scientist, X_test_scientist, y_train_scientist, y_test_scientist = train_test_split(\n",
    "    X_smote_scientist, y_smote_scientist, stratify=y_smote_scientist, random_state=42\n",
    ")\n",
    "\n",
    "clf_scientist = RandomForestClassifier(random_state=42)\n",
    "clf_scientist.fit(X_train_scientist, y_train_scientist)\n",
    "\n",
    "y_pred_scientist = clf_scientist.predict(X_test_scientist)\n",
    "\n",
    "print(f\"\\nClassification report for category '{category_name_scientist}':\")\n",
    "print(classification_report(y_test_scientist, y_pred_scientist, target_names=le_binary_scientist.classes_))\n",
    "\n",
    "accuracy_scientist = clf_scientist.score(X_test_scientist, y_test_scientist)\n",
    "print(f\"Test accuracy: {accuracy_scientist:.2f}\")\n",
    "print(f\"Original samples: {len(X_cat_scientist)}\")\n",
    "print(f\"Samples after SMOTE: {len(y_smote_scientist)}\")\n",
    "print(f\"Synthetic samples created by SMOTE: {len(y_smote_scientist) - len(X_binary_scientist)}\")\n"
   ]
  },
  {
   "cell_type": "code",
   "execution_count": 157,
   "id": "f7a38543",
   "metadata": {},
   "outputs": [
    {
     "name": "stdout",
     "output_type": "stream",
     "text": [
      "Number of synthetic 'Scientist' samples: 85\n",
      "[[9.00575541 7.12       5.23       8.6039682  6.34      ]\n",
      " [8.45071672 7.12       5.23       5.12       6.34      ]\n",
      " [8.16502666 7.12       5.23       5.14984518 6.34      ]\n",
      " [8.00485347 7.12       5.23       5.19458166 6.34      ]\n",
      " [8.7356041  7.12       5.23       5.64378033 6.34      ]\n",
      " [8.8356024  7.12       5.23       5.72734474 6.34      ]\n",
      " [9.1919352  7.12       5.23       9.12       6.34      ]\n",
      " [8.13466816 7.12       5.23       5.71814598 6.34      ]\n",
      " [8.98954461 7.12       5.23       5.12       6.34      ]\n",
      " [8.57271165 7.12       5.23       5.12       6.34      ]\n",
      " [9.21567298 7.12       5.23       5.4872728  6.34      ]\n",
      " [8.50562422 7.12       5.23       5.25782899 6.34      ]\n",
      " [8.48525966 7.12       5.23       5.12478253 6.34      ]\n",
      " [8.60575416 7.12       5.23       5.12       6.34      ]\n",
      " [8.94863071 7.12       5.23       5.12       6.34      ]\n",
      " [9.37938096 7.12       5.23       5.21950323 6.34      ]\n",
      " [7.59712671 7.12       5.23       5.13321532 6.34      ]\n",
      " [7.5568692  7.12       5.23       5.15265442 6.34      ]\n",
      " [9.32510067 7.12       5.23       5.23559677 6.34      ]\n",
      " [8.50975125 7.12       5.23       5.17559415 6.34      ]\n",
      " [8.67980603 7.12       5.23       5.12       6.34      ]\n",
      " [8.4148472  7.12       5.23       7.43130749 6.34      ]\n",
      " [7.63731491 7.12       5.23       5.21095538 6.34      ]\n",
      " [8.98617876 7.12       5.23       5.39941106 6.34      ]\n",
      " [8.94444929 7.12       5.23       5.12       6.34      ]\n",
      " [8.07340664 7.12       5.23       5.19666743 6.34      ]\n",
      " [8.06247849 7.12       5.23       5.12       6.34      ]\n",
      " [9.12568276 7.12       5.23       5.12       6.34      ]\n",
      " [7.59471452 7.12       5.23       5.5043247  6.34      ]\n",
      " [9.2122103  7.12       5.23       5.63482505 6.34      ]\n",
      " [7.96332338 7.12       5.23       5.12       6.34      ]\n",
      " [8.6359695  7.12       5.23       5.12291905 6.34      ]\n",
      " [9.32198836 7.12       5.23       8.89126075 6.34      ]\n",
      " [8.806245   7.12       5.23       5.12       6.34      ]\n",
      " [8.27885962 7.12       5.23       5.13394978 6.34      ]\n",
      " [8.82906842 7.12       5.23       5.28101244 6.34      ]\n",
      " [8.13795927 7.12       5.23       9.12       6.34      ]\n",
      " [8.00451683 7.12       5.23       6.09984651 6.34      ]\n",
      " [9.44336656 7.12       5.23       5.18648859 6.34      ]\n",
      " [8.95158046 7.12       5.23       6.02088145 6.34      ]\n",
      " [8.73943995 7.12       5.23       7.5981594  6.34      ]\n",
      " [8.16057929 7.12       5.23       6.0038524  6.34      ]\n",
      " [7.54832166 7.12       5.23       5.65138416 6.34      ]\n",
      " [7.51211375 7.12       5.23       5.44569979 6.34      ]\n",
      " [8.55836251 7.12       5.23       5.12       6.34      ]\n",
      " [8.97406544 7.12       5.23       6.16116493 6.34      ]\n",
      " [8.52475838 7.12       5.23       5.12       6.34      ]\n",
      " [9.13157014 7.12       5.23       5.19990197 6.34      ]\n",
      " [7.51685307 7.12       5.23       5.21191024 6.34      ]\n",
      " [8.18350415 7.12       5.23       5.12       6.34      ]\n",
      " [7.92414078 7.12       5.23       5.37845556 6.34      ]\n",
      " [8.34454594 7.12       5.23       5.12       6.34      ]\n",
      " [7.59475279 7.12       5.23       5.21103037 6.34      ]\n",
      " [9.35826328 7.12       5.23       5.12       6.34      ]\n",
      " [7.8965108  7.12       5.23       5.12       6.34      ]\n",
      " [9.29461555 7.12       5.23       6.6844315  6.34      ]\n",
      " [8.30178631 7.12       5.23       5.22601438 6.34      ]\n",
      " [9.42104827 7.12       5.23       5.28713476 6.34      ]\n",
      " [8.55811677 7.12       5.23       5.61031414 6.34      ]\n",
      " [9.31166573 7.12       5.23       5.29458904 6.34      ]\n",
      " [7.46069798 7.12       5.23       5.22829076 6.34      ]\n",
      " [8.94647761 7.12       5.23       5.23809899 6.34      ]\n",
      " [9.25610131 7.12       5.23       5.43553666 6.34      ]\n",
      " [7.72944113 7.12       5.23       5.24445652 6.34      ]\n",
      " [7.6422517  7.12       5.23       7.03374755 6.34      ]\n",
      " [8.29914521 7.12       5.23       5.29559622 6.34      ]\n",
      " [9.31735781 7.12       5.23       5.20095944 6.34      ]\n",
      " [8.53477312 7.12       5.23       5.12       6.34      ]\n",
      " [8.50491293 7.12       5.23       5.12       6.34      ]\n",
      " [7.73225224 7.12       5.23       5.15379556 6.34      ]\n",
      " [7.45157902 7.12       5.23       5.12       6.34      ]\n",
      " [9.07028018 7.12       5.23       5.17665369 6.34      ]\n",
      " [7.62514913 7.12       5.23       5.15929135 6.34      ]\n",
      " [8.71769964 7.12       5.23       5.30791996 6.34      ]\n",
      " [9.27923291 7.12       5.23       5.1718793  6.34      ]\n",
      " [7.86730383 7.12       5.23       5.27679504 6.34      ]\n",
      " [8.78054567 7.12       5.23       5.12       6.34      ]\n",
      " [7.60739715 7.12       5.23       5.65162033 6.34      ]\n",
      " [8.65751029 7.12       5.23       8.90759618 6.34      ]\n",
      " [7.77786344 7.12       5.23       5.12       6.34      ]\n",
      " [8.92190712 7.12       5.23       6.47853447 6.34      ]\n",
      " [8.05246259 7.12       5.23       5.12       6.34      ]\n",
      " [8.37678202 7.12       5.23       5.44827446 6.34      ]\n",
      " [8.64886108 7.12       5.23       5.67267435 6.34      ]\n",
      " [7.79254682 7.12       5.23       5.18430004 6.34      ]]\n"
     ]
    }
   ],
   "source": [
    "# Since we did NOT use ROS, the original dataset length is simply:\n",
    "n_original_scientist = len(X_binary_scientist)\n",
    "\n",
    "# Identify which samples are synthetic (newly generated by SMOTE)\n",
    "synthetic_mask_scientist = np.arange(len(y_smote_scientist)) >= n_original_scientist\n",
    "\n",
    "# Get synthetic samples and labels\n",
    "X_synthetic_scientist = X_smote_scientist[synthetic_mask_scientist]\n",
    "y_synthetic_scientist = y_smote_scientist[synthetic_mask_scientist]\n",
    "\n",
    "# Filter synthetic samples for 'Scientist' only (label 1)\n",
    "scientist_label = 1  # assuming 1 = Scientist after encoding\n",
    "scientist_synthetic = X_synthetic_scientist[y_synthetic_scientist == scientist_label]\n",
    "\n",
    "print(f\"Number of synthetic 'Scientist' samples: {len(scientist_synthetic)}\")\n",
    "print(scientist_synthetic)\n"
   ]
  },
  {
   "cell_type": "markdown",
   "id": "7643153c",
   "metadata": {},
   "source": [
    "#### Social Services"
   ]
  },
  {
   "cell_type": "code",
   "execution_count": 158,
   "id": "e2fc71ae",
   "metadata": {},
   "outputs": [
    {
     "name": "stdout",
     "output_type": "stream",
     "text": [
      "\n",
      "Classification report for category 'Social Services':\n",
      "                 precision    recall  f1-score   support\n",
      "\n",
      "          Other       0.81      1.00      0.89        25\n",
      "Social Services       1.00      0.77      0.87        26\n",
      "\n",
      "       accuracy                           0.88        51\n",
      "      macro avg       0.90      0.88      0.88        51\n",
      "   weighted avg       0.91      0.88      0.88        51\n",
      "\n",
      "Test accuracy: 0.88\n",
      "Original samples after ROS: 106\n",
      "Samples after SMOTE: 203\n",
      "Synthetic samples created by SMOTE: 97\n"
     ]
    }
   ],
   "source": [
    "category_name_social = \"Social Services\"\n",
    "indices_social = (y == category_name_social)\n",
    "X_cat_social = X[indices_social]\n",
    "y_cat_social = y[indices_social]\n",
    "\n",
    "# Sample 'Other' class (all non-Social Services examples)\n",
    "other_indices_social = (y != category_name_social)\n",
    "X_other_social = X[other_indices_social]\n",
    "y_other_social = np.array(['Other'] * len(X_other_social))\n",
    "\n",
    "# Combine category + Other\n",
    "X_binary_social = np.vstack((X_cat_social, X_other_social))\n",
    "y_binary_social = np.hstack((y_cat_social, y_other_social))\n",
    "\n",
    "# Encode binary labels\n",
    "le_binary_social = LabelEncoder()\n",
    "y_binary_encoded_social = le_binary_social.fit_transform(y_binary_social)\n",
    "\n",
    "# Oversample to 6 samples using RandomOverSampler\n",
    "sampling_strategy_ros_social = {1: 6}\n",
    "ros_social = RandomOverSampler(sampling_strategy=sampling_strategy_ros_social, random_state=42)\n",
    "X_ros_social, y_ros_social = ros_social.fit_resample(X_binary_social, y_binary_encoded_social)\n",
    "\n",
    "# Add small random noise ±0.01 to newly duplicated samples by ROS\n",
    "new_ros_samples_idx = np.arange(len(X_binary_social), len(X_ros_social))\n",
    "noise_ros = np.random.uniform(low=-0.01, high=0.01, size=X_ros_social[new_ros_samples_idx].shape)\n",
    "X_ros_social[new_ros_samples_idx] += noise_ros\n",
    "\n",
    "# SMOTE to generate 30 samples for Social Services\n",
    "sampling_strategy_smote_social = {1: 103}\n",
    "smote_social = SMOTE(sampling_strategy=sampling_strategy_smote_social, random_state=42, k_neighbors=3)\n",
    "X_smote_social, y_smote_social = smote_social.fit_resample(X_ros_social, y_ros_social)\n",
    "\n",
    "# Add small random noise to synthetic samples\n",
    "synthetic_mask_social = np.arange(len(y_smote_social)) >= len(y_ros_social)\n",
    "noise_social = np.random.normal(0, 0.1, X_smote_social[synthetic_mask_social].shape)\n",
    "X_smote_social[synthetic_mask_social] += noise_social\n",
    "\n",
    "# Set feature bounds specific to 'Social Services'\n",
    "# Update these values based on your actual Social Services class stats\n",
    "feature_mins_social = np.array([7.56, 7.01, 4.45, 5.12, 6.01])\n",
    "feature_maxs_social = np.array([8.78, 7.78, 5.34, 9.23, 6.34])\n",
    "feature_0_min_social = feature_mins_social[0]\n",
    "feature_0_max_social = feature_maxs_social[0]\n",
    "\n",
    "# Assign new values to feature 0 of synthetic samples\n",
    "X_smote_social[synthetic_mask_social, 0] = np.random.uniform(\n",
    "    feature_0_min_social, feature_0_max_social, size=X_smote_social[synthetic_mask_social, 0].shape\n",
    ")\n",
    "\n",
    "# Clip all features to bounds\n",
    "for i in range(X_smote_social.shape[1]):\n",
    "    X_smote_social[:, i] = np.clip(X_smote_social[:, i], feature_mins_social[i], feature_maxs_social[i])\n",
    "\n",
    "# Train/test split\n",
    "X_train_social, X_test_social, y_train_social, y_test_social = train_test_split(\n",
    "    X_smote_social, y_smote_social, stratify=y_smote_social, random_state=42\n",
    ")\n",
    "\n",
    "clf_social = RandomForestClassifier(random_state=42)\n",
    "clf_social.fit(X_train_social, y_train_social)\n",
    "\n",
    "y_pred_social = clf_social.predict(X_test_social)\n",
    "\n",
    "print(f\"\\nClassification report for category '{category_name_social}':\")\n",
    "print(classification_report(y_test_social, y_pred_social, target_names=le_binary_social.classes_))\n",
    "\n",
    "accuracy_social = clf_social.score(X_test_social, y_test_social)\n",
    "print(f\"Test accuracy: {accuracy_social:.2f}\")\n",
    "print(f\"Original samples after ROS: {len(y_ros_social)}\")\n",
    "print(f\"Samples after SMOTE: {len(y_smote_social)}\")\n",
    "print(f\"Synthetic samples created by SMOTE: {len(y_smote_social) - len(y_ros_social)}\")\n"
   ]
  },
  {
   "cell_type": "code",
   "execution_count": 159,
   "id": "4db158ae",
   "metadata": {},
   "outputs": [
    {
     "name": "stdout",
     "output_type": "stream",
     "text": [
      "Newly duplicated samples (from ROS - Social Services):\n",
      "[[4.45 6.01 7.78 5.12 8.67]\n",
      " [5.34 6.01 7.45 8.45 8.78]\n",
      " [4.45 6.01 7.78 5.12 8.67]]\n"
     ]
    }
   ],
   "source": [
    "# Store original length before resampling\n",
    "n_original_social = len(X_binary_social)\n",
    "\n",
    "# Apply ROS (already done earlier)\n",
    "X_ros_social, y_ros_social = ros_social.fit_resample(X_binary_social, y_binary_encoded_social)\n",
    "\n",
    "# Get indices of new samples (those beyond the original dataset length)\n",
    "new_sample_indices_social = np.arange(n_original_social, len(X_ros_social))\n",
    "\n",
    "# Inspect the new (duplicated) samples\n",
    "duplicated_samples_social = X_ros_social[new_sample_indices_social]\n",
    "duplicated_labels_social = y_ros_social[new_sample_indices_social]\n",
    "\n",
    "print(\"Newly duplicated samples (from ROS - Social Services):\")\n",
    "print(duplicated_samples_social)\n"
   ]
  },
  {
   "cell_type": "code",
   "execution_count": 160,
   "id": "1b4c9c28",
   "metadata": {},
   "outputs": [
    {
     "name": "stdout",
     "output_type": "stream",
     "text": [
      "Number of synthetic 'Social Services' samples: 97\n",
      "[[8.2993383  7.01       5.34       5.23395374 6.34      ]\n",
      " [7.66935076 7.01       5.34       8.00165614 6.34      ]\n",
      " [8.73026723 7.01       5.34       5.22865471 6.34      ]\n",
      " [8.43310844 7.01       5.34       5.12       6.34      ]\n",
      " [8.52155494 7.01       5.34       5.12252895 6.34      ]\n",
      " [8.41900732 7.01       5.34       5.12       6.34      ]\n",
      " [8.27946942 7.01       5.34       5.12       6.34      ]\n",
      " [8.10889359 7.01       5.34       8.91201751 6.34      ]\n",
      " [8.60721552 7.01       5.34       5.23456826 6.34      ]\n",
      " [8.72733951 7.01       5.34       8.3786619  6.34      ]\n",
      " [8.16882413 7.01       5.34       8.51845283 6.34      ]\n",
      " [8.69647276 7.01       5.34       5.18749518 6.34      ]\n",
      " [8.27166615 7.01       5.34       6.65748242 6.34      ]\n",
      " [8.21682871 7.01       5.34       8.58755955 6.34      ]\n",
      " [8.11446893 7.01       5.34       8.30944321 6.34      ]\n",
      " [7.81533107 7.01       5.34       8.03185027 6.34      ]\n",
      " [7.56453799 7.01       5.34       5.90506598 6.34      ]\n",
      " [7.8546376  7.01       5.34       5.13112647 6.34      ]\n",
      " [8.18186227 7.01       5.34       5.12       6.34      ]\n",
      " [8.02355114 7.01       5.34       5.12       6.34      ]\n",
      " [8.10715198 7.01       5.34       8.05581547 6.34      ]\n",
      " [8.75639083 7.01       5.34       7.45295824 6.34      ]\n",
      " [7.98733229 7.01       5.34       5.58799413 6.34      ]\n",
      " [8.11166319 7.01       5.34       5.26229951 6.34      ]\n",
      " [7.72288897 7.01       5.34       8.6534073  6.34      ]\n",
      " [7.61850843 7.01       5.34       5.12       6.34      ]\n",
      " [8.50599961 7.01       5.34       8.16094018 6.34      ]\n",
      " [8.25623347 7.01       5.34       5.19183143 6.34      ]\n",
      " [8.48805986 7.01       5.34       5.75046408 6.34      ]\n",
      " [7.74283261 7.01       5.34       8.61242    6.34      ]\n",
      " [8.2576311  7.01       5.34       8.96399685 6.34      ]\n",
      " [7.86944382 7.01       5.34       7.82779792 6.34      ]\n",
      " [7.83823542 7.01       5.34       7.99996416 6.34      ]\n",
      " [7.57406174 7.01       5.34       8.84472097 6.34      ]\n",
      " [7.71901568 7.01       5.34       7.99528486 6.34      ]\n",
      " [7.9373071  7.01       5.34       5.12       6.34      ]\n",
      " [7.70259209 7.01       5.34       6.45730073 6.34      ]\n",
      " [8.7627473  7.01       5.34       5.24307547 6.34      ]\n",
      " [7.93653183 7.01       5.34       5.81888868 6.34      ]\n",
      " [7.71899521 7.01       5.34       8.42609634 6.34      ]\n",
      " [7.80288042 7.01       5.34       8.79912857 6.34      ]\n",
      " [8.27699794 7.01       5.34       5.12       6.34      ]\n",
      " [7.6381331  7.01       5.34       9.12695033 6.34      ]\n",
      " [8.61216964 7.01       5.34       5.509789   6.34      ]\n",
      " [8.73302961 7.01       5.34       5.12       6.34      ]\n",
      " [7.86103185 7.01       5.34       8.3954152  6.34      ]\n",
      " [8.10911623 7.01       5.34       8.91668078 6.34      ]\n",
      " [7.58700403 7.01       5.34       7.21142946 6.34      ]\n",
      " [8.34166647 7.01       5.34       5.12       6.34      ]\n",
      " [8.06498979 7.01       5.34       8.9293893  6.34      ]\n",
      " [7.88947133 7.01       5.34       8.39186472 6.34      ]\n",
      " [7.81234127 7.01       5.34       8.18085173 6.34      ]\n",
      " [8.35790815 7.01       5.34       8.64395033 6.34      ]\n",
      " [8.06778478 7.01       5.34       5.12       6.34      ]\n",
      " [7.77918433 7.01       5.34       9.00849255 6.34      ]\n",
      " [8.40071308 7.01       5.34       8.59432708 6.34      ]\n",
      " [8.24938819 7.01       5.34       5.12       6.34      ]\n",
      " [8.60757991 7.01       5.34       6.4136472  6.34      ]\n",
      " [7.7033206  7.01       5.34       5.12       6.34      ]\n",
      " [8.51851325 7.01       5.34       8.41268373 6.34      ]\n",
      " [8.38169048 7.01       5.34       5.12       6.34      ]\n",
      " [7.70031334 7.01       5.34       5.12       6.34      ]\n",
      " [8.40768129 7.01       5.34       8.31924393 6.34      ]\n",
      " [8.09868769 7.01       5.34       5.59162058 6.34      ]\n",
      " [8.71288144 7.01       5.34       6.74716838 6.34      ]\n",
      " [7.73276585 7.01       5.34       8.54708879 6.34      ]\n",
      " [8.34425674 7.01       5.34       5.80784585 6.34      ]\n",
      " [8.02601566 7.01       5.34       6.08800117 6.34      ]\n",
      " [8.7273139  7.01       5.34       8.36621206 6.34      ]\n",
      " [7.96256937 7.01       5.34       8.41971138 6.34      ]\n",
      " [8.73386681 7.01       5.34       5.21874126 6.34      ]\n",
      " [8.65981274 7.01       5.34       6.1419501  6.34      ]\n",
      " [7.88986755 7.01       5.34       8.43034041 6.34      ]\n",
      " [8.54032097 7.01       5.34       7.1364845  6.34      ]\n",
      " [8.77463713 7.01       5.34       5.22094647 6.34      ]\n",
      " [7.86824886 7.01       5.34       5.12       6.34      ]\n",
      " [8.09286815 7.01       5.34       5.24152459 6.34      ]\n",
      " [8.1946205  7.01       5.34       5.20895904 6.34      ]\n",
      " [7.91981599 7.01       5.34       7.99855271 6.34      ]\n",
      " [7.5786231  7.01       5.34       8.30681896 6.34      ]\n",
      " [7.82855768 7.01       5.34       8.41900414 6.34      ]\n",
      " [7.903963   7.01       5.34       8.74750403 6.34      ]\n",
      " [8.10119164 7.01       5.34       5.12       6.34      ]\n",
      " [7.76874502 7.01       5.34       5.12       6.34      ]\n",
      " [8.62537032 7.01       5.34       5.7162873  6.34      ]\n",
      " [8.41999158 7.01       5.34       5.23127405 6.34      ]\n",
      " [7.66394458 7.01       5.34       5.68982631 6.34      ]\n",
      " [8.35311279 7.01       5.34       5.25618319 6.34      ]\n",
      " [8.3574609  7.01       5.34       6.55114868 6.34      ]\n",
      " [8.72658983 7.01       5.34       9.04856016 6.34      ]\n",
      " [7.56368546 7.01       5.34       8.38983375 6.34      ]\n",
      " [7.86247759 7.01       5.34       5.1460042  6.34      ]\n",
      " [8.6919056  7.01       5.34       9.23       6.34      ]\n",
      " [8.69720338 7.01       5.34       5.25509956 6.34      ]\n",
      " [8.43911543 7.01       5.34       7.99027194 6.34      ]\n",
      " [8.49423125 7.01       5.34       5.12643226 6.34      ]\n",
      " [7.67160921 7.01       5.34       6.17278337 6.34      ]]\n"
     ]
    }
   ],
   "source": [
    "# Identify which samples are synthetic (newly generated by SMOTE)\n",
    "synthetic_mask_social = np.arange(len(y_smote_social)) >= len(y_ros_social)\n",
    "\n",
    "# Get the synthetic samples and labels\n",
    "X_synthetic_social = X_smote_social[synthetic_mask_social]\n",
    "y_synthetic_social = y_smote_social[synthetic_mask_social]\n",
    "\n",
    "# Since label 1 corresponds to \"Social Services\", filter synthetic samples for that class\n",
    "social_label = 1  # assuming 1 = Social Services after encoding\n",
    "social_synthetic_samples = X_synthetic_social[y_synthetic_social == social_label]\n",
    "\n",
    "print(f\"Number of synthetic 'Social Services' samples: {len(social_synthetic_samples)}\")\n",
    "print(social_synthetic_samples)\n"
   ]
  },
  {
   "cell_type": "markdown",
   "id": "991b1739",
   "metadata": {},
   "source": [
    "#### Teacher"
   ]
  },
  {
   "cell_type": "code",
   "execution_count": 161,
   "id": "4ec0ae18",
   "metadata": {},
   "outputs": [
    {
     "name": "stdout",
     "output_type": "stream",
     "text": [
      "\n",
      "Classification report for category 'Teacher':\n",
      "              precision    recall  f1-score   support\n",
      "\n",
      "       Other       1.00      0.96      0.98        25\n",
      "     Teacher       0.96      1.00      0.98        26\n",
      "\n",
      "    accuracy                           0.98        51\n",
      "   macro avg       0.98      0.98      0.98        51\n",
      "weighted avg       0.98      0.98      0.98        51\n",
      "\n",
      "Test accuracy: 0.98\n",
      "Original samples after ROS: 106\n",
      "Samples after SMOTE: 203\n",
      "Synthetic samples created by SMOTE: 97\n"
     ]
    }
   ],
   "source": [
    "category_name_teacher = \"Teacher\"\n",
    "indices_teacher = (y == category_name_teacher)\n",
    "X_cat_teacher = X[indices_teacher]\n",
    "y_cat_teacher = y[indices_teacher]\n",
    "\n",
    "# Sample 'Other' class (3 examples)\n",
    "other_indices_teacher = (y != category_name_teacher)\n",
    "X_other_teacher = X[other_indices_teacher]\n",
    "y_other_teacher = np.array(['Other'] * len(X_other_teacher))\n",
    "\n",
    "# Combine category + Other\n",
    "X_binary_teacher = np.vstack((X_cat_teacher, X_other_teacher))\n",
    "y_binary_teacher = np.hstack((y_cat_teacher, y_other_teacher))\n",
    "\n",
    "# Encode binary labels\n",
    "le_binary_teacher = LabelEncoder()\n",
    "y_binary_encoded_teacher = le_binary_teacher.fit_transform(y_binary_teacher)\n",
    "\n",
    "# Oversample to 6 samples using RandomOverSampler\n",
    "sampling_strategy_ros_teacher = {1: 6}\n",
    "ros_teacher = RandomOverSampler(sampling_strategy=sampling_strategy_ros_teacher, random_state=42)\n",
    "X_ros_teacher, y_ros_teacher = ros_teacher.fit_resample(X_binary_teacher, y_binary_encoded_teacher)\n",
    "\n",
    "# Add small random noise ±0.01 to newly duplicated samples by ROS\n",
    "new_ros_samples_idx = np.arange(len(X_binary_teacher), len(X_ros_teacher))\n",
    "noise_ros = np.random.uniform(low=-0.01, high=0.01, size=X_ros_teacher[new_ros_samples_idx].shape)\n",
    "X_ros_teacher[new_ros_samples_idx] += noise_ros\n",
    "\n",
    "# SMOTE to generate 30 samples for Teacher (no scaling)\n",
    "sampling_strategy_smote_teacher = {1: 103}\n",
    "smote_teacher = SMOTE(sampling_strategy=sampling_strategy_smote_teacher, random_state=42, k_neighbors=3)\n",
    "X_smote_teacher, y_smote_teacher = smote_teacher.fit_resample(X_ros_teacher, y_ros_teacher)\n",
    "\n",
    "# Add small random noise to synthetic samples for 'Teacher'\n",
    "synthetic_mask_teacher = np.arange(len(y_smote_teacher)) >= len(y_ros_teacher)\n",
    "noise_teacher = np.random.normal(0, 0.1, X_smote_teacher[synthetic_mask_teacher].shape)\n",
    "X_smote_teacher[synthetic_mask_teacher] += noise_teacher\n",
    "\n",
    "# For feature 0 of synthetic samples, generate random values within min/max bounds\n",
    "feature_mins_teacher = np.array([2.67, 3.56, 2.89, 3.23, 2.89])\n",
    "feature_maxs_teacher = np.array([9.45, 9.45, 9.34, 9.34, 8.12])\n",
    "feature_0_min_teacher = feature_mins_teacher[0]\n",
    "feature_0_max_teacher = feature_maxs_teacher[0]\n",
    "X_smote_teacher[synthetic_mask_teacher, 0] = np.random.uniform(\n",
    "    feature_0_min_teacher, feature_0_max_teacher, size=X_smote_teacher[synthetic_mask_teacher, 0].shape\n",
    ")\n",
    "\n",
    "# Clip all features to Teacher-specific bounds\n",
    "for i in range(X_smote_teacher.shape[1]):\n",
    "    X_smote_teacher[:, i] = np.clip(X_smote_teacher[:, i], feature_mins_teacher[i], feature_maxs_teacher[i])\n",
    "\n",
    "# Train/test split\n",
    "X_train_teacher, X_test_teacher, y_train_teacher, y_test_teacher = train_test_split(\n",
    "    X_smote_teacher, y_smote_teacher, stratify=y_smote_teacher, random_state=42\n",
    ")\n",
    "\n",
    "clf_teacher = RandomForestClassifier(random_state=42)\n",
    "clf_teacher.fit(X_train_teacher, y_train_teacher)\n",
    "\n",
    "y_pred_teacher = clf_teacher.predict(X_test_teacher)\n",
    "\n",
    "print(f\"\\nClassification report for category '{category_name_teacher}':\")\n",
    "print(classification_report(y_test_teacher, y_pred_teacher, target_names=le_binary_teacher.classes_))\n",
    "\n",
    "accuracy_teacher = clf_teacher.score(X_test_teacher, y_test_teacher)\n",
    "print(f\"Test accuracy: {accuracy_teacher:.2f}\")\n",
    "print(f\"Original samples after ROS: {len(y_ros_teacher)}\")\n",
    "print(f\"Samples after SMOTE: {len(y_smote_teacher)}\")\n",
    "print(f\"Synthetic samples created by SMOTE: {len(y_smote_teacher) - len(y_ros_teacher)}\")"
   ]
  },
  {
   "cell_type": "code",
   "execution_count": 162,
   "id": "749aecf2",
   "metadata": {},
   "outputs": [
    {
     "name": "stdout",
     "output_type": "stream",
     "text": [
      "Newly duplicated samples (from ROS):\n",
      "[[8.45 6.45 7.67 8.23 6.78]\n",
      " [5.67 4.23 7.56 9.12 6.45]\n",
      " [8.45 6.45 7.67 8.23 6.78]]\n"
     ]
    }
   ],
   "source": [
    "# Store original length\n",
    "n_original = len(X_binary_teacher)\n",
    "\n",
    "# After resampling\n",
    "X_ros_teacher, y_ros_teacher = ros_teacher.fit_resample(X_binary_teacher, y_binary_encoded_teacher)\n",
    "\n",
    "# Get indices of new samples (those beyond the original dataset length)\n",
    "new_sample_indices = np.arange(n_original, len(X_ros_teacher))\n",
    "\n",
    "# Inspect the new (duplicated) samples\n",
    "duplicated_samples = X_ros_teacher[new_sample_indices]\n",
    "duplicated_labels = y_ros_teacher[new_sample_indices]\n",
    "\n",
    "print(\"Newly duplicated samples (from ROS):\")\n",
    "print(duplicated_samples)\n"
   ]
  },
  {
   "cell_type": "code",
   "execution_count": 163,
   "id": "4d310974",
   "metadata": {},
   "outputs": [
    {
     "name": "stdout",
     "output_type": "stream",
     "text": [
      "Number of synthetic 'Teacher' samples: 97\n",
      "[[4.86884664 6.37659359 7.64448254 8.27593002 6.83026815]\n",
      " [7.52559557 4.60228568 7.67959598 8.90973491 6.41491295]\n",
      " [3.5881398  6.43377525 7.44619396 8.09181147 6.75296994]\n",
      " [4.64497161 6.40457347 7.66838913 8.38094694 6.74540146]\n",
      " [3.65113811 6.58917319 7.81136664 8.25762785 6.58153065]\n",
      " [8.17014319 6.55361046 7.66043306 8.40587978 6.86431159]\n",
      " [4.17956181 6.55592059 7.70010961 7.98386049 6.7263912 ]\n",
      " [7.53399611 4.25882483 7.58686762 9.07301301 6.63355987]\n",
      " [9.06556313 6.35931792 7.68200395 8.16460394 6.83837374]\n",
      " [6.24829558 4.36746456 7.59582589 9.34       6.3554104 ]\n",
      " [6.33139792 4.21442709 7.41506923 8.98262183 6.34986853]\n",
      " [5.79580759 6.27984146 7.71199195 8.21366454 6.74491778]\n",
      " [4.87953517 5.6427721  7.63948789 8.63411519 6.46121335]\n",
      " [5.89494111 4.33377005 7.64378059 9.34       6.46580949]\n",
      " [6.75703507 4.2149137  7.58652719 9.29158755 6.24262833]\n",
      " [9.35502286 4.65622566 7.59207922 9.21204132 6.42587914]\n",
      " [9.02804371 5.89808035 7.41446611 8.34209444 6.58503091]\n",
      " [8.51539706 6.53112245 7.69761864 8.31406675 6.75834106]\n",
      " [8.69830503 6.44458208 7.67144904 8.20381681 6.84377945]\n",
      " [5.84201746 6.54255541 7.55394868 8.11894375 6.84580169]\n",
      " [7.12747254 4.36318933 7.6511831  9.00006343 6.46394611]\n",
      " [8.73855238 5.03183697 7.74280238 8.84249673 6.67359465]\n",
      " [5.33420619 5.99830977 7.41085931 8.54752054 6.63587034]\n",
      " [9.1907496  6.19790542 7.72585585 8.26077549 6.61953245]\n",
      " [5.4890295  4.12884051 7.49736619 8.93041785 6.30760419]\n",
      " [6.74534047 6.24936774 7.51955583 8.22880658 6.72322382]\n",
      " [7.48247596 4.70639122 7.48187139 9.06964474 6.57596131]\n",
      " [9.11501385 6.2951439  7.66581433 8.21150177 6.73335873]\n",
      " [4.32849834 5.9570117  7.53011354 8.40751084 6.75577125]\n",
      " [7.72876803 4.35427522 7.38916213 9.08253991 6.43302277]\n",
      " [6.20112967 4.29618994 7.80354062 9.09864307 6.69867612]\n",
      " [4.49081741 4.67250054 7.62302397 9.20904274 6.42143328]\n",
      " [7.93539437 4.39305082 7.56901381 8.86351066 6.49538234]\n",
      " [6.41406706 4.3151015  7.56571184 9.09316434 6.53985117]\n",
      " [7.1514025  4.66617031 7.75914817 9.05691964 6.49316014]\n",
      " [4.85926924 6.55797613 7.5885625  8.17700027 6.64689602]\n",
      " [5.93303739 5.56915442 7.48168935 8.57224454 6.50436965]\n",
      " [6.85566182 6.50071032 7.59143643 8.20499406 6.61129794]\n",
      " [5.41529532 6.13299548 7.57542165 8.3417215  6.74716469]\n",
      " [4.01496582 4.09777015 7.74127785 9.05052848 6.44256745]\n",
      " [9.18992254 4.69956144 7.48865941 9.22584212 6.38408141]\n",
      " [6.13774992 6.37189457 7.55263054 8.22758155 6.62728124]\n",
      " [7.64598011 4.40858481 7.68641606 9.1610726  6.41547531]\n",
      " [5.45689997 6.06273885 7.61702556 8.25053559 6.6492161 ]\n",
      " [5.07779336 6.58212023 7.59919361 8.34843287 6.8844149 ]\n",
      " [5.43057394 4.14198954 7.81640559 9.31038662 6.45616953]\n",
      " [5.44435324 4.23802    7.63878759 9.08383413 6.24676462]\n",
      " [6.35954119 5.48690547 7.55358565 8.70770128 6.50994803]\n",
      " [6.35472572 6.52908432 7.69026898 8.22981498 6.86304769]\n",
      " [6.04070287 4.51784742 7.58173    9.1505135  6.32348383]\n",
      " [3.58384762 4.39745866 7.68689287 9.20016407 6.28939192]\n",
      " [6.03339174 4.13775572 7.64765571 9.05923356 6.54188614]\n",
      " [3.81652444 4.40250887 7.44119858 9.08085056 6.35019054]\n",
      " [3.52520063 6.4534734  7.84557472 8.49905971 6.78414961]\n",
      " [8.99333796 4.40965541 7.68490118 9.16556488 6.4724821 ]\n",
      " [6.77156109 4.241092   7.57908942 9.15232627 6.53971023]\n",
      " [7.14134259 6.43849198 7.85765831 8.34495158 6.91124506]\n",
      " [5.39416108 5.61548496 7.72093608 8.74102881 6.45540634]\n",
      " [8.83289045 6.57824586 7.63910616 8.16594758 6.65091473]\n",
      " [6.99516872 4.10940841 7.76881219 9.1324868  6.4535818 ]\n",
      " [7.88497172 6.54473865 7.76281227 8.33909149 6.71488154]\n",
      " [5.16885354 6.52629798 7.6169237  8.22935081 6.81952655]\n",
      " [9.17888055 4.05890214 7.62669646 9.10389728 6.52826328]\n",
      " [8.23272755 6.28475459 7.78535151 8.49370745 6.87472316]\n",
      " [8.45977058 5.32165439 7.69479299 8.76551348 6.5820873 ]\n",
      " [3.83747713 4.22661622 7.47451655 9.24918325 6.45566178]\n",
      " [4.50713055 5.75221127 7.58617512 8.45100709 6.81625277]\n",
      " [4.60654835 5.75245582 7.51486315 8.41341088 6.70239031]\n",
      " [4.50676453 4.17890319 7.6085939  9.02404646 6.61289217]\n",
      " [8.46966734 4.07494245 7.46526971 8.89369406 6.37409009]\n",
      " [2.88617891 6.40380636 7.71340142 8.07666686 6.85702046]\n",
      " [3.18595793 5.63796445 7.61794549 8.43368809 6.54695895]\n",
      " [4.52714282 4.27544553 7.6610319  9.15851058 6.47054989]\n",
      " [4.02513877 5.02011708 7.59125612 8.99748296 6.64321883]\n",
      " [4.24200818 6.50687755 7.59545377 8.24503747 6.79971162]\n",
      " [8.08005482 6.40667763 7.64362332 8.3962077  6.56528576]\n",
      " [6.48799831 6.35074976 7.52686075 8.35292944 6.84646466]\n",
      " [2.70912508 6.52834814 7.87393932 8.28786317 6.76201081]\n",
      " [5.58080835 4.76741671 7.50139033 8.88996721 6.47929366]\n",
      " [5.4354598  4.33410976 7.37561243 9.08926911 6.54968714]\n",
      " [3.44254893 4.40289464 7.41023712 9.24477493 6.52335513]\n",
      " [7.25424133 4.57201527 7.58909339 9.06771952 6.30929128]\n",
      " [7.43021894 6.43187059 7.67393366 8.20629846 6.83608111]\n",
      " [7.55765603 6.25312524 7.65318042 7.9924789  6.81342419]\n",
      " [7.60903301 5.96550214 7.77506981 8.33887164 6.8136211 ]\n",
      " [2.67035817 6.62106318 7.63111186 8.1449764  6.84626347]\n",
      " [9.13758305 5.98029104 7.6019401  8.38239239 6.85840084]\n",
      " [8.19033544 6.44859888 7.72808519 8.25363286 6.9059432 ]\n",
      " [8.7989959  5.57309245 7.68035212 8.59162894 6.61268327]\n",
      " [2.77606154 4.37082777 7.60192258 9.1702409  6.58530692]\n",
      " [9.00156264 4.27076616 7.56256309 8.95322764 6.48233218]\n",
      " [8.16036622 6.50461684 7.4023937  8.36564386 6.70371348]\n",
      " [8.34634579 4.4991432  7.5698482  9.28356391 6.41145068]\n",
      " [3.30248847 6.39462996 7.57831629 8.21731204 6.70809275]\n",
      " [7.67891504 4.50361675 7.62200469 8.88603158 6.42401721]\n",
      " [9.17823516 6.63840401 7.6569742  8.34012303 6.78197274]\n",
      " [7.27055097 5.66694912 7.61154845 8.59707468 6.80043848]]\n"
     ]
    }
   ],
   "source": [
    "# Identify which samples are synthetic (newly generated) for Teacher\n",
    "synthetic_mask_teacher = np.arange(len(y_smote_teacher)) >= len(y_ros_teacher)\n",
    "\n",
    "# Get the synthetic samples and labels for Teacher\n",
    "X_synthetic_teacher = X_smote_teacher[synthetic_mask_teacher]\n",
    "y_synthetic_teacher = y_smote_teacher[synthetic_mask_teacher]\n",
    "\n",
    "# Since label 1 corresponds to \"Teacher\", filter synthetic samples for Teacher only\n",
    "teacher_label_teacher = 1  # assuming 1 = Teacher after encoding\n",
    "teacher_synthetic_teacher = X_synthetic_teacher[y_synthetic_teacher == teacher_label_teacher]\n",
    "\n",
    "print(f\"Number of synthetic 'Teacher' samples: {len(teacher_synthetic_teacher)}\")\n",
    "print(teacher_synthetic_teacher)"
   ]
  },
  {
   "cell_type": "markdown",
   "id": "a62b348c",
   "metadata": {},
   "source": [
    "### Super-Model"
   ]
  },
  {
   "cell_type": "markdown",
   "id": "ae1c37aa",
   "metadata": {},
   "source": [
    "#### Create synthetic df"
   ]
  },
  {
   "cell_type": "code",
   "execution_count": 164,
   "id": "3ac99a38",
   "metadata": {},
   "outputs": [
    {
     "data": {
      "application/vnd.microsoft.datawrangler.viewer.v0+json": {
       "columns": [
        {
         "name": "index",
         "rawType": "int64",
         "type": "integer"
        },
        {
         "name": "E_score",
         "rawType": "float64",
         "type": "float"
        },
        {
         "name": "N_score",
         "rawType": "float64",
         "type": "float"
        },
        {
         "name": "C_score",
         "rawType": "float64",
         "type": "float"
        },
        {
         "name": "A_score",
         "rawType": "float64",
         "type": "float"
        },
        {
         "name": "O_score",
         "rawType": "float64",
         "type": "float"
        },
        {
         "name": "Career",
         "rawType": "object",
         "type": "string"
        }
       ],
       "ref": "fd3389ea-a3cd-45cf-8779-c7c47aa23be1",
       "rows": [
        [
         "0",
         "3.67",
         "4.67",
         "7.34",
         "5.23",
         "6.78",
         "Architect & Designer"
        ],
        [
         "1",
         "6.877133538494145",
         "4.790974466042191",
         "7.21571632704426",
         "5.2900639431889",
         "6.45",
         "Architect & Designer"
        ],
        [
         "2",
         "7.547866707694764",
         "5.9076341250534306",
         "5.415490594751428",
         "6.626039422826804",
         "6.45",
         "Architect & Designer"
        ],
        [
         "3",
         "8.083871848734294",
         "6.022779083367167",
         "4.8274860698000355",
         "6.79272778205023",
         "6.45",
         "Architect & Designer"
        ],
        [
         "4",
         "6.882453877274816",
         "4.7888250729609405",
         "7.403781350228052",
         "5.23",
         "6.45",
         "Architect & Designer"
        ]
       ],
       "shape": {
        "columns": 6,
        "rows": 5
       }
      },
      "text/html": [
       "<div>\n",
       "<style scoped>\n",
       "    .dataframe tbody tr th:only-of-type {\n",
       "        vertical-align: middle;\n",
       "    }\n",
       "\n",
       "    .dataframe tbody tr th {\n",
       "        vertical-align: top;\n",
       "    }\n",
       "\n",
       "    .dataframe thead th {\n",
       "        text-align: right;\n",
       "    }\n",
       "</style>\n",
       "<table border=\"1\" class=\"dataframe\">\n",
       "  <thead>\n",
       "    <tr style=\"text-align: right;\">\n",
       "      <th></th>\n",
       "      <th>E_score</th>\n",
       "      <th>N_score</th>\n",
       "      <th>C_score</th>\n",
       "      <th>A_score</th>\n",
       "      <th>O_score</th>\n",
       "      <th>Career</th>\n",
       "    </tr>\n",
       "  </thead>\n",
       "  <tbody>\n",
       "    <tr>\n",
       "      <th>0</th>\n",
       "      <td>3.670000</td>\n",
       "      <td>4.670000</td>\n",
       "      <td>7.340000</td>\n",
       "      <td>5.230000</td>\n",
       "      <td>6.78</td>\n",
       "      <td>Architect &amp; Designer</td>\n",
       "    </tr>\n",
       "    <tr>\n",
       "      <th>1</th>\n",
       "      <td>6.877134</td>\n",
       "      <td>4.790974</td>\n",
       "      <td>7.215716</td>\n",
       "      <td>5.290064</td>\n",
       "      <td>6.45</td>\n",
       "      <td>Architect &amp; Designer</td>\n",
       "    </tr>\n",
       "    <tr>\n",
       "      <th>2</th>\n",
       "      <td>7.547867</td>\n",
       "      <td>5.907634</td>\n",
       "      <td>5.415491</td>\n",
       "      <td>6.626039</td>\n",
       "      <td>6.45</td>\n",
       "      <td>Architect &amp; Designer</td>\n",
       "    </tr>\n",
       "    <tr>\n",
       "      <th>3</th>\n",
       "      <td>8.083872</td>\n",
       "      <td>6.022779</td>\n",
       "      <td>4.827486</td>\n",
       "      <td>6.792728</td>\n",
       "      <td>6.45</td>\n",
       "      <td>Architect &amp; Designer</td>\n",
       "    </tr>\n",
       "    <tr>\n",
       "      <th>4</th>\n",
       "      <td>6.882454</td>\n",
       "      <td>4.788825</td>\n",
       "      <td>7.403781</td>\n",
       "      <td>5.230000</td>\n",
       "      <td>6.45</td>\n",
       "      <td>Architect &amp; Designer</td>\n",
       "    </tr>\n",
       "  </tbody>\n",
       "</table>\n",
       "</div>"
      ],
      "text/plain": [
       "    E_score   N_score   C_score   A_score  O_score                Career\n",
       "0  3.670000  4.670000  7.340000  5.230000     6.78  Architect & Designer\n",
       "1  6.877134  4.790974  7.215716  5.290064     6.45  Architect & Designer\n",
       "2  7.547867  5.907634  5.415491  6.626039     6.45  Architect & Designer\n",
       "3  8.083872  6.022779  4.827486  6.792728     6.45  Architect & Designer\n",
       "4  6.882454  4.788825  7.403781  5.230000     6.45  Architect & Designer"
      ]
     },
     "execution_count": 164,
     "metadata": {},
     "output_type": "execute_result"
    }
   ],
   "source": [
    "\n",
    "\n",
    "# Collect all synthetic samples and their labels from each category\n",
    "\n",
    "# Map category names to their synthetic samples and label values\n",
    "synthetic_data = [\n",
    "    (X_synthetic_analyst, 'Data Analyst'),\n",
    "    (X_synthetic_arch, 'Architect & Designer'),\n",
    "    (X_synthetic_creative, 'Creative'),\n",
    "    (X_synthetic_engineer, 'Engineer'),\n",
    "    (X_synthetic_finance, 'Finance & Accounting'),\n",
    "    (X_synthetic_healthcare, 'Healthcare'),\n",
    "    (X_synthetic_law, 'Law & Public Service'),\n",
    "    (X_synthetic_manager, 'Manager'),\n",
    "    (X_synthetic_sales, 'Sales & PR'),\n",
    "    (X_synthetic_scientist, 'Scientist'),\n",
    "    (X_synthetic_social, 'Social Services'),\n",
    "    (X_synthetic_teacher, 'Teacher'),\n",
    "    (X_synthetic_law, 'IT Specialist')  \n",
    "]\n",
    "\n",
    "# If you have X_synthetic_law for both Law & Public Service and IT Specialist, split accordingly.\n",
    "# Otherwise, add X_synthetic_it_specialist if available.\n",
    "\n",
    "\n",
    "# Prepare synthetic DataFrame\n",
    "synthetic_rows = []\n",
    "for X_syn, category in synthetic_data:\n",
    "    if X_syn is not None and len(X_syn) > 0:\n",
    "        for row in X_syn:\n",
    "            synthetic_rows.append(list(row) + [category])\n",
    "\n",
    "# Create DataFrame for synthetic data\n",
    "columns = ['E_score', 'N_score', 'C_score', 'A_score', 'O_score', 'Career']\n",
    "df_synthetic = pd.DataFrame(synthetic_rows, columns=columns)\n",
    "\n",
    "# Concatenate with original df_career\n",
    "df_synthetic_full = pd.concat([df_career[columns], df_synthetic], ignore_index=True)\n",
    "df_synthetic_full = df_synthetic_full.sort_values(by='Career').reset_index(drop=True)\n",
    "# Show the combined DataFrame\n",
    "df_synthetic_full.head()"
   ]
  },
  {
   "cell_type": "code",
   "execution_count": 165,
   "id": "d5ec08e4",
   "metadata": {},
   "outputs": [
    {
     "data": {
      "application/vnd.microsoft.datawrangler.viewer.v0+json": {
       "columns": [
        {
         "name": "Career",
         "rawType": "object",
         "type": "string"
        },
        {
         "name": "count",
         "rawType": "int64",
         "type": "integer"
        }
       ],
       "ref": "f9dcb751-3094-43cd-889c-4e010e3abfc5",
       "rows": [
        [
         "Architect & Designer",
         "100"
        ],
        [
         "Creative",
         "100"
        ],
        [
         "Data Analyst",
         "100"
        ],
        [
         "Engineer",
         "100"
        ],
        [
         "Finance & Accounting",
         "100"
        ],
        [
         "Healthcare",
         "100"
        ],
        [
         "IT Specialist",
         "100"
        ],
        [
         "Law & Public Service",
         "100"
        ],
        [
         "Manager",
         "100"
        ],
        [
         "Sales & PR",
         "100"
        ],
        [
         "Scientist",
         "100"
        ],
        [
         "Social Services",
         "100"
        ],
        [
         "Teacher",
         "100"
        ]
       ],
       "shape": {
        "columns": 1,
        "rows": 13
       }
      },
      "text/plain": [
       "Career\n",
       "Architect & Designer    100\n",
       "Creative                100\n",
       "Data Analyst            100\n",
       "Engineer                100\n",
       "Finance & Accounting    100\n",
       "Healthcare              100\n",
       "IT Specialist           100\n",
       "Law & Public Service    100\n",
       "Manager                 100\n",
       "Sales & PR              100\n",
       "Scientist               100\n",
       "Social Services         100\n",
       "Teacher                 100\n",
       "Name: count, dtype: int64"
      ]
     },
     "execution_count": 165,
     "metadata": {},
     "output_type": "execute_result"
    }
   ],
   "source": [
    "df_synthetic_full['Career'].value_counts()"
   ]
  },
  {
   "cell_type": "markdown",
   "id": "2ebea353",
   "metadata": {},
   "source": [
    "#### Unsupervised on Synthetic data"
   ]
  },
  {
   "cell_type": "code",
   "execution_count": 166,
   "id": "4b02ca46",
   "metadata": {},
   "outputs": [
    {
     "data": {
      "application/vnd.microsoft.datawrangler.viewer.v0+json": {
       "columns": [
        {
         "name": "index",
         "rawType": "int64",
         "type": "integer"
        },
        {
         "name": "E_score",
         "rawType": "float64",
         "type": "float"
        },
        {
         "name": "N_score",
         "rawType": "float64",
         "type": "float"
        },
        {
         "name": "C_score",
         "rawType": "float64",
         "type": "float"
        },
        {
         "name": "A_score",
         "rawType": "float64",
         "type": "float"
        },
        {
         "name": "O_score",
         "rawType": "float64",
         "type": "float"
        },
        {
         "name": "Career",
         "rawType": "object",
         "type": "string"
        },
        {
         "name": "Cluster",
         "rawType": "int32",
         "type": "integer"
        }
       ],
       "ref": "987eb4a1-ad5c-46e0-ac60-bdf0741c10b6",
       "rows": [
        [
         "0",
         "3.67",
         "4.67",
         "7.34",
         "5.23",
         "6.78",
         "Architect & Designer",
         "0"
        ],
        [
         "1",
         "6.877133538494145",
         "4.790974466042191",
         "7.21571632704426",
         "5.2900639431889",
         "6.45",
         "Architect & Designer",
         "11"
        ],
        [
         "2",
         "7.547866707694764",
         "5.9076341250534306",
         "5.415490594751428",
         "6.626039422826804",
         "6.45",
         "Architect & Designer",
         "1"
        ],
        [
         "3",
         "8.083871848734294",
         "6.022779083367167",
         "4.8274860698000355",
         "6.79272778205023",
         "6.45",
         "Architect & Designer",
         "1"
        ],
        [
         "4",
         "6.882453877274816",
         "4.7888250729609405",
         "7.403781350228052",
         "5.23",
         "6.45",
         "Architect & Designer",
         "11"
        ],
        [
         "5",
         "7.033881504724842",
         "5.783180562746139",
         "5.81355221736879",
         "6.234056131615575",
         "6.45",
         "Architect & Designer",
         "1"
        ],
        [
         "6",
         "7.865835824304916",
         "6.201268280723078",
         "4.716348759423045",
         "7.028913383733513",
         "6.45",
         "Architect & Designer",
         "1"
        ],
        [
         "7",
         "7.814711884679375",
         "4.73774489103611",
         "7.22980039007012",
         "5.23",
         "6.45",
         "Architect & Designer",
         "11"
        ],
        [
         "8",
         "7.140783764791031",
         "6.160736665646794",
         "4.438465670292739",
         "7.2168196693641224",
         "6.45",
         "Architect & Designer",
         "1"
        ],
        [
         "9",
         "7.850179945532644",
         "6.456309838965619",
         "4.032897670869781",
         "7.23",
         "6.45",
         "Architect & Designer",
         "1"
        ],
        [
         "10",
         "6.9564600227171125",
         "4.668682255012796",
         "7.389715345000774",
         "5.247808863754336",
         "6.45",
         "Architect & Designer",
         "11"
        ],
        [
         "11",
         "7.51398452001696",
         "6.550225502093753",
         "4.258781725461046",
         "7.208560171720516",
         "6.45",
         "Architect & Designer",
         "1"
        ],
        [
         "12",
         "7.625256910943207",
         "5.720020570634714",
         "5.415542421133369",
         "6.662747685855625",
         "6.45",
         "Architect & Designer",
         "1"
        ],
        [
         "13",
         "7.300732942252384",
         "6.298144570858868",
         "4.1832849675807875",
         "7.23",
         "6.45",
         "Architect & Designer",
         "1"
        ],
        [
         "14",
         "7.50227145681132",
         "4.692454035869787",
         "7.249116034396214",
         "5.23",
         "6.45",
         "Architect & Designer",
         "11"
        ],
        [
         "15",
         "8.392923009125877",
         "4.466187426407683",
         "7.223450361971948",
         "5.337445516631698",
         "6.45",
         "Architect & Designer",
         "11"
        ],
        [
         "16",
         "7.697714324944678",
         "6.162342490543627",
         "4.3497800864301865",
         "7.060493652052188",
         "6.45",
         "Architect & Designer",
         "1"
        ],
        [
         "17",
         "8.388402236353919",
         "4.639748540360065",
         "7.374184744303566",
         "5.339752120541024",
         "6.45",
         "Architect & Designer",
         "11"
        ],
        [
         "18",
         "7.005727702888554",
         "4.670345579111065",
         "6.955372763624752",
         "5.543244704173662",
         "6.45",
         "Architect & Designer",
         "11"
        ],
        [
         "19",
         "6.823105884605644",
         "4.678675567274134",
         "6.773800606486916",
         "5.648121439263973",
         "6.45",
         "Architect & Designer",
         "11"
        ],
        [
         "20",
         "8.44142674967351",
         "4.809591780645913",
         "7.323476295487255",
         "5.242880572101446",
         "6.45",
         "Architect & Designer",
         "11"
        ],
        [
         "21",
         "6.876493536863933",
         "6.343247784633609",
         "4.083043436422697",
         "7.23",
         "6.45",
         "Architect & Designer",
         "1"
        ],
        [
         "22",
         "7.940708832193783",
         "5.53955086780024",
         "5.188540934190574",
         "6.44303704441898",
         "6.45",
         "Architect & Designer",
         "1"
        ],
        [
         "23",
         "8.4227438051899",
         "4.6065627052932685",
         "7.5612040991002045",
         "5.329035792007949",
         "6.45",
         "Architect & Designer",
         "11"
        ],
        [
         "24",
         "7.394158115965073",
         "4.739739326020235",
         "7.089348162945999",
         "5.35453463975123",
         "6.45",
         "Architect & Designer",
         "11"
        ],
        [
         "25",
         "7.105019594740678",
         "6.535954633302365",
         "4.027955764582149",
         "7.23",
         "6.45",
         "Architect & Designer",
         "1"
        ],
        [
         "26",
         "7.531140363531608",
         "4.674577957828073",
         "7.262124125291703",
         "5.253565469024191",
         "6.45",
         "Architect & Designer",
         "11"
        ],
        [
         "27",
         "8.26062903945158",
         "4.546601665228723",
         "6.972711012322013",
         "5.334604924452796",
         "6.45",
         "Architect & Designer",
         "11"
        ],
        [
         "28",
         "6.998286329156134",
         "5.883420828997285",
         "5.255746829585583",
         "6.60395590944707",
         "6.45",
         "Architect & Designer",
         "1"
        ],
        [
         "29",
         "7.49155925109692",
         "6.309167163688623",
         "4.227910759772678",
         "7.23",
         "6.45",
         "Architect & Designer",
         "1"
        ],
        [
         "30",
         "7.6601592447324585",
         "6.124828596378477",
         "4.700038472471028",
         "7.016015668050606",
         "6.45",
         "Architect & Designer",
         "1"
        ],
        [
         "31",
         "7.821906046607036",
         "6.4835294747167636",
         "4.290762789965356",
         "7.23",
         "6.45",
         "Architect & Designer",
         "1"
        ],
        [
         "32",
         "7.291443546713642",
         "5.954573922451511",
         "4.887557671272647",
         "6.743302814821695",
         "6.45",
         "Architect & Designer",
         "1"
        ],
        [
         "33",
         "6.893847756673774",
         "4.557203487506314",
         "7.235542806923466",
         "5.366644778469873",
         "6.45",
         "Architect & Designer",
         "11"
        ],
        [
         "34",
         "7.807416461845788",
         "6.382731431188904",
         "4.156083750111441",
         "7.23",
         "6.45",
         "Architect & Designer",
         "1"
        ],
        [
         "35",
         "8.44448374593447",
         "4.591591525690125",
         "7.245825989711181",
         "5.355265643298337",
         "6.45",
         "Architect & Designer",
         "11"
        ],
        [
         "36",
         "7.630734954010149",
         "4.673061744704604",
         "7.391474079952823",
         "5.253194380551603",
         "6.45",
         "Architect & Designer",
         "11"
        ],
        [
         "37",
         "6.884027302877205",
         "4.608949847986181",
         "7.153450240010718",
         "5.343890608172471",
         "6.45",
         "Architect & Designer",
         "11"
        ],
        [
         "38",
         "7.9359094406291995",
         "4.902714217165402",
         "6.739283299865175",
         "5.659698736433514",
         "6.45",
         "Architect & Designer",
         "11"
        ],
        [
         "39",
         "6.94874650438778",
         "6.587411619567128",
         "4.324960344106028",
         "7.0757988473144025",
         "6.45",
         "Architect & Designer",
         "1"
        ],
        [
         "40",
         "7.286469496437885",
         "6.276697122107279",
         "4.227645521147456",
         "7.139957306662707",
         "6.45",
         "Architect & Designer",
         "1"
        ],
        [
         "41",
         "6.982712848835456",
         "6.4734032705518345",
         "4.248926895678511",
         "7.23",
         "6.45",
         "Architect & Designer",
         "1"
        ],
        [
         "42",
         "7.017556445707617",
         "6.585439903386409",
         "4.291616515463592",
         "7.23",
         "6.45",
         "Architect & Designer",
         "1"
        ],
        [
         "43",
         "7.179430774040596",
         "5.479679734791113",
         "5.855829665957791",
         "5.941031931243003",
         "6.45",
         "Architect & Designer",
         "11"
        ],
        [
         "44",
         "8.139330350075051",
         "6.374317510657433",
         "4.173301481335034",
         "7.098473340006552",
         "6.45",
         "Architect & Designer",
         "1"
        ],
        [
         "45",
         "7.393782485226858",
         "6.3257675234953945",
         "4.086459075033585",
         "7.23",
         "6.45",
         "Architect & Designer",
         "1"
        ],
        [
         "46",
         "7.024444566910956",
         "5.370763189166912",
         "5.612744335595429",
         "6.442774377092006",
         "6.45",
         "Architect & Designer",
         "1"
        ],
        [
         "47",
         "7.445767256379763",
         "4.638248025294536",
         "7.245346165104977",
         "5.362456442317608",
         "6.45",
         "Architect & Designer",
         "11"
        ],
        [
         "48",
         "8.33409400845534",
         "5.15084874555985",
         "6.440036096068258",
         "5.940886588890978",
         "6.45",
         "Architect & Designer",
         "11"
        ],
        [
         "49",
         "7.128212558976751",
         "4.7977334608286935",
         "7.110117954386556",
         "5.506548685523604",
         "6.45",
         "Architect & Designer",
         "11"
        ]
       ],
       "shape": {
        "columns": 7,
        "rows": 1300
       }
      },
      "text/html": [
       "<div>\n",
       "<style scoped>\n",
       "    .dataframe tbody tr th:only-of-type {\n",
       "        vertical-align: middle;\n",
       "    }\n",
       "\n",
       "    .dataframe tbody tr th {\n",
       "        vertical-align: top;\n",
       "    }\n",
       "\n",
       "    .dataframe thead th {\n",
       "        text-align: right;\n",
       "    }\n",
       "</style>\n",
       "<table border=\"1\" class=\"dataframe\">\n",
       "  <thead>\n",
       "    <tr style=\"text-align: right;\">\n",
       "      <th></th>\n",
       "      <th>E_score</th>\n",
       "      <th>N_score</th>\n",
       "      <th>C_score</th>\n",
       "      <th>A_score</th>\n",
       "      <th>O_score</th>\n",
       "      <th>Career</th>\n",
       "      <th>Cluster</th>\n",
       "    </tr>\n",
       "  </thead>\n",
       "  <tbody>\n",
       "    <tr>\n",
       "      <th>0</th>\n",
       "      <td>3.670000</td>\n",
       "      <td>4.670000</td>\n",
       "      <td>7.340000</td>\n",
       "      <td>5.230000</td>\n",
       "      <td>6.780000</td>\n",
       "      <td>Architect &amp; Designer</td>\n",
       "      <td>0</td>\n",
       "    </tr>\n",
       "    <tr>\n",
       "      <th>1</th>\n",
       "      <td>6.877134</td>\n",
       "      <td>4.790974</td>\n",
       "      <td>7.215716</td>\n",
       "      <td>5.290064</td>\n",
       "      <td>6.450000</td>\n",
       "      <td>Architect &amp; Designer</td>\n",
       "      <td>11</td>\n",
       "    </tr>\n",
       "    <tr>\n",
       "      <th>2</th>\n",
       "      <td>7.547867</td>\n",
       "      <td>5.907634</td>\n",
       "      <td>5.415491</td>\n",
       "      <td>6.626039</td>\n",
       "      <td>6.450000</td>\n",
       "      <td>Architect &amp; Designer</td>\n",
       "      <td>1</td>\n",
       "    </tr>\n",
       "    <tr>\n",
       "      <th>3</th>\n",
       "      <td>8.083872</td>\n",
       "      <td>6.022779</td>\n",
       "      <td>4.827486</td>\n",
       "      <td>6.792728</td>\n",
       "      <td>6.450000</td>\n",
       "      <td>Architect &amp; Designer</td>\n",
       "      <td>1</td>\n",
       "    </tr>\n",
       "    <tr>\n",
       "      <th>4</th>\n",
       "      <td>6.882454</td>\n",
       "      <td>4.788825</td>\n",
       "      <td>7.403781</td>\n",
       "      <td>5.230000</td>\n",
       "      <td>6.450000</td>\n",
       "      <td>Architect &amp; Designer</td>\n",
       "      <td>11</td>\n",
       "    </tr>\n",
       "    <tr>\n",
       "      <th>...</th>\n",
       "      <td>...</td>\n",
       "      <td>...</td>\n",
       "      <td>...</td>\n",
       "      <td>...</td>\n",
       "      <td>...</td>\n",
       "      <td>...</td>\n",
       "      <td>...</td>\n",
       "    </tr>\n",
       "    <tr>\n",
       "      <th>1295</th>\n",
       "      <td>3.837477</td>\n",
       "      <td>4.226616</td>\n",
       "      <td>7.474517</td>\n",
       "      <td>9.249183</td>\n",
       "      <td>6.455662</td>\n",
       "      <td>Teacher</td>\n",
       "      <td>9</td>\n",
       "    </tr>\n",
       "    <tr>\n",
       "      <th>1296</th>\n",
       "      <td>4.507131</td>\n",
       "      <td>5.752211</td>\n",
       "      <td>7.586175</td>\n",
       "      <td>8.451007</td>\n",
       "      <td>6.816253</td>\n",
       "      <td>Teacher</td>\n",
       "      <td>4</td>\n",
       "    </tr>\n",
       "    <tr>\n",
       "      <th>1297</th>\n",
       "      <td>4.606548</td>\n",
       "      <td>5.752456</td>\n",
       "      <td>7.514863</td>\n",
       "      <td>8.413411</td>\n",
       "      <td>6.702390</td>\n",
       "      <td>Teacher</td>\n",
       "      <td>4</td>\n",
       "    </tr>\n",
       "    <tr>\n",
       "      <th>1298</th>\n",
       "      <td>8.832890</td>\n",
       "      <td>6.578246</td>\n",
       "      <td>7.639106</td>\n",
       "      <td>8.165948</td>\n",
       "      <td>6.650915</td>\n",
       "      <td>Teacher</td>\n",
       "      <td>10</td>\n",
       "    </tr>\n",
       "    <tr>\n",
       "      <th>1299</th>\n",
       "      <td>6.359541</td>\n",
       "      <td>5.486905</td>\n",
       "      <td>7.553586</td>\n",
       "      <td>8.707701</td>\n",
       "      <td>6.509948</td>\n",
       "      <td>Teacher</td>\n",
       "      <td>9</td>\n",
       "    </tr>\n",
       "  </tbody>\n",
       "</table>\n",
       "<p>1300 rows × 7 columns</p>\n",
       "</div>"
      ],
      "text/plain": [
       "       E_score   N_score   C_score   A_score   O_score                Career  \\\n",
       "0     3.670000  4.670000  7.340000  5.230000  6.780000  Architect & Designer   \n",
       "1     6.877134  4.790974  7.215716  5.290064  6.450000  Architect & Designer   \n",
       "2     7.547867  5.907634  5.415491  6.626039  6.450000  Architect & Designer   \n",
       "3     8.083872  6.022779  4.827486  6.792728  6.450000  Architect & Designer   \n",
       "4     6.882454  4.788825  7.403781  5.230000  6.450000  Architect & Designer   \n",
       "...        ...       ...       ...       ...       ...                   ...   \n",
       "1295  3.837477  4.226616  7.474517  9.249183  6.455662               Teacher   \n",
       "1296  4.507131  5.752211  7.586175  8.451007  6.816253               Teacher   \n",
       "1297  4.606548  5.752456  7.514863  8.413411  6.702390               Teacher   \n",
       "1298  8.832890  6.578246  7.639106  8.165948  6.650915               Teacher   \n",
       "1299  6.359541  5.486905  7.553586  8.707701  6.509948               Teacher   \n",
       "\n",
       "      Cluster  \n",
       "0           0  \n",
       "1          11  \n",
       "2           1  \n",
       "3           1  \n",
       "4          11  \n",
       "...       ...  \n",
       "1295        9  \n",
       "1296        4  \n",
       "1297        4  \n",
       "1298       10  \n",
       "1299        9  \n",
       "\n",
       "[1300 rows x 7 columns]"
      ]
     },
     "execution_count": 166,
     "metadata": {},
     "output_type": "execute_result"
    }
   ],
   "source": [
    "from sklearn.preprocessing import StandardScaler\n",
    "\n",
    "# Select features (update with your actual feature names)\n",
    "feature_list = ['E_score', 'N_score', 'C_score', 'A_score', 'O_score']\n",
    "X = df_synthetic_full[feature_list]\n",
    "\n",
    "# Scale features\n",
    "scaler = StandardScaler()\n",
    "X_scaled = scaler.fit_transform(X)\n",
    "\n",
    "# Optional: Reduce dimensionality for visualization\n",
    "pca = PCA(n_components=2)\n",
    "X_pca = pca.fit_transform(X_scaled)\n",
    "\n",
    "# KMeans clustering (choose number of clusters, e.g., 10)\n",
    "n_clusters = 13\n",
    "kmeans = KMeans(n_clusters=n_clusters, random_state=42)\n",
    "clusters = kmeans.fit_predict(X_scaled)\n",
    "\n",
    "# Add cluster labels to DataFrame\n",
    "df_synthetic_full['Cluster'] = clusters\n",
    "\n",
    "# Show cluster assignments and first few rows\n",
    "df_synthetic_full[['Career', 'Cluster']].head()\n",
    "df_synthetic_full"
   ]
  },
  {
   "cell_type": "code",
   "execution_count": 167,
   "id": "74244fac",
   "metadata": {},
   "outputs": [
    {
     "data": {
      "application/vnd.microsoft.datawrangler.viewer.v0+json": {
       "columns": [
        {
         "name": "index",
         "rawType": "int64",
         "type": "integer"
        },
        {
         "name": "Career",
         "rawType": "object",
         "type": "string"
        },
        {
         "name": "Cluster",
         "rawType": "int32",
         "type": "integer"
        }
       ],
       "ref": "016d938d-ffb0-49d6-913a-67a3dc7c15d6",
       "rows": [
        [
         "0",
         "Architect & Designer",
         "0"
        ],
        [
         "1",
         "Architect & Designer",
         "11"
        ],
        [
         "2",
         "Architect & Designer",
         "1"
        ],
        [
         "3",
         "Architect & Designer",
         "1"
        ],
        [
         "4",
         "Architect & Designer",
         "11"
        ]
       ],
       "shape": {
        "columns": 2,
        "rows": 5
       }
      },
      "text/html": [
       "<div>\n",
       "<style scoped>\n",
       "    .dataframe tbody tr th:only-of-type {\n",
       "        vertical-align: middle;\n",
       "    }\n",
       "\n",
       "    .dataframe tbody tr th {\n",
       "        vertical-align: top;\n",
       "    }\n",
       "\n",
       "    .dataframe thead th {\n",
       "        text-align: right;\n",
       "    }\n",
       "</style>\n",
       "<table border=\"1\" class=\"dataframe\">\n",
       "  <thead>\n",
       "    <tr style=\"text-align: right;\">\n",
       "      <th></th>\n",
       "      <th>Career</th>\n",
       "      <th>Cluster</th>\n",
       "    </tr>\n",
       "  </thead>\n",
       "  <tbody>\n",
       "    <tr>\n",
       "      <th>0</th>\n",
       "      <td>Architect &amp; Designer</td>\n",
       "      <td>0</td>\n",
       "    </tr>\n",
       "    <tr>\n",
       "      <th>1</th>\n",
       "      <td>Architect &amp; Designer</td>\n",
       "      <td>11</td>\n",
       "    </tr>\n",
       "    <tr>\n",
       "      <th>2</th>\n",
       "      <td>Architect &amp; Designer</td>\n",
       "      <td>1</td>\n",
       "    </tr>\n",
       "    <tr>\n",
       "      <th>3</th>\n",
       "      <td>Architect &amp; Designer</td>\n",
       "      <td>1</td>\n",
       "    </tr>\n",
       "    <tr>\n",
       "      <th>4</th>\n",
       "      <td>Architect &amp; Designer</td>\n",
       "      <td>11</td>\n",
       "    </tr>\n",
       "  </tbody>\n",
       "</table>\n",
       "</div>"
      ],
      "text/plain": [
       "                 Career  Cluster\n",
       "0  Architect & Designer        0\n",
       "1  Architect & Designer       11\n",
       "2  Architect & Designer        1\n",
       "3  Architect & Designer        1\n",
       "4  Architect & Designer       11"
      ]
     },
     "execution_count": 167,
     "metadata": {},
     "output_type": "execute_result"
    }
   ],
   "source": [
    "\n",
    "\n",
    "# Prepare features (exclude 'Career')\n",
    "X_unsup = df_synthetic_full.drop(columns=['Career'])\n",
    "\n",
    "# Optional: Reduce dimensionality for visualization\n",
    "pca = PCA(n_components=2)\n",
    "X_pca = pca.fit_transform(X_scaled)\n",
    "\n",
    "# KMeans clustering (choose number of clusters, e.g., 10)\n",
    "n_clusters = 13\n",
    "kmeans = KMeans(n_clusters=n_clusters, random_state=42)\n",
    "clusters = kmeans.fit_predict(X_scaled)\n",
    "\n",
    "# Add cluster labels to DataFrame\n",
    "df_synthetic_full['Cluster'] = clusters\n",
    "\n",
    "# Show cluster assignments and first few rows\n",
    "df_synthetic_full[['Career', 'Cluster']].head()"
   ]
  },
  {
   "cell_type": "code",
   "execution_count": 168,
   "id": "1681cce1",
   "metadata": {},
   "outputs": [
    {
     "data": {
      "application/vnd.microsoft.datawrangler.viewer.v0+json": {
       "columns": [
        {
         "name": "Cluster",
         "rawType": "int32",
         "type": "integer"
        },
        {
         "name": "count",
         "rawType": "int64",
         "type": "integer"
        }
       ],
       "ref": "889c640c-cea8-4aa3-a492-2922262b334c",
       "rows": [
        [
         "4",
         "222"
        ],
        [
         "7",
         "217"
        ],
        [
         "10",
         "139"
        ],
        [
         "1",
         "135"
        ],
        [
         "3",
         "110"
        ],
        [
         "12",
         "109"
        ],
        [
         "8",
         "91"
        ],
        [
         "2",
         "66"
        ],
        [
         "5",
         "55"
        ],
        [
         "9",
         "49"
        ],
        [
         "11",
         "45"
        ],
        [
         "6",
         "36"
        ],
        [
         "0",
         "26"
        ]
       ],
       "shape": {
        "columns": 1,
        "rows": 13
       }
      },
      "text/plain": [
       "Cluster\n",
       "4     222\n",
       "7     217\n",
       "10    139\n",
       "1     135\n",
       "3     110\n",
       "12    109\n",
       "8      91\n",
       "2      66\n",
       "5      55\n",
       "9      49\n",
       "11     45\n",
       "6      36\n",
       "0      26\n",
       "Name: count, dtype: int64"
      ]
     },
     "execution_count": 168,
     "metadata": {},
     "output_type": "execute_result"
    }
   ],
   "source": [
    "df_synthetic_full['Cluster'].value_counts()"
   ]
  },
  {
   "cell_type": "code",
   "execution_count": 169,
   "id": "7cb6524f",
   "metadata": {
    "vscode": {
     "languageId": "ruby"
    }
   },
   "outputs": [
    {
     "data": {
      "application/vnd.microsoft.datawrangler.viewer.v0+json": {
       "columns": [
        {
         "name": "index",
         "rawType": "int64",
         "type": "integer"
        },
        {
         "name": "Cluster",
         "rawType": "int32",
         "type": "integer"
        },
        {
         "name": "Career_predicted_kmeans",
         "rawType": "object",
         "type": "string"
        }
       ],
       "ref": "1a2ecfab-6273-4a61-adfa-58a089f9dffb",
       "rows": [
        [
         "0",
         "11",
         "Architect & Designer"
        ],
        [
         "1",
         "3",
         "Data Analyst"
        ],
        [
         "2",
         "2",
         "IT Specialist"
        ],
        [
         "3",
         "2",
         "IT Specialist"
        ],
        [
         "4",
         "5",
         "Law & Public Service"
        ]
       ],
       "shape": {
        "columns": 2,
        "rows": 5
       }
      },
      "text/html": [
       "<div>\n",
       "<style scoped>\n",
       "    .dataframe tbody tr th:only-of-type {\n",
       "        vertical-align: middle;\n",
       "    }\n",
       "\n",
       "    .dataframe tbody tr th {\n",
       "        vertical-align: top;\n",
       "    }\n",
       "\n",
       "    .dataframe thead th {\n",
       "        text-align: right;\n",
       "    }\n",
       "</style>\n",
       "<table border=\"1\" class=\"dataframe\">\n",
       "  <thead>\n",
       "    <tr style=\"text-align: right;\">\n",
       "      <th></th>\n",
       "      <th>Cluster</th>\n",
       "      <th>Career_predicted_kmeans</th>\n",
       "    </tr>\n",
       "  </thead>\n",
       "  <tbody>\n",
       "    <tr>\n",
       "      <th>0</th>\n",
       "      <td>11</td>\n",
       "      <td>Architect &amp; Designer</td>\n",
       "    </tr>\n",
       "    <tr>\n",
       "      <th>1</th>\n",
       "      <td>3</td>\n",
       "      <td>Data Analyst</td>\n",
       "    </tr>\n",
       "    <tr>\n",
       "      <th>2</th>\n",
       "      <td>2</td>\n",
       "      <td>IT Specialist</td>\n",
       "    </tr>\n",
       "    <tr>\n",
       "      <th>3</th>\n",
       "      <td>2</td>\n",
       "      <td>IT Specialist</td>\n",
       "    </tr>\n",
       "    <tr>\n",
       "      <th>4</th>\n",
       "      <td>5</td>\n",
       "      <td>Law &amp; Public Service</td>\n",
       "    </tr>\n",
       "  </tbody>\n",
       "</table>\n",
       "</div>"
      ],
      "text/plain": [
       "   Cluster Career_predicted_kmeans\n",
       "0       11    Architect & Designer\n",
       "1        3            Data Analyst\n",
       "2        2           IT Specialist\n",
       "3        2           IT Specialist\n",
       "4        5    Law & Public Service"
      ]
     },
     "execution_count": 169,
     "metadata": {},
     "output_type": "execute_result"
    }
   ],
   "source": [
    "from sklearn.preprocessing import StandardScaler\n",
    "\n",
    "# Prepare features from df (exclude 'Career' if present)\n",
    "X_df = df[['E_score', 'N_score', 'C_score', 'A_score', 'O_score']]\n",
    "\n",
    "# Use the same scaler as used for df_synthetic_full clustering\n",
    "scaler = StandardScaler()\n",
    "X_scaled_df = scaler.fit(df_synthetic_full[['E_score', 'N_score', 'C_score', 'A_score', 'O_score']]).transform(X_df)\n",
    "\n",
    "# Use the same KMeans model as used for df_synthetic_full\n",
    "kmeans = KMeans(n_clusters=df_synthetic_full['Cluster'].nunique(), random_state=42)\n",
    "kmeans.fit(scaler.transform(df_synthetic_full[['E_score', 'N_score', 'C_score', 'A_score', 'O_score']]))\n",
    "\n",
    "# Predict cluster for each row in df\n",
    "df['Cluster'] = kmeans.predict(X_scaled_df)\n",
    "\n",
    "# Map clusters to most common Career in synthetic data\n",
    "cluster_to_career = df_synthetic_full.groupby('Cluster')['Career'].agg(lambda x: x.value_counts().idxmax()).to_dict()\n",
    "\n",
    "# Assign predicted career based on cluster\n",
    "df['Career_predicted_kmeans'] = df['Cluster'].map(cluster_to_career)\n",
    "\n",
    "df[['Cluster', 'Career_predicted_kmeans']].head()"
   ]
  },
  {
   "cell_type": "code",
   "execution_count": 170,
   "id": "ef57c96b",
   "metadata": {},
   "outputs": [
    {
     "name": "stdout",
     "output_type": "stream",
     "text": [
      "Career_predicted_kmeans\n",
      "Architect & Designer    27.49\n",
      "Data Analyst            27.31\n",
      "Engineer                 9.36\n",
      "Sales & PR               8.88\n",
      "Creative                 7.95\n",
      "Scientist                4.16\n",
      "Finance & Accounting     4.04\n",
      "Social Services          3.29\n",
      "Teacher                  3.00\n",
      "IT Specialist            2.63\n",
      "Law & Public Service     1.89\n",
      "Name: proportion, dtype: float64\n"
     ]
    }
   ],
   "source": [
    "# Calculate percentages for each category in 'Career_predicted'\n",
    "career_counts = df['Career_predicted_kmeans'].value_counts(normalize=True) * 100\n",
    "career_percentages = career_counts.round(2)\n",
    "print(career_percentages)"
   ]
  },
  {
   "cell_type": "markdown",
   "id": "180066de",
   "metadata": {},
   "source": [
    "#### RandomForest"
   ]
  },
  {
   "cell_type": "code",
   "execution_count": 171,
   "id": "e63c11b8",
   "metadata": {},
   "outputs": [
    {
     "name": "stdout",
     "output_type": "stream",
     "text": [
      "Accuracy: 0.7807692307692308\n",
      "                      precision    recall  f1-score   support\n",
      "\n",
      "Architect & Designer       0.95      1.00      0.98        20\n",
      "            Creative       0.94      0.85      0.89        20\n",
      "        Data Analyst       0.74      0.85      0.79        20\n",
      "            Engineer       1.00      1.00      1.00        20\n",
      "Finance & Accounting       0.61      0.70      0.65        20\n",
      "          Healthcare       0.94      0.80      0.86        20\n",
      "       IT Specialist       0.00      0.00      0.00        20\n",
      "Law & Public Service       0.17      0.20      0.19        20\n",
      "             Manager       0.83      0.75      0.79        20\n",
      "          Sales & PR       1.00      1.00      1.00        20\n",
      "           Scientist       0.95      1.00      0.98        20\n",
      "     Social Services       1.00      1.00      1.00        20\n",
      "             Teacher       1.00      1.00      1.00        20\n",
      "\n",
      "            accuracy                           0.78       260\n",
      "           macro avg       0.78      0.78      0.78       260\n",
      "        weighted avg       0.78      0.78      0.78       260\n",
      "\n"
     ]
    }
   ],
   "source": [
    "\n",
    "\n",
    "# Prepare features and target\n",
    "X = df_synthetic_full.drop(columns=['Career', 'Cluster'], errors='ignore')\n",
    "y = df_synthetic_full['Career']\n",
    "\n",
    "# Encode target labels\n",
    "le = LabelEncoder()\n",
    "y_encoded = le.fit_transform(y)\n",
    "\n",
    "# Train/test split\n",
    "X_train, X_test, y_train, y_test = train_test_split(X, y_encoded, test_size=0.2, random_state=42, stratify=y_encoded)\n",
    "\n",
    "# Train RandomForest\n",
    "rf = RandomForestClassifier(n_estimators=25, random_state=42)\n",
    "rf.fit(X_train, y_train)\n",
    "\n",
    "# Predict and evaluate\n",
    "y_pred = rf.predict(X_test)\n",
    "print(\"Accuracy:\", accuracy_score(y_test, y_pred))\n",
    "print(classification_report(y_test, y_pred, target_names=le.classes_))"
   ]
  },
  {
   "cell_type": "code",
   "execution_count": 172,
   "id": "c4b39a62",
   "metadata": {
    "vscode": {
     "languageId": "ruby"
    }
   },
   "outputs": [
    {
     "data": {
      "application/vnd.microsoft.datawrangler.viewer.v0+json": {
       "columns": [
        {
         "name": "index",
         "rawType": "int64",
         "type": "integer"
        },
        {
         "name": "E_score",
         "rawType": "float64",
         "type": "float"
        },
        {
         "name": "N_score",
         "rawType": "float64",
         "type": "float"
        },
        {
         "name": "C_score",
         "rawType": "float64",
         "type": "float"
        },
        {
         "name": "A_score",
         "rawType": "float64",
         "type": "float"
        },
        {
         "name": "O_score",
         "rawType": "float64",
         "type": "float"
        },
        {
         "name": "Career_Predicted_RF",
         "rawType": "object",
         "type": "string"
        }
       ],
       "ref": "3bc75a40-c3ec-4235-877b-2046519df32d",
       "rows": [
        [
         "0",
         "6.44",
         "4.07",
         "6.65",
         "6.59",
         "6.23",
         "Architect & Designer"
        ],
        [
         "1",
         "5.79",
         "5.37",
         "6.21",
         "6.44",
         "5.38",
         "Engineer"
        ],
        [
         "2",
         "5.95",
         "7.6",
         "6.95",
         "7.51",
         "7.92",
         "Law & Public Service"
        ],
        [
         "3",
         "7.08",
         "7.2",
         "7.09",
         "7.35",
         "7.25",
         "Scientist"
        ],
        [
         "4",
         "5.47",
         "5.77",
         "5.92",
         "7.81",
         "4.7",
         "Manager"
        ]
       ],
       "shape": {
        "columns": 6,
        "rows": 5
       }
      },
      "text/html": [
       "<div>\n",
       "<style scoped>\n",
       "    .dataframe tbody tr th:only-of-type {\n",
       "        vertical-align: middle;\n",
       "    }\n",
       "\n",
       "    .dataframe tbody tr th {\n",
       "        vertical-align: top;\n",
       "    }\n",
       "\n",
       "    .dataframe thead th {\n",
       "        text-align: right;\n",
       "    }\n",
       "</style>\n",
       "<table border=\"1\" class=\"dataframe\">\n",
       "  <thead>\n",
       "    <tr style=\"text-align: right;\">\n",
       "      <th></th>\n",
       "      <th>E_score</th>\n",
       "      <th>N_score</th>\n",
       "      <th>C_score</th>\n",
       "      <th>A_score</th>\n",
       "      <th>O_score</th>\n",
       "      <th>Career_Predicted_RF</th>\n",
       "    </tr>\n",
       "  </thead>\n",
       "  <tbody>\n",
       "    <tr>\n",
       "      <th>0</th>\n",
       "      <td>6.44</td>\n",
       "      <td>4.07</td>\n",
       "      <td>6.65</td>\n",
       "      <td>6.59</td>\n",
       "      <td>6.23</td>\n",
       "      <td>Architect &amp; Designer</td>\n",
       "    </tr>\n",
       "    <tr>\n",
       "      <th>1</th>\n",
       "      <td>5.79</td>\n",
       "      <td>5.37</td>\n",
       "      <td>6.21</td>\n",
       "      <td>6.44</td>\n",
       "      <td>5.38</td>\n",
       "      <td>Engineer</td>\n",
       "    </tr>\n",
       "    <tr>\n",
       "      <th>2</th>\n",
       "      <td>5.95</td>\n",
       "      <td>7.60</td>\n",
       "      <td>6.95</td>\n",
       "      <td>7.51</td>\n",
       "      <td>7.92</td>\n",
       "      <td>Law &amp; Public Service</td>\n",
       "    </tr>\n",
       "    <tr>\n",
       "      <th>3</th>\n",
       "      <td>7.08</td>\n",
       "      <td>7.20</td>\n",
       "      <td>7.09</td>\n",
       "      <td>7.35</td>\n",
       "      <td>7.25</td>\n",
       "      <td>Scientist</td>\n",
       "    </tr>\n",
       "    <tr>\n",
       "      <th>4</th>\n",
       "      <td>5.47</td>\n",
       "      <td>5.77</td>\n",
       "      <td>5.92</td>\n",
       "      <td>7.81</td>\n",
       "      <td>4.70</td>\n",
       "      <td>Manager</td>\n",
       "    </tr>\n",
       "  </tbody>\n",
       "</table>\n",
       "</div>"
      ],
      "text/plain": [
       "   E_score  N_score  C_score  A_score  O_score   Career_Predicted_RF\n",
       "0     6.44     4.07     6.65     6.59     6.23  Architect & Designer\n",
       "1     5.79     5.37     6.21     6.44     5.38              Engineer\n",
       "2     5.95     7.60     6.95     7.51     7.92  Law & Public Service\n",
       "3     7.08     7.20     7.09     7.35     7.25             Scientist\n",
       "4     5.47     5.77     5.92     7.81     4.70               Manager"
      ]
     },
     "execution_count": 172,
     "metadata": {},
     "output_type": "execute_result"
    }
   ],
   "source": [
    "# Prepare features from df (must match training features)\n",
    "X_df = df[['E_score', 'N_score', 'C_score', 'A_score', 'O_score']]\n",
    "\n",
    "# Predict Career using the trained RandomForest model\n",
    "career_pred = rf.predict(X_df)\n",
    "\n",
    "# Decode predicted labels to original Career names\n",
    "career_pred_labels = le.inverse_transform(career_pred)\n",
    "\n",
    "# Add predictions to df\n",
    "df['Career_Predicted_RF'] = career_pred_labels\n",
    "\n",
    "# Show the first few predictions\n",
    "df[['E_score', 'N_score', 'C_score', 'A_score', 'O_score', 'Career_Predicted_RF']].head()"
   ]
  },
  {
   "cell_type": "code",
   "execution_count": 173,
   "id": "4dcb5cc4",
   "metadata": {},
   "outputs": [
    {
     "name": "stdout",
     "output_type": "stream",
     "text": [
      "Career_Predicted_RF\n",
      "Architect & Designer    39.23\n",
      "Creative                25.90\n",
      "Engineer                12.87\n",
      "Manager                 10.52\n",
      "Data Analyst             4.24\n",
      "Scientist                2.85\n",
      "Sales & PR               1.22\n",
      "IT Specialist            1.20\n",
      "Finance & Accounting     0.92\n",
      "Law & Public Service     0.64\n",
      "Teacher                  0.17\n",
      "Healthcare               0.15\n",
      "Social Services          0.09\n",
      "Name: proportion, dtype: float64\n"
     ]
    }
   ],
   "source": [
    "# Calculate the percentage for each category in the 'Career_Predicted' column\n",
    "career_percentages = df['Career_Predicted_RF'].value_counts(normalize=True) * 100\n",
    "career_percentages = career_percentages.round(2)\n",
    "print(career_percentages)"
   ]
  },
  {
   "cell_type": "markdown",
   "id": "b6f672a8",
   "metadata": {},
   "source": [
    "#### KNN"
   ]
  },
  {
   "cell_type": "code",
   "execution_count": 174,
   "id": "cb1e3d5d",
   "metadata": {},
   "outputs": [
    {
     "name": "stdout",
     "output_type": "stream",
     "text": [
      "KNN Accuracy: 0.7038461538461539\n",
      "                      precision    recall  f1-score   support\n",
      "\n",
      "Architect & Designer       0.95      1.00      0.98        20\n",
      "            Creative       0.94      0.80      0.86        20\n",
      "        Data Analyst       0.48      0.70      0.57        20\n",
      "            Engineer       0.95      0.95      0.95        20\n",
      "Finance & Accounting       0.50      0.50      0.50        20\n",
      "          Healthcare       0.85      0.55      0.67        20\n",
      "       IT Specialist       0.18      0.15      0.16        20\n",
      "Law & Public Service       0.22      0.25      0.23        20\n",
      "             Manager       0.82      0.70      0.76        20\n",
      "          Sales & PR       0.91      1.00      0.95        20\n",
      "           Scientist       0.75      0.75      0.75        20\n",
      "     Social Services       0.77      0.85      0.81        20\n",
      "             Teacher       1.00      0.95      0.97        20\n",
      "\n",
      "            accuracy                           0.70       260\n",
      "           macro avg       0.72      0.70      0.71       260\n",
      "        weighted avg       0.72      0.70      0.71       260\n",
      "\n"
     ]
    }
   ],
   "source": [
    "# Prepare features and target\n",
    "X_knn = df_synthetic_full.drop(columns=['Career', 'Cluster'], errors='ignore')\n",
    "y_knn = df_synthetic_full['Career']\n",
    "\n",
    "# Encode target labels\n",
    "le_knn = LabelEncoder()\n",
    "y_knn_encoded = le_knn.fit_transform(y_knn)\n",
    "\n",
    "# Train/test split\n",
    "X_train_knn, X_test_knn, y_train_knn, y_test_knn = train_test_split(X_knn, y_knn_encoded, test_size=0.2, random_state=42, stratify=y_knn_encoded)\n",
    "\n",
    "# Train KNN model\n",
    "knn = KNeighborsClassifier(n_neighbors=5)\n",
    "knn.fit(X_train_knn, y_train_knn)\n",
    "\n",
    "# Predict and evaluate\n",
    "y_pred_knn = knn.predict(X_test_knn)\n",
    "print(\"KNN Accuracy:\", accuracy_score(y_test_knn, y_pred_knn))\n",
    "print(classification_report(y_test_knn, y_pred_knn, target_names=le_knn.classes_))"
   ]
  },
  {
   "cell_type": "code",
   "execution_count": 175,
   "id": "4bf412cf",
   "metadata": {},
   "outputs": [
    {
     "data": {
      "application/vnd.microsoft.datawrangler.viewer.v0+json": {
       "columns": [
        {
         "name": "index",
         "rawType": "int64",
         "type": "integer"
        },
        {
         "name": "E_score",
         "rawType": "float64",
         "type": "float"
        },
        {
         "name": "N_score",
         "rawType": "float64",
         "type": "float"
        },
        {
         "name": "C_score",
         "rawType": "float64",
         "type": "float"
        },
        {
         "name": "A_score",
         "rawType": "float64",
         "type": "float"
        },
        {
         "name": "O_score",
         "rawType": "float64",
         "type": "float"
        },
        {
         "name": "Career_Predicted_KNN",
         "rawType": "object",
         "type": "string"
        }
       ],
       "ref": "e1a28006-1c12-497c-b2ae-38ee5de28c2b",
       "rows": [
        [
         "0",
         "6.44",
         "4.07",
         "6.65",
         "6.59",
         "6.23",
         "Architect & Designer"
        ],
        [
         "1",
         "5.79",
         "5.37",
         "6.21",
         "6.44",
         "5.38",
         "Creative"
        ],
        [
         "2",
         "5.95",
         "7.6",
         "6.95",
         "7.51",
         "7.92",
         "Data Analyst"
        ],
        [
         "3",
         "7.08",
         "7.2",
         "7.09",
         "7.35",
         "7.25",
         "Data Analyst"
        ],
        [
         "4",
         "5.47",
         "5.77",
         "5.92",
         "7.81",
         "4.7",
         "Creative"
        ]
       ],
       "shape": {
        "columns": 6,
        "rows": 5
       }
      },
      "text/html": [
       "<div>\n",
       "<style scoped>\n",
       "    .dataframe tbody tr th:only-of-type {\n",
       "        vertical-align: middle;\n",
       "    }\n",
       "\n",
       "    .dataframe tbody tr th {\n",
       "        vertical-align: top;\n",
       "    }\n",
       "\n",
       "    .dataframe thead th {\n",
       "        text-align: right;\n",
       "    }\n",
       "</style>\n",
       "<table border=\"1\" class=\"dataframe\">\n",
       "  <thead>\n",
       "    <tr style=\"text-align: right;\">\n",
       "      <th></th>\n",
       "      <th>E_score</th>\n",
       "      <th>N_score</th>\n",
       "      <th>C_score</th>\n",
       "      <th>A_score</th>\n",
       "      <th>O_score</th>\n",
       "      <th>Career_Predicted_KNN</th>\n",
       "    </tr>\n",
       "  </thead>\n",
       "  <tbody>\n",
       "    <tr>\n",
       "      <th>0</th>\n",
       "      <td>6.44</td>\n",
       "      <td>4.07</td>\n",
       "      <td>6.65</td>\n",
       "      <td>6.59</td>\n",
       "      <td>6.23</td>\n",
       "      <td>Architect &amp; Designer</td>\n",
       "    </tr>\n",
       "    <tr>\n",
       "      <th>1</th>\n",
       "      <td>5.79</td>\n",
       "      <td>5.37</td>\n",
       "      <td>6.21</td>\n",
       "      <td>6.44</td>\n",
       "      <td>5.38</td>\n",
       "      <td>Creative</td>\n",
       "    </tr>\n",
       "    <tr>\n",
       "      <th>2</th>\n",
       "      <td>5.95</td>\n",
       "      <td>7.60</td>\n",
       "      <td>6.95</td>\n",
       "      <td>7.51</td>\n",
       "      <td>7.92</td>\n",
       "      <td>Data Analyst</td>\n",
       "    </tr>\n",
       "    <tr>\n",
       "      <th>3</th>\n",
       "      <td>7.08</td>\n",
       "      <td>7.20</td>\n",
       "      <td>7.09</td>\n",
       "      <td>7.35</td>\n",
       "      <td>7.25</td>\n",
       "      <td>Data Analyst</td>\n",
       "    </tr>\n",
       "    <tr>\n",
       "      <th>4</th>\n",
       "      <td>5.47</td>\n",
       "      <td>5.77</td>\n",
       "      <td>5.92</td>\n",
       "      <td>7.81</td>\n",
       "      <td>4.70</td>\n",
       "      <td>Creative</td>\n",
       "    </tr>\n",
       "  </tbody>\n",
       "</table>\n",
       "</div>"
      ],
      "text/plain": [
       "   E_score  N_score  C_score  A_score  O_score  Career_Predicted_KNN\n",
       "0     6.44     4.07     6.65     6.59     6.23  Architect & Designer\n",
       "1     5.79     5.37     6.21     6.44     5.38              Creative\n",
       "2     5.95     7.60     6.95     7.51     7.92          Data Analyst\n",
       "3     7.08     7.20     7.09     7.35     7.25          Data Analyst\n",
       "4     5.47     5.77     5.92     7.81     4.70              Creative"
      ]
     },
     "execution_count": 175,
     "metadata": {},
     "output_type": "execute_result"
    }
   ],
   "source": [
    "# Prepare features from df (must match training features)\n",
    "X_df_knn = df[['E_score', 'N_score', 'C_score', 'A_score', 'O_score']]\n",
    "\n",
    "# Predict Career using the trained KNN model\n",
    "career_pred_knn = knn.predict(X_df_knn)\n",
    "\n",
    "# Decode predicted labels to original Career names\n",
    "career_pred_knn_labels = le_knn.inverse_transform(career_pred_knn)\n",
    "\n",
    "# Add predictions to df\n",
    "df['Career_Predicted_KNN'] = career_pred_knn_labels\n",
    "\n",
    "# Show the first few predictions\n",
    "df[['E_score', 'N_score', 'C_score', 'A_score', 'O_score', 'Career_Predicted_KNN']].head()"
   ]
  },
  {
   "cell_type": "code",
   "execution_count": 176,
   "id": "951ce23a",
   "metadata": {},
   "outputs": [
    {
     "name": "stdout",
     "output_type": "stream",
     "text": [
      "Career_Predicted_KNN\n",
      "Creative                40.38\n",
      "Architect & Designer    24.23\n",
      "Manager                 16.12\n",
      "Data Analyst             7.77\n",
      "Engineer                 4.89\n",
      "Finance & Accounting     2.28\n",
      "IT Specialist            2.12\n",
      "Teacher                  0.92\n",
      "Law & Public Service     0.74\n",
      "Sales & PR               0.26\n",
      "Healthcare               0.15\n",
      "Scientist                0.07\n",
      "Social Services          0.07\n",
      "Name: proportion, dtype: float64\n"
     ]
    }
   ],
   "source": [
    "career_percentages_knn = df['Career_Predicted_KNN'].value_counts(normalize=True) * 100\n",
    "career_percentages_knn = career_percentages_knn.round(2)\n",
    "print(career_percentages_knn)"
   ]
  },
  {
   "cell_type": "markdown",
   "id": "2f07d7df",
   "metadata": {},
   "source": [
    "#### SVM"
   ]
  },
  {
   "cell_type": "code",
   "execution_count": 177,
   "id": "1af6cf02",
   "metadata": {},
   "outputs": [
    {
     "name": "stdout",
     "output_type": "stream",
     "text": [
      "SVM Accuracy: 0.6461538461538462\n",
      "                      precision    recall  f1-score   support\n",
      "\n",
      "Architect & Designer       0.65      0.55      0.59        20\n",
      "            Creative       0.52      0.55      0.54        20\n",
      "        Data Analyst       0.36      0.25      0.29        20\n",
      "            Engineer       1.00      0.95      0.97        20\n",
      "Finance & Accounting       0.41      0.70      0.52        20\n",
      "          Healthcare       1.00      0.50      0.67        20\n",
      "       IT Specialist       0.44      0.20      0.28        20\n",
      "Law & Public Service       0.43      0.65      0.52        20\n",
      "             Manager       0.78      0.70      0.74        20\n",
      "          Sales & PR       0.95      1.00      0.98        20\n",
      "           Scientist       0.57      0.80      0.67        20\n",
      "     Social Services       0.73      0.55      0.63        20\n",
      "             Teacher       0.83      1.00      0.91        20\n",
      "\n",
      "            accuracy                           0.65       260\n",
      "           macro avg       0.67      0.65      0.64       260\n",
      "        weighted avg       0.67      0.65      0.64       260\n",
      "\n"
     ]
    }
   ],
   "source": [
    "\n",
    "\n",
    "# Prepare features and target\n",
    "X_svm = df_synthetic_full.drop(columns=['Career', 'Cluster'], errors='ignore')\n",
    "y_svm = df_synthetic_full['Career']\n",
    "\n",
    "# Encode target labels\n",
    "le_svm = LabelEncoder()\n",
    "y_svm_encoded = le_svm.fit_transform(y_svm)\n",
    "\n",
    "# Train/test split\n",
    "X_train_svm, X_test_svm, y_train_svm, y_test_svm = train_test_split(\n",
    "    X_svm, y_svm_encoded, test_size=0.2, random_state=42, stratify=y_svm_encoded\n",
    ")\n",
    "\n",
    "# Train SVM (use linear kernel for multi-class, or try 'rbf')\n",
    "svm = SVC(kernel='linear', probability=True, random_state=42)\n",
    "svm.fit(X_train_svm, y_train_svm)\n",
    "\n",
    "# Predict and evaluate\n",
    "y_pred_svm = svm.predict(X_test_svm)\n",
    "print(\"SVM Accuracy:\", accuracy_score(y_test_svm, y_pred_svm))\n",
    "print(classification_report(y_test_svm, y_pred_svm, target_names=le_svm.classes_))"
   ]
  },
  {
   "cell_type": "code",
   "execution_count": 178,
   "id": "c6cbc9d0",
   "metadata": {
    "vscode": {
     "languageId": "ruby"
    }
   },
   "outputs": [
    {
     "data": {
      "application/vnd.microsoft.datawrangler.viewer.v0+json": {
       "columns": [
        {
         "name": "index",
         "rawType": "int64",
         "type": "integer"
        },
        {
         "name": "E_score",
         "rawType": "float64",
         "type": "float"
        },
        {
         "name": "N_score",
         "rawType": "float64",
         "type": "float"
        },
        {
         "name": "C_score",
         "rawType": "float64",
         "type": "float"
        },
        {
         "name": "A_score",
         "rawType": "float64",
         "type": "float"
        },
        {
         "name": "O_score",
         "rawType": "float64",
         "type": "float"
        },
        {
         "name": "Career_predicted_SVM",
         "rawType": "object",
         "type": "string"
        }
       ],
       "ref": "f9ba7924-1547-4204-95a5-cc11591bcd20",
       "rows": [
        [
         "0",
         "6.44",
         "4.07",
         "6.65",
         "6.59",
         "6.23",
         "Architect & Designer"
        ],
        [
         "1",
         "5.79",
         "5.37",
         "6.21",
         "6.44",
         "5.38",
         "Creative"
        ],
        [
         "2",
         "5.95",
         "7.6",
         "6.95",
         "7.51",
         "7.92",
         "Scientist"
        ],
        [
         "3",
         "7.08",
         "7.2",
         "7.09",
         "7.35",
         "7.25",
         "IT Specialist"
        ],
        [
         "4",
         "5.47",
         "5.77",
         "5.92",
         "7.81",
         "4.7",
         "Manager"
        ]
       ],
       "shape": {
        "columns": 6,
        "rows": 5
       }
      },
      "text/html": [
       "<div>\n",
       "<style scoped>\n",
       "    .dataframe tbody tr th:only-of-type {\n",
       "        vertical-align: middle;\n",
       "    }\n",
       "\n",
       "    .dataframe tbody tr th {\n",
       "        vertical-align: top;\n",
       "    }\n",
       "\n",
       "    .dataframe thead th {\n",
       "        text-align: right;\n",
       "    }\n",
       "</style>\n",
       "<table border=\"1\" class=\"dataframe\">\n",
       "  <thead>\n",
       "    <tr style=\"text-align: right;\">\n",
       "      <th></th>\n",
       "      <th>E_score</th>\n",
       "      <th>N_score</th>\n",
       "      <th>C_score</th>\n",
       "      <th>A_score</th>\n",
       "      <th>O_score</th>\n",
       "      <th>Career_predicted_SVM</th>\n",
       "    </tr>\n",
       "  </thead>\n",
       "  <tbody>\n",
       "    <tr>\n",
       "      <th>0</th>\n",
       "      <td>6.44</td>\n",
       "      <td>4.07</td>\n",
       "      <td>6.65</td>\n",
       "      <td>6.59</td>\n",
       "      <td>6.23</td>\n",
       "      <td>Architect &amp; Designer</td>\n",
       "    </tr>\n",
       "    <tr>\n",
       "      <th>1</th>\n",
       "      <td>5.79</td>\n",
       "      <td>5.37</td>\n",
       "      <td>6.21</td>\n",
       "      <td>6.44</td>\n",
       "      <td>5.38</td>\n",
       "      <td>Creative</td>\n",
       "    </tr>\n",
       "    <tr>\n",
       "      <th>2</th>\n",
       "      <td>5.95</td>\n",
       "      <td>7.60</td>\n",
       "      <td>6.95</td>\n",
       "      <td>7.51</td>\n",
       "      <td>7.92</td>\n",
       "      <td>Scientist</td>\n",
       "    </tr>\n",
       "    <tr>\n",
       "      <th>3</th>\n",
       "      <td>7.08</td>\n",
       "      <td>7.20</td>\n",
       "      <td>7.09</td>\n",
       "      <td>7.35</td>\n",
       "      <td>7.25</td>\n",
       "      <td>IT Specialist</td>\n",
       "    </tr>\n",
       "    <tr>\n",
       "      <th>4</th>\n",
       "      <td>5.47</td>\n",
       "      <td>5.77</td>\n",
       "      <td>5.92</td>\n",
       "      <td>7.81</td>\n",
       "      <td>4.70</td>\n",
       "      <td>Manager</td>\n",
       "    </tr>\n",
       "  </tbody>\n",
       "</table>\n",
       "</div>"
      ],
      "text/plain": [
       "   E_score  N_score  C_score  A_score  O_score  Career_predicted_SVM\n",
       "0     6.44     4.07     6.65     6.59     6.23  Architect & Designer\n",
       "1     5.79     5.37     6.21     6.44     5.38              Creative\n",
       "2     5.95     7.60     6.95     7.51     7.92             Scientist\n",
       "3     7.08     7.20     7.09     7.35     7.25         IT Specialist\n",
       "4     5.47     5.77     5.92     7.81     4.70               Manager"
      ]
     },
     "execution_count": 178,
     "metadata": {},
     "output_type": "execute_result"
    }
   ],
   "source": [
    "# Prepare features from df (must match training features)\n",
    "X_df_svm = df[['E_score', 'N_score', 'C_score', 'A_score', 'O_score']]\n",
    "\n",
    "# Predict Career using the trained SVM model\n",
    "career_pred_svm = svm.predict(X_df_svm)\n",
    "\n",
    "# Decode predicted labels to original Career names\n",
    "career_pred_svm_labels = le_svm.inverse_transform(career_pred_svm)\n",
    "\n",
    "# Add predictions to df\n",
    "df['Career_predicted_SVM'] = career_pred_svm_labels\n",
    "\n",
    "# Show the first few predictions\n",
    "df[['E_score', 'N_score', 'C_score', 'A_score', 'O_score', 'Career_predicted_SVM']].head()"
   ]
  },
  {
   "cell_type": "code",
   "execution_count": 179,
   "id": "ce6410fe",
   "metadata": {},
   "outputs": [
    {
     "name": "stdout",
     "output_type": "stream",
     "text": [
      "Career_predicted_SVM\n",
      "Creative                27.18\n",
      "Architect & Designer    25.07\n",
      "Manager                 18.42\n",
      "Engineer                10.52\n",
      "Scientist                7.21\n",
      "Data Analyst             5.35\n",
      "IT Specialist            3.94\n",
      "Social Services          0.95\n",
      "Finance & Accounting     0.70\n",
      "Law & Public Service     0.22\n",
      "Healthcare               0.20\n",
      "Teacher                  0.15\n",
      "Sales & PR               0.09\n",
      "Name: proportion, dtype: float64\n"
     ]
    }
   ],
   "source": [
    "# Calculate the percentage for each category in the 'Career_predicted_SVM' column\n",
    "career_percentages_svm = df['Career_predicted_SVM'].value_counts(normalize=True) * 100\n",
    "career_percentages_svm = career_percentages_svm.round(2)\n",
    "print(career_percentages_svm)"
   ]
  },
  {
   "cell_type": "markdown",
   "id": "2a25c044",
   "metadata": {},
   "source": [
    "#### XGBoost "
   ]
  },
  {
   "cell_type": "code",
   "execution_count": 180,
   "id": "3d59a2a8",
   "metadata": {},
   "outputs": [
    {
     "name": "stderr",
     "output_type": "stream",
     "text": [
      "c:\\Users\\modri\\AppData\\Local\\Programs\\Python\\Python313\\Lib\\site-packages\\xgboost\\training.py:183: UserWarning: [17:34:58] WARNING: C:\\actions-runner\\_work\\xgboost\\xgboost\\src\\learner.cc:738: \n",
      "Parameters: { \"use_label_encoder\" } are not used.\n",
      "\n",
      "  bst.update(dtrain, iteration=i, fobj=obj)\n"
     ]
    },
    {
     "name": "stdout",
     "output_type": "stream",
     "text": [
      "XGBoost Accuracy: 0.7576923076923077\n",
      "                      precision    recall  f1-score   support\n",
      "\n",
      "Architect & Designer       0.95      0.95      0.95        20\n",
      "            Creative       0.94      0.80      0.86        20\n",
      "        Data Analyst       0.60      0.60      0.60        20\n",
      "            Engineer       1.00      1.00      1.00        20\n",
      "Finance & Accounting       0.50      0.60      0.55        20\n",
      "          Healthcare       1.00      0.90      0.95        20\n",
      "       IT Specialist       0.06      0.05      0.05        20\n",
      "Law & Public Service       0.14      0.15      0.14        20\n",
      "             Manager       0.80      0.80      0.80        20\n",
      "          Sales & PR       1.00      1.00      1.00        20\n",
      "           Scientist       0.95      1.00      0.98        20\n",
      "     Social Services       1.00      1.00      1.00        20\n",
      "             Teacher       0.95      1.00      0.98        20\n",
      "\n",
      "            accuracy                           0.76       260\n",
      "           macro avg       0.76      0.76      0.76       260\n",
      "        weighted avg       0.76      0.76      0.76       260\n",
      "\n"
     ]
    }
   ],
   "source": [
    "from xgboost import XGBClassifier\n",
    "\n",
    "# Prepare features and target\n",
    "X_xgb = df_synthetic_full.drop(columns=['Career', 'Cluster'], errors='ignore')\n",
    "y_xgb = df_synthetic_full['Career']\n",
    "\n",
    "# Encode target labels\n",
    "le_xgb = LabelEncoder()\n",
    "y_xgb_encoded = le_xgb.fit_transform(y_xgb)\n",
    "\n",
    "# Train/test split\n",
    "X_train_xgb, X_test_xgb, y_train_xgb, y_test_xgb = train_test_split(\n",
    "    X_xgb, y_xgb_encoded, test_size=0.2, random_state=42, stratify=y_xgb_encoded\n",
    ")\n",
    "\n",
    "# Train XGBoost classifier\n",
    "xgb = XGBClassifier(use_label_encoder=False, eval_metric='mlogloss', random_state=42)\n",
    "xgb.fit(X_train_xgb, y_train_xgb)\n",
    "\n",
    "# Predict and evaluate\n",
    "y_pred_xgb = xgb.predict(X_test_xgb)\n",
    "print(\"XGBoost Accuracy:\", accuracy_score(y_test_xgb, y_pred_xgb))\n",
    "print(classification_report(y_test_xgb, y_pred_xgb, target_names=le_xgb.classes_))"
   ]
  },
  {
   "cell_type": "code",
   "execution_count": 181,
   "id": "ae8559b5",
   "metadata": {
    "vscode": {
     "languageId": "ruby"
    }
   },
   "outputs": [
    {
     "data": {
      "application/vnd.microsoft.datawrangler.viewer.v0+json": {
       "columns": [
        {
         "name": "index",
         "rawType": "int64",
         "type": "integer"
        },
        {
         "name": "E_score",
         "rawType": "float64",
         "type": "float"
        },
        {
         "name": "N_score",
         "rawType": "float64",
         "type": "float"
        },
        {
         "name": "C_score",
         "rawType": "float64",
         "type": "float"
        },
        {
         "name": "A_score",
         "rawType": "float64",
         "type": "float"
        },
        {
         "name": "O_score",
         "rawType": "float64",
         "type": "float"
        },
        {
         "name": "Career_predicted_xgboost",
         "rawType": "object",
         "type": "string"
        }
       ],
       "ref": "330590fb-aa78-41b5-b27f-7840db1c8c0a",
       "rows": [
        [
         "0",
         "6.44",
         "4.07",
         "6.65",
         "6.59",
         "6.23",
         "Architect & Designer"
        ],
        [
         "1",
         "5.79",
         "5.37",
         "6.21",
         "6.44",
         "5.38",
         "Architect & Designer"
        ],
        [
         "2",
         "5.95",
         "7.6",
         "6.95",
         "7.51",
         "7.92",
         "Scientist"
        ],
        [
         "3",
         "7.08",
         "7.2",
         "7.09",
         "7.35",
         "7.25",
         "Creative"
        ],
        [
         "4",
         "5.47",
         "5.77",
         "5.92",
         "7.81",
         "4.7",
         "Creative"
        ]
       ],
       "shape": {
        "columns": 6,
        "rows": 5
       }
      },
      "text/html": [
       "<div>\n",
       "<style scoped>\n",
       "    .dataframe tbody tr th:only-of-type {\n",
       "        vertical-align: middle;\n",
       "    }\n",
       "\n",
       "    .dataframe tbody tr th {\n",
       "        vertical-align: top;\n",
       "    }\n",
       "\n",
       "    .dataframe thead th {\n",
       "        text-align: right;\n",
       "    }\n",
       "</style>\n",
       "<table border=\"1\" class=\"dataframe\">\n",
       "  <thead>\n",
       "    <tr style=\"text-align: right;\">\n",
       "      <th></th>\n",
       "      <th>E_score</th>\n",
       "      <th>N_score</th>\n",
       "      <th>C_score</th>\n",
       "      <th>A_score</th>\n",
       "      <th>O_score</th>\n",
       "      <th>Career_predicted_xgboost</th>\n",
       "    </tr>\n",
       "  </thead>\n",
       "  <tbody>\n",
       "    <tr>\n",
       "      <th>0</th>\n",
       "      <td>6.44</td>\n",
       "      <td>4.07</td>\n",
       "      <td>6.65</td>\n",
       "      <td>6.59</td>\n",
       "      <td>6.23</td>\n",
       "      <td>Architect &amp; Designer</td>\n",
       "    </tr>\n",
       "    <tr>\n",
       "      <th>1</th>\n",
       "      <td>5.79</td>\n",
       "      <td>5.37</td>\n",
       "      <td>6.21</td>\n",
       "      <td>6.44</td>\n",
       "      <td>5.38</td>\n",
       "      <td>Architect &amp; Designer</td>\n",
       "    </tr>\n",
       "    <tr>\n",
       "      <th>2</th>\n",
       "      <td>5.95</td>\n",
       "      <td>7.60</td>\n",
       "      <td>6.95</td>\n",
       "      <td>7.51</td>\n",
       "      <td>7.92</td>\n",
       "      <td>Scientist</td>\n",
       "    </tr>\n",
       "    <tr>\n",
       "      <th>3</th>\n",
       "      <td>7.08</td>\n",
       "      <td>7.20</td>\n",
       "      <td>7.09</td>\n",
       "      <td>7.35</td>\n",
       "      <td>7.25</td>\n",
       "      <td>Creative</td>\n",
       "    </tr>\n",
       "    <tr>\n",
       "      <th>4</th>\n",
       "      <td>5.47</td>\n",
       "      <td>5.77</td>\n",
       "      <td>5.92</td>\n",
       "      <td>7.81</td>\n",
       "      <td>4.70</td>\n",
       "      <td>Creative</td>\n",
       "    </tr>\n",
       "  </tbody>\n",
       "</table>\n",
       "</div>"
      ],
      "text/plain": [
       "   E_score  N_score  C_score  A_score  O_score Career_predicted_xgboost\n",
       "0     6.44     4.07     6.65     6.59     6.23     Architect & Designer\n",
       "1     5.79     5.37     6.21     6.44     5.38     Architect & Designer\n",
       "2     5.95     7.60     6.95     7.51     7.92                Scientist\n",
       "3     7.08     7.20     7.09     7.35     7.25                 Creative\n",
       "4     5.47     5.77     5.92     7.81     4.70                 Creative"
      ]
     },
     "execution_count": 181,
     "metadata": {},
     "output_type": "execute_result"
    }
   ],
   "source": [
    "# Prepare features from df (must match training features)\n",
    "X_df_xgb = df[['E_score', 'N_score', 'C_score', 'A_score', 'O_score']]\n",
    "\n",
    "# Predict Career using the trained XGBoost model\n",
    "career_pred_xgb = xgb.predict(X_df_xgb)\n",
    "\n",
    "# Decode predicted labels to original Career names\n",
    "career_pred_xgb_labels = le_xgb.inverse_transform(career_pred_xgb)\n",
    "\n",
    "# Add predictions to df\n",
    "df['Career_predicted_xgboost'] = career_pred_xgb_labels\n",
    "\n",
    "# Show the first few predictions\n",
    "df[['E_score', 'N_score', 'C_score', 'A_score', 'O_score', 'Career_predicted_xgboost']].head()"
   ]
  },
  {
   "cell_type": "code",
   "execution_count": 182,
   "id": "433f431e",
   "metadata": {
    "vscode": {
     "languageId": "ruby"
    }
   },
   "outputs": [
    {
     "name": "stdout",
     "output_type": "stream",
     "text": [
      "Career_predicted_xgboost\n",
      "Architect & Designer    51.13\n",
      "Creative                20.10\n",
      "Manager                 16.18\n",
      "Engineer                 2.81\n",
      "Data Analyst             2.76\n",
      "Social Services          1.64\n",
      "Finance & Accounting     1.58\n",
      "Scientist                1.29\n",
      "IT Specialist            0.73\n",
      "Healthcare               0.65\n",
      "Law & Public Service     0.41\n",
      "Sales & PR               0.40\n",
      "Teacher                  0.33\n",
      "Name: proportion, dtype: float64\n"
     ]
    }
   ],
   "source": [
    "# Calculate the percentage for each category in the 'Career_predicted_xgboost' column\n",
    "career_percentages_xgb = df['Career_predicted_xgboost'].value_counts(normalize=True) * 100\n",
    "career_percentages_xgb = career_percentages_xgb.round(2)\n",
    "print(career_percentages_xgb)"
   ]
  },
  {
   "cell_type": "code",
   "execution_count": 183,
   "id": "798d9ce9",
   "metadata": {
    "vscode": {
     "languageId": "ruby"
    }
   },
   "outputs": [
    {
     "data": {
      "application/vnd.microsoft.datawrangler.viewer.v0+json": {
       "columns": [
        {
         "name": "index",
         "rawType": "int64",
         "type": "integer"
        },
        {
         "name": "Career_predicted_kmeans",
         "rawType": "object",
         "type": "string"
        },
        {
         "name": "Career_Predicted_RF",
         "rawType": "object",
         "type": "string"
        },
        {
         "name": "Career_Predicted_KNN",
         "rawType": "object",
         "type": "string"
        },
        {
         "name": "Career_predicted_SVM",
         "rawType": "object",
         "type": "string"
        },
        {
         "name": "Career_predicted_xgboost",
         "rawType": "object",
         "type": "string"
        },
        {
         "name": "Career_All_Models_Agree",
         "rawType": "bool",
         "type": "boolean"
        }
       ],
       "ref": "1d92792f-e6f2-4dab-ba0f-dae983c8b66e",
       "rows": [
        [
         "0",
         "Architect & Designer",
         "Architect & Designer",
         "Architect & Designer",
         "Architect & Designer",
         "Architect & Designer",
         "True"
        ],
        [
         "1",
         "Data Analyst",
         "Engineer",
         "Creative",
         "Creative",
         "Architect & Designer",
         "False"
        ],
        [
         "2",
         "IT Specialist",
         "Law & Public Service",
         "Data Analyst",
         "Scientist",
         "Scientist",
         "False"
        ],
        [
         "3",
         "IT Specialist",
         "Scientist",
         "Data Analyst",
         "IT Specialist",
         "Creative",
         "False"
        ],
        [
         "4",
         "Law & Public Service",
         "Manager",
         "Creative",
         "Manager",
         "Creative",
         "False"
        ]
       ],
       "shape": {
        "columns": 6,
        "rows": 5
       }
      },
      "text/html": [
       "<div>\n",
       "<style scoped>\n",
       "    .dataframe tbody tr th:only-of-type {\n",
       "        vertical-align: middle;\n",
       "    }\n",
       "\n",
       "    .dataframe tbody tr th {\n",
       "        vertical-align: top;\n",
       "    }\n",
       "\n",
       "    .dataframe thead th {\n",
       "        text-align: right;\n",
       "    }\n",
       "</style>\n",
       "<table border=\"1\" class=\"dataframe\">\n",
       "  <thead>\n",
       "    <tr style=\"text-align: right;\">\n",
       "      <th></th>\n",
       "      <th>Career_predicted_kmeans</th>\n",
       "      <th>Career_Predicted_RF</th>\n",
       "      <th>Career_Predicted_KNN</th>\n",
       "      <th>Career_predicted_SVM</th>\n",
       "      <th>Career_predicted_xgboost</th>\n",
       "      <th>Career_All_Models_Agree</th>\n",
       "    </tr>\n",
       "  </thead>\n",
       "  <tbody>\n",
       "    <tr>\n",
       "      <th>0</th>\n",
       "      <td>Architect &amp; Designer</td>\n",
       "      <td>Architect &amp; Designer</td>\n",
       "      <td>Architect &amp; Designer</td>\n",
       "      <td>Architect &amp; Designer</td>\n",
       "      <td>Architect &amp; Designer</td>\n",
       "      <td>True</td>\n",
       "    </tr>\n",
       "    <tr>\n",
       "      <th>1</th>\n",
       "      <td>Data Analyst</td>\n",
       "      <td>Engineer</td>\n",
       "      <td>Creative</td>\n",
       "      <td>Creative</td>\n",
       "      <td>Architect &amp; Designer</td>\n",
       "      <td>False</td>\n",
       "    </tr>\n",
       "    <tr>\n",
       "      <th>2</th>\n",
       "      <td>IT Specialist</td>\n",
       "      <td>Law &amp; Public Service</td>\n",
       "      <td>Data Analyst</td>\n",
       "      <td>Scientist</td>\n",
       "      <td>Scientist</td>\n",
       "      <td>False</td>\n",
       "    </tr>\n",
       "    <tr>\n",
       "      <th>3</th>\n",
       "      <td>IT Specialist</td>\n",
       "      <td>Scientist</td>\n",
       "      <td>Data Analyst</td>\n",
       "      <td>IT Specialist</td>\n",
       "      <td>Creative</td>\n",
       "      <td>False</td>\n",
       "    </tr>\n",
       "    <tr>\n",
       "      <th>4</th>\n",
       "      <td>Law &amp; Public Service</td>\n",
       "      <td>Manager</td>\n",
       "      <td>Creative</td>\n",
       "      <td>Manager</td>\n",
       "      <td>Creative</td>\n",
       "      <td>False</td>\n",
       "    </tr>\n",
       "  </tbody>\n",
       "</table>\n",
       "</div>"
      ],
      "text/plain": [
       "  Career_predicted_kmeans   Career_Predicted_RF  Career_Predicted_KNN  \\\n",
       "0    Architect & Designer  Architect & Designer  Architect & Designer   \n",
       "1            Data Analyst              Engineer              Creative   \n",
       "2           IT Specialist  Law & Public Service          Data Analyst   \n",
       "3           IT Specialist             Scientist          Data Analyst   \n",
       "4    Law & Public Service               Manager              Creative   \n",
       "\n",
       "   Career_predicted_SVM Career_predicted_xgboost  Career_All_Models_Agree  \n",
       "0  Architect & Designer     Architect & Designer                     True  \n",
       "1              Creative     Architect & Designer                    False  \n",
       "2             Scientist                Scientist                    False  \n",
       "3         IT Specialist                 Creative                    False  \n",
       "4               Manager                 Creative                    False  "
      ]
     },
     "execution_count": 183,
     "metadata": {},
     "output_type": "execute_result"
    }
   ],
   "source": [
    "# Create a column that checks if all 5 prediction columns agree on the same career\n",
    "df['Career_All_Models_Agree'] = (\n",
    "    (df['Career_predicted_kmeans'] == df['Career_Predicted_RF']) &\n",
    "    (df['Career_predicted_kmeans'] == df['Career_Predicted_KNN']) &\n",
    "    (df['Career_predicted_kmeans'] == df['Career_predicted_SVM']) &\n",
    "    (df['Career_predicted_kmeans'] == df['Career_predicted_xgboost'])\n",
    ")\n",
    "\n",
    "# Convert boolean to string label if desired (e.g., 'Agree'/'Disagree')\n",
    "# df['Career_All_Models_Agree'] = df['Career_All_Models_Agree'].map({True: 'Agree', False: 'Disagree'})\n",
    "\n",
    "df[['Career_predicted_kmeans', 'Career_Predicted_RF', 'Career_Predicted_KNN', 'Career_predicted_SVM', 'Career_predicted_xgboost', 'Career_All_Models_Agree']].head()"
   ]
  },
  {
   "cell_type": "markdown",
   "id": "dadbe56b",
   "metadata": {},
   "source": [
    "#### Single-Feature Model"
   ]
  },
  {
   "cell_type": "code",
   "execution_count": 184,
   "id": "96435067",
   "metadata": {},
   "outputs": [
    {
     "name": "stdout",
     "output_type": "stream",
     "text": [
      "Single-Feature Ensemble Accuracy: 0.6730769230769231\n",
      "                      precision    recall  f1-score   support\n",
      "\n",
      "Architect & Designer       0.76      0.95      0.84        20\n",
      "            Creative       0.75      0.75      0.75        20\n",
      "        Data Analyst       0.50      0.55      0.52        20\n",
      "            Engineer       0.90      0.95      0.93        20\n",
      "Finance & Accounting       0.50      0.40      0.44        20\n",
      "          Healthcare       0.73      0.80      0.76        20\n",
      "       IT Specialist       0.06      0.05      0.05        20\n",
      "Law & Public Service       0.10      0.10      0.10        20\n",
      "             Manager       0.58      0.35      0.44        20\n",
      "          Sales & PR       0.95      1.00      0.98        20\n",
      "           Scientist       0.95      0.95      0.95        20\n",
      "     Social Services       0.91      1.00      0.95        20\n",
      "             Teacher       0.90      0.90      0.90        20\n",
      "\n",
      "            accuracy                           0.67       260\n",
      "           macro avg       0.66      0.67      0.66       260\n",
      "        weighted avg       0.66      0.67      0.66       260\n",
      "\n"
     ]
    }
   ],
   "source": [
    "# Define feature list and target\n",
    "feature_list = ['E_score', 'N_score', 'C_score', 'A_score', 'O_score']\n",
    "X = df_synthetic_full[feature_list]\n",
    "y = df_synthetic_full['Career']\n",
    "\n",
    "# Train/test split\n",
    "X_train, X_test, y_train, y_test = train_test_split(X, y, test_size=0.2, random_state=42, stratify=y)\n",
    "\n",
    "# Store models and their predictions\n",
    "models = {}\n",
    "probas = []\n",
    "\n",
    "for feature in feature_list:\n",
    "    clf = RandomForestClassifier(n_estimators=100, random_state=42)\n",
    "    clf.fit(X_train[[feature]], y_train)\n",
    "    models[feature] = clf\n",
    "    proba = clf.predict_proba(X_test[[feature]])\n",
    "    probas.append(proba)\n",
    "\n",
    "# Combine probabilities by averaging\n",
    "combined_proba = np.mean(probas, axis=0)\n",
    "final_preds = np.argmax(combined_proba, axis=1)\n",
    "class_names = models[feature_list[0]].classes_\n",
    "final_preds_labels = [class_names[i] for i in final_preds]\n",
    "\n",
    "# Evaluate\n",
    "print(\"Single-Feature Ensemble Accuracy:\", accuracy_score(y_test, final_preds_labels))\n",
    "print(classification_report(y_test, final_preds_labels))"
   ]
  },
  {
   "cell_type": "code",
   "execution_count": 185,
   "id": "55155ea5",
   "metadata": {},
   "outputs": [],
   "source": [
    "# Use the same feature_list and models from the previous Single-Feature Model cell\n",
    "X_df = df[feature_list]\n",
    "\n",
    "# Get predicted probabilities from each single-feature model\n",
    "probas_df = []\n",
    "for feature in feature_list:\n",
    "    proba = models[feature].predict_proba(X_df[[feature]])\n",
    "    probas_df.append(proba)\n",
    "\n",
    "# Combine probabilities by averaging\n",
    "combined_proba_df = np.mean(probas_df, axis=0)\n",
    "\n",
    "# Get final predictions\n",
    "final_preds_df = np.argmax(combined_proba_df, axis=1)\n",
    "class_names = models[feature_list[0]].classes_\n",
    "df['Career_predicted_SFE'] = [class_names[i] for i in final_preds_df]"
   ]
  },
  {
   "cell_type": "code",
   "execution_count": 186,
   "id": "a5ac8d59",
   "metadata": {},
   "outputs": [
    {
     "name": "stdout",
     "output_type": "stream",
     "text": [
      "Career_predicted_SFE\n",
      "Manager                 18.48\n",
      "Creative                17.50\n",
      "Architect & Designer    15.10\n",
      "Teacher                 13.76\n",
      "Sales & PR              13.75\n",
      "Finance & Accounting     8.57\n",
      "Data Analyst             5.11\n",
      "Healthcare               3.09\n",
      "Engineer                 2.25\n",
      "Scientist                2.07\n",
      "Social Services          0.28\n",
      "Law & Public Service     0.02\n",
      "IT Specialist            0.01\n",
      "Name: proportion, dtype: float64\n"
     ]
    }
   ],
   "source": [
    "career_sfe_percentages = df['Career_predicted_SFE'].value_counts(normalize=True) * 100\n",
    "career_sfe_percentages = career_sfe_percentages.round(2)\n",
    "print(career_sfe_percentages)"
   ]
  },
  {
   "cell_type": "code",
   "execution_count": 187,
   "id": "6b380f4b",
   "metadata": {},
   "outputs": [
    {
     "data": {
      "application/vnd.microsoft.datawrangler.viewer.v0+json": {
       "columns": [
        {
         "name": "index",
         "rawType": "int64",
         "type": "integer"
        },
        {
         "name": "Career_predicted_kmeans",
         "rawType": "object",
         "type": "string"
        },
        {
         "name": "Career_Predicted_RF",
         "rawType": "object",
         "type": "string"
        },
        {
         "name": "Career_Predicted_KNN",
         "rawType": "object",
         "type": "string"
        },
        {
         "name": "Career_predicted_SVM",
         "rawType": "object",
         "type": "string"
        },
        {
         "name": "Career_predicted_xgboost",
         "rawType": "object",
         "type": "string"
        },
        {
         "name": "Career_All_Models_Agree",
         "rawType": "bool",
         "type": "boolean"
        }
       ],
       "ref": "7557a2df-49e5-4f83-b325-89cc624115d8",
       "rows": [
        [
         "0",
         "Architect & Designer",
         "Architect & Designer",
         "Architect & Designer",
         "Architect & Designer",
         "Architect & Designer",
         "False"
        ],
        [
         "1",
         "Data Analyst",
         "Engineer",
         "Creative",
         "Creative",
         "Architect & Designer",
         "False"
        ],
        [
         "2",
         "IT Specialist",
         "Law & Public Service",
         "Data Analyst",
         "Scientist",
         "Scientist",
         "False"
        ],
        [
         "3",
         "IT Specialist",
         "Scientist",
         "Data Analyst",
         "IT Specialist",
         "Creative",
         "False"
        ],
        [
         "4",
         "Law & Public Service",
         "Manager",
         "Creative",
         "Manager",
         "Creative",
         "False"
        ]
       ],
       "shape": {
        "columns": 6,
        "rows": 5
       }
      },
      "text/html": [
       "<div>\n",
       "<style scoped>\n",
       "    .dataframe tbody tr th:only-of-type {\n",
       "        vertical-align: middle;\n",
       "    }\n",
       "\n",
       "    .dataframe tbody tr th {\n",
       "        vertical-align: top;\n",
       "    }\n",
       "\n",
       "    .dataframe thead th {\n",
       "        text-align: right;\n",
       "    }\n",
       "</style>\n",
       "<table border=\"1\" class=\"dataframe\">\n",
       "  <thead>\n",
       "    <tr style=\"text-align: right;\">\n",
       "      <th></th>\n",
       "      <th>Career_predicted_kmeans</th>\n",
       "      <th>Career_Predicted_RF</th>\n",
       "      <th>Career_Predicted_KNN</th>\n",
       "      <th>Career_predicted_SVM</th>\n",
       "      <th>Career_predicted_xgboost</th>\n",
       "      <th>Career_All_Models_Agree</th>\n",
       "    </tr>\n",
       "  </thead>\n",
       "  <tbody>\n",
       "    <tr>\n",
       "      <th>0</th>\n",
       "      <td>Architect &amp; Designer</td>\n",
       "      <td>Architect &amp; Designer</td>\n",
       "      <td>Architect &amp; Designer</td>\n",
       "      <td>Architect &amp; Designer</td>\n",
       "      <td>Architect &amp; Designer</td>\n",
       "      <td>False</td>\n",
       "    </tr>\n",
       "    <tr>\n",
       "      <th>1</th>\n",
       "      <td>Data Analyst</td>\n",
       "      <td>Engineer</td>\n",
       "      <td>Creative</td>\n",
       "      <td>Creative</td>\n",
       "      <td>Architect &amp; Designer</td>\n",
       "      <td>False</td>\n",
       "    </tr>\n",
       "    <tr>\n",
       "      <th>2</th>\n",
       "      <td>IT Specialist</td>\n",
       "      <td>Law &amp; Public Service</td>\n",
       "      <td>Data Analyst</td>\n",
       "      <td>Scientist</td>\n",
       "      <td>Scientist</td>\n",
       "      <td>False</td>\n",
       "    </tr>\n",
       "    <tr>\n",
       "      <th>3</th>\n",
       "      <td>IT Specialist</td>\n",
       "      <td>Scientist</td>\n",
       "      <td>Data Analyst</td>\n",
       "      <td>IT Specialist</td>\n",
       "      <td>Creative</td>\n",
       "      <td>False</td>\n",
       "    </tr>\n",
       "    <tr>\n",
       "      <th>4</th>\n",
       "      <td>Law &amp; Public Service</td>\n",
       "      <td>Manager</td>\n",
       "      <td>Creative</td>\n",
       "      <td>Manager</td>\n",
       "      <td>Creative</td>\n",
       "      <td>False</td>\n",
       "    </tr>\n",
       "  </tbody>\n",
       "</table>\n",
       "</div>"
      ],
      "text/plain": [
       "  Career_predicted_kmeans   Career_Predicted_RF  Career_Predicted_KNN  \\\n",
       "0    Architect & Designer  Architect & Designer  Architect & Designer   \n",
       "1            Data Analyst              Engineer              Creative   \n",
       "2           IT Specialist  Law & Public Service          Data Analyst   \n",
       "3           IT Specialist             Scientist          Data Analyst   \n",
       "4    Law & Public Service               Manager              Creative   \n",
       "\n",
       "   Career_predicted_SVM Career_predicted_xgboost  Career_All_Models_Agree  \n",
       "0  Architect & Designer     Architect & Designer                    False  \n",
       "1              Creative     Architect & Designer                    False  \n",
       "2             Scientist                Scientist                    False  \n",
       "3         IT Specialist                 Creative                    False  \n",
       "4               Manager                 Creative                    False  "
      ]
     },
     "execution_count": 187,
     "metadata": {},
     "output_type": "execute_result"
    }
   ],
   "source": [
    "# Create a column that checks if all 5 prediction columns agree on the same career\n",
    "df['Career_All_Models_Agree'] = (\n",
    "    (df['Career_predicted_SFE'] == df['Career_Predicted_RF']) &\n",
    "    (df['Career_predicted_SFE'] == df['Career_Predicted_KNN']) &\n",
    "    (df['Career_predicted_SFE'] == df['Career_predicted_SVM']) &\n",
    "    (df['Career_predicted_SFE'] == df['Career_predicted_xgboost'])\n",
    ")\n",
    "\n",
    "# Convert boolean to string label if desired (e.g., 'Agree'/'Disagree')\n",
    "# df['Career_All_Models_Agree'] = df['Career_All_Models_Agree'].map({True: 'Agree', False: 'Disagree'})\n",
    "\n",
    "df[['Career_predicted_kmeans', 'Career_Predicted_RF', 'Career_Predicted_KNN', 'Career_predicted_SVM', 'Career_predicted_xgboost', 'Career_All_Models_Agree']].head()"
   ]
  },
  {
   "cell_type": "code",
   "execution_count": 188,
   "id": "f6d32fac",
   "metadata": {},
   "outputs": [
    {
     "name": "stdout",
     "output_type": "stream",
     "text": [
      "Number of rows where all models agree: 1147\n"
     ]
    }
   ],
   "source": [
    "# Count the number of rows where all models agree on the predicted career\n",
    "num_agree_5 = df['Career_All_Models_Agree'].sum()\n",
    "print(\"Number of rows where all models agree:\", num_agree_5)"
   ]
  },
  {
   "cell_type": "code",
   "execution_count": 189,
   "id": "3ac0cb9b",
   "metadata": {},
   "outputs": [
    {
     "data": {
      "application/vnd.microsoft.datawrangler.viewer.v0+json": {
       "columns": [
        {
         "name": "index",
         "rawType": "int64",
         "type": "integer"
        },
        {
         "name": "Career_predicted_kmeans",
         "rawType": "object",
         "type": "string"
        },
        {
         "name": "Career_Predicted_RF",
         "rawType": "object",
         "type": "string"
        },
        {
         "name": "Career_Predicted_KNN",
         "rawType": "object",
         "type": "string"
        },
        {
         "name": "Career_predicted_SVM",
         "rawType": "object",
         "type": "string"
        },
        {
         "name": "Career_predicted_xgboost",
         "rawType": "object",
         "type": "string"
        },
        {
         "name": "Career_At_Least_3_Agree",
         "rawType": "bool",
         "type": "boolean"
        }
       ],
       "ref": "0451f965-448d-49f1-8de6-f46cc7885e74",
       "rows": [
        [
         "0",
         "Architect & Designer",
         "Architect & Designer",
         "Architect & Designer",
         "Architect & Designer",
         "Architect & Designer",
         "True"
        ],
        [
         "1",
         "Data Analyst",
         "Engineer",
         "Creative",
         "Creative",
         "Architect & Designer",
         "False"
        ],
        [
         "2",
         "IT Specialist",
         "Law & Public Service",
         "Data Analyst",
         "Scientist",
         "Scientist",
         "False"
        ],
        [
         "3",
         "IT Specialist",
         "Scientist",
         "Data Analyst",
         "IT Specialist",
         "Creative",
         "False"
        ],
        [
         "4",
         "Law & Public Service",
         "Manager",
         "Creative",
         "Manager",
         "Creative",
         "False"
        ]
       ],
       "shape": {
        "columns": 6,
        "rows": 5
       }
      },
      "text/html": [
       "<div>\n",
       "<style scoped>\n",
       "    .dataframe tbody tr th:only-of-type {\n",
       "        vertical-align: middle;\n",
       "    }\n",
       "\n",
       "    .dataframe tbody tr th {\n",
       "        vertical-align: top;\n",
       "    }\n",
       "\n",
       "    .dataframe thead th {\n",
       "        text-align: right;\n",
       "    }\n",
       "</style>\n",
       "<table border=\"1\" class=\"dataframe\">\n",
       "  <thead>\n",
       "    <tr style=\"text-align: right;\">\n",
       "      <th></th>\n",
       "      <th>Career_predicted_kmeans</th>\n",
       "      <th>Career_Predicted_RF</th>\n",
       "      <th>Career_Predicted_KNN</th>\n",
       "      <th>Career_predicted_SVM</th>\n",
       "      <th>Career_predicted_xgboost</th>\n",
       "      <th>Career_At_Least_3_Agree</th>\n",
       "    </tr>\n",
       "  </thead>\n",
       "  <tbody>\n",
       "    <tr>\n",
       "      <th>0</th>\n",
       "      <td>Architect &amp; Designer</td>\n",
       "      <td>Architect &amp; Designer</td>\n",
       "      <td>Architect &amp; Designer</td>\n",
       "      <td>Architect &amp; Designer</td>\n",
       "      <td>Architect &amp; Designer</td>\n",
       "      <td>True</td>\n",
       "    </tr>\n",
       "    <tr>\n",
       "      <th>1</th>\n",
       "      <td>Data Analyst</td>\n",
       "      <td>Engineer</td>\n",
       "      <td>Creative</td>\n",
       "      <td>Creative</td>\n",
       "      <td>Architect &amp; Designer</td>\n",
       "      <td>False</td>\n",
       "    </tr>\n",
       "    <tr>\n",
       "      <th>2</th>\n",
       "      <td>IT Specialist</td>\n",
       "      <td>Law &amp; Public Service</td>\n",
       "      <td>Data Analyst</td>\n",
       "      <td>Scientist</td>\n",
       "      <td>Scientist</td>\n",
       "      <td>False</td>\n",
       "    </tr>\n",
       "    <tr>\n",
       "      <th>3</th>\n",
       "      <td>IT Specialist</td>\n",
       "      <td>Scientist</td>\n",
       "      <td>Data Analyst</td>\n",
       "      <td>IT Specialist</td>\n",
       "      <td>Creative</td>\n",
       "      <td>False</td>\n",
       "    </tr>\n",
       "    <tr>\n",
       "      <th>4</th>\n",
       "      <td>Law &amp; Public Service</td>\n",
       "      <td>Manager</td>\n",
       "      <td>Creative</td>\n",
       "      <td>Manager</td>\n",
       "      <td>Creative</td>\n",
       "      <td>False</td>\n",
       "    </tr>\n",
       "  </tbody>\n",
       "</table>\n",
       "</div>"
      ],
      "text/plain": [
       "  Career_predicted_kmeans   Career_Predicted_RF  Career_Predicted_KNN  \\\n",
       "0    Architect & Designer  Architect & Designer  Architect & Designer   \n",
       "1            Data Analyst              Engineer              Creative   \n",
       "2           IT Specialist  Law & Public Service          Data Analyst   \n",
       "3           IT Specialist             Scientist          Data Analyst   \n",
       "4    Law & Public Service               Manager              Creative   \n",
       "\n",
       "   Career_predicted_SVM Career_predicted_xgboost  Career_At_Least_3_Agree  \n",
       "0  Architect & Designer     Architect & Designer                     True  \n",
       "1              Creative     Architect & Designer                    False  \n",
       "2             Scientist                Scientist                    False  \n",
       "3         IT Specialist                 Creative                    False  \n",
       "4               Manager                 Creative                    False  "
      ]
     },
     "execution_count": 189,
     "metadata": {},
     "output_type": "execute_result"
    }
   ],
   "source": [
    "\n",
    "# Create a column that checks if at least 3 prediction columns agree on the same career\n",
    "\n",
    "\n",
    "def at_least_three_agree(row):\n",
    "    preds = [\n",
    "        row['Career_predicted_kmeans'],\n",
    "        row['Career_Predicted_RF'],\n",
    "        row['Career_Predicted_KNN'],\n",
    "        row['Career_predicted_SVM'],\n",
    "        row['Career_predicted_xgboost']\n",
    "    ]\n",
    "    most_common = Counter(preds).most_common(1)[0][1]\n",
    "    return most_common >= 3\n",
    "\n",
    "df['Career_At_Least_3_Agree'] = df.apply(at_least_three_agree, axis=1)\n",
    "df[['Career_predicted_kmeans', 'Career_Predicted_RF', 'Career_Predicted_KNN', 'Career_predicted_SVM', 'Career_predicted_xgboost', 'Career_At_Least_3_Agree']].head()"
   ]
  },
  {
   "cell_type": "code",
   "execution_count": 190,
   "id": "06c67852",
   "metadata": {},
   "outputs": [
    {
     "name": "stdout",
     "output_type": "stream",
     "text": [
      "Number of rows where models agree at least 3 times: 13454\n"
     ]
    }
   ],
   "source": [
    "# Count the number of rows where all models agree on the predicted career\n",
    "num_agree_3 = df['Career_At_Least_3_Agree'].sum()\n",
    "print(\"Number of rows where models agree at least 3 times:\", num_agree_3)"
   ]
  },
  {
   "cell_type": "markdown",
   "id": "dd18a70a",
   "metadata": {},
   "source": [
    "### Meta Model"
   ]
  },
  {
   "cell_type": "code",
   "execution_count": 191,
   "id": "1540a51b",
   "metadata": {},
   "outputs": [
    {
     "name": "stdout",
     "output_type": "stream",
     "text": [
      "Meta-Model (Stacking) Accuracy: 0.8923076923076924\n",
      "                      precision    recall  f1-score   support\n",
      "\n",
      "Architect & Designer       0.91      1.00      0.95        20\n",
      "            Creative       0.94      0.80      0.86        20\n",
      "        Data Analyst       0.68      0.85      0.76        20\n",
      "            Engineer       1.00      0.95      0.97        20\n",
      "Finance & Accounting       0.64      0.70      0.67        20\n",
      "          Healthcare       1.00      0.85      0.92        20\n",
      "       IT Specialist       0.83      0.95      0.88        20\n",
      "Law & Public Service       0.94      0.75      0.83        20\n",
      "             Manager       0.83      0.75      0.79        20\n",
      "          Sales & PR       1.00      1.00      1.00        20\n",
      "           Scientist       0.95      1.00      0.98        20\n",
      "     Social Services       1.00      1.00      1.00        20\n",
      "             Teacher       1.00      1.00      1.00        20\n",
      "\n",
      "            accuracy                           0.89       260\n",
      "           macro avg       0.90      0.89      0.89       260\n",
      "        weighted avg       0.90      0.89      0.89       260\n",
      "\n"
     ]
    }
   ],
   "source": [
    "\n",
    "# Prepare features and target for meta-model\n",
    "X_meta = df_synthetic_full.drop(columns=['Career', 'Cluster'], errors='ignore')\n",
    "y_meta = df_synthetic_full['Career']\n",
    "\n",
    "# Encode target labels\n",
    "le_meta = LabelEncoder()\n",
    "y_meta_encoded = le_meta.fit_transform(y_meta)\n",
    "\n",
    "# Split data\n",
    "X_train_meta, X_test_meta, y_train_meta, y_test_meta = train_test_split(\n",
    "    X_meta, y_meta_encoded, test_size=0.2, random_state=42, stratify=y_meta_encoded\n",
    ")\n",
    "\n",
    "# Define base learners\n",
    "base_learners = [\n",
    "    ('rf', RandomForestClassifier(n_estimators=25, random_state=42)),\n",
    "    ('knn', KNeighborsClassifier(n_neighbors=3)),\n",
    "    ('svm', SVC(kernel='linear', probability=True, random_state=42)),\n",
    "    ('xgb', XGBClassifier(use_label_encoder=False, eval_metric='mlogloss', random_state=42))\n",
    "]\n",
    "\n",
    "# Define meta-model (can use LogisticRegression or RandomForest)\n",
    "meta_learner = LogisticRegression(max_iter=10000, random_state=42)\n",
    "\n",
    "# Create stacking classifier\n",
    "stacking_clf = StackingClassifier(\n",
    "    estimators=base_learners,\n",
    "    final_estimator=meta_learner,\n",
    "    cv=5,\n",
    "    n_jobs=-1,\n",
    "    passthrough=False\n",
    ")\n",
    "\n",
    "# Train meta-model\n",
    "stacking_clf.fit(X_train_meta, y_train_meta)\n",
    "\n",
    "# Predict and evaluate\n",
    "y_pred_meta = stacking_clf.predict(X_test_meta)\n",
    "print(\"Meta-Model (Stacking) Accuracy:\", accuracy_score(y_test_meta, y_pred_meta))\n",
    "print(classification_report(y_test_meta, y_pred_meta, target_names=le_meta.classes_))"
   ]
  },
  {
   "cell_type": "code",
   "execution_count": 192,
   "id": "43037417",
   "metadata": {},
   "outputs": [
    {
     "name": "stdout",
     "output_type": "stream",
     "text": [
      "Meta-Model (Stacking) Accuracy: 0.8884615384615384\n",
      "                      precision    recall  f1-score   support\n",
      "\n",
      "Architect & Designer       0.91      1.00      0.95        20\n",
      "            Creative       0.94      0.80      0.86        20\n",
      "        Data Analyst       0.65      0.85      0.74        20\n",
      "            Engineer       1.00      0.95      0.97        20\n",
      "Finance & Accounting       0.62      0.65      0.63        20\n",
      "          Healthcare       1.00      0.85      0.92        20\n",
      "       IT Specialist       0.83      0.95      0.88        20\n",
      "Law & Public Service       0.94      0.75      0.83        20\n",
      "             Manager       0.83      0.75      0.79        20\n",
      "          Sales & PR       1.00      1.00      1.00        20\n",
      "           Scientist       0.95      1.00      0.98        20\n",
      "     Social Services       1.00      1.00      1.00        20\n",
      "             Teacher       1.00      1.00      1.00        20\n",
      "\n",
      "            accuracy                           0.89       260\n",
      "           macro avg       0.90      0.89      0.89       260\n",
      "        weighted avg       0.90      0.89      0.89       260\n",
      "\n"
     ]
    }
   ],
   "source": [
    "\n",
    "# Prepare features and target for meta-model\n",
    "X_meta = df_synthetic_full.drop(columns=['Career', 'Cluster'], errors='ignore')\n",
    "y_meta = df_synthetic_full['Career']\n",
    "\n",
    "# Encode target labels\n",
    "le_meta = LabelEncoder()\n",
    "y_meta_encoded = le_meta.fit_transform(y_meta)\n",
    "\n",
    "# Split data\n",
    "X_train_meta, X_test_meta, y_train_meta, y_test_meta = train_test_split(\n",
    "    X_meta, y_meta_encoded, test_size=0.2, random_state=42, stratify=y_meta_encoded\n",
    ")\n",
    "\n",
    "# Define single-feature model pipeline (using E_score as example)\n",
    "single_feature_pipeline = Pipeline([\n",
    "    ('selector', ColumnTransformer([\n",
    "        ('select_feature', 'passthrough', ['E_score'])\n",
    "    ], remainder='drop')),\n",
    "    ('clf', LogisticRegression(random_state=42))\n",
    "])\n",
    "\n",
    "# Define base learners including the single-feature model\n",
    "base_learners = [\n",
    "    ('rf', RandomForestClassifier(n_estimators=25, random_state=42)),\n",
    "    ('knn', KNeighborsClassifier(n_neighbors=3)),\n",
    "    ('svm', SVC(kernel='linear', probability=True, random_state=42)),\n",
    "    ('xgb', XGBClassifier(use_label_encoder=False, eval_metric='mlogloss', random_state=42)),\n",
    "    ('single_feature', single_feature_pipeline)\n",
    "]\n",
    "\n",
    "# Define meta-model (can use LogisticRegression or RandomForest)\n",
    "meta_learner = LogisticRegression(max_iter=10000, random_state=42)\n",
    "\n",
    "# Create stacking classifier\n",
    "stacking_clf = StackingClassifier(\n",
    "    estimators=base_learners,\n",
    "    final_estimator=meta_learner,\n",
    "    cv=5,\n",
    "    n_jobs=-1,\n",
    "    passthrough=False\n",
    ")\n",
    "\n",
    "# Train meta-model\n",
    "stacking_clf.fit(X_train_meta, y_train_meta)\n",
    "\n",
    "# Predict and evaluate\n",
    "y_pred_meta = stacking_clf.predict(X_test_meta)\n",
    "print(\"Meta-Model (Stacking) Accuracy:\", accuracy_score(y_test_meta, y_pred_meta))\n",
    "print(classification_report(y_test_meta, y_pred_meta, target_names=le_meta.classes_))\n"
   ]
  },
  {
   "cell_type": "code",
   "execution_count": 193,
   "id": "f20d98d4",
   "metadata": {},
   "outputs": [
    {
     "data": {
      "application/vnd.microsoft.datawrangler.viewer.v0+json": {
       "columns": [
        {
         "name": "index",
         "rawType": "int64",
         "type": "integer"
        },
        {
         "name": "E_score",
         "rawType": "float64",
         "type": "float"
        },
        {
         "name": "N_score",
         "rawType": "float64",
         "type": "float"
        },
        {
         "name": "C_score",
         "rawType": "float64",
         "type": "float"
        },
        {
         "name": "A_score",
         "rawType": "float64",
         "type": "float"
        },
        {
         "name": "O_score",
         "rawType": "float64",
         "type": "float"
        },
        {
         "name": "Career_predicted_META",
         "rawType": "object",
         "type": "string"
        }
       ],
       "ref": "185f6cc7-6ac4-4dbf-a7cf-bcb71ddcfa8e",
       "rows": [
        [
         "0",
         "6.44",
         "4.07",
         "6.65",
         "6.59",
         "6.23",
         "Architect & Designer"
        ],
        [
         "1",
         "5.79",
         "5.37",
         "6.21",
         "6.44",
         "5.38",
         "Creative"
        ],
        [
         "2",
         "5.95",
         "7.6",
         "6.95",
         "7.51",
         "7.92",
         "IT Specialist"
        ],
        [
         "3",
         "7.08",
         "7.2",
         "7.09",
         "7.35",
         "7.25",
         "Creative"
        ],
        [
         "4",
         "5.47",
         "5.77",
         "5.92",
         "7.81",
         "4.7",
         "Creative"
        ]
       ],
       "shape": {
        "columns": 6,
        "rows": 5
       }
      },
      "text/html": [
       "<div>\n",
       "<style scoped>\n",
       "    .dataframe tbody tr th:only-of-type {\n",
       "        vertical-align: middle;\n",
       "    }\n",
       "\n",
       "    .dataframe tbody tr th {\n",
       "        vertical-align: top;\n",
       "    }\n",
       "\n",
       "    .dataframe thead th {\n",
       "        text-align: right;\n",
       "    }\n",
       "</style>\n",
       "<table border=\"1\" class=\"dataframe\">\n",
       "  <thead>\n",
       "    <tr style=\"text-align: right;\">\n",
       "      <th></th>\n",
       "      <th>E_score</th>\n",
       "      <th>N_score</th>\n",
       "      <th>C_score</th>\n",
       "      <th>A_score</th>\n",
       "      <th>O_score</th>\n",
       "      <th>Career_predicted_META</th>\n",
       "    </tr>\n",
       "  </thead>\n",
       "  <tbody>\n",
       "    <tr>\n",
       "      <th>0</th>\n",
       "      <td>6.44</td>\n",
       "      <td>4.07</td>\n",
       "      <td>6.65</td>\n",
       "      <td>6.59</td>\n",
       "      <td>6.23</td>\n",
       "      <td>Architect &amp; Designer</td>\n",
       "    </tr>\n",
       "    <tr>\n",
       "      <th>1</th>\n",
       "      <td>5.79</td>\n",
       "      <td>5.37</td>\n",
       "      <td>6.21</td>\n",
       "      <td>6.44</td>\n",
       "      <td>5.38</td>\n",
       "      <td>Creative</td>\n",
       "    </tr>\n",
       "    <tr>\n",
       "      <th>2</th>\n",
       "      <td>5.95</td>\n",
       "      <td>7.60</td>\n",
       "      <td>6.95</td>\n",
       "      <td>7.51</td>\n",
       "      <td>7.92</td>\n",
       "      <td>IT Specialist</td>\n",
       "    </tr>\n",
       "    <tr>\n",
       "      <th>3</th>\n",
       "      <td>7.08</td>\n",
       "      <td>7.20</td>\n",
       "      <td>7.09</td>\n",
       "      <td>7.35</td>\n",
       "      <td>7.25</td>\n",
       "      <td>Creative</td>\n",
       "    </tr>\n",
       "    <tr>\n",
       "      <th>4</th>\n",
       "      <td>5.47</td>\n",
       "      <td>5.77</td>\n",
       "      <td>5.92</td>\n",
       "      <td>7.81</td>\n",
       "      <td>4.70</td>\n",
       "      <td>Creative</td>\n",
       "    </tr>\n",
       "  </tbody>\n",
       "</table>\n",
       "</div>"
      ],
      "text/plain": [
       "   E_score  N_score  C_score  A_score  O_score Career_predicted_META\n",
       "0     6.44     4.07     6.65     6.59     6.23  Architect & Designer\n",
       "1     5.79     5.37     6.21     6.44     5.38              Creative\n",
       "2     5.95     7.60     6.95     7.51     7.92         IT Specialist\n",
       "3     7.08     7.20     7.09     7.35     7.25              Creative\n",
       "4     5.47     5.77     5.92     7.81     4.70              Creative"
      ]
     },
     "execution_count": 193,
     "metadata": {},
     "output_type": "execute_result"
    }
   ],
   "source": [
    "# Prepare features from df (must match training features)\n",
    "X_df_meta = df[['E_score', 'N_score', 'C_score', 'A_score', 'O_score']]\n",
    "\n",
    "# Predict Career using the trained meta-model (stacking_clf)\n",
    "career_pred_meta = stacking_clf.predict(X_df_meta)\n",
    "\n",
    "# Decode predicted labels to original Career names\n",
    "career_pred_meta_labels = le_meta.inverse_transform(career_pred_meta)\n",
    "\n",
    "# Add predictions to df\n",
    "df['Career_predicted_META'] = career_pred_meta_labels\n",
    "\n",
    "# Show the first few predictions\n",
    "df[['E_score', 'N_score', 'C_score', 'A_score', 'O_score', 'Career_predicted_META']].head()"
   ]
  },
  {
   "cell_type": "code",
   "execution_count": 194,
   "id": "4697fec3",
   "metadata": {},
   "outputs": [
    {
     "name": "stdout",
     "output_type": "stream",
     "text": [
      "Career_predicted_META\n",
      "Architect & Designer    36.42\n",
      "Creative                36.32\n",
      "Manager                 15.47\n",
      "Data Analyst             3.83\n",
      "Engineer                 3.39\n",
      "IT Specialist            2.31\n",
      "Finance & Accounting     1.02\n",
      "Law & Public Service     0.47\n",
      "Teacher                  0.21\n",
      "Sales & PR               0.18\n",
      "Social Services          0.15\n",
      "Scientist                0.14\n",
      "Healthcare               0.09\n",
      "Name: proportion, dtype: float64\n"
     ]
    }
   ],
   "source": [
    "# Calculate the percentage for each category in the 'Career_predicted_META' column\n",
    "career_percentages_meta = df['Career_predicted_META'].value_counts(normalize=True) * 100\n",
    "career_percentages_meta = career_percentages_meta.round(2)\n",
    "print(career_percentages_meta)"
   ]
  },
  {
   "cell_type": "code",
   "execution_count": 195,
   "id": "7c22b1dd",
   "metadata": {},
   "outputs": [],
   "source": [
    "df.loc[df['Career_All_Models_Agree'], 'Career_predicted_META'] = df.loc[df['Career_All_Models_Agree'], 'Career_Predicted_RF']"
   ]
  },
  {
   "cell_type": "code",
   "execution_count": 196,
   "id": "a06e85ef",
   "metadata": {},
   "outputs": [],
   "source": [
    "\n",
    "\n",
    "def get_majority_vote(row):\n",
    "    preds = [\n",
    "        row['Career_predicted_SFE'],\n",
    "        row['Career_Predicted_RF'],\n",
    "        row['Career_Predicted_KNN'],\n",
    "        row['Career_predicted_SVM'],\n",
    "        row['Career_predicted_xgboost']\n",
    "    ]\n",
    "    most_common, count = Counter(preds).most_common(1)[0]\n",
    "    if count >= 3:\n",
    "        return most_common\n",
    "    else:\n",
    "        return row['Career_predicted_META']\n",
    "\n",
    "df.loc[df['Career_At_Least_3_Agree'], 'Career_predicted_META'] = df[df['Career_At_Least_3_Agree']].apply(get_majority_vote, axis=1)"
   ]
  },
  {
   "cell_type": "code",
   "execution_count": 197,
   "id": "f4367b1e",
   "metadata": {},
   "outputs": [
    {
     "name": "stdout",
     "output_type": "stream",
     "text": [
      "Career_predicted_META\n",
      "Architect & Designer    36.97\n",
      "Creative                35.24\n",
      "Manager                 15.26\n",
      "Data Analyst             4.22\n",
      "Engineer                 3.58\n",
      "IT Specialist            2.37\n",
      "Finance & Accounting     1.05\n",
      "Law & Public Service     0.32\n",
      "Scientist                0.32\n",
      "Teacher                  0.22\n",
      "Sales & PR               0.20\n",
      "Social Services          0.14\n",
      "Healthcare               0.10\n",
      "Name: proportion, dtype: float64\n"
     ]
    }
   ],
   "source": [
    "# Calculate the percentage for each category in the 'Career_predicted_META' column\n",
    "career_percentages_meta = df['Career_predicted_META'].value_counts(normalize=True) * 100\n",
    "career_percentages_meta = career_percentages_meta.round(2)\n",
    "print(career_percentages_meta)"
   ]
  },
  {
   "cell_type": "markdown",
   "id": "ac451687",
   "metadata": {},
   "source": [
    "## Presentation"
   ]
  },
  {
   "cell_type": "code",
   "execution_count": 198,
   "id": "e83a6e1e",
   "metadata": {},
   "outputs": [
    {
     "data": {
      "application/vnd.microsoft.datawrangler.viewer.v0+json": {
       "columns": [
        {
         "name": "Career",
         "rawType": "object",
         "type": "string"
        },
        {
         "name": "count",
         "rawType": "int64",
         "type": "integer"
        }
       ],
       "ref": "8f1dbc29-bab7-4a6f-b8d9-a8c36ff96289",
       "rows": [
        [
         "Healthcare",
         "15"
        ],
        [
         "Scientist",
         "15"
        ],
        [
         "Engineer",
         "12"
        ],
        [
         "Manager",
         "11"
        ],
        [
         "Finance & Accounting",
         "9"
        ],
        [
         "Creative",
         "9"
        ],
        [
         "IT Specialist",
         "7"
        ],
        [
         "Law & Public Service",
         "7"
        ],
        [
         "Data Analyst",
         "6"
        ],
        [
         "Architect & Designer",
         "3"
        ],
        [
         "Sales & PR",
         "3"
        ],
        [
         "Social Services",
         "3"
        ],
        [
         "Teacher",
         "3"
        ]
       ],
       "shape": {
        "columns": 1,
        "rows": 13
       }
      },
      "text/plain": [
       "Career\n",
       "Healthcare              15\n",
       "Scientist               15\n",
       "Engineer                12\n",
       "Manager                 11\n",
       "Finance & Accounting     9\n",
       "Creative                 9\n",
       "IT Specialist            7\n",
       "Law & Public Service     7\n",
       "Data Analyst             6\n",
       "Architect & Designer     3\n",
       "Sales & PR               3\n",
       "Social Services          3\n",
       "Teacher                  3\n",
       "Name: count, dtype: int64"
      ]
     },
     "execution_count": 198,
     "metadata": {},
     "output_type": "execute_result"
    }
   ],
   "source": [
    "df_career['Career'].value_counts()"
   ]
  },
  {
   "cell_type": "code",
   "execution_count": 199,
   "id": "4fc7e235",
   "metadata": {},
   "outputs": [
    {
     "name": "stderr",
     "output_type": "stream",
     "text": [
      "C:\\Users\\modri\\AppData\\Local\\Temp\\ipykernel_13856\\2594695978.py:7: UserWarning: FigureCanvasAgg is non-interactive, and thus cannot be shown\n",
      "  plt.show()\n"
     ]
    }
   ],
   "source": [
    "\n",
    "\n",
    "df_career['Career'].value_counts().plot(kind='bar', figsize=(8, 5))\n",
    "plt.title('Career Distribution')\n",
    "plt.xlabel('Career')\n",
    "plt.ylabel('Count')\n",
    "plt.xticks(rotation=45, ha='right')\n",
    "plt.tight_layout()\n",
    "plt.show()"
   ]
  },
  {
   "cell_type": "code",
   "execution_count": 200,
   "id": "d7c99377",
   "metadata": {},
   "outputs": [
    {
     "name": "stderr",
     "output_type": "stream",
     "text": [
      "C:\\Users\\modri\\AppData\\Local\\Temp\\ipykernel_13856\\4175564286.py:11: UserWarning: FigureCanvasAgg is non-interactive, and thus cannot be shown\n",
      "  plt.show()\n"
     ]
    }
   ],
   "source": [
    "ax = df_career['Career'].value_counts().plot(\n",
    "    kind='bar', \n",
    "    figsize=(8, 5), \n",
    "    color=plt.cm.tab20.colors  \n",
    ")\n",
    "plt.title('Career Distribution')\n",
    "plt.xlabel('Career')\n",
    "plt.ylabel('Count')\n",
    "plt.xticks(rotation=45, ha='right')\n",
    "plt.tight_layout()\n",
    "plt.show()"
   ]
  },
  {
   "cell_type": "code",
   "execution_count": 201,
   "id": "64645e73",
   "metadata": {},
   "outputs": [
    {
     "name": "stderr",
     "output_type": "stream",
     "text": [
      "C:\\Users\\modri\\AppData\\Local\\Temp\\ipykernel_13856\\3114950605.py:4: FutureWarning: \n",
      "\n",
      "Passing `palette` without assigning `hue` is deprecated and will be removed in v0.14.0. Assign the `x` variable to `hue` and set `legend=False` for the same effect.\n",
      "\n",
      "  sns.countplot(data=df_career, x='Career', order=df_career['Career'].value_counts().index, palette='tab20')\n",
      "C:\\Users\\modri\\AppData\\Local\\Temp\\ipykernel_13856\\3114950605.py:10: UserWarning: FigureCanvasAgg is non-interactive, and thus cannot be shown\n",
      "  plt.show()\n"
     ]
    }
   ],
   "source": [
    "import seaborn as sns\n",
    "\n",
    "plt.figure(figsize=(8, 5))\n",
    "sns.countplot(data=df_career, x='Career', order=df_career['Career'].value_counts().index, palette='tab20')\n",
    "plt.title('Career Distribution')\n",
    "plt.xlabel('Career')\n",
    "plt.ylabel('Count')\n",
    "plt.xticks(rotation=45, ha='right')\n",
    "plt.tight_layout()\n",
    "plt.show()"
   ]
  },
  {
   "cell_type": "code",
   "execution_count": 202,
   "id": "7c01f128",
   "metadata": {},
   "outputs": [
    {
     "name": "stdout",
     "output_type": "stream",
     "text": [
      "['RandomForestClassifier', 'KNeighborsClassifier', 'SVC (Support Vector Machine)', 'XGBClassifier (XGBoost)', 'StackingClassifier (Meta-Model)', 'Single-Feature RandomForest Ensemble', 'KMeans (for unsupervised clustering)']\n"
     ]
    }
   ],
   "source": [
    "ml_models = [\n",
    "    \"RandomForestClassifier\",\n",
    "    \"KNeighborsClassifier\",\n",
    "    \"SVC (Support Vector Machine)\",\n",
    "    \"XGBClassifier (XGBoost)\",\n",
    "    \"StackingClassifier (Meta-Model)\",\n",
    "    \"Single-Feature RandomForest Ensemble\",\n",
    "    \"KMeans (for unsupervised clustering)\"\n",
    "]\n",
    "print(ml_models)"
   ]
  },
  {
   "cell_type": "code",
   "execution_count": 203,
   "id": "a0c6201c",
   "metadata": {},
   "outputs": [
    {
     "name": "stdout",
     "output_type": "stream",
     "text": [
      "1300\n"
     ]
    }
   ],
   "source": [
    "print(len(df_synthetic_full))"
   ]
  },
  {
   "cell_type": "markdown",
   "id": "9e6f870b",
   "metadata": {},
   "source": [
    "# Homepage"
   ]
  },
  {
   "cell_type": "code",
   "execution_count": 204,
   "id": "2190e5c0",
   "metadata": {},
   "outputs": [],
   "source": [
    "\n",
    "\n",
    "# Save the single-feature ensemble models dictionary to a file\n",
    "#joblib.dump(models, 'career_single_feature_ensemble.pkl')"
   ]
  },
  {
   "cell_type": "code",
   "execution_count": 205,
   "id": "081f2e39",
   "metadata": {},
   "outputs": [
    {
     "name": "stdout",
     "output_type": "stream",
     "text": [
      "Predicted career: Sales & PR\n"
     ]
    },
    {
     "name": "stderr",
     "output_type": "stream",
     "text": [
      "c:\\Users\\modri\\AppData\\Local\\Programs\\Python\\Python313\\Lib\\site-packages\\sklearn\\utils\\validation.py:2739: UserWarning: X does not have valid feature names, but RandomForestClassifier was fitted with feature names\n",
      "  warnings.warn(\n",
      "c:\\Users\\modri\\AppData\\Local\\Programs\\Python\\Python313\\Lib\\site-packages\\sklearn\\utils\\validation.py:2739: UserWarning: X does not have valid feature names, but RandomForestClassifier was fitted with feature names\n",
      "  warnings.warn(\n",
      "c:\\Users\\modri\\AppData\\Local\\Programs\\Python\\Python313\\Lib\\site-packages\\sklearn\\utils\\validation.py:2739: UserWarning: X does not have valid feature names, but RandomForestClassifier was fitted with feature names\n",
      "  warnings.warn(\n",
      "c:\\Users\\modri\\AppData\\Local\\Programs\\Python\\Python313\\Lib\\site-packages\\sklearn\\utils\\validation.py:2739: UserWarning: X does not have valid feature names, but RandomForestClassifier was fitted with feature names\n",
      "  warnings.warn(\n",
      "c:\\Users\\modri\\AppData\\Local\\Programs\\Python\\Python313\\Lib\\site-packages\\sklearn\\utils\\validation.py:2739: UserWarning: X does not have valid feature names, but RandomForestClassifier was fitted with feature names\n",
      "  warnings.warn(\n"
     ]
    }
   ],
   "source": [
    "#tryout model sample\n",
    "# Load the single-feature ensemble models dictionary\n",
    "model = joblib.load('career_single_feature_ensemble.pkl')\n",
    "\n",
    "# Prepare sample input\n",
    "sample_input = [[4.7, 6.8, 4.6, 7.9, 8.3]]\n",
    "feature_list = ['E_score', 'N_score', 'C_score', 'A_score', 'O_score']\n",
    "\n",
    "# Get predicted probabilities from each single-feature model\n",
    "probas = []\n",
    "for i, feature in enumerate(feature_list):\n",
    "    proba = model[feature].predict_proba([[sample_input[0][i]]])\n",
    "    probas.append(proba)\n",
    "\n",
    "# Combine probabilities by averaging\n",
    "combined_proba = np.mean(probas, axis=0)\n",
    "\n",
    "# Get final prediction\n",
    "final_pred = np.argmax(combined_proba, axis=1)\n",
    "class_names = model[feature_list[0]].classes_\n",
    "predicted_label = class_names[final_pred[0]]\n",
    "\n",
    "print(\"Predicted career:\", predicted_label)"
   ]
  },
  {
   "cell_type": "code",
   "execution_count": null,
   "id": "f9986fdc",
   "metadata": {},
   "outputs": [],
   "source": [
    "\n",
    "#import joblib\n",
    "\n",
    "#models = joblib.load('career_single_feature_ensemble.pkl')"
   ]
  },
  {
   "cell_type": "code",
   "execution_count": null,
   "id": "92906fe0",
   "metadata": {},
   "outputs": [
    {
     "name": "stderr",
     "output_type": "stream",
     "text": [
      "2025-06-11 17:35:18.740 Thread 'MainThread': missing ScriptRunContext! This warning can be ignored when running in bare mode.\n",
      "2025-06-11 17:35:18.744 Thread 'MainThread': missing ScriptRunContext! This warning can be ignored when running in bare mode.\n",
      "2025-06-11 17:35:18.749 Thread 'MainThread': missing ScriptRunContext! This warning can be ignored when running in bare mode.\n",
      "2025-06-11 17:35:18.750 Thread 'MainThread': missing ScriptRunContext! This warning can be ignored when running in bare mode.\n",
      "2025-06-11 17:35:18.751 Thread 'MainThread': missing ScriptRunContext! This warning can be ignored when running in bare mode.\n",
      "2025-06-11 17:35:18.751 Thread 'MainThread': missing ScriptRunContext! This warning can be ignored when running in bare mode.\n",
      "2025-06-11 17:35:18.755 Thread 'MainThread': missing ScriptRunContext! This warning can be ignored when running in bare mode.\n",
      "2025-06-11 17:35:18.757 Thread 'MainThread': missing ScriptRunContext! This warning can be ignored when running in bare mode.\n",
      "2025-06-11 17:35:18.758 Thread 'MainThread': missing ScriptRunContext! This warning can be ignored when running in bare mode.\n",
      "2025-06-11 17:35:18.762 Thread 'MainThread': missing ScriptRunContext! This warning can be ignored when running in bare mode.\n",
      "2025-06-11 17:35:18.763 Thread 'MainThread': missing ScriptRunContext! This warning can be ignored when running in bare mode.\n",
      "2025-06-11 17:35:18.765 Thread 'MainThread': missing ScriptRunContext! This warning can be ignored when running in bare mode.\n",
      "2025-06-11 17:35:18.766 Thread 'MainThread': missing ScriptRunContext! This warning can be ignored when running in bare mode.\n",
      "2025-06-11 17:35:18.768 Thread 'MainThread': missing ScriptRunContext! This warning can be ignored when running in bare mode.\n",
      "2025-06-11 17:35:18.769 Thread 'MainThread': missing ScriptRunContext! This warning can be ignored when running in bare mode.\n",
      "2025-06-11 17:35:18.769 Thread 'MainThread': missing ScriptRunContext! This warning can be ignored when running in bare mode.\n",
      "2025-06-11 17:35:18.770 Thread 'MainThread': missing ScriptRunContext! This warning can be ignored when running in bare mode.\n",
      "2025-06-11 17:35:18.771 Thread 'MainThread': missing ScriptRunContext! This warning can be ignored when running in bare mode.\n",
      "2025-06-11 17:35:18.771 Thread 'MainThread': missing ScriptRunContext! This warning can be ignored when running in bare mode.\n",
      "2025-06-11 17:35:18.772 Thread 'MainThread': missing ScriptRunContext! This warning can be ignored when running in bare mode.\n",
      "2025-06-11 17:35:18.773 Thread 'MainThread': missing ScriptRunContext! This warning can be ignored when running in bare mode.\n",
      "2025-06-11 17:35:18.774 Thread 'MainThread': missing ScriptRunContext! This warning can be ignored when running in bare mode.\n",
      "2025-06-11 17:35:18.775 Thread 'MainThread': missing ScriptRunContext! This warning can be ignored when running in bare mode.\n",
      "2025-06-11 17:35:18.775 Thread 'MainThread': missing ScriptRunContext! This warning can be ignored when running in bare mode.\n",
      "2025-06-11 17:35:18.776 Thread 'MainThread': missing ScriptRunContext! This warning can be ignored when running in bare mode.\n",
      "2025-06-11 17:35:18.777 Thread 'MainThread': missing ScriptRunContext! This warning can be ignored when running in bare mode.\n",
      "2025-06-11 17:35:18.778 Thread 'MainThread': missing ScriptRunContext! This warning can be ignored when running in bare mode.\n",
      "2025-06-11 17:35:18.778 Thread 'MainThread': missing ScriptRunContext! This warning can be ignored when running in bare mode.\n",
      "2025-06-11 17:35:18.779 Thread 'MainThread': missing ScriptRunContext! This warning can be ignored when running in bare mode.\n",
      "2025-06-11 17:35:18.780 Thread 'MainThread': missing ScriptRunContext! This warning can be ignored when running in bare mode.\n",
      "2025-06-11 17:35:18.782 Thread 'MainThread': missing ScriptRunContext! This warning can be ignored when running in bare mode.\n",
      "2025-06-11 17:35:18.783 Thread 'MainThread': missing ScriptRunContext! This warning can be ignored when running in bare mode.\n",
      "2025-06-11 17:35:18.784 Thread 'MainThread': missing ScriptRunContext! This warning can be ignored when running in bare mode.\n",
      "2025-06-11 17:35:18.785 Thread 'MainThread': missing ScriptRunContext! This warning can be ignored when running in bare mode.\n",
      "2025-06-11 17:35:18.786 Thread 'MainThread': missing ScriptRunContext! This warning can be ignored when running in bare mode.\n",
      "2025-06-11 17:35:18.787 Thread 'MainThread': missing ScriptRunContext! This warning can be ignored when running in bare mode.\n",
      "2025-06-11 17:35:18.788 Thread 'MainThread': missing ScriptRunContext! This warning can be ignored when running in bare mode.\n",
      "2025-06-11 17:35:18.789 Thread 'MainThread': missing ScriptRunContext! This warning can be ignored when running in bare mode.\n",
      "2025-06-11 17:35:18.790 Thread 'MainThread': missing ScriptRunContext! This warning can be ignored when running in bare mode.\n",
      "2025-06-11 17:35:18.791 Thread 'MainThread': missing ScriptRunContext! This warning can be ignored when running in bare mode.\n",
      "2025-06-11 17:35:18.792 Thread 'MainThread': missing ScriptRunContext! This warning can be ignored when running in bare mode.\n",
      "2025-06-11 17:35:18.793 Thread 'MainThread': missing ScriptRunContext! This warning can be ignored when running in bare mode.\n",
      "2025-06-11 17:35:18.794 Thread 'MainThread': missing ScriptRunContext! This warning can be ignored when running in bare mode.\n",
      "2025-06-11 17:35:18.795 Thread 'MainThread': missing ScriptRunContext! This warning can be ignored when running in bare mode.\n",
      "2025-06-11 17:35:18.795 Thread 'MainThread': missing ScriptRunContext! This warning can be ignored when running in bare mode.\n",
      "2025-06-11 17:35:18.797 Thread 'MainThread': missing ScriptRunContext! This warning can be ignored when running in bare mode.\n",
      "2025-06-11 17:35:18.798 Thread 'MainThread': missing ScriptRunContext! This warning can be ignored when running in bare mode.\n",
      "2025-06-11 17:35:18.799 Thread 'MainThread': missing ScriptRunContext! This warning can be ignored when running in bare mode.\n",
      "2025-06-11 17:35:18.800 Thread 'MainThread': missing ScriptRunContext! This warning can be ignored when running in bare mode.\n",
      "2025-06-11 17:35:18.801 Thread 'MainThread': missing ScriptRunContext! This warning can be ignored when running in bare mode.\n",
      "2025-06-11 17:35:18.802 Thread 'MainThread': missing ScriptRunContext! This warning can be ignored when running in bare mode.\n",
      "2025-06-11 17:35:18.802 Thread 'MainThread': missing ScriptRunContext! This warning can be ignored when running in bare mode.\n",
      "2025-06-11 17:35:18.804 Thread 'MainThread': missing ScriptRunContext! This warning can be ignored when running in bare mode.\n",
      "2025-06-11 17:35:18.804 Thread 'MainThread': missing ScriptRunContext! This warning can be ignored when running in bare mode.\n",
      "2025-06-11 17:35:18.805 Thread 'MainThread': missing ScriptRunContext! This warning can be ignored when running in bare mode.\n",
      "2025-06-11 17:35:18.806 Thread 'MainThread': missing ScriptRunContext! This warning can be ignored when running in bare mode.\n",
      "2025-06-11 17:35:18.807 Thread 'MainThread': missing ScriptRunContext! This warning can be ignored when running in bare mode.\n",
      "2025-06-11 17:35:18.807 Thread 'MainThread': missing ScriptRunContext! This warning can be ignored when running in bare mode.\n",
      "2025-06-11 17:35:18.808 Thread 'MainThread': missing ScriptRunContext! This warning can be ignored when running in bare mode.\n",
      "2025-06-11 17:35:18.809 Thread 'MainThread': missing ScriptRunContext! This warning can be ignored when running in bare mode.\n",
      "2025-06-11 17:35:18.809 Thread 'MainThread': missing ScriptRunContext! This warning can be ignored when running in bare mode.\n",
      "2025-06-11 17:35:18.810 Thread 'MainThread': missing ScriptRunContext! This warning can be ignored when running in bare mode.\n",
      "2025-06-11 17:35:18.811 Thread 'MainThread': missing ScriptRunContext! This warning can be ignored when running in bare mode.\n",
      "2025-06-11 17:35:18.812 Thread 'MainThread': missing ScriptRunContext! This warning can be ignored when running in bare mode.\n",
      "2025-06-11 17:35:18.813 Thread 'MainThread': missing ScriptRunContext! This warning can be ignored when running in bare mode.\n",
      "2025-06-11 17:35:18.815 Thread 'MainThread': missing ScriptRunContext! This warning can be ignored when running in bare mode.\n",
      "2025-06-11 17:35:18.817 Thread 'MainThread': missing ScriptRunContext! This warning can be ignored when running in bare mode.\n",
      "2025-06-11 17:35:18.818 Thread 'MainThread': missing ScriptRunContext! This warning can be ignored when running in bare mode.\n",
      "2025-06-11 17:35:18.819 Thread 'MainThread': missing ScriptRunContext! This warning can be ignored when running in bare mode.\n",
      "2025-06-11 17:35:18.820 Thread 'MainThread': missing ScriptRunContext! This warning can be ignored when running in bare mode.\n",
      "2025-06-11 17:35:18.821 Thread 'MainThread': missing ScriptRunContext! This warning can be ignored when running in bare mode.\n",
      "2025-06-11 17:35:18.821 Thread 'MainThread': missing ScriptRunContext! This warning can be ignored when running in bare mode.\n",
      "2025-06-11 17:35:18.822 Thread 'MainThread': missing ScriptRunContext! This warning can be ignored when running in bare mode.\n",
      "2025-06-11 17:35:18.823 Thread 'MainThread': missing ScriptRunContext! This warning can be ignored when running in bare mode.\n",
      "2025-06-11 17:35:18.824 Thread 'MainThread': missing ScriptRunContext! This warning can be ignored when running in bare mode.\n",
      "2025-06-11 17:35:18.824 Thread 'MainThread': missing ScriptRunContext! This warning can be ignored when running in bare mode.\n",
      "2025-06-11 17:35:18.825 Thread 'MainThread': missing ScriptRunContext! This warning can be ignored when running in bare mode.\n",
      "2025-06-11 17:35:18.826 Thread 'MainThread': missing ScriptRunContext! This warning can be ignored when running in bare mode.\n",
      "2025-06-11 17:35:18.826 Thread 'MainThread': missing ScriptRunContext! This warning can be ignored when running in bare mode.\n",
      "2025-06-11 17:35:18.828 Thread 'MainThread': missing ScriptRunContext! This warning can be ignored when running in bare mode.\n",
      "2025-06-11 17:35:18.830 Thread 'MainThread': missing ScriptRunContext! This warning can be ignored when running in bare mode.\n",
      "2025-06-11 17:35:18.830 Thread 'MainThread': missing ScriptRunContext! This warning can be ignored when running in bare mode.\n",
      "2025-06-11 17:35:18.832 Thread 'MainThread': missing ScriptRunContext! This warning can be ignored when running in bare mode.\n",
      "2025-06-11 17:35:18.832 Thread 'MainThread': missing ScriptRunContext! This warning can be ignored when running in bare mode.\n",
      "2025-06-11 17:35:18.833 Thread 'MainThread': missing ScriptRunContext! This warning can be ignored when running in bare mode.\n",
      "2025-06-11 17:35:18.834 Thread 'MainThread': missing ScriptRunContext! This warning can be ignored when running in bare mode.\n",
      "2025-06-11 17:35:18.835 Thread 'MainThread': missing ScriptRunContext! This warning can be ignored when running in bare mode.\n",
      "2025-06-11 17:35:18.836 Thread 'MainThread': missing ScriptRunContext! This warning can be ignored when running in bare mode.\n",
      "2025-06-11 17:35:18.836 Thread 'MainThread': missing ScriptRunContext! This warning can be ignored when running in bare mode.\n",
      "2025-06-11 17:35:18.837 Thread 'MainThread': missing ScriptRunContext! This warning can be ignored when running in bare mode.\n",
      "2025-06-11 17:35:18.838 Thread 'MainThread': missing ScriptRunContext! This warning can be ignored when running in bare mode.\n",
      "2025-06-11 17:35:18.838 Thread 'MainThread': missing ScriptRunContext! This warning can be ignored when running in bare mode.\n",
      "2025-06-11 17:35:18.839 Thread 'MainThread': missing ScriptRunContext! This warning can be ignored when running in bare mode.\n",
      "2025-06-11 17:35:18.840 Thread 'MainThread': missing ScriptRunContext! This warning can be ignored when running in bare mode.\n",
      "2025-06-11 17:35:18.841 Thread 'MainThread': missing ScriptRunContext! This warning can be ignored when running in bare mode.\n",
      "2025-06-11 17:35:18.842 Thread 'MainThread': missing ScriptRunContext! This warning can be ignored when running in bare mode.\n",
      "2025-06-11 17:35:18.842 Thread 'MainThread': missing ScriptRunContext! This warning can be ignored when running in bare mode.\n",
      "2025-06-11 17:35:18.843 Thread 'MainThread': missing ScriptRunContext! This warning can be ignored when running in bare mode.\n",
      "2025-06-11 17:35:18.844 Thread 'MainThread': missing ScriptRunContext! This warning can be ignored when running in bare mode.\n",
      "2025-06-11 17:35:18.845 Thread 'MainThread': missing ScriptRunContext! This warning can be ignored when running in bare mode.\n",
      "2025-06-11 17:35:18.847 Thread 'MainThread': missing ScriptRunContext! This warning can be ignored when running in bare mode.\n",
      "2025-06-11 17:35:18.849 Thread 'MainThread': missing ScriptRunContext! This warning can be ignored when running in bare mode.\n",
      "2025-06-11 17:35:18.849 Thread 'MainThread': missing ScriptRunContext! This warning can be ignored when running in bare mode.\n",
      "2025-06-11 17:35:18.850 Thread 'MainThread': missing ScriptRunContext! This warning can be ignored when running in bare mode.\n",
      "2025-06-11 17:35:18.852 Thread 'MainThread': missing ScriptRunContext! This warning can be ignored when running in bare mode.\n",
      "2025-06-11 17:35:18.852 Thread 'MainThread': missing ScriptRunContext! This warning can be ignored when running in bare mode.\n",
      "2025-06-11 17:35:18.853 Thread 'MainThread': missing ScriptRunContext! This warning can be ignored when running in bare mode.\n",
      "2025-06-11 17:35:18.854 Thread 'MainThread': missing ScriptRunContext! This warning can be ignored when running in bare mode.\n",
      "2025-06-11 17:35:18.855 Thread 'MainThread': missing ScriptRunContext! This warning can be ignored when running in bare mode.\n",
      "2025-06-11 17:35:18.856 Thread 'MainThread': missing ScriptRunContext! This warning can be ignored when running in bare mode.\n",
      "2025-06-11 17:35:18.856 Thread 'MainThread': missing ScriptRunContext! This warning can be ignored when running in bare mode.\n",
      "2025-06-11 17:35:18.857 Thread 'MainThread': missing ScriptRunContext! This warning can be ignored when running in bare mode.\n",
      "2025-06-11 17:35:18.858 Thread 'MainThread': missing ScriptRunContext! This warning can be ignored when running in bare mode.\n",
      "2025-06-11 17:35:18.859 Thread 'MainThread': missing ScriptRunContext! This warning can be ignored when running in bare mode.\n",
      "2025-06-11 17:35:18.860 Thread 'MainThread': missing ScriptRunContext! This warning can be ignored when running in bare mode.\n",
      "2025-06-11 17:35:18.861 Thread 'MainThread': missing ScriptRunContext! This warning can be ignored when running in bare mode.\n",
      "2025-06-11 17:35:18.862 Thread 'MainThread': missing ScriptRunContext! This warning can be ignored when running in bare mode.\n",
      "2025-06-11 17:35:18.863 Thread 'MainThread': missing ScriptRunContext! This warning can be ignored when running in bare mode.\n",
      "2025-06-11 17:35:18.865 Thread 'MainThread': missing ScriptRunContext! This warning can be ignored when running in bare mode.\n",
      "2025-06-11 17:35:18.867 Thread 'MainThread': missing ScriptRunContext! This warning can be ignored when running in bare mode.\n",
      "2025-06-11 17:35:18.867 Thread 'MainThread': missing ScriptRunContext! This warning can be ignored when running in bare mode.\n",
      "2025-06-11 17:35:18.868 Thread 'MainThread': missing ScriptRunContext! This warning can be ignored when running in bare mode.\n",
      "2025-06-11 17:35:18.869 Thread 'MainThread': missing ScriptRunContext! This warning can be ignored when running in bare mode.\n",
      "2025-06-11 17:35:18.870 Thread 'MainThread': missing ScriptRunContext! This warning can be ignored when running in bare mode.\n",
      "2025-06-11 17:35:18.871 Thread 'MainThread': missing ScriptRunContext! This warning can be ignored when running in bare mode.\n",
      "2025-06-11 17:35:18.872 Thread 'MainThread': missing ScriptRunContext! This warning can be ignored when running in bare mode.\n",
      "2025-06-11 17:35:18.872 Thread 'MainThread': missing ScriptRunContext! This warning can be ignored when running in bare mode.\n",
      "2025-06-11 17:35:18.873 Thread 'MainThread': missing ScriptRunContext! This warning can be ignored when running in bare mode.\n",
      "2025-06-11 17:35:18.874 Thread 'MainThread': missing ScriptRunContext! This warning can be ignored when running in bare mode.\n",
      "2025-06-11 17:35:18.875 Thread 'MainThread': missing ScriptRunContext! This warning can be ignored when running in bare mode.\n",
      "2025-06-11 17:35:18.876 Thread 'MainThread': missing ScriptRunContext! This warning can be ignored when running in bare mode.\n",
      "2025-06-11 17:35:18.877 Thread 'MainThread': missing ScriptRunContext! This warning can be ignored when running in bare mode.\n",
      "2025-06-11 17:35:18.877 Thread 'MainThread': missing ScriptRunContext! This warning can be ignored when running in bare mode.\n",
      "2025-06-11 17:35:18.878 Thread 'MainThread': missing ScriptRunContext! This warning can be ignored when running in bare mode.\n",
      "2025-06-11 17:35:18.880 Thread 'MainThread': missing ScriptRunContext! This warning can be ignored when running in bare mode.\n",
      "2025-06-11 17:35:18.882 Thread 'MainThread': missing ScriptRunContext! This warning can be ignored when running in bare mode.\n",
      "2025-06-11 17:35:18.883 Thread 'MainThread': missing ScriptRunContext! This warning can be ignored when running in bare mode.\n",
      "2025-06-11 17:35:18.885 Thread 'MainThread': missing ScriptRunContext! This warning can be ignored when running in bare mode.\n",
      "2025-06-11 17:35:18.886 Thread 'MainThread': missing ScriptRunContext! This warning can be ignored when running in bare mode.\n",
      "2025-06-11 17:35:18.887 Thread 'MainThread': missing ScriptRunContext! This warning can be ignored when running in bare mode.\n",
      "2025-06-11 17:35:18.888 Thread 'MainThread': missing ScriptRunContext! This warning can be ignored when running in bare mode.\n",
      "2025-06-11 17:35:18.889 Thread 'MainThread': missing ScriptRunContext! This warning can be ignored when running in bare mode.\n",
      "2025-06-11 17:35:18.890 Thread 'MainThread': missing ScriptRunContext! This warning can be ignored when running in bare mode.\n",
      "2025-06-11 17:35:18.890 Thread 'MainThread': missing ScriptRunContext! This warning can be ignored when running in bare mode.\n",
      "2025-06-11 17:35:18.891 Thread 'MainThread': missing ScriptRunContext! This warning can be ignored when running in bare mode.\n",
      "2025-06-11 17:35:18.892 Thread 'MainThread': missing ScriptRunContext! This warning can be ignored when running in bare mode.\n",
      "2025-06-11 17:35:18.893 Thread 'MainThread': missing ScriptRunContext! This warning can be ignored when running in bare mode.\n",
      "2025-06-11 17:35:18.894 Thread 'MainThread': missing ScriptRunContext! This warning can be ignored when running in bare mode.\n",
      "2025-06-11 17:35:18.894 Thread 'MainThread': missing ScriptRunContext! This warning can be ignored when running in bare mode.\n",
      "2025-06-11 17:35:18.895 Thread 'MainThread': missing ScriptRunContext! This warning can be ignored when running in bare mode.\n",
      "2025-06-11 17:35:18.898 Thread 'MainThread': missing ScriptRunContext! This warning can be ignored when running in bare mode.\n",
      "2025-06-11 17:35:18.899 Thread 'MainThread': missing ScriptRunContext! This warning can be ignored when running in bare mode.\n",
      "2025-06-11 17:35:18.901 Thread 'MainThread': missing ScriptRunContext! This warning can be ignored when running in bare mode.\n",
      "2025-06-11 17:35:18.901 Thread 'MainThread': missing ScriptRunContext! This warning can be ignored when running in bare mode.\n",
      "2025-06-11 17:35:18.903 Thread 'MainThread': missing ScriptRunContext! This warning can be ignored when running in bare mode.\n",
      "2025-06-11 17:35:18.904 Thread 'MainThread': missing ScriptRunContext! This warning can be ignored when running in bare mode.\n",
      "2025-06-11 17:35:18.905 Thread 'MainThread': missing ScriptRunContext! This warning can be ignored when running in bare mode.\n",
      "2025-06-11 17:35:18.906 Thread 'MainThread': missing ScriptRunContext! This warning can be ignored when running in bare mode.\n",
      "2025-06-11 17:35:18.907 Thread 'MainThread': missing ScriptRunContext! This warning can be ignored when running in bare mode.\n",
      "2025-06-11 17:35:18.908 Thread 'MainThread': missing ScriptRunContext! This warning can be ignored when running in bare mode.\n",
      "2025-06-11 17:35:18.908 Thread 'MainThread': missing ScriptRunContext! This warning can be ignored when running in bare mode.\n",
      "2025-06-11 17:35:18.909 Thread 'MainThread': missing ScriptRunContext! This warning can be ignored when running in bare mode.\n",
      "2025-06-11 17:35:18.910 Thread 'MainThread': missing ScriptRunContext! This warning can be ignored when running in bare mode.\n",
      "2025-06-11 17:35:18.911 Thread 'MainThread': missing ScriptRunContext! This warning can be ignored when running in bare mode.\n",
      "2025-06-11 17:35:18.913 Thread 'MainThread': missing ScriptRunContext! This warning can be ignored when running in bare mode.\n",
      "2025-06-11 17:35:18.914 Thread 'MainThread': missing ScriptRunContext! This warning can be ignored when running in bare mode.\n",
      "2025-06-11 17:35:18.916 Thread 'MainThread': missing ScriptRunContext! This warning can be ignored when running in bare mode.\n",
      "2025-06-11 17:35:18.917 Thread 'MainThread': missing ScriptRunContext! This warning can be ignored when running in bare mode.\n",
      "2025-06-11 17:35:18.917 Thread 'MainThread': missing ScriptRunContext! This warning can be ignored when running in bare mode.\n",
      "2025-06-11 17:35:18.918 Thread 'MainThread': missing ScriptRunContext! This warning can be ignored when running in bare mode.\n",
      "2025-06-11 17:35:18.919 Thread 'MainThread': missing ScriptRunContext! This warning can be ignored when running in bare mode.\n",
      "2025-06-11 17:35:18.920 Thread 'MainThread': missing ScriptRunContext! This warning can be ignored when running in bare mode.\n",
      "2025-06-11 17:35:18.921 Thread 'MainThread': missing ScriptRunContext! This warning can be ignored when running in bare mode.\n",
      "2025-06-11 17:35:18.922 Thread 'MainThread': missing ScriptRunContext! This warning can be ignored when running in bare mode.\n",
      "2025-06-11 17:35:18.923 Thread 'MainThread': missing ScriptRunContext! This warning can be ignored when running in bare mode.\n",
      "2025-06-11 17:35:18.923 Thread 'MainThread': missing ScriptRunContext! This warning can be ignored when running in bare mode.\n",
      "2025-06-11 17:35:18.924 Thread 'MainThread': missing ScriptRunContext! This warning can be ignored when running in bare mode.\n",
      "2025-06-11 17:35:18.925 Thread 'MainThread': missing ScriptRunContext! This warning can be ignored when running in bare mode.\n",
      "2025-06-11 17:35:18.925 Thread 'MainThread': missing ScriptRunContext! This warning can be ignored when running in bare mode.\n",
      "2025-06-11 17:35:18.926 Thread 'MainThread': missing ScriptRunContext! This warning can be ignored when running in bare mode.\n",
      "2025-06-11 17:35:18.927 Thread 'MainThread': missing ScriptRunContext! This warning can be ignored when running in bare mode.\n",
      "2025-06-11 17:35:18.927 Thread 'MainThread': missing ScriptRunContext! This warning can be ignored when running in bare mode.\n",
      "2025-06-11 17:35:18.928 Thread 'MainThread': missing ScriptRunContext! This warning can be ignored when running in bare mode.\n",
      "2025-06-11 17:35:18.930 Thread 'MainThread': missing ScriptRunContext! This warning can be ignored when running in bare mode.\n",
      "2025-06-11 17:35:18.931 Thread 'MainThread': missing ScriptRunContext! This warning can be ignored when running in bare mode.\n",
      "2025-06-11 17:35:18.933 Thread 'MainThread': missing ScriptRunContext! This warning can be ignored when running in bare mode.\n",
      "2025-06-11 17:35:18.933 Thread 'MainThread': missing ScriptRunContext! This warning can be ignored when running in bare mode.\n",
      "2025-06-11 17:35:18.934 Thread 'MainThread': missing ScriptRunContext! This warning can be ignored when running in bare mode.\n",
      "2025-06-11 17:35:18.934 Thread 'MainThread': missing ScriptRunContext! This warning can be ignored when running in bare mode.\n",
      "2025-06-11 17:35:18.935 Thread 'MainThread': missing ScriptRunContext! This warning can be ignored when running in bare mode.\n",
      "2025-06-11 17:35:18.936 Thread 'MainThread': missing ScriptRunContext! This warning can be ignored when running in bare mode.\n",
      "2025-06-11 17:35:18.937 Thread 'MainThread': missing ScriptRunContext! This warning can be ignored when running in bare mode.\n",
      "2025-06-11 17:35:18.937 Thread 'MainThread': missing ScriptRunContext! This warning can be ignored when running in bare mode.\n",
      "2025-06-11 17:35:18.938 Thread 'MainThread': missing ScriptRunContext! This warning can be ignored when running in bare mode.\n",
      "2025-06-11 17:35:18.939 Thread 'MainThread': missing ScriptRunContext! This warning can be ignored when running in bare mode.\n",
      "2025-06-11 17:35:18.940 Thread 'MainThread': missing ScriptRunContext! This warning can be ignored when running in bare mode.\n",
      "2025-06-11 17:35:18.941 Thread 'MainThread': missing ScriptRunContext! This warning can be ignored when running in bare mode.\n",
      "2025-06-11 17:35:18.941 Thread 'MainThread': missing ScriptRunContext! This warning can be ignored when running in bare mode.\n",
      "2025-06-11 17:35:18.942 Thread 'MainThread': missing ScriptRunContext! This warning can be ignored when running in bare mode.\n",
      "2025-06-11 17:35:18.943 Thread 'MainThread': missing ScriptRunContext! This warning can be ignored when running in bare mode.\n",
      "2025-06-11 17:35:18.943 Thread 'MainThread': missing ScriptRunContext! This warning can be ignored when running in bare mode.\n",
      "2025-06-11 17:35:18.944 Thread 'MainThread': missing ScriptRunContext! This warning can be ignored when running in bare mode.\n",
      "2025-06-11 17:35:18.945 Thread 'MainThread': missing ScriptRunContext! This warning can be ignored when running in bare mode.\n",
      "2025-06-11 17:35:18.946 Thread 'MainThread': missing ScriptRunContext! This warning can be ignored when running in bare mode.\n",
      "2025-06-11 17:35:18.946 Thread 'MainThread': missing ScriptRunContext! This warning can be ignored when running in bare mode.\n",
      "2025-06-11 17:35:18.947 Thread 'MainThread': missing ScriptRunContext! This warning can be ignored when running in bare mode.\n",
      "2025-06-11 17:35:18.949 Thread 'MainThread': missing ScriptRunContext! This warning can be ignored when running in bare mode.\n",
      "2025-06-11 17:35:18.949 Thread 'MainThread': missing ScriptRunContext! This warning can be ignored when running in bare mode.\n",
      "2025-06-11 17:35:18.950 Thread 'MainThread': missing ScriptRunContext! This warning can be ignored when running in bare mode.\n",
      "2025-06-11 17:35:18.951 Thread 'MainThread': missing ScriptRunContext! This warning can be ignored when running in bare mode.\n",
      "2025-06-11 17:35:18.952 Thread 'MainThread': missing ScriptRunContext! This warning can be ignored when running in bare mode.\n",
      "2025-06-11 17:35:18.952 Thread 'MainThread': missing ScriptRunContext! This warning can be ignored when running in bare mode.\n",
      "2025-06-11 17:35:18.953 Thread 'MainThread': missing ScriptRunContext! This warning can be ignored when running in bare mode.\n",
      "2025-06-11 17:35:18.953 Thread 'MainThread': missing ScriptRunContext! This warning can be ignored when running in bare mode.\n",
      "2025-06-11 17:35:18.954 Thread 'MainThread': missing ScriptRunContext! This warning can be ignored when running in bare mode.\n",
      "2025-06-11 17:35:18.955 Thread 'MainThread': missing ScriptRunContext! This warning can be ignored when running in bare mode.\n",
      "2025-06-11 17:35:18.955 Thread 'MainThread': missing ScriptRunContext! This warning can be ignored when running in bare mode.\n",
      "2025-06-11 17:35:18.956 Thread 'MainThread': missing ScriptRunContext! This warning can be ignored when running in bare mode.\n",
      "2025-06-11 17:35:18.957 Thread 'MainThread': missing ScriptRunContext! This warning can be ignored when running in bare mode.\n",
      "2025-06-11 17:35:18.957 Thread 'MainThread': missing ScriptRunContext! This warning can be ignored when running in bare mode.\n",
      "2025-06-11 17:35:18.958 Thread 'MainThread': missing ScriptRunContext! This warning can be ignored when running in bare mode.\n",
      "2025-06-11 17:35:18.958 Thread 'MainThread': missing ScriptRunContext! This warning can be ignored when running in bare mode.\n",
      "2025-06-11 17:35:18.959 Thread 'MainThread': missing ScriptRunContext! This warning can be ignored when running in bare mode.\n",
      "2025-06-11 17:35:18.960 Thread 'MainThread': missing ScriptRunContext! This warning can be ignored when running in bare mode.\n",
      "2025-06-11 17:35:18.961 Thread 'MainThread': missing ScriptRunContext! This warning can be ignored when running in bare mode.\n",
      "2025-06-11 17:35:18.962 Thread 'MainThread': missing ScriptRunContext! This warning can be ignored when running in bare mode.\n",
      "2025-06-11 17:35:18.963 Thread 'MainThread': missing ScriptRunContext! This warning can be ignored when running in bare mode.\n",
      "2025-06-11 17:35:18.964 Thread 'MainThread': missing ScriptRunContext! This warning can be ignored when running in bare mode.\n",
      "2025-06-11 17:35:18.966 Thread 'MainThread': missing ScriptRunContext! This warning can be ignored when running in bare mode.\n",
      "2025-06-11 17:35:18.967 Thread 'MainThread': missing ScriptRunContext! This warning can be ignored when running in bare mode.\n",
      "2025-06-11 17:35:18.967 Thread 'MainThread': missing ScriptRunContext! This warning can be ignored when running in bare mode.\n",
      "2025-06-11 17:35:18.968 Thread 'MainThread': missing ScriptRunContext! This warning can be ignored when running in bare mode.\n",
      "2025-06-11 17:35:18.969 Thread 'MainThread': missing ScriptRunContext! This warning can be ignored when running in bare mode.\n",
      "2025-06-11 17:35:18.970 Thread 'MainThread': missing ScriptRunContext! This warning can be ignored when running in bare mode.\n",
      "2025-06-11 17:35:18.971 Thread 'MainThread': missing ScriptRunContext! This warning can be ignored when running in bare mode.\n",
      "2025-06-11 17:35:18.973 Thread 'MainThread': missing ScriptRunContext! This warning can be ignored when running in bare mode.\n",
      "2025-06-11 17:35:18.974 Thread 'MainThread': missing ScriptRunContext! This warning can be ignored when running in bare mode.\n",
      "2025-06-11 17:35:18.975 Thread 'MainThread': missing ScriptRunContext! This warning can be ignored when running in bare mode.\n",
      "2025-06-11 17:35:18.975 Thread 'MainThread': missing ScriptRunContext! This warning can be ignored when running in bare mode.\n",
      "2025-06-11 17:35:18.977 Thread 'MainThread': missing ScriptRunContext! This warning can be ignored when running in bare mode.\n",
      "2025-06-11 17:35:18.984 Thread 'MainThread': missing ScriptRunContext! This warning can be ignored when running in bare mode.\n",
      "2025-06-11 17:35:18.985 Thread 'MainThread': missing ScriptRunContext! This warning can be ignored when running in bare mode.\n",
      "2025-06-11 17:35:18.985 Thread 'MainThread': missing ScriptRunContext! This warning can be ignored when running in bare mode.\n",
      "2025-06-11 17:35:18.988 Thread 'MainThread': missing ScriptRunContext! This warning can be ignored when running in bare mode.\n",
      "2025-06-11 17:35:18.989 Thread 'MainThread': missing ScriptRunContext! This warning can be ignored when running in bare mode.\n",
      "2025-06-11 17:35:18.989 Thread 'MainThread': missing ScriptRunContext! This warning can be ignored when running in bare mode.\n",
      "2025-06-11 17:35:18.993 Thread 'MainThread': missing ScriptRunContext! This warning can be ignored when running in bare mode.\n",
      "2025-06-11 17:35:18.994 Thread 'MainThread': missing ScriptRunContext! This warning can be ignored when running in bare mode.\n",
      "2025-06-11 17:35:18.995 Thread 'MainThread': missing ScriptRunContext! This warning can be ignored when running in bare mode.\n",
      "2025-06-11 17:35:18.996 Thread 'MainThread': missing ScriptRunContext! This warning can be ignored when running in bare mode.\n",
      "2025-06-11 17:35:18.999 Thread 'MainThread': missing ScriptRunContext! This warning can be ignored when running in bare mode.\n",
      "2025-06-11 17:35:19.000 Thread 'MainThread': missing ScriptRunContext! This warning can be ignored when running in bare mode.\n",
      "2025-06-11 17:35:19.002 Thread 'MainThread': missing ScriptRunContext! This warning can be ignored when running in bare mode.\n",
      "2025-06-11 17:35:19.003 Thread 'MainThread': missing ScriptRunContext! This warning can be ignored when running in bare mode.\n",
      "2025-06-11 17:35:19.003 Thread 'MainThread': missing ScriptRunContext! This warning can be ignored when running in bare mode.\n",
      "2025-06-11 17:35:19.006 Thread 'MainThread': missing ScriptRunContext! This warning can be ignored when running in bare mode.\n",
      "2025-06-11 17:35:19.007 Thread 'MainThread': missing ScriptRunContext! This warning can be ignored when running in bare mode.\n",
      "2025-06-11 17:35:19.016 Thread 'MainThread': missing ScriptRunContext! This warning can be ignored when running in bare mode.\n",
      "2025-06-11 17:35:19.017 Thread 'MainThread': missing ScriptRunContext! This warning can be ignored when running in bare mode.\n",
      "2025-06-11 17:35:19.022 Thread 'MainThread': missing ScriptRunContext! This warning can be ignored when running in bare mode.\n",
      "2025-06-11 17:35:19.023 Thread 'MainThread': missing ScriptRunContext! This warning can be ignored when running in bare mode.\n"
     ]
    }
   ],
   "source": [
    "\n",
    "\n",
    "# Load the single-feature ensemble model\n",
    "models = joblib.load('career_single_feature_ensemble.pkl')\n",
    "feature_list = ['E_score', 'N_score', 'C_score', 'A_score', 'O_score']\n",
    "\n",
    "# Define questions and their mapping to traits\n",
    "questions = [\n",
    "    # Extraversion\n",
    "    (\"E1\", \"I am the life of the party.\"),\n",
    "    (\"E2\", \"I don't talk a lot.\"),\n",
    "    (\"E3\", \"I feel comfortable around people.\"),\n",
    "    (\"E4\", \"I keep in the background.\"),\n",
    "    (\"E5\", \"I start conversations.\"),\n",
    "    (\"E6\", \"I have little to say.\"),\n",
    "    (\"E7\", \"I talk to a lot of different people at parties.\"),\n",
    "    (\"E8\", \"I don't like to draw attention to myself.\"),\n",
    "    (\"E9\", \"I don't mind being the center of attention.\"),\n",
    "    (\"E10\", \"I am quiet around strangers.\"),\n",
    "    # Neuroticism\n",
    "    (\"N1\", \"I get stressed out easily.\"),\n",
    "    (\"N2\", \"I am relaxed most of the time.\"),\n",
    "    (\"N3\", \"I worry about things.\"),\n",
    "    (\"N4\", \"I seldom feel blue.\"),\n",
    "    (\"N5\", \"I am easily disturbed.\"),\n",
    "    (\"N6\", \"I get upset easily.\"),\n",
    "    (\"N7\", \"I change my mood a lot.\"),\n",
    "    (\"N8\", \"I have frequent mood swings.\"),\n",
    "    (\"N9\", \"I get irritated easily.\"),\n",
    "    (\"N10\", \"I often feel blue.\"),\n",
    "    # Agreeableness\n",
    "    (\"A1\", \"I feel little concern for others.\"),\n",
    "    (\"A2\", \"I am interested in people.\"),\n",
    "    (\"A3\", \"I insult people.\"),\n",
    "    (\"A4\", \"I sympathize with others' feelings.\"),\n",
    "    (\"A5\", \"I am not interested in other people's problems.\"),\n",
    "    (\"A6\", \"I have a soft heart.\"),\n",
    "    (\"A7\", \"I am not really interested in others.\"),\n",
    "    (\"A8\", \"I take time out for others.\"),\n",
    "    (\"A9\", \"I feel others' emotions.\"),\n",
    "    (\"A10\", \"I make people feel at ease.\"),\n",
    "    # Conscientiousness\n",
    "    (\"C1\", \"I am always prepared.\"),\n",
    "    (\"C2\", \"I leave my belongings around.\"),\n",
    "    (\"C3\", \"I pay attention to details.\"),\n",
    "    (\"C4\", \"I make a mess of things.\"),\n",
    "    (\"C5\", \"I get chores done right away.\"),\n",
    "    (\"C6\", \"I often forget to put things back in their proper place.\"),\n",
    "    (\"C7\", \"I like order.\"),\n",
    "    (\"C8\", \"I shirk my duties.\"),\n",
    "    (\"C9\", \"I follow a schedule.\"),\n",
    "    (\"C10\", \"I am exacting in my work.\"),\n",
    "    # Openness\n",
    "    (\"O1\", \"I have a rich vocabulary.\"),\n",
    "    (\"O2\", \"I have difficulty understanding abstract ideas.\"),\n",
    "    (\"O3\", \"I have a vivid imagination.\"),\n",
    "    (\"O4\", \"I am not interested in abstract ideas.\"),\n",
    "    (\"O5\", \"I have excellent ideas.\"),\n",
    "    (\"O6\", \"I do not have a good imagination.\"),\n",
    "    (\"O7\", \"I am quick to understand things.\"),\n",
    "    (\"O8\", \"I use difficult words.\"),\n",
    "    (\"O9\", \"I spend time reflecting on things.\"),\n",
    "    (\"O10\", \"I am full of ideas.\"),\n",
    "]\n",
    "\n",
    "# Reverse-scored questions (where 1=Agree, 5=Disagree)\n",
    "reverse_scored = {\n",
    "    \"E2\", \"E4\", \"E6\", \"E8\", \"E10\",\n",
    "    \"N2\", \"N4\",\n",
    "    \"A1\", \"A3\", \"A5\", \"A7\",\n",
    "    \"C2\", \"C4\", \"C6\", \"C8\",\n",
    "    \"O2\", \"O4\", \"O6\"\n",
    "}\n",
    "\n",
    "# Streamlit UI\n",
    "st.title(\"Career Prediction Based on Personality (Big Five)\")\n",
    "\n",
    "st.write(\"Please answer the following 40 questions. For each, select:\")\n",
    "st.write(\"**1 = Disagree, 3 = Neutral, 5 = Agree**\")\n",
    "\n",
    "responses = []\n",
    "for code, text in questions:\n",
    "    value = st.slider(f\"{code}: {text}\", 1, 5, 3)\n",
    "    # Reverse score if needed\n",
    "    if code in reverse_scored:\n",
    "        value = 6 - value\n",
    "    responses.append((code, value))\n",
    "\n",
    "if st.button(\"Predict Career\"):\n",
    "    # Calculate Big Five scores (mean of each trait)\n",
    "    trait_scores = {\n",
    "        'E_score': np.mean([v for (c, v) in responses if c.startswith('E')]),\n",
    "        'N_score': np.mean([v for (c, v) in responses if c.startswith('N')]),\n",
    "        'C_score': np.mean([v for (c, v) in responses if c.startswith('C')]),\n",
    "        'A_score': np.mean([v for (c, v) in responses if c.startswith('A')]),\n",
    "        'O_score': np.mean([v for (c, v) in responses if c.startswith('O')]),\n",
    "    }\n",
    "    st.write(\"Your Big Five scores:\", trait_scores)\n",
    "\n",
    "    # Prepare input for model\n",
    "    sample_input = [[trait_scores[f] for f in feature_list]]\n",
    "\n",
    "    # Get predicted probabilities from each single-feature model\n",
    "    probas = []\n",
    "    for i, feature in enumerate(feature_list):\n",
    "        proba = models[feature].predict_proba([[sample_input[0][i]]])\n",
    "        probas.append(proba)\n",
    "    combined_proba = np.mean(probas, axis=0)\n",
    "    final_pred = np.argmax(combined_proba, axis=1)\n",
    "    class_names = models[feature_list[0]].classes_\n",
    "    predicted_label = class_names[final_pred[0]]\n",
    "\n",
    "    st.success(f\"**Predicted Career:** {predicted_label}\")\n",
    "    "
   ]
  },
  {
   "cell_type": "code",
   "execution_count": null,
   "id": "7514e6f1",
   "metadata": {},
   "outputs": [
    {
     "ename": "SyntaxError",
     "evalue": "invalid syntax (2746071890.py, line 128)",
     "output_type": "error",
     "traceback": [
      "\u001b[1;36m  Cell \u001b[1;32mIn[209], line 128\u001b[1;36m\u001b[0m\n\u001b[1;33m    take out the score. It is not needed. Add percentile. calculate it based on the df columns - e_score, n_score, c_score, a_score, o_score.\u001b[0m\n\u001b[1;37m         ^\u001b[0m\n\u001b[1;31mSyntaxError\u001b[0m\u001b[1;31m:\u001b[0m invalid syntax\n"
     ]
    }
   ],
   "source": [
    "\"\"\"\t\n",
    "\n",
    "# Load the single-feature ensemble model\n",
    "models = joblib.load('career_single_feature_ensemble.pkl')\n",
    "feature_list = ['E_score', 'N_score', 'C_score', 'A_score', 'O_score']\n",
    "\n",
    "# Define questions and their mapping to traits\n",
    "questions = [\n",
    "    # Extraversion\n",
    "    (\"E1\", \"I am the life of the party.\"),\n",
    "    (\"E2\", \"I don't talk a lot.\"),\n",
    "    (\"E3\", \"I feel comfortable around people.\"),\n",
    "    (\"E4\", \"I keep in the background.\"),\n",
    "    (\"E5\", \"I start conversations.\"),\n",
    "    (\"E6\", \"I have little to say.\"),\n",
    "    (\"E7\", \"I talk to a lot of different people at parties.\"),\n",
    "    (\"E8\", \"I don't like to draw attention to myself.\"),\n",
    "    (\"E9\", \"I don't mind being the center of attention.\"),\n",
    "    (\"E10\", \"I am quiet around strangers.\"),\n",
    "    # Neuroticism\n",
    "    (\"N1\", \"I get stressed out easily.\"),\n",
    "    (\"N2\", \"I am relaxed most of the time.\"),\n",
    "    (\"N3\", \"I worry about things.\"),\n",
    "    (\"N4\", \"I seldom feel blue.\"),\n",
    "    (\"N5\", \"I am easily disturbed.\"),\n",
    "    (\"N6\", \"I get upset easily.\"),\n",
    "    (\"N7\", \"I change my mood a lot.\"),\n",
    "    (\"N8\", \"I have frequent mood swings.\"),\n",
    "    (\"N9\", \"I get irritated easily.\"),\n",
    "    (\"N10\", \"I often feel blue.\"),\n",
    "    # Agreeableness\n",
    "    (\"A1\", \"I feel little concern for others.\"),\n",
    "    (\"A2\", \"I am interested in people.\"),\n",
    "    (\"A3\", \"I insult people.\"),\n",
    "    (\"A4\", \"I sympathize with others' feelings.\"),\n",
    "    (\"A5\", \"I am not interested in other people's problems.\"),\n",
    "    (\"A6\", \"I have a soft heart.\"),\n",
    "    (\"A7\", \"I am not really interested in others.\"),\n",
    "    (\"A8\", \"I take time out for others.\"),\n",
    "    (\"A9\", \"I feel others' emotions.\"),\n",
    "    (\"A10\", \"I make people feel at ease.\"),\n",
    "    # Conscientiousness\n",
    "    (\"C1\", \"I am always prepared.\"),\n",
    "    (\"C2\", \"I leave my belongings around.\"),\n",
    "    (\"C3\", \"I pay attention to details.\"),\n",
    "    (\"C4\", \"I make a mess of things.\"),\n",
    "    (\"C5\", \"I get chores done right away.\"),\n",
    "    (\"C6\", \"I often forget to put things back in their proper place.\"),\n",
    "    (\"C7\", \"I like order.\"),\n",
    "    (\"C8\", \"I shirk my duties.\"),\n",
    "    (\"C9\", \"I follow a schedule.\"),\n",
    "    (\"C10\", \"I am exacting in my work.\"),\n",
    "    # Openness\n",
    "    (\"O1\", \"I have a rich vocabulary.\"),\n",
    "    (\"O2\", \"I have difficulty understanding abstract ideas.\"),\n",
    "    (\"O3\", \"I have a vivid imagination.\"),\n",
    "    (\"O4\", \"I am not interested in abstract ideas.\"),\n",
    "    (\"O5\", \"I have excellent ideas.\"),\n",
    "    (\"O6\", \"I do not have a good imagination.\"),\n",
    "    (\"O7\", \"I am quick to understand things.\"),\n",
    "    (\"O8\", \"I use difficult words.\"),\n",
    "    (\"O9\", \"I spend time reflecting on things.\"),\n",
    "    (\"O10\", \"I am full of ideas.\"),\n",
    "]\n",
    "\n",
    "# Reverse-scored questions (where 1=Agree, 5=Disagree)\n",
    "reverse_scored = {\n",
    "    \"E2\", \"E4\", \"E6\", \"E8\", \"E10\",\n",
    "    \"N2\", \"N4\",\n",
    "    \"A1\", \"A3\", \"A5\", \"A7\",\n",
    "    \"C2\", \"C4\", \"C6\", \"C8\",\n",
    "    \"O2\", \"O4\", \"O6\"\n",
    "}\n",
    "\n",
    "st.title(\"Career Prediction Based on Personality (Big Five)\")\n",
    "\n",
    "st.write(\"Please answer the following 40 questions. For each, select:\")\n",
    "st.write(\"**1 = Disagree, 3 = Neutral, 5 = Agree**\")\n",
    "\n",
    "responses = []\n",
    "for code, text in questions:\n",
    "    value = st.slider(f\"{code}: {text}\", 1, 5, 3)\n",
    "    if code in reverse_scored:\n",
    "        value = 6 - value\n",
    "    responses.append((code, value))\n",
    "\n",
    "if st.button(\"Predict Career\"):\n",
    "    # Calculate Big Five scores (mean of each trait)\n",
    "    trait_scores = {\n",
    "        'E_score': np.mean([v for (c, v) in responses if c.startswith('E')]),\n",
    "        'N_score': np.mean([v for (c, v) in responses if c.startswith('N')]),\n",
    "        'C_score': np.mean([v for (c, v) in responses if c.startswith('C')]),\n",
    "        'A_score': np.mean([v for (c, v) in responses if c.startswith('A')]),\n",
    "        'O_score': np.mean([v for (c, v) in responses if c.startswith('O')]),\n",
    "    }\n",
    "    st.write(\"Your Big Five scores:\", trait_scores)\n",
    "\n",
    "    # Calculate percentiles for each trait based on df columns\n",
    "    percentiles = {}\n",
    "    for trait in feature_list:\n",
    "        # Use the corresponding percentile column in df, e.g., 'E_score_percentile'\n",
    "        col_name = f\"{trait}_percentile\"\n",
    "        if col_name in df.columns:\n",
    "            percentiles[trait] = np.round(\n",
    "                (df[col_name] < trait_scores[trait]).mean() * 100, 2\n",
    "            )\n",
    "        else:\n",
    "            percentiles[trait] = \"N/A\"\n",
    "    st.write(\"Your Big Five percentiles (relative to dataset):\")\n",
    "    for trait in feature_list:\n",
    "        st.write(f\"{trait}: {percentiles[trait]} percentile\")\n",
    "\n",
    "    # Prepare input for model\n",
    "    sample_input = [[trait_scores[f] for f in feature_list]]\n",
    "\n",
    "    # Get predicted probabilities from each single-feature model\n",
    "    probas = []\n",
    "    for i, feature in enumerate(feature_list):\n",
    "        proba = models[feature].predict_proba([[sample_input[0][i]]])\n",
    "        probas.append(proba)\n",
    "    combined_proba = np.mean(probas, axis=0)\n",
    "    final_pred = np.argmax(combined_proba, axis=1)\n",
    "    class_names = models[feature_list[0]].classes_\n",
    "    predicted_label = class_names[final_pred[0]]\n",
    "\n",
    "    st.success(f\"**Predicted Career:** {predicted_label}\")\n",
    "    \"\"\"\n"
   ]
  },
  {
   "cell_type": "code",
   "execution_count": null,
   "id": "8e34c237",
   "metadata": {},
   "outputs": [
    {
     "name": "stderr",
     "output_type": "stream",
     "text": [
      "2025-06-11 18:00:15.195 Thread 'MainThread': missing ScriptRunContext! This warning can be ignored when running in bare mode.\n",
      "2025-06-11 18:00:15.196 Thread 'MainThread': missing ScriptRunContext! This warning can be ignored when running in bare mode.\n",
      "2025-06-11 18:00:15.197 Thread 'MainThread': missing ScriptRunContext! This warning can be ignored when running in bare mode.\n",
      "2025-06-11 18:00:15.203 Thread 'MainThread': missing ScriptRunContext! This warning can be ignored when running in bare mode.\n",
      "2025-06-11 18:00:15.205 Thread 'MainThread': missing ScriptRunContext! This warning can be ignored when running in bare mode.\n",
      "2025-06-11 18:00:15.206 Thread 'MainThread': missing ScriptRunContext! This warning can be ignored when running in bare mode.\n",
      "2025-06-11 18:00:15.208 Thread 'MainThread': missing ScriptRunContext! This warning can be ignored when running in bare mode.\n",
      "2025-06-11 18:00:15.208 Thread 'MainThread': missing ScriptRunContext! This warning can be ignored when running in bare mode.\n",
      "2025-06-11 18:00:15.209 Thread 'MainThread': missing ScriptRunContext! This warning can be ignored when running in bare mode.\n",
      "2025-06-11 18:00:15.211 Thread 'MainThread': missing ScriptRunContext! This warning can be ignored when running in bare mode.\n",
      "2025-06-11 18:00:15.212 Thread 'MainThread': missing ScriptRunContext! This warning can be ignored when running in bare mode.\n",
      "2025-06-11 18:00:15.213 Thread 'MainThread': missing ScriptRunContext! This warning can be ignored when running in bare mode.\n",
      "2025-06-11 18:00:15.216 Thread 'MainThread': missing ScriptRunContext! This warning can be ignored when running in bare mode.\n",
      "2025-06-11 18:00:15.219 Thread 'MainThread': missing ScriptRunContext! This warning can be ignored when running in bare mode.\n",
      "2025-06-11 18:00:15.220 Thread 'MainThread': missing ScriptRunContext! This warning can be ignored when running in bare mode.\n",
      "2025-06-11 18:00:15.221 Thread 'MainThread': missing ScriptRunContext! This warning can be ignored when running in bare mode.\n",
      "2025-06-11 18:00:15.222 Thread 'MainThread': missing ScriptRunContext! This warning can be ignored when running in bare mode.\n",
      "2025-06-11 18:00:15.223 Thread 'MainThread': missing ScriptRunContext! This warning can be ignored when running in bare mode.\n",
      "2025-06-11 18:00:15.224 Thread 'MainThread': missing ScriptRunContext! This warning can be ignored when running in bare mode.\n",
      "2025-06-11 18:00:15.225 Thread 'MainThread': missing ScriptRunContext! This warning can be ignored when running in bare mode.\n",
      "2025-06-11 18:00:15.227 Thread 'MainThread': missing ScriptRunContext! This warning can be ignored when running in bare mode.\n",
      "2025-06-11 18:00:15.228 Thread 'MainThread': missing ScriptRunContext! This warning can be ignored when running in bare mode.\n",
      "2025-06-11 18:00:15.229 Thread 'MainThread': missing ScriptRunContext! This warning can be ignored when running in bare mode.\n",
      "2025-06-11 18:00:15.230 Thread 'MainThread': missing ScriptRunContext! This warning can be ignored when running in bare mode.\n",
      "2025-06-11 18:00:15.232 Thread 'MainThread': missing ScriptRunContext! This warning can be ignored when running in bare mode.\n",
      "2025-06-11 18:00:15.234 Thread 'MainThread': missing ScriptRunContext! This warning can be ignored when running in bare mode.\n",
      "2025-06-11 18:00:15.236 Thread 'MainThread': missing ScriptRunContext! This warning can be ignored when running in bare mode.\n",
      "2025-06-11 18:00:15.237 Thread 'MainThread': missing ScriptRunContext! This warning can be ignored when running in bare mode.\n",
      "2025-06-11 18:00:15.238 Thread 'MainThread': missing ScriptRunContext! This warning can be ignored when running in bare mode.\n",
      "2025-06-11 18:00:15.239 Thread 'MainThread': missing ScriptRunContext! This warning can be ignored when running in bare mode.\n",
      "2025-06-11 18:00:15.240 Thread 'MainThread': missing ScriptRunContext! This warning can be ignored when running in bare mode.\n",
      "2025-06-11 18:00:15.241 Thread 'MainThread': missing ScriptRunContext! This warning can be ignored when running in bare mode.\n",
      "2025-06-11 18:00:15.243 Thread 'MainThread': missing ScriptRunContext! This warning can be ignored when running in bare mode.\n",
      "2025-06-11 18:00:15.244 Thread 'MainThread': missing ScriptRunContext! This warning can be ignored when running in bare mode.\n",
      "2025-06-11 18:00:15.245 Thread 'MainThread': missing ScriptRunContext! This warning can be ignored when running in bare mode.\n",
      "2025-06-11 18:00:15.246 Thread 'MainThread': missing ScriptRunContext! This warning can be ignored when running in bare mode.\n",
      "2025-06-11 18:00:15.246 Thread 'MainThread': missing ScriptRunContext! This warning can be ignored when running in bare mode.\n",
      "2025-06-11 18:00:15.248 Thread 'MainThread': missing ScriptRunContext! This warning can be ignored when running in bare mode.\n",
      "2025-06-11 18:00:15.249 Thread 'MainThread': missing ScriptRunContext! This warning can be ignored when running in bare mode.\n",
      "2025-06-11 18:00:15.250 Thread 'MainThread': missing ScriptRunContext! This warning can be ignored when running in bare mode.\n",
      "2025-06-11 18:00:15.251 Thread 'MainThread': missing ScriptRunContext! This warning can be ignored when running in bare mode.\n",
      "2025-06-11 18:00:15.252 Thread 'MainThread': missing ScriptRunContext! This warning can be ignored when running in bare mode.\n",
      "2025-06-11 18:00:15.253 Thread 'MainThread': missing ScriptRunContext! This warning can be ignored when running in bare mode.\n",
      "2025-06-11 18:00:15.253 Thread 'MainThread': missing ScriptRunContext! This warning can be ignored when running in bare mode.\n",
      "2025-06-11 18:00:15.254 Thread 'MainThread': missing ScriptRunContext! This warning can be ignored when running in bare mode.\n",
      "2025-06-11 18:00:15.255 Thread 'MainThread': missing ScriptRunContext! This warning can be ignored when running in bare mode.\n",
      "2025-06-11 18:00:15.257 Thread 'MainThread': missing ScriptRunContext! This warning can be ignored when running in bare mode.\n",
      "2025-06-11 18:00:15.260 Thread 'MainThread': missing ScriptRunContext! This warning can be ignored when running in bare mode.\n",
      "2025-06-11 18:00:15.261 Thread 'MainThread': missing ScriptRunContext! This warning can be ignored when running in bare mode.\n",
      "2025-06-11 18:00:15.262 Thread 'MainThread': missing ScriptRunContext! This warning can be ignored when running in bare mode.\n",
      "2025-06-11 18:00:15.263 Thread 'MainThread': missing ScriptRunContext! This warning can be ignored when running in bare mode.\n",
      "2025-06-11 18:00:15.264 Thread 'MainThread': missing ScriptRunContext! This warning can be ignored when running in bare mode.\n",
      "2025-06-11 18:00:15.265 Thread 'MainThread': missing ScriptRunContext! This warning can be ignored when running in bare mode.\n",
      "2025-06-11 18:00:15.265 Thread 'MainThread': missing ScriptRunContext! This warning can be ignored when running in bare mode.\n",
      "2025-06-11 18:00:15.266 Thread 'MainThread': missing ScriptRunContext! This warning can be ignored when running in bare mode.\n",
      "2025-06-11 18:00:15.267 Thread 'MainThread': missing ScriptRunContext! This warning can be ignored when running in bare mode.\n",
      "2025-06-11 18:00:15.268 Thread 'MainThread': missing ScriptRunContext! This warning can be ignored when running in bare mode.\n",
      "2025-06-11 18:00:15.269 Thread 'MainThread': missing ScriptRunContext! This warning can be ignored when running in bare mode.\n",
      "2025-06-11 18:00:15.269 Thread 'MainThread': missing ScriptRunContext! This warning can be ignored when running in bare mode.\n",
      "2025-06-11 18:00:15.270 Thread 'MainThread': missing ScriptRunContext! This warning can be ignored when running in bare mode.\n",
      "2025-06-11 18:00:15.271 Thread 'MainThread': missing ScriptRunContext! This warning can be ignored when running in bare mode.\n",
      "2025-06-11 18:00:15.272 Thread 'MainThread': missing ScriptRunContext! This warning can be ignored when running in bare mode.\n",
      "2025-06-11 18:00:15.273 Thread 'MainThread': missing ScriptRunContext! This warning can be ignored when running in bare mode.\n",
      "2025-06-11 18:00:15.273 Thread 'MainThread': missing ScriptRunContext! This warning can be ignored when running in bare mode.\n",
      "2025-06-11 18:00:15.274 Thread 'MainThread': missing ScriptRunContext! This warning can be ignored when running in bare mode.\n",
      "2025-06-11 18:00:15.275 Thread 'MainThread': missing ScriptRunContext! This warning can be ignored when running in bare mode.\n",
      "2025-06-11 18:00:15.276 Thread 'MainThread': missing ScriptRunContext! This warning can be ignored when running in bare mode.\n",
      "2025-06-11 18:00:15.276 Thread 'MainThread': missing ScriptRunContext! This warning can be ignored when running in bare mode.\n",
      "2025-06-11 18:00:15.277 Thread 'MainThread': missing ScriptRunContext! This warning can be ignored when running in bare mode.\n",
      "2025-06-11 18:00:15.280 Thread 'MainThread': missing ScriptRunContext! This warning can be ignored when running in bare mode.\n",
      "2025-06-11 18:00:15.285 Thread 'MainThread': missing ScriptRunContext! This warning can be ignored when running in bare mode.\n",
      "2025-06-11 18:00:15.286 Thread 'MainThread': missing ScriptRunContext! This warning can be ignored when running in bare mode.\n",
      "2025-06-11 18:00:15.287 Thread 'MainThread': missing ScriptRunContext! This warning can be ignored when running in bare mode.\n",
      "2025-06-11 18:00:15.288 Thread 'MainThread': missing ScriptRunContext! This warning can be ignored when running in bare mode.\n",
      "2025-06-11 18:00:15.289 Thread 'MainThread': missing ScriptRunContext! This warning can be ignored when running in bare mode.\n",
      "2025-06-11 18:00:15.289 Thread 'MainThread': missing ScriptRunContext! This warning can be ignored when running in bare mode.\n",
      "2025-06-11 18:00:15.290 Thread 'MainThread': missing ScriptRunContext! This warning can be ignored when running in bare mode.\n",
      "2025-06-11 18:00:15.292 Thread 'MainThread': missing ScriptRunContext! This warning can be ignored when running in bare mode.\n",
      "2025-06-11 18:00:15.293 Thread 'MainThread': missing ScriptRunContext! This warning can be ignored when running in bare mode.\n",
      "2025-06-11 18:00:15.294 Thread 'MainThread': missing ScriptRunContext! This warning can be ignored when running in bare mode.\n",
      "2025-06-11 18:00:15.294 Thread 'MainThread': missing ScriptRunContext! This warning can be ignored when running in bare mode.\n",
      "2025-06-11 18:00:15.295 Thread 'MainThread': missing ScriptRunContext! This warning can be ignored when running in bare mode.\n",
      "2025-06-11 18:00:15.296 Thread 'MainThread': missing ScriptRunContext! This warning can be ignored when running in bare mode.\n",
      "2025-06-11 18:00:15.297 Thread 'MainThread': missing ScriptRunContext! This warning can be ignored when running in bare mode.\n",
      "2025-06-11 18:00:15.298 Thread 'MainThread': missing ScriptRunContext! This warning can be ignored when running in bare mode.\n",
      "2025-06-11 18:00:15.298 Thread 'MainThread': missing ScriptRunContext! This warning can be ignored when running in bare mode.\n",
      "2025-06-11 18:00:15.299 Thread 'MainThread': missing ScriptRunContext! This warning can be ignored when running in bare mode.\n",
      "2025-06-11 18:00:15.299 Thread 'MainThread': missing ScriptRunContext! This warning can be ignored when running in bare mode.\n",
      "2025-06-11 18:00:15.300 Thread 'MainThread': missing ScriptRunContext! This warning can be ignored when running in bare mode.\n",
      "2025-06-11 18:00:15.301 Thread 'MainThread': missing ScriptRunContext! This warning can be ignored when running in bare mode.\n",
      "2025-06-11 18:00:15.301 Thread 'MainThread': missing ScriptRunContext! This warning can be ignored when running in bare mode.\n",
      "2025-06-11 18:00:15.302 Thread 'MainThread': missing ScriptRunContext! This warning can be ignored when running in bare mode.\n",
      "2025-06-11 18:00:15.303 Thread 'MainThread': missing ScriptRunContext! This warning can be ignored when running in bare mode.\n",
      "2025-06-11 18:00:15.304 Thread 'MainThread': missing ScriptRunContext! This warning can be ignored when running in bare mode.\n",
      "2025-06-11 18:00:15.304 Thread 'MainThread': missing ScriptRunContext! This warning can be ignored when running in bare mode.\n",
      "2025-06-11 18:00:15.305 Thread 'MainThread': missing ScriptRunContext! This warning can be ignored when running in bare mode.\n",
      "2025-06-11 18:00:15.306 Thread 'MainThread': missing ScriptRunContext! This warning can be ignored when running in bare mode.\n",
      "2025-06-11 18:00:15.306 Thread 'MainThread': missing ScriptRunContext! This warning can be ignored when running in bare mode.\n",
      "2025-06-11 18:00:15.307 Thread 'MainThread': missing ScriptRunContext! This warning can be ignored when running in bare mode.\n",
      "2025-06-11 18:00:15.308 Thread 'MainThread': missing ScriptRunContext! This warning can be ignored when running in bare mode.\n",
      "2025-06-11 18:00:15.309 Thread 'MainThread': missing ScriptRunContext! This warning can be ignored when running in bare mode.\n",
      "2025-06-11 18:00:15.309 Thread 'MainThread': missing ScriptRunContext! This warning can be ignored when running in bare mode.\n",
      "2025-06-11 18:00:15.310 Thread 'MainThread': missing ScriptRunContext! This warning can be ignored when running in bare mode.\n",
      "2025-06-11 18:00:15.311 Thread 'MainThread': missing ScriptRunContext! This warning can be ignored when running in bare mode.\n",
      "2025-06-11 18:00:15.311 Thread 'MainThread': missing ScriptRunContext! This warning can be ignored when running in bare mode.\n",
      "2025-06-11 18:00:15.313 Thread 'MainThread': missing ScriptRunContext! This warning can be ignored when running in bare mode.\n",
      "2025-06-11 18:00:15.332 Thread 'MainThread': missing ScriptRunContext! This warning can be ignored when running in bare mode.\n",
      "2025-06-11 18:00:15.333 Thread 'MainThread': missing ScriptRunContext! This warning can be ignored when running in bare mode.\n",
      "2025-06-11 18:00:15.334 Thread 'MainThread': missing ScriptRunContext! This warning can be ignored when running in bare mode.\n",
      "2025-06-11 18:00:15.336 Thread 'MainThread': missing ScriptRunContext! This warning can be ignored when running in bare mode.\n",
      "2025-06-11 18:00:15.337 Thread 'MainThread': missing ScriptRunContext! This warning can be ignored when running in bare mode.\n",
      "2025-06-11 18:00:15.338 Thread 'MainThread': missing ScriptRunContext! This warning can be ignored when running in bare mode.\n",
      "2025-06-11 18:00:15.339 Thread 'MainThread': missing ScriptRunContext! This warning can be ignored when running in bare mode.\n",
      "2025-06-11 18:00:15.340 Thread 'MainThread': missing ScriptRunContext! This warning can be ignored when running in bare mode.\n",
      "2025-06-11 18:00:15.341 Thread 'MainThread': missing ScriptRunContext! This warning can be ignored when running in bare mode.\n",
      "2025-06-11 18:00:15.343 Thread 'MainThread': missing ScriptRunContext! This warning can be ignored when running in bare mode.\n",
      "2025-06-11 18:00:15.344 Thread 'MainThread': missing ScriptRunContext! This warning can be ignored when running in bare mode.\n",
      "2025-06-11 18:00:15.345 Thread 'MainThread': missing ScriptRunContext! This warning can be ignored when running in bare mode.\n",
      "2025-06-11 18:00:15.346 Thread 'MainThread': missing ScriptRunContext! This warning can be ignored when running in bare mode.\n",
      "2025-06-11 18:00:15.347 Thread 'MainThread': missing ScriptRunContext! This warning can be ignored when running in bare mode.\n",
      "2025-06-11 18:00:15.348 Thread 'MainThread': missing ScriptRunContext! This warning can be ignored when running in bare mode.\n",
      "2025-06-11 18:00:15.349 Thread 'MainThread': missing ScriptRunContext! This warning can be ignored when running in bare mode.\n",
      "2025-06-11 18:00:15.350 Thread 'MainThread': missing ScriptRunContext! This warning can be ignored when running in bare mode.\n",
      "2025-06-11 18:00:15.351 Thread 'MainThread': missing ScriptRunContext! This warning can be ignored when running in bare mode.\n",
      "2025-06-11 18:00:15.352 Thread 'MainThread': missing ScriptRunContext! This warning can be ignored when running in bare mode.\n",
      "2025-06-11 18:00:15.353 Thread 'MainThread': missing ScriptRunContext! This warning can be ignored when running in bare mode.\n",
      "2025-06-11 18:00:15.354 Thread 'MainThread': missing ScriptRunContext! This warning can be ignored when running in bare mode.\n",
      "2025-06-11 18:00:15.354 Thread 'MainThread': missing ScriptRunContext! This warning can be ignored when running in bare mode.\n",
      "2025-06-11 18:00:15.355 Thread 'MainThread': missing ScriptRunContext! This warning can be ignored when running in bare mode.\n",
      "2025-06-11 18:00:15.356 Thread 'MainThread': missing ScriptRunContext! This warning can be ignored when running in bare mode.\n",
      "2025-06-11 18:00:15.356 Thread 'MainThread': missing ScriptRunContext! This warning can be ignored when running in bare mode.\n",
      "2025-06-11 18:00:15.357 Thread 'MainThread': missing ScriptRunContext! This warning can be ignored when running in bare mode.\n",
      "2025-06-11 18:00:15.357 Thread 'MainThread': missing ScriptRunContext! This warning can be ignored when running in bare mode.\n",
      "2025-06-11 18:00:15.358 Thread 'MainThread': missing ScriptRunContext! This warning can be ignored when running in bare mode.\n",
      "2025-06-11 18:00:15.359 Thread 'MainThread': missing ScriptRunContext! This warning can be ignored when running in bare mode.\n",
      "2025-06-11 18:00:15.359 Thread 'MainThread': missing ScriptRunContext! This warning can be ignored when running in bare mode.\n",
      "2025-06-11 18:00:15.360 Thread 'MainThread': missing ScriptRunContext! This warning can be ignored when running in bare mode.\n",
      "2025-06-11 18:00:15.361 Thread 'MainThread': missing ScriptRunContext! This warning can be ignored when running in bare mode.\n",
      "2025-06-11 18:00:15.361 Thread 'MainThread': missing ScriptRunContext! This warning can be ignored when running in bare mode.\n",
      "2025-06-11 18:00:15.362 Thread 'MainThread': missing ScriptRunContext! This warning can be ignored when running in bare mode.\n",
      "2025-06-11 18:00:15.366 Thread 'MainThread': missing ScriptRunContext! This warning can be ignored when running in bare mode.\n",
      "2025-06-11 18:00:15.366 Thread 'MainThread': missing ScriptRunContext! This warning can be ignored when running in bare mode.\n",
      "2025-06-11 18:00:15.367 Thread 'MainThread': missing ScriptRunContext! This warning can be ignored when running in bare mode.\n",
      "2025-06-11 18:00:15.368 Thread 'MainThread': missing ScriptRunContext! This warning can be ignored when running in bare mode.\n",
      "2025-06-11 18:00:15.369 Thread 'MainThread': missing ScriptRunContext! This warning can be ignored when running in bare mode.\n",
      "2025-06-11 18:00:15.369 Thread 'MainThread': missing ScriptRunContext! This warning can be ignored when running in bare mode.\n",
      "2025-06-11 18:00:15.370 Thread 'MainThread': missing ScriptRunContext! This warning can be ignored when running in bare mode.\n",
      "2025-06-11 18:00:15.370 Thread 'MainThread': missing ScriptRunContext! This warning can be ignored when running in bare mode.\n",
      "2025-06-11 18:00:15.371 Thread 'MainThread': missing ScriptRunContext! This warning can be ignored when running in bare mode.\n",
      "2025-06-11 18:00:15.372 Thread 'MainThread': missing ScriptRunContext! This warning can be ignored when running in bare mode.\n",
      "2025-06-11 18:00:15.373 Thread 'MainThread': missing ScriptRunContext! This warning can be ignored when running in bare mode.\n",
      "2025-06-11 18:00:15.373 Thread 'MainThread': missing ScriptRunContext! This warning can be ignored when running in bare mode.\n",
      "2025-06-11 18:00:15.374 Thread 'MainThread': missing ScriptRunContext! This warning can be ignored when running in bare mode.\n",
      "2025-06-11 18:00:15.375 Thread 'MainThread': missing ScriptRunContext! This warning can be ignored when running in bare mode.\n",
      "2025-06-11 18:00:15.376 Thread 'MainThread': missing ScriptRunContext! This warning can be ignored when running in bare mode.\n",
      "2025-06-11 18:00:15.377 Thread 'MainThread': missing ScriptRunContext! This warning can be ignored when running in bare mode.\n",
      "2025-06-11 18:00:15.377 Thread 'MainThread': missing ScriptRunContext! This warning can be ignored when running in bare mode.\n",
      "2025-06-11 18:00:15.378 Thread 'MainThread': missing ScriptRunContext! This warning can be ignored when running in bare mode.\n",
      "2025-06-11 18:00:15.379 Thread 'MainThread': missing ScriptRunContext! This warning can be ignored when running in bare mode.\n",
      "2025-06-11 18:00:15.381 Thread 'MainThread': missing ScriptRunContext! This warning can be ignored when running in bare mode.\n",
      "2025-06-11 18:00:15.382 Thread 'MainThread': missing ScriptRunContext! This warning can be ignored when running in bare mode.\n",
      "2025-06-11 18:00:15.385 Thread 'MainThread': missing ScriptRunContext! This warning can be ignored when running in bare mode.\n",
      "2025-06-11 18:00:15.386 Thread 'MainThread': missing ScriptRunContext! This warning can be ignored when running in bare mode.\n",
      "2025-06-11 18:00:15.388 Thread 'MainThread': missing ScriptRunContext! This warning can be ignored when running in bare mode.\n",
      "2025-06-11 18:00:15.389 Thread 'MainThread': missing ScriptRunContext! This warning can be ignored when running in bare mode.\n",
      "2025-06-11 18:00:15.390 Thread 'MainThread': missing ScriptRunContext! This warning can be ignored when running in bare mode.\n",
      "2025-06-11 18:00:15.391 Thread 'MainThread': missing ScriptRunContext! This warning can be ignored when running in bare mode.\n",
      "2025-06-11 18:00:15.391 Thread 'MainThread': missing ScriptRunContext! This warning can be ignored when running in bare mode.\n",
      "2025-06-11 18:00:15.392 Thread 'MainThread': missing ScriptRunContext! This warning can be ignored when running in bare mode.\n",
      "2025-06-11 18:00:15.395 Thread 'MainThread': missing ScriptRunContext! This warning can be ignored when running in bare mode.\n",
      "2025-06-11 18:00:15.397 Thread 'MainThread': missing ScriptRunContext! This warning can be ignored when running in bare mode.\n",
      "2025-06-11 18:00:15.398 Thread 'MainThread': missing ScriptRunContext! This warning can be ignored when running in bare mode.\n",
      "2025-06-11 18:00:15.399 Thread 'MainThread': missing ScriptRunContext! This warning can be ignored when running in bare mode.\n",
      "2025-06-11 18:00:15.399 Thread 'MainThread': missing ScriptRunContext! This warning can be ignored when running in bare mode.\n",
      "2025-06-11 18:00:15.400 Thread 'MainThread': missing ScriptRunContext! This warning can be ignored when running in bare mode.\n",
      "2025-06-11 18:00:15.401 Thread 'MainThread': missing ScriptRunContext! This warning can be ignored when running in bare mode.\n",
      "2025-06-11 18:00:15.402 Thread 'MainThread': missing ScriptRunContext! This warning can be ignored when running in bare mode.\n",
      "2025-06-11 18:00:15.402 Thread 'MainThread': missing ScriptRunContext! This warning can be ignored when running in bare mode.\n",
      "2025-06-11 18:00:15.403 Thread 'MainThread': missing ScriptRunContext! This warning can be ignored when running in bare mode.\n",
      "2025-06-11 18:00:15.404 Thread 'MainThread': missing ScriptRunContext! This warning can be ignored when running in bare mode.\n",
      "2025-06-11 18:00:15.405 Thread 'MainThread': missing ScriptRunContext! This warning can be ignored when running in bare mode.\n",
      "2025-06-11 18:00:15.405 Thread 'MainThread': missing ScriptRunContext! This warning can be ignored when running in bare mode.\n",
      "2025-06-11 18:00:15.406 Thread 'MainThread': missing ScriptRunContext! This warning can be ignored when running in bare mode.\n",
      "2025-06-11 18:00:15.407 Thread 'MainThread': missing ScriptRunContext! This warning can be ignored when running in bare mode.\n",
      "2025-06-11 18:00:15.407 Thread 'MainThread': missing ScriptRunContext! This warning can be ignored when running in bare mode.\n",
      "2025-06-11 18:00:15.408 Thread 'MainThread': missing ScriptRunContext! This warning can be ignored when running in bare mode.\n",
      "2025-06-11 18:00:15.409 Thread 'MainThread': missing ScriptRunContext! This warning can be ignored when running in bare mode.\n",
      "2025-06-11 18:00:15.409 Thread 'MainThread': missing ScriptRunContext! This warning can be ignored when running in bare mode.\n",
      "2025-06-11 18:00:15.410 Thread 'MainThread': missing ScriptRunContext! This warning can be ignored when running in bare mode.\n",
      "2025-06-11 18:00:15.411 Thread 'MainThread': missing ScriptRunContext! This warning can be ignored when running in bare mode.\n",
      "2025-06-11 18:00:15.413 Thread 'MainThread': missing ScriptRunContext! This warning can be ignored when running in bare mode.\n",
      "2025-06-11 18:00:15.413 Thread 'MainThread': missing ScriptRunContext! This warning can be ignored when running in bare mode.\n",
      "2025-06-11 18:00:15.415 Thread 'MainThread': missing ScriptRunContext! This warning can be ignored when running in bare mode.\n",
      "2025-06-11 18:00:15.415 Thread 'MainThread': missing ScriptRunContext! This warning can be ignored when running in bare mode.\n",
      "2025-06-11 18:00:15.416 Thread 'MainThread': missing ScriptRunContext! This warning can be ignored when running in bare mode.\n",
      "2025-06-11 18:00:15.417 Thread 'MainThread': missing ScriptRunContext! This warning can be ignored when running in bare mode.\n",
      "2025-06-11 18:00:15.418 Thread 'MainThread': missing ScriptRunContext! This warning can be ignored when running in bare mode.\n",
      "2025-06-11 18:00:15.419 Thread 'MainThread': missing ScriptRunContext! This warning can be ignored when running in bare mode.\n",
      "2025-06-11 18:00:15.419 Thread 'MainThread': missing ScriptRunContext! This warning can be ignored when running in bare mode.\n",
      "2025-06-11 18:00:15.420 Thread 'MainThread': missing ScriptRunContext! This warning can be ignored when running in bare mode.\n",
      "2025-06-11 18:00:15.421 Thread 'MainThread': missing ScriptRunContext! This warning can be ignored when running in bare mode.\n",
      "2025-06-11 18:00:15.422 Thread 'MainThread': missing ScriptRunContext! This warning can be ignored when running in bare mode.\n",
      "2025-06-11 18:00:15.422 Thread 'MainThread': missing ScriptRunContext! This warning can be ignored when running in bare mode.\n",
      "2025-06-11 18:00:15.423 Thread 'MainThread': missing ScriptRunContext! This warning can be ignored when running in bare mode.\n",
      "2025-06-11 18:00:15.424 Thread 'MainThread': missing ScriptRunContext! This warning can be ignored when running in bare mode.\n",
      "2025-06-11 18:00:15.425 Thread 'MainThread': missing ScriptRunContext! This warning can be ignored when running in bare mode.\n",
      "2025-06-11 18:00:15.425 Thread 'MainThread': missing ScriptRunContext! This warning can be ignored when running in bare mode.\n",
      "2025-06-11 18:00:15.426 Thread 'MainThread': missing ScriptRunContext! This warning can be ignored when running in bare mode.\n",
      "2025-06-11 18:00:15.427 Thread 'MainThread': missing ScriptRunContext! This warning can be ignored when running in bare mode.\n",
      "2025-06-11 18:00:15.427 Thread 'MainThread': missing ScriptRunContext! This warning can be ignored when running in bare mode.\n",
      "2025-06-11 18:00:15.428 Thread 'MainThread': missing ScriptRunContext! This warning can be ignored when running in bare mode.\n",
      "2025-06-11 18:00:15.437 Thread 'MainThread': missing ScriptRunContext! This warning can be ignored when running in bare mode.\n",
      "2025-06-11 18:00:15.440 Thread 'MainThread': missing ScriptRunContext! This warning can be ignored when running in bare mode.\n",
      "2025-06-11 18:00:15.441 Thread 'MainThread': missing ScriptRunContext! This warning can be ignored when running in bare mode.\n",
      "2025-06-11 18:00:15.442 Thread 'MainThread': missing ScriptRunContext! This warning can be ignored when running in bare mode.\n",
      "2025-06-11 18:00:15.446 Thread 'MainThread': missing ScriptRunContext! This warning can be ignored when running in bare mode.\n",
      "2025-06-11 18:00:15.447 Thread 'MainThread': missing ScriptRunContext! This warning can be ignored when running in bare mode.\n",
      "2025-06-11 18:00:15.448 Thread 'MainThread': missing ScriptRunContext! This warning can be ignored when running in bare mode.\n",
      "2025-06-11 18:00:15.449 Thread 'MainThread': missing ScriptRunContext! This warning can be ignored when running in bare mode.\n",
      "2025-06-11 18:00:15.449 Thread 'MainThread': missing ScriptRunContext! This warning can be ignored when running in bare mode.\n",
      "2025-06-11 18:00:15.450 Thread 'MainThread': missing ScriptRunContext! This warning can be ignored when running in bare mode.\n",
      "2025-06-11 18:00:15.451 Thread 'MainThread': missing ScriptRunContext! This warning can be ignored when running in bare mode.\n",
      "2025-06-11 18:00:15.452 Thread 'MainThread': missing ScriptRunContext! This warning can be ignored when running in bare mode.\n",
      "2025-06-11 18:00:15.452 Thread 'MainThread': missing ScriptRunContext! This warning can be ignored when running in bare mode.\n",
      "2025-06-11 18:00:15.453 Thread 'MainThread': missing ScriptRunContext! This warning can be ignored when running in bare mode.\n",
      "2025-06-11 18:00:15.453 Thread 'MainThread': missing ScriptRunContext! This warning can be ignored when running in bare mode.\n",
      "2025-06-11 18:00:15.454 Thread 'MainThread': missing ScriptRunContext! This warning can be ignored when running in bare mode.\n",
      "2025-06-11 18:00:15.461 Thread 'MainThread': missing ScriptRunContext! This warning can be ignored when running in bare mode.\n",
      "2025-06-11 18:00:15.462 Thread 'MainThread': missing ScriptRunContext! This warning can be ignored when running in bare mode.\n",
      "2025-06-11 18:00:15.463 Thread 'MainThread': missing ScriptRunContext! This warning can be ignored when running in bare mode.\n",
      "2025-06-11 18:00:15.465 Thread 'MainThread': missing ScriptRunContext! This warning can be ignored when running in bare mode.\n",
      "2025-06-11 18:00:15.466 Thread 'MainThread': missing ScriptRunContext! This warning can be ignored when running in bare mode.\n",
      "2025-06-11 18:00:15.467 Thread 'MainThread': missing ScriptRunContext! This warning can be ignored when running in bare mode.\n",
      "2025-06-11 18:00:15.472 Thread 'MainThread': missing ScriptRunContext! This warning can be ignored when running in bare mode.\n",
      "2025-06-11 18:00:15.473 Thread 'MainThread': missing ScriptRunContext! This warning can be ignored when running in bare mode.\n",
      "2025-06-11 18:00:15.474 Thread 'MainThread': missing ScriptRunContext! This warning can be ignored when running in bare mode.\n",
      "2025-06-11 18:00:15.475 Thread 'MainThread': missing ScriptRunContext! This warning can be ignored when running in bare mode.\n",
      "2025-06-11 18:00:15.479 Thread 'MainThread': missing ScriptRunContext! This warning can be ignored when running in bare mode.\n",
      "2025-06-11 18:00:15.483 Thread 'MainThread': missing ScriptRunContext! This warning can be ignored when running in bare mode.\n",
      "2025-06-11 18:00:15.485 Thread 'MainThread': missing ScriptRunContext! This warning can be ignored when running in bare mode.\n",
      "2025-06-11 18:00:15.486 Thread 'MainThread': missing ScriptRunContext! This warning can be ignored when running in bare mode.\n",
      "2025-06-11 18:00:15.488 Thread 'MainThread': missing ScriptRunContext! This warning can be ignored when running in bare mode.\n",
      "2025-06-11 18:00:15.489 Thread 'MainThread': missing ScriptRunContext! This warning can be ignored when running in bare mode.\n",
      "2025-06-11 18:00:15.490 Thread 'MainThread': missing ScriptRunContext! This warning can be ignored when running in bare mode.\n",
      "2025-06-11 18:00:15.491 Thread 'MainThread': missing ScriptRunContext! This warning can be ignored when running in bare mode.\n",
      "2025-06-11 18:00:15.492 Thread 'MainThread': missing ScriptRunContext! This warning can be ignored when running in bare mode.\n",
      "2025-06-11 18:00:15.493 Thread 'MainThread': missing ScriptRunContext! This warning can be ignored when running in bare mode.\n",
      "2025-06-11 18:00:15.500 Thread 'MainThread': missing ScriptRunContext! This warning can be ignored when running in bare mode.\n",
      "2025-06-11 18:00:15.501 Thread 'MainThread': missing ScriptRunContext! This warning can be ignored when running in bare mode.\n",
      "2025-06-11 18:00:15.501 Thread 'MainThread': missing ScriptRunContext! This warning can be ignored when running in bare mode.\n",
      "2025-06-11 18:00:15.502 Thread 'MainThread': missing ScriptRunContext! This warning can be ignored when running in bare mode.\n",
      "2025-06-11 18:00:15.503 Thread 'MainThread': missing ScriptRunContext! This warning can be ignored when running in bare mode.\n",
      "2025-06-11 18:00:15.503 Thread 'MainThread': missing ScriptRunContext! This warning can be ignored when running in bare mode.\n",
      "2025-06-11 18:00:15.504 Thread 'MainThread': missing ScriptRunContext! This warning can be ignored when running in bare mode.\n",
      "2025-06-11 18:00:15.505 Thread 'MainThread': missing ScriptRunContext! This warning can be ignored when running in bare mode.\n",
      "2025-06-11 18:00:15.506 Thread 'MainThread': missing ScriptRunContext! This warning can be ignored when running in bare mode.\n",
      "2025-06-11 18:00:15.507 Thread 'MainThread': missing ScriptRunContext! This warning can be ignored when running in bare mode.\n",
      "2025-06-11 18:00:15.508 Thread 'MainThread': missing ScriptRunContext! This warning can be ignored when running in bare mode.\n",
      "2025-06-11 18:00:15.509 Thread 'MainThread': missing ScriptRunContext! This warning can be ignored when running in bare mode.\n",
      "2025-06-11 18:00:15.511 Thread 'MainThread': missing ScriptRunContext! This warning can be ignored when running in bare mode.\n",
      "2025-06-11 18:00:15.512 Thread 'MainThread': missing ScriptRunContext! This warning can be ignored when running in bare mode.\n"
     ]
    }
   ],
   "source": [
    "# Load the single-feature ensemble model\n",
    "models = joblib.load('career_single_feature_ensemble.pkl')\n",
    "feature_list = ['E_score', 'N_score', 'C_score', 'A_score', 'O_score']\n",
    "\n",
    "# Define questions and their mapping to traits\n",
    "questions = [\n",
    "    # Extraversion\n",
    "    (\"E1\", \"I am the life of the party.\"),\n",
    "    (\"E2\", \"I don't talk a lot.\"),\n",
    "    (\"E3\", \"I feel comfortable around people.\"),\n",
    "    (\"E4\", \"I keep in the background.\"),\n",
    "    (\"E5\", \"I start conversations.\"),\n",
    "    (\"E6\", \"I have little to say.\"),\n",
    "    (\"E7\", \"I talk to a lot of different people at parties.\"),\n",
    "    (\"E8\", \"I don't like to draw attention to myself.\"),\n",
    "    (\"E9\", \"I don't mind being the center of attention.\"),\n",
    "    (\"E10\", \"I am quiet around strangers.\"),\n",
    "    # Neuroticism\n",
    "    (\"N1\", \"I get stressed out easily.\"),\n",
    "    (\"N2\", \"I am relaxed most of the time.\"),\n",
    "    (\"N3\", \"I worry about things.\"),\n",
    "    (\"N4\", \"I seldom feel blue.\"),\n",
    "    (\"N5\", \"I am easily disturbed.\"),\n",
    "    (\"N6\", \"I get upset easily.\"),\n",
    "    (\"N7\", \"I change my mood a lot.\"),\n",
    "    (\"N8\", \"I have frequent mood swings.\"),\n",
    "    (\"N9\", \"I get irritated easily.\"),\n",
    "    (\"N10\", \"I often feel blue.\"),\n",
    "    # Agreeableness\n",
    "    (\"A1\", \"I feel little concern for others.\"),\n",
    "    (\"A2\", \"I am interested in people.\"),\n",
    "    (\"A3\", \"I insult people.\"),\n",
    "    (\"A4\", \"I sympathize with others' feelings.\"),\n",
    "    (\"A5\", \"I am not interested in other people's problems.\"),\n",
    "    (\"A6\", \"I have a soft heart.\"),\n",
    "    (\"A7\", \"I am not really interested in others.\"),\n",
    "    (\"A8\", \"I take time out for others.\"),\n",
    "    (\"A9\", \"I feel others' emotions.\"),\n",
    "    (\"A10\", \"I make people feel at ease.\"),\n",
    "    # Conscientiousness\n",
    "    (\"C1\", \"I am always prepared.\"),\n",
    "    (\"C2\", \"I leave my belongings around.\"),\n",
    "    (\"C3\", \"I pay attention to details.\"),\n",
    "    (\"C4\", \"I make a mess of things.\"),\n",
    "    (\"C5\", \"I get chores done right away.\"),\n",
    "    (\"C6\", \"I often forget to put things back in their proper place.\"),\n",
    "    (\"C7\", \"I like order.\"),\n",
    "    (\"C8\", \"I shirk my duties.\"),\n",
    "    (\"C9\", \"I follow a schedule.\"),\n",
    "    (\"C10\", \"I am exacting in my work.\"),\n",
    "    # Openness\n",
    "    (\"O1\", \"I have a rich vocabulary.\"),\n",
    "    (\"O2\", \"I have difficulty understanding abstract ideas.\"),\n",
    "    (\"O3\", \"I have a vivid imagination.\"),\n",
    "    (\"O4\", \"I am not interested in abstract ideas.\"),\n",
    "    (\"O5\", \"I have excellent ideas.\"),\n",
    "    (\"O6\", \"I do not have a good imagination.\"),\n",
    "    (\"O7\", \"I am quick to understand things.\"),\n",
    "    (\"O8\", \"I use difficult words.\"),\n",
    "    (\"O9\", \"I spend time reflecting on things.\"),\n",
    "    (\"O10\", \"I am full of ideas.\"),\n",
    "]\n",
    "\n",
    "# Reverse-scored questions (where 1=Agree, 5=Disagree)\n",
    "reverse_scored = {\n",
    "    \"E2\", \"E4\", \"E6\", \"E8\", \"E10\",\n",
    "    \"N2\", \"N4\",\n",
    "    \"A1\", \"A3\", \"A5\", \"A7\",\n",
    "    \"C2\", \"C4\", \"C6\", \"C8\",\n",
    "    \"O2\", \"O4\", \"O6\"\n",
    "}\n",
    "\n",
    "st.title(\"Career Prediction Based on Personality (Big Five)\")\n",
    "\n",
    "st.write(\"Please answer the following 40 questions. For each, select:\")\n",
    "st.write(\"**1 = Disagree, 3 = Neutral, 5 = Agree**\")\n",
    "\n",
    "responses = []\n",
    "for code, text in questions:\n",
    "    value = st.slider(f\"{code}: {text}\", 1, 5, 3)\n",
    "    if code in reverse_scored:\n",
    "        value = 6 - value\n",
    "    responses.append((code, value))\n",
    "\n",
    "if st.button(\"Predict Career\"):\n",
    "    # Calculate Big Five scores (mean of each trait)\n",
    "    trait_scores = {\n",
    "        'E_score': np.mean([v for (c, v) in responses if c.startswith('E')]),\n",
    "        'N_score': np.mean([v for (c, v) in responses if c.startswith('N')]),\n",
    "        'C_score': np.mean([v for (c, v) in responses if c.startswith('C')]),\n",
    "        'A_score': np.mean([v for (c, v) in responses if c.startswith('A')]),\n",
    "        'O_score': np.mean([v for (c, v) in responses if c.startswith('O')]),\n",
    "    }\n",
    "\n",
    "    # Calculate percentiles for each trait based on df columns\n",
    "    percentiles = {}\n",
    "    for trait in feature_list:\n",
    "        if trait in df.columns:\n",
    "            percentiles[trait] = np.round((df[trait] < trait_scores[trait]).mean() * 100, 2)\n",
    "        else:\n",
    "            percentiles[trait] = \"N/A\"\n",
    "    st.write(\"Your Big Five percentiles (relative to dataset):\")\n",
    "    for trait in feature_list:\n",
    "        st.write(f\"{trait}: {percentiles[trait]} percentile\")\n",
    "\n",
    "    # Prepare input for model\n",
    "    sample_input = [[trait_scores[f] for f in feature_list]]\n",
    "\n",
    "    # Get predicted probabilities from each single-feature model\n",
    "    probas = []\n",
    "    for i, feature in enumerate(feature_list):\n",
    "        proba = models[feature].predict_proba([[sample_input[0][i]]])\n",
    "        probas.append(proba)\n",
    "    combined_proba = np.mean(probas, axis=0)\n",
    "    final_pred = np.argmax(combined_proba, axis=1)\n",
    "    class_names = models[feature_list[0]].classes_\n",
    "    predicted_label = class_names[final_pred[0]]\n",
    "\n",
    "    st.success(f\"**Predicted Career:** {predicted_label}\")\n",
    "\n"
   ]
  },
  {
   "cell_type": "code",
   "execution_count": null,
   "id": "124de6a9",
   "metadata": {},
   "outputs": [],
   "source": [
    "# Load the single-feature ensemble model\n",
    "models = joblib.load('career_single_feature_ensemble.pkl')\n",
    "feature_list = ['E_score', 'N_score', 'C_score', 'A_score', 'O_score']\n",
    "\n",
    "# Define questions and their mapping to traits\n",
    "questions = [\n",
    "    # Extraversion\n",
    "    (\"E1\", \"I am the life of the party.\"),\n",
    "    (\"E2\", \"I don't talk a lot.\"),\n",
    "    (\"E3\", \"I feel comfortable around people.\"),\n",
    "    (\"E4\", \"I keep in the background.\"),\n",
    "    (\"E5\", \"I start conversations.\"),\n",
    "    (\"E6\", \"I have little to say.\"),\n",
    "    (\"E7\", \"I talk to a lot of different people at parties.\"),\n",
    "    (\"E8\", \"I don't like to draw attention to myself.\"),\n",
    "    (\"E9\", \"I don't mind being the center of attention.\"),\n",
    "    (\"E10\", \"I am quiet around strangers.\"),\n",
    "    # Neuroticism\n",
    "    (\"N1\", \"I get stressed out easily.\"),\n",
    "    (\"N2\", \"I am relaxed most of the time.\"),\n",
    "    (\"N3\", \"I worry about things.\"),\n",
    "    (\"N4\", \"I seldom feel blue.\"),\n",
    "    (\"N5\", \"I am easily disturbed.\"),\n",
    "    (\"N6\", \"I get upset easily.\"),\n",
    "    (\"N7\", \"I change my mood a lot.\"),\n",
    "    (\"N8\", \"I have frequent mood swings.\"),\n",
    "    (\"N9\", \"I get irritated easily.\"),\n",
    "    (\"N10\", \"I often feel blue.\"),\n",
    "    # Agreeableness\n",
    "    (\"A1\", \"I feel little concern for others.\"),\n",
    "    (\"A2\", \"I am interested in people.\"),\n",
    "    (\"A3\", \"I insult people.\"),\n",
    "    (\"A4\", \"I sympathize with others' feelings.\"),\n",
    "    (\"A5\", \"I am not interested in other people's problems.\"),\n",
    "    (\"A6\", \"I have a soft heart.\"),\n",
    "    (\"A7\", \"I am not really interested in others.\"),\n",
    "    (\"A8\", \"I take time out for others.\"),\n",
    "    (\"A9\", \"I feel others' emotions.\"),\n",
    "    (\"A10\", \"I make people feel at ease.\"),\n",
    "    # Conscientiousness\n",
    "    (\"C1\", \"I am always prepared.\"),\n",
    "    (\"C2\", \"I leave my belongings around.\"),\n",
    "    (\"C3\", \"I pay attention to details.\"),\n",
    "    (\"C4\", \"I make a mess of things.\"),\n",
    "    (\"C5\", \"I get chores done right away.\"),\n",
    "    (\"C6\", \"I often forget to put things back in their proper place.\"),\n",
    "    (\"C7\", \"I like order.\"),\n",
    "    (\"C8\", \"I shirk my duties.\"),\n",
    "    (\"C9\", \"I follow a schedule.\"),\n",
    "    (\"C10\", \"I am exacting in my work.\"),\n",
    "    # Openness\n",
    "    (\"O1\", \"I have a rich vocabulary.\"),\n",
    "    (\"O2\", \"I have difficulty understanding abstract ideas.\"),\n",
    "    (\"O3\", \"I have a vivid imagination.\"),\n",
    "    (\"O4\", \"I am not interested in abstract ideas.\"),\n",
    "    (\"O5\", \"I have excellent ideas.\"),\n",
    "    (\"O6\", \"I do not have a good imagination.\"),\n",
    "    (\"O7\", \"I am quick to understand things.\"),\n",
    "    (\"O8\", \"I use difficult words.\"),\n",
    "    (\"O9\", \"I spend time reflecting on things.\"),\n",
    "    (\"O10\", \"I am full of ideas.\"),\n",
    "]\n",
    "\n",
    "# Reverse-scored questions (where 1=Agree, 5=Disagree)\n",
    "reverse_scored = {\n",
    "    \"E2\", \"E4\", \"E6\", \"E8\", \"E10\",\n",
    "    \"N2\", \"N4\",\n",
    "    \"A1\", \"A3\", \"A5\", \"A7\",\n",
    "    \"C2\", \"C4\", \"C6\", \"C8\",\n",
    "    \"O2\", \"O4\", \"O6\"\n",
    "}\n",
    "\n",
    "st.title(\"Career Prediction Based on Personality (Big Five)\")\n",
    "\n",
    "st.write(\"Please answer the following 40 questions. For each, select:\")\n",
    "st.write(\"**1 = Disagree, 3 = Neutral, 5 = Agree**\")\n",
    "\n",
    "responses = []\n",
    "for code, text in questions:\n",
    "    value = st.slider(f\"{code}: {text}\", 1, 5, 3)\n",
    "    if code in reverse_scored:\n",
    "        value = 6 - value\n",
    "    responses.append((code, value))\n",
    "\n",
    "if st.button(\"Predict Career\"):\n",
    "    # Calculate Big Five scores (mean of each trait)\n",
    "    trait_scores = {\n",
    "        'E_score': np.mean([v for (c, v) in responses if c.startswith('E')]),\n",
    "        'N_score': np.mean([v for (c, v) in responses if c.startswith('N')]),\n",
    "        'C_score': np.mean([v for (c, v) in responses if c.startswith('C')]),\n",
    "        'A_score': np.mean([v for (c, v) in responses if c.startswith('A')]),\n",
    "        'O_score': np.mean([v for (c, v) in responses if c.startswith('O')]),\n",
    "    }\n",
    "\n",
    "    # Prepare input for model\n",
    "    sample_input = [[trait_scores[f] for f in feature_list]]\n",
    "\n",
    "    # Get predicted probabilities from each single-feature model\n",
    "    probas = []\n",
    "    for i, feature in enumerate(feature_list):\n",
    "        proba = models[feature].predict_proba([[sample_input[0][i]]])\n",
    "        probas.append(proba)\n",
    "    combined_proba = np.mean(probas, axis=0)\n",
    "    final_pred = np.argmax(combined_proba, axis=1)\n",
    "    class_names = models[feature_list[0]].classes_\n",
    "    predicted_label = class_names[final_pred[0]]\n",
    "\n",
    "    st.success(f\"**Predicted Career:** {predicted_label}\")"
   ]
  },
  {
   "cell_type": "code",
   "execution_count": 214,
   "id": "eac0e1af",
   "metadata": {},
   "outputs": [
    {
     "ename": "NameError",
     "evalue": "name 'trait_scores' is not defined",
     "output_type": "error",
     "traceback": [
      "\u001b[1;31m---------------------------------------------------------------------------\u001b[0m",
      "\u001b[1;31mNameError\u001b[0m                                 Traceback (most recent call last)",
      "Cell \u001b[1;32mIn[214], line 2\u001b[0m\n\u001b[0;32m      1\u001b[0m \u001b[38;5;66;03m# Prepare input for model\u001b[39;00m\n\u001b[1;32m----> 2\u001b[0m sample_input \u001b[38;5;241m=\u001b[39m [[\u001b[43mtrait_scores\u001b[49m[f] \u001b[38;5;28;01mfor\u001b[39;00m f \u001b[38;5;129;01min\u001b[39;00m feature_list]]\n\u001b[0;32m      4\u001b[0m \u001b[38;5;66;03m# Get predicted probabilities from each single-feature model\u001b[39;00m\n\u001b[0;32m      5\u001b[0m probas \u001b[38;5;241m=\u001b[39m []\n",
      "\u001b[1;31mNameError\u001b[0m: name 'trait_scores' is not defined"
     ]
    }
   ],
   "source": [
    "# Prepare input for model\n",
    "sample_input = [[trait_scores[f] for f in feature_list]]\n",
    "\n",
    "# Get predicted probabilities from each single-feature model\n",
    "probas = []\n",
    "for i, feature in enumerate(feature_list):\n",
    "    proba = models[feature].predict_proba([[sample_input[0][i]]])\n",
    "    probas.append(proba)\n",
    "combined_proba = np.mean(probas, axis=0)\n",
    "final_pred = np.argmax(combined_proba, axis=1)\n",
    "class_names = models[feature_list[0]].classes_\n",
    "predicted_label = class_names[final_pred[0]]\n",
    "\n",
    "st.success(f\"**Predicted Career:** {predicted_label}\")"
   ]
  }
 ],
 "metadata": {
  "kernelspec": {
   "display_name": "Python 3",
   "language": "python",
   "name": "python3"
  },
  "language_info": {
   "codemirror_mode": {
    "name": "ipython",
    "version": 3
   },
   "file_extension": ".py",
   "mimetype": "text/x-python",
   "name": "python",
   "nbconvert_exporter": "python",
   "pygments_lexer": "ipython3",
   "version": "3.13.1"
  }
 },
 "nbformat": 4,
 "nbformat_minor": 5
}
